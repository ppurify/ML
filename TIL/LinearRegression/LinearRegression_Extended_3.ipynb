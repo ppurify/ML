{
 "cells": [
  {
   "cell_type": "markdown",
   "metadata": {},
   "source": [
    "### 6️⃣ Polynomial Regression \n",
    ": 다항 회귀\n",
    "- 1차 방정식을 고차다항식으로 변경하는 기법   \n",
    "$x1 + x2 \\rightarrow x1 + x2 + x1x2 + x1^2 + x2^2$\n",
    "\n",
    "- sklearn.preprocession.PolynomialFeatures 사용\n",
    "\n",
    "    🏠 집의 넓이와 집세의 상관 관계  \n",
    "    \n",
    "    $h_{\\theta}(x) = \\theta_{0} + \\theta_{1}x_1 + \\theta_{2}x_2 + \\theta_{3}x_3$   \n",
    "\n",
    "    $\\downarrow x3 = x1 \\times x2 $  \n",
    "\n",
    "    $h_{\\theta}(x) = \\theta_{0} + \\theta_{1}(depth) + \\theta_{2}(frontag) + \\theta_{3}(depth \\times frontag)$"
   ]
  },
  {
   "cell_type": "code",
   "execution_count": 1,
   "metadata": {},
   "outputs": [
    {
     "data": {
      "text/plain": [
       "array([[0, 1],\n",
       "       [2, 3],\n",
       "       [4, 5]])"
      ]
     },
     "execution_count": 1,
     "metadata": {},
     "output_type": "execute_result"
    }
   ],
   "source": [
    "import numpy as np\n",
    "\n",
    "X = np.arange(6).reshape(3,2)\n",
    "X"
   ]
  },
  {
   "cell_type": "markdown",
   "metadata": {},
   "source": [
    "degree : 고차원의 정도"
   ]
  },
  {
   "cell_type": "code",
   "execution_count": 5,
   "metadata": {},
   "outputs": [
    {
     "data": {
      "text/plain": [
       "array([[ 1.,  0.,  1.,  0.,  0.,  1.],\n",
       "       [ 1.,  2.,  3.,  4.,  6.,  9.],\n",
       "       [ 1.,  4.,  5., 16., 20., 25.]])"
      ]
     },
     "execution_count": 5,
     "metadata": {},
     "output_type": "execute_result"
    }
   ],
   "source": [
    "from sklearn.preprocessing import PolynomialFeatures\n",
    "\n",
    "# degree : 2\n",
    "poly = PolynomialFeatures(2)\n",
    "poly.fit_transform(X)\n",
    "\n",
    "# x0, x1, x2, x1^2, x1x2, x2^2"
   ]
  },
  {
   "cell_type": "code",
   "execution_count": 3,
   "metadata": {},
   "outputs": [
    {
     "data": {
      "text/plain": [
       "array([[ 1.,  0.,  1.,  0.],\n",
       "       [ 1.,  2.,  3.,  6.],\n",
       "       [ 1.,  4.,  5., 20.]])"
      ]
     },
     "execution_count": 3,
     "metadata": {},
     "output_type": "execute_result"
    }
   ],
   "source": [
    "# 교차만 나타나게\n",
    "poly = PolynomialFeatures(interaction_only=True)\n",
    "poly.fit_transform(X)\n",
    "\n",
    "# x0, x1, x2, x1x2"
   ]
  },
  {
   "cell_type": "markdown",
   "metadata": {},
   "source": [
    "### 🌝 Dataset"
   ]
  },
  {
   "cell_type": "markdown",
   "metadata": {},
   "source": [
    "linspace : 0 ~ 5까지 size만큼 구간 나누기"
   ]
  },
  {
   "cell_type": "code",
   "execution_count": 8,
   "metadata": {},
   "outputs": [],
   "source": [
    "import numpy as np\n",
    "import matplotlib.pyplot as plt"
   ]
  },
  {
   "cell_type": "code",
   "execution_count": 6,
   "metadata": {},
   "outputs": [],
   "source": [
    "def f(size):\n",
    "    x = np.linspace(0,5,size)\n",
    "    y = x * np.sin(x**2) + 1\n",
    "    return (x,y)"
   ]
  },
  {
   "cell_type": "code",
   "execution_count": 9,
   "metadata": {},
   "outputs": [],
   "source": [
    "def sample(size):\n",
    "    x = np.linspace(0, 5, size)\n",
    "    y = x * np.sin(x **2) + 1 + np.random.randn(x.size) * 0.5\n",
    "    return (x, y)"
   ]
  },
  {
   "cell_type": "code",
   "execution_count": 10,
   "metadata": {},
   "outputs": [
    {
     "data": {
      "image/png": "[encoded data removed]",
      "text/plain": [
       "<Figure size 432x288 with 1 Axes>"
      ]
     },
     "metadata": {
      "needs_background": "light"
     },
     "output_type": "display_data"
    }
   ],
   "source": [
    "f_x, f_y = f(1000)\n",
    "plt.plot(f_x, f_y)\n",
    "X, y = sample(1000)\n",
    "plt.scatter(X, y, s = 3, c = 'black')\n",
    "plt.show()"
   ]
  },
  {
   "cell_type": "code",
   "execution_count": 11,
   "metadata": {},
   "outputs": [
    {
     "data": {
      "text/plain": [
       "((1000,), (1000,))"
      ]
     },
     "execution_count": 11,
     "metadata": {},
     "output_type": "execute_result"
    }
   ],
   "source": [
    "X.shape, y.shape"
   ]
  },
  {
   "cell_type": "markdown",
   "metadata": {},
   "source": [
    "- two dimension으로 바꾸기"
   ]
  },
  {
   "cell_type": "code",
   "execution_count": 12,
   "metadata": {},
   "outputs": [],
   "source": [
    "X = X.reshape(-1,1)\n",
    "y = y.reshape(-1,1)"
   ]
  },
  {
   "cell_type": "code",
   "execution_count": 14,
   "metadata": {},
   "outputs": [
    {
     "data": {
      "text/plain": [
       "((1000, 1), (1000, 1))"
      ]
     },
     "execution_count": 14,
     "metadata": {},
     "output_type": "execute_result"
    }
   ],
   "source": [
    "X.shape, y.shape"
   ]
  },
  {
   "cell_type": "markdown",
   "metadata": {},
   "source": [
    "### 1. Linear Regrssion"
   ]
  },
  {
   "cell_type": "code",
   "execution_count": 15,
   "metadata": {},
   "outputs": [
    {
     "data": {
      "text/plain": [
       "LinearRegression()"
      ]
     },
     "execution_count": 15,
     "metadata": {},
     "output_type": "execute_result"
    }
   ],
   "source": [
    "from sklearn.linear_model import LinearRegression\n",
    "\n",
    "lr = LinearRegression()\n",
    "lr.fit(X, y)"
   ]
  },
  {
   "cell_type": "markdown",
   "metadata": {},
   "source": [
    "현재 two dimension이기 때문에 one dimension으로 바꿔야함  \n",
    "$\\Rightarrow$ .flatten()"
   ]
  },
  {
   "cell_type": "code",
   "execution_count": 16,
   "metadata": {},
   "outputs": [
    {
     "data": {
      "image/png": "[encoded data removed]",
      "text/plain": [
       "<Figure size 432x288 with 1 Axes>"
      ]
     },
     "metadata": {
      "needs_background": "light"
     },
     "output_type": "display_data"
    }
   ],
   "source": [
    "f_x, f_y = f(1000)\n",
    "plt.plot(f_x, f_y)\n",
    "plt.scatter(X.flatten(), y.flatten(), s=3, c = 'black')\n",
    "plt.plot(X.flatten(), lr.predict(X).flatten())\n",
    "plt.show()"
   ]
  },
  {
   "cell_type": "markdown",
   "metadata": {},
   "source": [
    "### 2. Polynomial Regression"
   ]
  },
  {
   "cell_type": "code",
   "execution_count": 17,
   "metadata": {},
   "outputs": [],
   "source": [
    "from sklearn.preprocessing import PolynomialFeatures"
   ]
  },
  {
   "cell_type": "markdown",
   "metadata": {},
   "source": [
    "$x_0, x_1, x_{1}^2$"
   ]
  },
  {
   "cell_type": "code",
   "execution_count": 19,
   "metadata": {},
   "outputs": [
    {
     "data": {
      "text/plain": [
       "array([[1.00000000e+00, 0.00000000e+00, 0.00000000e+00],\n",
       "       [1.00000000e+00, 5.00500501e-03, 2.50500751e-05],\n",
       "       [1.00000000e+00, 1.00100100e-02, 1.00200300e-04],\n",
       "       [1.00000000e+00, 1.50150150e-02, 2.25450676e-04]])"
      ]
     },
     "execution_count": 19,
     "metadata": {},
     "output_type": "execute_result"
    }
   ],
   "source": [
    "poly_features = PolynomialFeatures(degree=2)\n",
    "X_poly = poly_features.fit_transform(X)\n",
    "X_poly[:4]\n",
    "\n",
    "# x0, x1, x1^2"
   ]
  },
  {
   "cell_type": "code",
   "execution_count": 20,
   "metadata": {},
   "outputs": [
    {
     "data": {
      "text/plain": [
       "LinearRegression()"
      ]
     },
     "execution_count": 20,
     "metadata": {},
     "output_type": "execute_result"
    }
   ],
   "source": [
    "lr = LinearRegression()\n",
    "lr.fit(X_poly, y)"
   ]
  },
  {
   "cell_type": "code",
   "execution_count": 21,
   "metadata": {},
   "outputs": [
    {
     "data": {
      "image/png": "[encoded data removed]",
      "text/plain": [
       "<Figure size 432x288 with 1 Axes>"
      ]
     },
     "metadata": {
      "needs_background": "light"
     },
     "output_type": "display_data"
    }
   ],
   "source": [
    "f_x, f_y = f(1000)\n",
    "plt.plot(f_x, f_y)\n",
    "plt.scatter(X.flatten(), y.flatten(), s =3, c = 'black')\n",
    "plt.plot(X.flatten(), lr.predict(X_poly).flatten())\n",
    "plt.show()"
   ]
  },
  {
   "cell_type": "markdown",
   "metadata": {},
   "source": [
    "#### 💁‍♂️ Degree 증가 해보기"
   ]
  },
  {
   "cell_type": "code",
   "execution_count": 22,
   "metadata": {},
   "outputs": [
    {
     "data": {
      "text/plain": [
       "array([[1.00000000e+00, 0.00000000e+00, 0.00000000e+00, 0.00000000e+00,\n",
       "        0.00000000e+00, 0.00000000e+00, 0.00000000e+00, 0.00000000e+00,\n",
       "        0.00000000e+00, 0.00000000e+00, 0.00000000e+00, 0.00000000e+00,\n",
       "        0.00000000e+00, 0.00000000e+00, 0.00000000e+00, 0.00000000e+00],\n",
       "       [1.00000000e+00, 5.00500501e-03, 2.50500751e-05, 1.25375751e-07,\n",
       "        6.27506263e-10, 3.14067198e-12, 1.57190790e-14, 7.86740691e-17,\n",
       "        3.93764110e-19, 1.97079134e-21, 9.86382051e-24, 4.93684710e-26,\n",
       "        2.47089445e-28, 1.23668391e-30, 6.18960915e-33, 3.09790248e-35],\n",
       "       [1.00000000e+00, 1.00100100e-02, 1.00200300e-04, 1.00300601e-06,\n",
       "        1.00401002e-08, 1.00501504e-10, 1.00602106e-12, 1.00702808e-14,\n",
       "        1.00803612e-16, 1.00904517e-18, 1.01005522e-20, 1.01106629e-22,\n",
       "        1.01207837e-24, 1.01309146e-26, 1.01410556e-28, 1.01512068e-30],\n",
       "       [1.00000000e+00, 1.50150150e-02, 2.25450676e-04, 3.38514528e-06,\n",
       "        5.08280073e-08, 7.63183292e-10, 1.14592086e-11, 1.72060189e-13,\n",
       "        2.58348632e-15, 3.87910859e-17, 5.82448738e-19, 8.74547654e-21,\n",
       "        1.31313462e-22, 1.97167360e-24, 2.96047087e-26, 4.44515145e-28]])"
      ]
     },
     "execution_count": 22,
     "metadata": {},
     "output_type": "execute_result"
    }
   ],
   "source": [
    "poly_features = PolynomialFeatures(degree=15)\n",
    "X_poly = poly_features.fit_transform(X)\n",
    "X_poly[:4]"
   ]
  },
  {
   "cell_type": "code",
   "execution_count": 23,
   "metadata": {},
   "outputs": [
    {
     "data": {
      "text/plain": [
       "LinearRegression()"
      ]
     },
     "execution_count": 23,
     "metadata": {},
     "output_type": "execute_result"
    }
   ],
   "source": [
    "lr = LinearRegression()\n",
    "lr.fit(X_poly, y)"
   ]
  },
  {
   "cell_type": "code",
   "execution_count": 24,
   "metadata": {},
   "outputs": [
    {
     "data": {
      "image/png": "[encoded data removed]",
      "text/plain": [
       "<Figure size 432x288 with 1 Axes>"
      ]
     },
     "metadata": {
      "needs_background": "light"
     },
     "output_type": "display_data"
    }
   ],
   "source": [
    "f_x, f_y = f(1000)\n",
    "\n",
    "plt.plot(f_x, f_y)\n",
    "plt.scatter(X.flatten(), y.flatten(), s =3, c = 'black')\n",
    "plt.plot(X.flatten(), lr.predict(X_poly).flatten())\n",
    "plt.show()"
   ]
  },
  {
   "cell_type": "markdown",
   "metadata": {},
   "source": [
    "### 🤷‍♀️ How to optimize\n",
    "- RMSE의 최소값을 찾자\n",
    "- Ridge, Lasso, LR 모두다 써보자 (SGD는 느리고 쓸필요 없음!)\n",
    "- Degree를 10~50까지 써보기\n",
    "- 결과를 한눈에 정리해보기"
   ]
  },
  {
   "cell_type": "code",
   "execution_count": 25,
   "metadata": {},
   "outputs": [],
   "source": [
    "def rmse(predictions, targets):\n",
    "    return np.sqrt( ( (predictions - targets) ** 2 ).mean() )"
   ]
  },
  {
   "cell_type": "code",
   "execution_count": 27,
   "metadata": {},
   "outputs": [
    {
     "data": {
      "text/plain": [
       "[10, 11, 12, 13, 14]"
      ]
     },
     "execution_count": 27,
     "metadata": {},
     "output_type": "execute_result"
    }
   ],
   "source": [
    "poly_range = list(range(10,50)) # 10 ~50\n",
    "poly_range[:5]"
   ]
  },
  {
   "cell_type": "code",
   "execution_count": 43,
   "metadata": {},
   "outputs": [],
   "source": [
    "rmse_lr_list = []\n",
    "rmse_lasso_list = []\n",
    "rmse_ridge_list = []"
   ]
  },
  {
   "cell_type": "code",
   "execution_count": 44,
   "metadata": {},
   "outputs": [],
   "source": [
    "from sklearn.linear_model import Lasso\n",
    "from sklearn.linear_model import Ridge\n",
    "import warnings\n",
    "warnings.filterwarnings(action='ignore')"
   ]
  },
  {
   "cell_type": "code",
   "execution_count": 45,
   "metadata": {},
   "outputs": [],
   "source": [
    "for poly_vlaue in poly_range:\n",
    "\n",
    "    poly_features = PolynomialFeatures(degree = poly_vlaue)\n",
    "    X_poly = poly_features.fit_transform(X)\n",
    "\n",
    "    lr = LinearRegression()\n",
    "    lr.fit(X_poly, y)\n",
    "    rmse_lr_list.append(rmse(lr.predict(X_poly), y))\n",
    "\n",
    "    lasso = Lasso()\n",
    "    lasso.fit(X_poly, y)\n",
    "    rmse_lasso_list.append(rmse(lasso.predict(X_poly), y))\n",
    "\n",
    "    ridge = Ridge()\n",
    "    ridge.fit(X_poly, y)\n",
    "    rmse_ridge_list.append(rmse(ridge.predict(X_poly), y))"
   ]
  },
  {
   "cell_type": "code",
   "execution_count": 48,
   "metadata": {},
   "outputs": [
    {
     "data": {
      "text/html": [
       "<div>\n",
       "<style scoped>\n",
       "    .dataframe tbody tr th:only-of-type {\n",
       "        vertical-align: middle;\n",
       "    }\n",
       "\n",
       "    .dataframe tbody tr th {\n",
       "        vertical-align: top;\n",
       "    }\n",
       "\n",
       "    .dataframe thead th {\n",
       "        text-align: right;\n",
       "    }\n",
       "</style>\n",
       "<table border=\"1\" class=\"dataframe\">\n",
       "  <thead>\n",
       "    <tr style=\"text-align: right;\">\n",
       "      <th></th>\n",
       "      <th>lr_rmse</th>\n",
       "      <th>lasso_rmse</th>\n",
       "      <th>ridge_rmse</th>\n",
       "    </tr>\n",
       "    <tr>\n",
       "      <th>poly_range</th>\n",
       "      <th></th>\n",
       "      <th></th>\n",
       "      <th></th>\n",
       "    </tr>\n",
       "  </thead>\n",
       "  <tbody>\n",
       "    <tr>\n",
       "      <th>10</th>\n",
       "      <td>1.904391</td>\n",
       "      <td>2.196159</td>\n",
       "      <td>1.928157</td>\n",
       "    </tr>\n",
       "    <tr>\n",
       "      <th>11</th>\n",
       "      <td>1.895488</td>\n",
       "      <td>2.204075</td>\n",
       "      <td>1.908317</td>\n",
       "    </tr>\n",
       "    <tr>\n",
       "      <th>12</th>\n",
       "      <td>1.641889</td>\n",
       "      <td>2.208789</td>\n",
       "      <td>1.906555</td>\n",
       "    </tr>\n",
       "    <tr>\n",
       "      <th>13</th>\n",
       "      <td>1.354774</td>\n",
       "      <td>2.211596</td>\n",
       "      <td>1.878028</td>\n",
       "    </tr>\n",
       "    <tr>\n",
       "      <th>14</th>\n",
       "      <td>1.342047</td>\n",
       "      <td>2.213296</td>\n",
       "      <td>1.688355</td>\n",
       "    </tr>\n",
       "  </tbody>\n",
       "</table>\n",
       "</div>"
      ],
      "text/plain": [
       "             lr_rmse  lasso_rmse  ridge_rmse\n",
       "poly_range                                  \n",
       "10          1.904391    2.196159    1.928157\n",
       "11          1.895488    2.204075    1.908317\n",
       "12          1.641889    2.208789    1.906555\n",
       "13          1.354774    2.211596    1.878028\n",
       "14          1.342047    2.213296    1.688355"
      ]
     },
     "execution_count": 48,
     "metadata": {},
     "output_type": "execute_result"
    }
   ],
   "source": [
    "import pandas as pd\n",
    "from pandas import DataFrame\n",
    "\n",
    "data = {'poly_range' : poly_range, 'lr_rmse' : rmse_lr_list, 'lasso_rmse' : rmse_lasso_list, 'ridge_rmse' : rmse_ridge_list}\n",
    "\n",
    "df = DataFrame(data).set_index('poly_range')\n",
    "df.head()"
   ]
  },
  {
   "cell_type": "code",
   "execution_count": 49,
   "metadata": {},
   "outputs": [
    {
     "data": {
      "text/plain": [
       "lr_rmse       0.537073\n",
       "lasso_rmse    2.196159\n",
       "ridge_rmse    0.527463\n",
       "dtype: float64"
      ]
     },
     "execution_count": 49,
     "metadata": {},
     "output_type": "execute_result"
    }
   ],
   "source": [
    "df.min()"
   ]
  },
  {
   "cell_type": "markdown",
   "metadata": {},
   "source": [
    "ridge_rmse가 가장 작은 것을 확인할 수 있다."
   ]
  },
  {
   "cell_type": "code",
   "execution_count": 50,
   "metadata": {},
   "outputs": [
    {
     "data": {
      "text/plain": [
       "poly_range\n",
       "23    0.527463\n",
       "22    0.530157\n",
       "24    0.533696\n",
       "21    0.625522\n",
       "26    0.691046\n",
       "Name: ridge_rmse, dtype: float64"
      ]
     },
     "execution_count": 50,
     "metadata": {},
     "output_type": "execute_result"
    }
   ],
   "source": [
    "df['ridge_rmse'].sort_values().head()"
   ]
  },
  {
   "cell_type": "markdown",
   "metadata": {},
   "source": [
    "degree = 22일 때 가장 작은 것을 확인할 수 있다."
   ]
  },
  {
   "cell_type": "code",
   "execution_count": 51,
   "metadata": {},
   "outputs": [
    {
     "data": {
      "text/plain": [
       "Ridge()"
      ]
     },
     "execution_count": 51,
     "metadata": {},
     "output_type": "execute_result"
    }
   ],
   "source": [
    "poly_features = PolynomialFeatures(degree = 22)\n",
    "X_poly = poly_features.fit_transform(X)\n",
    "ridge = Ridge()\n",
    "ridge.fit(X_poly, y)"
   ]
  },
  {
   "cell_type": "code",
   "execution_count": 53,
   "metadata": {},
   "outputs": [
    {
     "data": {
      "image/png": "[encoded data removed]",
      "text/plain": [
       "<Figure size 432x288 with 1 Axes>"
      ]
     },
     "metadata": {
      "needs_background": "light"
     },
     "output_type": "display_data"
    }
   ],
   "source": [
    "f_x , f_y = f(1000)\n",
    "plt.plot(f_x, f_y)\n",
    "plt.scatter(X.flatten(), y.flatten(), s= 3, c ='black')\n",
    "plt.plot(X.flatten(), ridge.predict(X_poly).flatten())\n",
    "plt.show()"
   ]
  },
  {
   "cell_type": "markdown",
   "metadata": {},
   "source": [
    "fit_intercept = False로 해줄 경우"
   ]
  },
  {
   "cell_type": "code",
   "execution_count": 54,
   "metadata": {},
   "outputs": [
    {
     "data": {
      "text/plain": [
       "Ridge(fit_intercept=False)"
      ]
     },
     "execution_count": 54,
     "metadata": {},
     "output_type": "execute_result"
    }
   ],
   "source": [
    "poly_features = PolynomialFeatures(degree = 22)\n",
    "X_poly = poly_features.fit_transform(X)\n",
    "ridge = Ridge(fit_intercept=False)\n",
    "ridge.fit(X_poly, y)"
   ]
  },
  {
   "cell_type": "code",
   "execution_count": 55,
   "metadata": {},
   "outputs": [
    {
     "data": {
      "image/png": "[encoded data removed]",
      "text/plain": [
       "<Figure size 432x288 with 1 Axes>"
      ]
     },
     "metadata": {
      "needs_background": "light"
     },
     "output_type": "display_data"
    }
   ],
   "source": [
    "f_x , f_y = f(1000)\n",
    "plt.plot(f_x, f_y)\n",
    "plt.scatter(X.flatten(), y.flatten(), s= 3, c ='black')\n",
    "plt.plot(X.flatten(), ridge.predict(X_poly).flatten())\n",
    "plt.show()"
   ]
  },
  {
   "cell_type": "markdown",
   "metadata": {},
   "source": [
    "📍 fit_intercept = True   \n",
    "$\\Rightarrow$ 상수항 $x_0$에 1을 자동으로 넣어줌"
   ]
  },
  {
   "cell_type": "code",
   "execution_count": 58,
   "metadata": {},
   "outputs": [
    {
     "data": {
      "text/plain": [
       "<matplotlib.legend.Legend at 0x2de205e48b0>"
      ]
     },
     "execution_count": 58,
     "metadata": {},
     "output_type": "execute_result"
    },
    {
     "data": {
      "image/png": "[encoded data removed]",
      "text/plain": [
       "<Figure size 432x288 with 1 Axes>"
      ]
     },
     "metadata": {
      "needs_background": "light"
     },
     "output_type": "display_data"
    }
   ],
   "source": [
    "plt.plot(poly_range, df['ridge_rmse'], label = 'ridge')\n",
    "plt.plot(poly_range, df['lasso_rmse'], label = 'lasso')\n",
    "plt.plot(poly_range, df['lr_rmse'], label = 'lr')\n",
    "plt.legend()"
   ]
  },
  {
   "cell_type": "markdown",
   "metadata": {},
   "source": [
    "### 🤷‍♀️ Polynomial Features는 언제 사용하나?\n",
    "- 한개 변수가 Y값과 비선형적인 관계가 있다고 의심  \n",
    ": 일부분만 추출해서 사용가능\n",
    "- 주기적인 패턴을 보이는 Series Data\n",
    "- 모델 자체가 복잡해지면 해결가능한 부분이 많음  \n",
    "$\\Rightarrow$ SVM, Tree-based models"
   ]
  },
  {
   "cell_type": "markdown",
   "metadata": {},
   "source": [
    "### 7️⃣ Performance Measure Techniques (Sampling Method)\n",
    ": 성능 측정을 위해 데이터를 나누는 방법\n",
    "\n",
    "#### ✔ <span style = 'background-color:#fff5b1'>Training - Validation - Test</span>  \n",
    "6:2:2 비율로 많이 사용  \n",
    "\n",
    "##### - Training : Model Building  \n",
    "##### - Validation : Model Check   \n",
    "##### - Test : Model Evaluation  \n",
    "\n",
    "### 🍀 Validation Set\n",
    "- <span style = 'color : red'>Test Set</span>은 Model이 생성 시 절대 <span style = 'color : red'>Training Set에 포함되지 않아야함</span>\n",
    "\n",
    "- Test Set과 달리 Model 생성시 Model에 성능을 평가하기 위해 사용\n",
    "\n",
    "- <span style = 'color : blue'>Hyper Parameter Turning 시 성능 평가를 위해 Overfitting 방지</span>\n",
    "\n",
    "- Training 중간에 Model 성능 점검\n",
    "\n",
    "### 🍀 K-fold cross validation\n",
    "- 학습 DATA를 K번 나눠서 Test, Train을 실시  \n",
    "$\\rightarrow$ 평균값 사용, index 사용\n",
    "\n",
    "- 모델의 Parameter 튜닝, 간단한 모델의 최종 성능 측정 등 사용\n",
    "\n",
    "![kfold](./img/K-fold%20cross%20validation.PNG)"
   ]
  },
  {
   "cell_type": "code",
   "execution_count": 33,
   "metadata": {},
   "outputs": [],
   "source": [
    "from sklearn import datasets\n",
    "import warnings\n",
    "warnings.filterwarnings(action ='ignore')\n",
    "\n",
    "boston = datasets.load_boston()"
   ]
  },
  {
   "cell_type": "code",
   "execution_count": 34,
   "metadata": {},
   "outputs": [],
   "source": [
    "X = boston.data\n",
    "y = boston.target"
   ]
  },
  {
   "cell_type": "code",
   "execution_count": 7,
   "metadata": {},
   "outputs": [
    {
     "name": "stdout",
     "output_type": "stream",
     "text": [
      "TRAIN -  len :  455 [ 0  1  3  4  6  7  8  9 10 11]\n",
      "TEST -  len :  51 [ 2  5 17 27 34 38 50 56 82 91]\n",
      "TRAIN -  len :  455 [ 0  1  2  3  4  5  6  7  9 10]\n",
      "TEST -  len :  51 [  8  12  35  41  44  72  79  94  99 102]\n",
      "TRAIN -  len :  455 [ 0  1  2  3  4  5  6  7  8 11]\n",
      "TEST -  len :  51 [  9  10  19  28  54  61  65  98 106 108]\n",
      "TRAIN -  len :  455 [ 0  2  3  4  5  7  8  9 10 11]\n",
      "TEST -  len :  51 [ 1  6 22 24 25 31 58 62 69 71]\n",
      "TRAIN -  len :  455 [ 0  1  2  5  6  7  8  9 10 11]\n",
      "TEST -  len :  51 [  3   4  14  29  30  53  74  81  96 103]\n",
      "TRAIN -  len :  455 [0 1 2 3 4 5 6 7 8 9]\n",
      "TEST -  len :  51 [ 37  52  63  70  77  83  87 101 109 121]\n",
      "TRAIN -  len :  456 [0 1 2 3 4 5 6 7 8 9]\n",
      "TEST -  len :  50 [ 11  13  18  42  46  59  84  85 119 129]\n",
      "TRAIN -  len :  456 [ 0  1  2  3  4  5  6  8  9 10]\n",
      "TEST -  len :  50 [ 7 23 36 39 45 47 55 57 60 67]\n",
      "TRAIN -  len :  456 [0 1 2 3 4 5 6 7 8 9]\n",
      "TEST -  len :  50 [15 20 32 40 48 49 66 68 73 76]\n",
      "TRAIN -  len :  456 [ 1  2  3  4  5  6  7  8  9 10]\n",
      "TEST -  len :  50 [ 0 16 21 26 33 43 51 64 75 92]\n"
     ]
    }
   ],
   "source": [
    "from sklearn.model_selection import KFold\n",
    "\n",
    "kf = KFold(n_splits=10, shuffle =True)\n",
    "\n",
    "for train_index, test_index in kf.split(X):\n",
    "    print('TRAIN - ', 'len : ', len(train_index), train_index[:10] )\n",
    "    print('TEST - ', 'len : ', len(test_index), test_index[:10])"
   ]
  },
  {
   "cell_type": "code",
   "execution_count": 9,
   "metadata": {},
   "outputs": [
    {
     "data": {
      "text/plain": [
       "(34.46408458830233, 34.078246209259284)"
      ]
     },
     "execution_count": 9,
     "metadata": {},
     "output_type": "execute_result"
    }
   ],
   "source": [
    "from sklearn.linear_model import Lasso, Ridge\n",
    "from sklearn.metrics import mean_squared_error\n",
    "\n",
    "kf = KFold(n_splits = 10)\n",
    "lasso_regressor = Lasso()\n",
    "ridge_regressor = Ridge()\n",
    "\n",
    "lasso_mse = []\n",
    "ridge_mse = []\n",
    "\n",
    "for train_index, test_index in kf.split(X):\n",
    "    lasso_regressor.fit(X[train_index], y[train_index])\n",
    "    ridge_regressor.fit(X[train_index], y[train_index])\n",
    "\n",
    "    lasso_mse.append(mean_squared_error(y[test_index], lasso_regressor.predict(X[test_index])))\n",
    "    ridge_mse.append(mean_squared_error(y[test_index], ridge_regressor.predict(X[test_index])))\n",
    "\n",
    "# Average\n",
    "sum(lasso_mse) / 10, sum(ridge_mse) / 10"
   ]
  },
  {
   "cell_type": "markdown",
   "metadata": {},
   "source": [
    "#### 🧏‍♀️ 위보다 더 간단한 방법이 있음  \n",
    "<span style = 'color : blue'>cross_val_score 함수</span>로, 한번에 해결 가능  \n",
    "\n",
    "- sklearn은 pipeline등을 위해 'High is better'로 처리  \n",
    "$\\rightarrow$ MSE를 Negative로 변환\n",
    "\n",
    "- 이로 인해 RMSE 지원 X\n",
    "\n",
    "- cv : kfold split 횟수 만큼 cross validation score 계산\n",
    "\n",
    "- neg : negative 작은게 좋은 걸로 인지"
   ]
  },
  {
   "cell_type": "code",
   "execution_count": 16,
   "metadata": {},
   "outputs": [
    {
     "data": {
      "text/plain": [
       "(-34.46408458830233, -34.078246209259284)"
      ]
     },
     "execution_count": 16,
     "metadata": {},
     "output_type": "execute_result"
    }
   ],
   "source": [
    "from sklearn.model_selection import cross_val_score\n",
    "import numpy as np\n",
    "\n",
    "lasso_regressor = Lasso(warm_start = False)\n",
    "ridge_regressor = Ridge()\n",
    "\n",
    "lasso_scores = cross_val_score(lasso_regressor, X, y, cv = 10, scoring = 'neg_mean_squared_error')\n",
    "ridge_scores = cross_val_score(ridge_regressor, X, y, cv = 10, scoring = 'neg_mean_squared_error')\n",
    "\n",
    "np.mean(lasso_scores), np.mean(ridge_scores)"
   ]
  },
  {
   "cell_type": "markdown",
   "metadata": {},
   "source": [
    "- cross_validate 보다는 cross_val_score를 자주 사용"
   ]
  },
  {
   "cell_type": "code",
   "execution_count": 18,
   "metadata": {},
   "outputs": [
    {
     "data": {
      "text/plain": [
       "{'fit_time': array([0.002877  , 0.00214338, 0.00167084, 0.        , 0.00505877,\n",
       "        0.        , 0.        , 0.01078391, 0.00099516, 0.00376391]),\n",
       " 'score_time': array([0.00261712, 0.        , 0.00099587, 0.00400305, 0.00131106,\n",
       "        0.        , 0.        , 0.        , 0.        , 0.        ]),\n",
       " 'test_score': array([  -9.31766315,  -12.60806897,  -10.79859434,  -36.6093648 ,\n",
       "         -29.62109212,  -18.62598134,   -9.46641896, -168.49831117,\n",
       "         -33.79749469,  -11.43947255])}"
      ]
     },
     "execution_count": 18,
     "metadata": {},
     "output_type": "execute_result"
    }
   ],
   "source": [
    "from sklearn.model_selection import cross_validate\n",
    "import numpy as np\n",
    "\n",
    "lasso_regressor = Lasso(warm_start = False)\n",
    "ridge_regressor = Ridge()\n",
    "\n",
    "lasso_scores = cross_validate(lasso_regressor, X, y, cv = 10, scoring = 'neg_mean_squared_error')\n",
    "ridge_scores = cross_validate(ridge_regressor, X, y, cv = 10, scoring = 'neg_mean_squared_error')\n",
    "ridge_scores"
   ]
  },
  {
   "cell_type": "markdown",
   "metadata": {},
   "source": [
    "- 이 친구도 별로 안쓰는 기법 중 하나"
   ]
  },
  {
   "cell_type": "markdown",
   "metadata": {},
   "source": [
    "### 🍀 Leave One Out(LOO)\n",
    "- Simple cross validation $\\rightarrow$ k = data size\n",
    "- 한번에 한 개의 data만 Test set으로 사용함 $\\rightarrow$ 총 k번 iteration\n",
    "- 속도 오래 걸림"
   ]
  },
  {
   "cell_type": "code",
   "execution_count": 12,
   "metadata": {},
   "outputs": [
    {
     "name": "stdout",
     "output_type": "stream",
     "text": [
      "[1 2 3] [0]\n",
      "[0 2 3] [1]\n",
      "[0 1 3] [2]\n",
      "[0 1 2] [3]\n"
     ]
    }
   ],
   "source": [
    "from sklearn.model_selection import LeaveOneOut\n",
    "\n",
    "test = [1,2,3,4]\n",
    "loo = LeaveOneOut()\n",
    "\n",
    "for train, test in loo.split(test):\n",
    "    print('%s %s' % (train, test))"
   ]
  },
  {
   "cell_type": "code",
   "execution_count": 13,
   "metadata": {},
   "outputs": [
    {
     "data": {
      "text/plain": [
       "(-28.409266762049334, -23.862836317209975)"
      ]
     },
     "execution_count": 13,
     "metadata": {},
     "output_type": "execute_result"
    }
   ],
   "source": [
    "loo = LeaveOneOut()\n",
    "\n",
    "lasso_scores = cross_val_score(lasso_regressor, X, y, cv = loo, scoring = 'neg_mean_squared_error')\n",
    "ridge_scores = cross_val_score(ridge_regressor, X, y, cv = loo, scoring = 'neg_mean_squared_error')\n",
    "\n",
    "np.mean(lasso_scores), np.mean(ridge_scores)"
   ]
  },
  {
   "cell_type": "markdown",
   "metadata": {},
   "source": [
    "### 🍀 Validation set for parameter turning\n",
    "\n",
    "- Validation set의 많은 이유 중 하나가 <span style = 'color:green'>Hyper parameter turning</span>\n",
    "\n",
    "- Number of iterations (SGD), Number of branch (Tree-based) etc.\n",
    "\n",
    "- <span style = 'color:blue'>Validation set의 성능으로 최적의 parameter 찾음</span>\n",
    "\n",
    "- Validation set 결과와 Training set 결과의 차이가 벌어지면 Overfitting\n",
    "\n",
    "![validation](./img/Validation%20set.PNG)"
   ]
  },
  {
   "cell_type": "code",
   "execution_count": 36,
   "metadata": {},
   "outputs": [],
   "source": [
    "def rmse(predictions, targets):\n",
    "    return np.sqrt(( (predictions - targets)**2 ).mean())"
   ]
  },
  {
   "cell_type": "code",
   "execution_count": 37,
   "metadata": {},
   "outputs": [],
   "source": [
    "from sklearn.linear_model import SGDRegressor\n",
    "from sklearn.preprocessing import StandardScaler\n",
    "\n",
    "std = StandardScaler()\n",
    "std.fit(X)\n",
    "X_scaled = std.transform(X)\n",
    "\n",
    "# Learning rate\n",
    "eta0 = 0.00000001\n",
    "max_iter = 10000"
   ]
  },
  {
   "cell_type": "markdown",
   "metadata": {},
   "source": [
    "- cold_start : 아무것도 주어지지 않은 경우 추천\n",
    "- warm_start : 이전에 학습한 coef, intercept가 주어진 경우 True"
   ]
  },
  {
   "cell_type": "code",
   "execution_count": 43,
   "metadata": {},
   "outputs": [],
   "source": [
    "from sklearn.model_selection import train_test_split\n",
    "\n",
    "X_train_dataset, X_test, y_train_dataset, y_test = train_test_split(\n",
    "    X, y, test_size = 0.2, random_state = 42)\n",
    "\n",
    "sgd_regressor = SGDRegressor(\n",
    "    eta0 = eta0, max_iter = max_iter, warm_start =True, learning_rate = 'constant')\n",
    "\n",
    "rmse_val_score = []\n",
    "rmse_train_score = []\n",
    "model_list = []\n",
    "\n",
    "X_train, X_val, y_train, y_val = train_test_split(\n",
    "    X_train_dataset, y_train_dataset, test_size = 0.2, random_state =42)\n",
    "\n",
    "sgd_regressor.fit(X_train, y_train)\n",
    "\n",
    "# kf = KFold(n_splits = 100, shuffle = True)\n",
    "#   for train_index, test_index in kf.split(X_train_dataset):\n",
    "\n",
    "for i in range(300):\n",
    "    y_pred = sgd_regressor.predict(X_train)\n",
    "    y_true = y_train\n",
    "    rmse_train_score.append( rmse(y_pred, y_true) )\n",
    "\n",
    "    y_pred = sgd_regressor.predict(X_val)\n",
    "    y_true = y_val\n",
    "    rmse_val_score.append( rmse(y_pred, y_true) )\n",
    "    model_list.append(sgd_regressor)    \n",
    "\n",
    "    coef = sgd_regressor.coef_.copy()\n",
    "    intercept = sgd_regressor.intercept_.copy()\n",
    "\n",
    "    sgd_regressor = SGDRegressor(\n",
    "        eta0 = eta0, max_iter = max_iter, warm_start =True, learning_rate = 'constant')\n",
    "\n",
    "    sgd_regressor.fit(X_train, y_train, coef_init = coef, intercept_init = intercept)"
   ]
  },
  {
   "cell_type": "code",
   "execution_count": 44,
   "metadata": {},
   "outputs": [
    {
     "data": {
      "image/png": "[encoded data removed]",
      "text/plain": [
       "<Figure size 432x288 with 1 Axes>"
      ]
     },
     "metadata": {
      "needs_background": "light"
     },
     "output_type": "display_data"
    }
   ],
   "source": [
    "plt.plot( range(len(rmse_val_score)), rmse_val_score, c = 'g', label = 'VAL')\n",
    "plt.plot( range(len(rmse_train_score)), rmse_train_score, c = 'r', label = 'TRAINING')\n",
    "plt.scatter( 99, rmse(y_test, sgd_regressor.predict(X_test)), s=1, label = 'TEST')\n",
    "plt.legend()\n",
    "plt.show()"
   ]
  },
  {
   "cell_type": "code",
   "execution_count": 47,
   "metadata": {},
   "outputs": [
    {
     "data": {
      "text/plain": [
       "array([296, 298, 299, 295, 294, 291, 292, 293, 297, 288, 289, 287, 285,\n",
       "       286, 290, 284, 281, 283, 282, 280, 274, 278, 279, 276, 273, 277,\n",
       "       275, 272, 270, 271, 269, 264, 265, 267, 263, 266, 268, 262, 260,\n",
       "       259, 257, 253, 256, 261, 254, 255, 258, 251, 248, 252, 249, 245,\n",
       "       247, 246, 250, 243, 242, 244, 238, 241, 237, 234, 236, 239, 240,\n",
       "       235, 233, 231, 232, 230, 229, 225, 228, 224, 227, 221, 226, 222,\n",
       "       219, 223, 215, 218, 220, 217, 211, 214, 213, 212, 209, 216, 207,\n",
       "       208, 206, 205, 210, 204, 200, 198, 202, 203, 199, 196, 197, 192,\n",
       "       201, 193, 190, 195, 188, 191, 189, 187, 186, 183, 194, 185, 184,\n",
       "       178, 181, 182, 177, 180, 176, 174, 172, 179, 168, 170, 173, 171,\n",
       "       175, 169, 166, 165, 164, 167, 162, 160, 161, 159, 158, 163, 157,\n",
       "       156, 155, 153, 154, 152, 151, 149, 148, 147, 145, 150, 144, 146,\n",
       "       143, 139, 141, 142, 137, 140, 138, 135, 131, 133, 136, 132, 134,\n",
       "       130, 128, 129, 124, 126, 127, 125, 123, 122, 120, 121, 118, 119,\n",
       "       117, 116, 115, 114, 113, 112, 110, 108, 109, 107, 111, 106, 105,\n",
       "       104, 103, 101, 102, 100,  97,  99,  96,  95,  94,  98,  92,  91,\n",
       "        93,  90,  88,  89,  82,  87,  83,  84,  85,  81,  86,  80,  77,\n",
       "        79,  78,  76,  75,  74,  73,  71,  70,  72,  68,  69,  67,  63,\n",
       "        66,  65,  64,  62,  61,  59,  60,  58,  57,  56,  54,  55,  52,\n",
       "        53,  51,  50,  47,  49,  46,  48,  45,  43,  44,  42,  40,  41,\n",
       "        39,  38,  37,  36,  35,  34,  33,  32,  29,  30,  31,  28,  26,\n",
       "        27,  25,  22,  24,  23,  21,  20,  19,  18,  17,  15,  16,  14,\n",
       "        13,  12,  11,   9,  10,   8,   7,   6,   5,   4,   3,   1,   2,\n",
       "         0], dtype=int64)"
      ]
     },
     "execution_count": 47,
     "metadata": {},
     "output_type": "execute_result"
    }
   ],
   "source": [
    "np.argsort(rmse_val_score)"
   ]
  },
  {
   "cell_type": "code",
   "execution_count": 48,
   "metadata": {},
   "outputs": [
    {
     "data": {
      "text/plain": [
       "array([-0.07058477,  0.11170636, -0.05360604,  0.00505921,  0.0023909 ,\n",
       "        0.09028812,  0.08457662,  0.01303585, -0.00389249,  0.00147842,\n",
       "        0.04669124,  0.04795057, -0.2541542 ])"
      ]
     },
     "execution_count": 48,
     "metadata": {},
     "output_type": "execute_result"
    }
   ],
   "source": [
    "model_list[296].coef_"
   ]
  },
  {
   "cell_type": "code",
   "execution_count": 49,
   "metadata": {},
   "outputs": [
    {
     "data": {
      "text/plain": [
       "array([-0.00398131,  0.01850015, -0.00284557,  0.00016723,  0.00010955,\n",
       "        0.00383557,  0.0064439 ,  0.00171029, -0.0017444 ,  0.00013931,\n",
       "        0.00320834,  0.06068473, -0.00880882])"
      ]
     },
     "execution_count": 49,
     "metadata": {},
     "output_type": "execute_result"
    }
   ],
   "source": [
    "model_list[0].coef_"
   ]
  },
  {
   "cell_type": "code",
   "execution_count": 50,
   "metadata": {},
   "outputs": [
    {
     "data": {
      "text/plain": [
       "array([25.37129068, 26.89566191, 23.52204376, 19.37135722, 22.95296485,\n",
       "       22.5507276 , 22.44648357, 21.39784581, 24.54641923, 23.63119263,\n",
       "       23.4005391 , 24.21067102,  1.36490185, 21.31986392, 23.54445923,\n",
       "       21.92771613, 22.17111094, 18.87940347, 31.59233674, 23.57356207,\n",
       "       22.40045447, 25.86698742, 20.96691906, 23.55481281, 20.35684792,\n",
       "       21.19006994, 21.11934002,  4.36488764, 23.54097344, 22.90100061,\n",
       "       24.29438694, 23.18499007, 24.06169364, 24.93025603, 19.59478994,\n",
       "       17.48530254, 24.50143385, 22.03717773, 20.85807119, 18.07273106,\n",
       "       21.26708042, 28.45743935, 32.96204531, 21.85305622, 23.82077301,\n",
       "       23.69063571, 22.04769179, 18.65261517, 23.15758064, 26.96992451,\n",
       "       25.41836678, 24.54132352, 23.53949723, 24.76397058, 26.04181696,\n",
       "       21.57010521, 24.27520793, 31.15074093, 22.2663954 , 24.00458336,\n",
       "       24.76422976, 31.52818014, 20.60708587, 15.45772885, 28.21425325,\n",
       "       22.83088578, 23.66480922, 24.51085356, 29.82346631,  4.22165241,\n",
       "       19.63337516, 24.33776066, 14.17918112, 29.27875022, 21.18215308,\n",
       "       18.39198679, 24.95972455, 32.92515966, 22.41836415, 19.71332001,\n",
       "       22.65132285, 17.53344211, 28.83853667, 21.24200534, 25.00257121,\n",
       "       22.3893978 , 16.84898831, 22.41675846, 24.03964486, 24.54781854,\n",
       "       21.84723261,  6.41402852, 25.15061434, 20.47821706, 23.52641842,\n",
       "       24.97053946, 24.38995094,  1.08560457,  5.08597239,  5.24675791,\n",
       "       21.11557854, 21.29164718])"
      ]
     },
     "execution_count": 50,
     "metadata": {},
     "output_type": "execute_result"
    }
   ],
   "source": [
    "model_list[296].predict(X_test)"
   ]
  },
  {
   "cell_type": "markdown",
   "metadata": {},
   "source": [
    "- 비교"
   ]
  },
  {
   "cell_type": "code",
   "execution_count": 51,
   "metadata": {},
   "outputs": [
    {
     "data": {
      "text/plain": [
       "7.330692663351415"
      ]
     },
     "execution_count": 51,
     "metadata": {},
     "output_type": "execute_result"
    }
   ],
   "source": [
    "rmse( y_test, sgd_regressor.predict(X_test))"
   ]
  },
  {
   "cell_type": "code",
   "execution_count": 53,
   "metadata": {},
   "outputs": [
    {
     "data": {
      "text/plain": [
       "7.294805992939964"
      ]
     },
     "execution_count": 53,
     "metadata": {},
     "output_type": "execute_result"
    }
   ],
   "source": [
    "rmse(y_test, model_list[296].predict(X_test))"
   ]
  },
  {
   "cell_type": "markdown",
   "metadata": {},
   "source": [
    "⛔ Standard scale된 X를 사용하여 학습을 한 모델이 더 좋다"
   ]
  },
  {
   "cell_type": "markdown",
   "metadata": {},
   "source": [
    "#### ETC...\n",
    "- RepeatedKFold : 중복이 포함된 K-Fold 생성\n",
    "- LeavePOut : 한번에 P개를 뽑음 (Not LOO for one data)\n",
    "- shuffleSplit : 독립적인(중복되는) data Sampling\n",
    "- <span style = 'color : blue'>StratifiedKFold : Y값 비율에 따라 뽑음, 층화추출</span> ex) 암 환자 구분\n",
    "- GroupKFold : 그룹별로 데이터 Sampling"
   ]
  }
 ],
 "metadata": {
  "kernelspec": {
   "display_name": "Python 3.10.4 ('ml')",
   "language": "python",
   "name": "python3"
  },
  "language_info": {
   "codemirror_mode": {
    "name": "ipython",
    "version": 3
   },
   "file_extension": ".py",
   "mimetype": "text/x-python",
   "name": "python",
   "nbconvert_exporter": "python",
   "pygments_lexer": "ipython3",
   "version": "3.10.4"
  },
  "orig_nbformat": 4,
  "vscode": {
   "interpreter": {
    "hash": "054003ddc8bb90967440df83eb0c4b5179a46b3dd7ffab730dd8d113d29b604c"
   }
  }
 },
 "nbformat": 4,
 "nbformat_minor": 2
}

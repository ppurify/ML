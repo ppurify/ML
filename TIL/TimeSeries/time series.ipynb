{
 "cells": [
  {
   "cell_type": "markdown",
   "metadata": {},
   "source": [
    "## Time series in Pandas\n",
    "- 우리가 만지는 대부분의 데이터는 시계열 데이터  \n",
    "`시간에 특화된 기능이 필요`  \n",
    "ex) 데이터 중 주말 통계만 필요  \n",
    "- Time lag(ex : 특정 2개의 time 사이의 차이) or Moving Average는 계산  \n",
    "Pandas에는 이에 특화된 기능을 제공"
   ]
  },
  {
   "cell_type": "markdown",
   "metadata": {},
   "source": [
    "### DateTimeIndex\n",
    "- 파이썬은 날짜 데이터 처리를 위해 datetime 모듈을 활용"
   ]
  },
  {
   "cell_type": "code",
   "execution_count": 3,
   "metadata": {},
   "outputs": [
    {
     "name": "stdout",
     "output_type": "stream",
     "text": [
      "<class 'datetime.date'>\n",
      "2018-09-19\n"
     ]
    }
   ],
   "source": [
    "from datetime import datetime\n",
    "# 'Month-Day-Year' : string type\n",
    "date_str = '09-19-2018'\n",
    "# string type -> time type\n",
    "date_object = datetime.strptime(date_str, '%m-%d-%Y').date()\n",
    "print(type(date_object))\n",
    "print(date_object)"
   ]
  },
  {
   "cell_type": "markdown",
   "metadata": {},
   "source": [
    "```\n",
    "date_str = '09/19/2018'\n",
    "date_object = datetime.strptime(date_str, '%m/%d/%Y').date()\n",
    "```"
   ]
  },
  {
   "cell_type": "code",
   "execution_count": 2,
   "metadata": {},
   "outputs": [
    {
     "data": {
      "text/plain": [
       "19"
      ]
     },
     "execution_count": 2,
     "metadata": {},
     "output_type": "execute_result"
    }
   ],
   "source": [
    "date_object.day"
   ]
  },
  {
   "cell_type": "code",
   "execution_count": 3,
   "metadata": {},
   "outputs": [
    {
     "data": {
      "text/plain": [
       "9"
      ]
     },
     "execution_count": 3,
     "metadata": {},
     "output_type": "execute_result"
    }
   ],
   "source": [
    "date_object.month"
   ]
  },
  {
   "cell_type": "code",
   "execution_count": 5,
   "metadata": {},
   "outputs": [
    {
     "data": {
      "text/plain": [
       "2018"
      ]
     },
     "execution_count": 5,
     "metadata": {},
     "output_type": "execute_result"
    }
   ],
   "source": [
    "date_object.year"
   ]
  },
  {
   "cell_type": "code",
   "execution_count": 7,
   "metadata": {},
   "outputs": [
    {
     "data": {
      "text/plain": [
       "2"
      ]
     },
     "execution_count": 7,
     "metadata": {},
     "output_type": "execute_result"
    }
   ],
   "source": [
    "# 요일을 의미\n",
    "date_object.weekday()"
   ]
  },
  {
   "cell_type": "markdown",
   "metadata": {},
   "source": [
    "> date_str_1과 2의 차이를 알고 싶은 경우"
   ]
  },
  {
   "cell_type": "code",
   "execution_count": 8,
   "metadata": {},
   "outputs": [
    {
     "data": {
      "text/plain": [
       "datetime.timedelta(days=6)"
      ]
     },
     "execution_count": 8,
     "metadata": {},
     "output_type": "execute_result"
    }
   ],
   "source": [
    "date_str_1 = '180919'\n",
    "date_str_2 = '180925'\n",
    "date_object_1 = datetime.strptime(date_str_1, '%y%m%d').date()\n",
    "date_object_2 = datetime.strptime(date_str_2, '%y%m%d').date()\n",
    "date_object_2 - date_object_1"
   ]
  },
  {
   "cell_type": "code",
   "execution_count": 11,
   "metadata": {},
   "outputs": [
    {
     "name": "stdout",
     "output_type": "stream",
     "text": [
      "<class 'datetime.datetime'>\n",
      "2018-09-19 13:55:26\n"
     ]
    }
   ],
   "source": [
    "datetime_str = '09/19/18 13:55:26'\n",
    "datetime_obj = datetime.strptime(datetime_str, '%m/%d/%y %H:%M:%S')\n",
    "\n",
    "print(type(datetime_obj))\n",
    "print(datetime_obj)"
   ]
  },
  {
   "cell_type": "markdown",
   "metadata": {},
   "source": [
    "### DateTime Index 만들기\n",
    "- 대부분의 데이터는 str임\n",
    "=> 호출 후 DateTime Index로 변환 필요\n",
    "```\n",
    "df['datetime']=pd.to_datetime(df['date'])\n",
    "```\n"
   ]
  },
  {
   "cell_type": "code",
   "execution_count": null,
   "metadata": {},
   "outputs": [],
   "source": [
    "# .T : 전치(행열바꿈), 1번째 행부터 보여라, reset_index : index 정리 \n",
    "pd.read_csv(\"filename\", encoding=\"cp949\",sep=\"\\t\").T[1:].reset_index()\n",
    "# data column name change, str이면 \"\", int면 \"\" 필요 X\n",
    "df.rename(columns={\"기존name\":\"바꿀name\"})\n",
    "# .을 기준으로 str type인 date를 나눠라 \n",
    "df[\"date\"].str.split(\".\")\n",
    "\n",
    "\n",
    "def rename_date(X):\n",
    "    return \"-\".join(x[:2]) # x 리스트의 1번째 열까지만 \"-\"로 합침  \n",
    "\n",
    "# 만약 공백이 있을 경우에는\n",
    "def rename_date(X):\n",
    "    return \"-\".join([value.strip() for value in x[:2]])\n",
    "\n",
    "# df[\"date\"] 정리해주기, date type 변경\n",
    "df[\"date\"] = pd.to_datetime(df[\"date\"], format = '%Y-%m-%d')\n",
    "\n",
    "# float type으로 변경 => .astype()\n",
    "df[\"수치\"].astype(float)\n",
    "df = df.set_index(\"date\")\n",
    "\n",
    "pd.crosstab(df.index, df[\"지표\"], df[\"수치\"], aggfunc=sum)"
   ]
  },
  {
   "cell_type": "markdown",
   "metadata": {},
   "source": [
    "## Resampling\n",
    "### Time resampling\n",
    "- 시간 기준으로 data Aggregation\n",
    "- groupby와 유사\n",
    "-> 훨씬 간단하고 다양한 기능 제공"
   ]
  },
  {
   "cell_type": "code",
   "execution_count": 2,
   "metadata": {},
   "outputs": [],
   "source": [
    "import pandas as pd\n",
    "import os"
   ]
  },
  {
   "cell_type": "markdown",
   "metadata": {},
   "source": [
    "```\n",
    "df = pd.read_csv(os.path.join(DATA_DIR, \"train.csv\"), parse_dates = [\"datetime\"])\n",
    "# inplace = True ; 다시 저장하지 않아도 됨\n",
    "df.set_index(\"datetime\", inplace = True)\n",
    "df.head()\n",
    "```"
   ]
  },
  {
   "cell_type": "code",
   "execution_count": 4,
   "metadata": {},
   "outputs": [],
   "source": [
    "# 파일과 dir을 join\n",
    "DATA_DIR = \"bike_demand\"\n",
    "TRAIN_PATH = os.path.join(DATA_DIR, \"train.csv\")"
   ]
  },
  {
   "cell_type": "code",
   "execution_count": 5,
   "metadata": {},
   "outputs": [
    {
     "data": {
      "text/html": [
       "<div>\n",
       "<style scoped>\n",
       "    .dataframe tbody tr th:only-of-type {\n",
       "        vertical-align: middle;\n",
       "    }\n",
       "\n",
       "    .dataframe tbody tr th {\n",
       "        vertical-align: top;\n",
       "    }\n",
       "\n",
       "    .dataframe thead th {\n",
       "        text-align: right;\n",
       "    }\n",
       "</style>\n",
       "<table border=\"1\" class=\"dataframe\">\n",
       "  <thead>\n",
       "    <tr style=\"text-align: right;\">\n",
       "      <th></th>\n",
       "      <th>datetime</th>\n",
       "      <th>season</th>\n",
       "      <th>holiday</th>\n",
       "      <th>workingday</th>\n",
       "      <th>weather</th>\n",
       "      <th>temp</th>\n",
       "      <th>atemp</th>\n",
       "      <th>humidity</th>\n",
       "      <th>windspeed</th>\n",
       "      <th>casual</th>\n",
       "      <th>registered</th>\n",
       "      <th>count</th>\n",
       "    </tr>\n",
       "  </thead>\n",
       "  <tbody>\n",
       "    <tr>\n",
       "      <th>0</th>\n",
       "      <td>2011-01-01 00:00:00</td>\n",
       "      <td>1</td>\n",
       "      <td>0</td>\n",
       "      <td>0</td>\n",
       "      <td>1</td>\n",
       "      <td>9.84</td>\n",
       "      <td>14.395</td>\n",
       "      <td>81</td>\n",
       "      <td>0.0</td>\n",
       "      <td>3</td>\n",
       "      <td>13</td>\n",
       "      <td>16</td>\n",
       "    </tr>\n",
       "    <tr>\n",
       "      <th>1</th>\n",
       "      <td>2011-01-01 01:00:00</td>\n",
       "      <td>1</td>\n",
       "      <td>0</td>\n",
       "      <td>0</td>\n",
       "      <td>1</td>\n",
       "      <td>9.02</td>\n",
       "      <td>13.635</td>\n",
       "      <td>80</td>\n",
       "      <td>0.0</td>\n",
       "      <td>8</td>\n",
       "      <td>32</td>\n",
       "      <td>40</td>\n",
       "    </tr>\n",
       "    <tr>\n",
       "      <th>2</th>\n",
       "      <td>2011-01-01 02:00:00</td>\n",
       "      <td>1</td>\n",
       "      <td>0</td>\n",
       "      <td>0</td>\n",
       "      <td>1</td>\n",
       "      <td>9.02</td>\n",
       "      <td>13.635</td>\n",
       "      <td>80</td>\n",
       "      <td>0.0</td>\n",
       "      <td>5</td>\n",
       "      <td>27</td>\n",
       "      <td>32</td>\n",
       "    </tr>\n",
       "    <tr>\n",
       "      <th>3</th>\n",
       "      <td>2011-01-01 03:00:00</td>\n",
       "      <td>1</td>\n",
       "      <td>0</td>\n",
       "      <td>0</td>\n",
       "      <td>1</td>\n",
       "      <td>9.84</td>\n",
       "      <td>14.395</td>\n",
       "      <td>75</td>\n",
       "      <td>0.0</td>\n",
       "      <td>3</td>\n",
       "      <td>10</td>\n",
       "      <td>13</td>\n",
       "    </tr>\n",
       "    <tr>\n",
       "      <th>4</th>\n",
       "      <td>2011-01-01 04:00:00</td>\n",
       "      <td>1</td>\n",
       "      <td>0</td>\n",
       "      <td>0</td>\n",
       "      <td>1</td>\n",
       "      <td>9.84</td>\n",
       "      <td>14.395</td>\n",
       "      <td>75</td>\n",
       "      <td>0.0</td>\n",
       "      <td>0</td>\n",
       "      <td>1</td>\n",
       "      <td>1</td>\n",
       "    </tr>\n",
       "  </tbody>\n",
       "</table>\n",
       "</div>"
      ],
      "text/plain": [
       "              datetime  season  holiday  workingday  weather  temp   atemp  \\\n",
       "0  2011-01-01 00:00:00       1        0           0        1  9.84  14.395   \n",
       "1  2011-01-01 01:00:00       1        0           0        1  9.02  13.635   \n",
       "2  2011-01-01 02:00:00       1        0           0        1  9.02  13.635   \n",
       "3  2011-01-01 03:00:00       1        0           0        1  9.84  14.395   \n",
       "4  2011-01-01 04:00:00       1        0           0        1  9.84  14.395   \n",
       "\n",
       "   humidity  windspeed  casual  registered  count  \n",
       "0        81        0.0       3          13     16  \n",
       "1        80        0.0       8          32     40  \n",
       "2        80        0.0       5          27     32  \n",
       "3        75        0.0       3          10     13  \n",
       "4        75        0.0       0           1      1  "
      ]
     },
     "execution_count": 5,
     "metadata": {},
     "output_type": "execute_result"
    }
   ],
   "source": [
    "df = pd.read_csv(TRAIN_PATH)\n",
    "df.head()"
   ]
  },
  {
   "cell_type": "markdown",
   "metadata": {},
   "source": [
    "> 그냥 데이터를 불러오게 되면"
   ]
  },
  {
   "cell_type": "code",
   "execution_count": 7,
   "metadata": {},
   "outputs": [
    {
     "data": {
      "text/plain": [
       "datetime       object\n",
       "season          int64\n",
       "holiday         int64\n",
       "workingday      int64\n",
       "weather         int64\n",
       "temp          float64\n",
       "atemp         float64\n",
       "humidity        int64\n",
       "windspeed     float64\n",
       "casual          int64\n",
       "registered      int64\n",
       "count           int64\n",
       "dtype: object"
      ]
     },
     "execution_count": 7,
     "metadata": {},
     "output_type": "execute_result"
    }
   ],
   "source": [
    "df.dtypes\n",
    "# datetime이 object로 인식"
   ]
  },
  {
   "cell_type": "markdown",
   "metadata": {},
   "source": [
    "> datetime을 datetime type으로 인식하게 하기"
   ]
  },
  {
   "cell_type": "code",
   "execution_count": 8,
   "metadata": {},
   "outputs": [
    {
     "data": {
      "text/plain": [
       "datetime      datetime64[ns]\n",
       "season                 int64\n",
       "holiday                int64\n",
       "workingday             int64\n",
       "weather                int64\n",
       "temp                 float64\n",
       "atemp                float64\n",
       "humidity               int64\n",
       "windspeed            float64\n",
       "casual                 int64\n",
       "registered             int64\n",
       "count                  int64\n",
       "dtype: object"
      ]
     },
     "execution_count": 8,
     "metadata": {},
     "output_type": "execute_result"
    }
   ],
   "source": [
    "df = pd.read_csv(TRAIN_PATH, parse_dates=[\"datetime\"])\n",
    "df.dtypes"
   ]
  },
  {
   "cell_type": "markdown",
   "metadata": {},
   "source": [
    "### Groupby"
   ]
  },
  {
   "cell_type": "code",
   "execution_count": 9,
   "metadata": {},
   "outputs": [
    {
     "data": {
      "text/html": [
       "<div>\n",
       "<style scoped>\n",
       "    .dataframe tbody tr th:only-of-type {\n",
       "        vertical-align: middle;\n",
       "    }\n",
       "\n",
       "    .dataframe tbody tr th {\n",
       "        vertical-align: top;\n",
       "    }\n",
       "\n",
       "    .dataframe thead th {\n",
       "        text-align: right;\n",
       "    }\n",
       "</style>\n",
       "<table border=\"1\" class=\"dataframe\">\n",
       "  <thead>\n",
       "    <tr style=\"text-align: right;\">\n",
       "      <th></th>\n",
       "      <th>datetime</th>\n",
       "      <th>season</th>\n",
       "      <th>holiday</th>\n",
       "      <th>workingday</th>\n",
       "      <th>weather</th>\n",
       "      <th>temp</th>\n",
       "      <th>atemp</th>\n",
       "      <th>humidity</th>\n",
       "      <th>windspeed</th>\n",
       "      <th>casual</th>\n",
       "      <th>registered</th>\n",
       "      <th>count</th>\n",
       "    </tr>\n",
       "  </thead>\n",
       "  <tbody>\n",
       "    <tr>\n",
       "      <th>0</th>\n",
       "      <td>2011-01-01 00:00:00</td>\n",
       "      <td>1</td>\n",
       "      <td>0</td>\n",
       "      <td>0</td>\n",
       "      <td>1</td>\n",
       "      <td>9.84</td>\n",
       "      <td>14.395</td>\n",
       "      <td>81</td>\n",
       "      <td>0.0000</td>\n",
       "      <td>3</td>\n",
       "      <td>13</td>\n",
       "      <td>16</td>\n",
       "    </tr>\n",
       "    <tr>\n",
       "      <th>1</th>\n",
       "      <td>2011-01-01 01:00:00</td>\n",
       "      <td>1</td>\n",
       "      <td>0</td>\n",
       "      <td>0</td>\n",
       "      <td>1</td>\n",
       "      <td>9.02</td>\n",
       "      <td>13.635</td>\n",
       "      <td>80</td>\n",
       "      <td>0.0000</td>\n",
       "      <td>8</td>\n",
       "      <td>32</td>\n",
       "      <td>40</td>\n",
       "    </tr>\n",
       "    <tr>\n",
       "      <th>2</th>\n",
       "      <td>2011-01-01 02:00:00</td>\n",
       "      <td>1</td>\n",
       "      <td>0</td>\n",
       "      <td>0</td>\n",
       "      <td>1</td>\n",
       "      <td>9.02</td>\n",
       "      <td>13.635</td>\n",
       "      <td>80</td>\n",
       "      <td>0.0000</td>\n",
       "      <td>5</td>\n",
       "      <td>27</td>\n",
       "      <td>32</td>\n",
       "    </tr>\n",
       "    <tr>\n",
       "      <th>3</th>\n",
       "      <td>2011-01-01 03:00:00</td>\n",
       "      <td>1</td>\n",
       "      <td>0</td>\n",
       "      <td>0</td>\n",
       "      <td>1</td>\n",
       "      <td>9.84</td>\n",
       "      <td>14.395</td>\n",
       "      <td>75</td>\n",
       "      <td>0.0000</td>\n",
       "      <td>3</td>\n",
       "      <td>10</td>\n",
       "      <td>13</td>\n",
       "    </tr>\n",
       "    <tr>\n",
       "      <th>4</th>\n",
       "      <td>2011-01-01 04:00:00</td>\n",
       "      <td>1</td>\n",
       "      <td>0</td>\n",
       "      <td>0</td>\n",
       "      <td>1</td>\n",
       "      <td>9.84</td>\n",
       "      <td>14.395</td>\n",
       "      <td>75</td>\n",
       "      <td>0.0000</td>\n",
       "      <td>0</td>\n",
       "      <td>1</td>\n",
       "      <td>1</td>\n",
       "    </tr>\n",
       "    <tr>\n",
       "      <th>...</th>\n",
       "      <td>...</td>\n",
       "      <td>...</td>\n",
       "      <td>...</td>\n",
       "      <td>...</td>\n",
       "      <td>...</td>\n",
       "      <td>...</td>\n",
       "      <td>...</td>\n",
       "      <td>...</td>\n",
       "      <td>...</td>\n",
       "      <td>...</td>\n",
       "      <td>...</td>\n",
       "      <td>...</td>\n",
       "    </tr>\n",
       "    <tr>\n",
       "      <th>10881</th>\n",
       "      <td>2012-12-19 19:00:00</td>\n",
       "      <td>4</td>\n",
       "      <td>0</td>\n",
       "      <td>1</td>\n",
       "      <td>1</td>\n",
       "      <td>15.58</td>\n",
       "      <td>19.695</td>\n",
       "      <td>50</td>\n",
       "      <td>26.0027</td>\n",
       "      <td>7</td>\n",
       "      <td>329</td>\n",
       "      <td>336</td>\n",
       "    </tr>\n",
       "    <tr>\n",
       "      <th>10882</th>\n",
       "      <td>2012-12-19 20:00:00</td>\n",
       "      <td>4</td>\n",
       "      <td>0</td>\n",
       "      <td>1</td>\n",
       "      <td>1</td>\n",
       "      <td>14.76</td>\n",
       "      <td>17.425</td>\n",
       "      <td>57</td>\n",
       "      <td>15.0013</td>\n",
       "      <td>10</td>\n",
       "      <td>231</td>\n",
       "      <td>241</td>\n",
       "    </tr>\n",
       "    <tr>\n",
       "      <th>10883</th>\n",
       "      <td>2012-12-19 21:00:00</td>\n",
       "      <td>4</td>\n",
       "      <td>0</td>\n",
       "      <td>1</td>\n",
       "      <td>1</td>\n",
       "      <td>13.94</td>\n",
       "      <td>15.910</td>\n",
       "      <td>61</td>\n",
       "      <td>15.0013</td>\n",
       "      <td>4</td>\n",
       "      <td>164</td>\n",
       "      <td>168</td>\n",
       "    </tr>\n",
       "    <tr>\n",
       "      <th>10884</th>\n",
       "      <td>2012-12-19 22:00:00</td>\n",
       "      <td>4</td>\n",
       "      <td>0</td>\n",
       "      <td>1</td>\n",
       "      <td>1</td>\n",
       "      <td>13.94</td>\n",
       "      <td>17.425</td>\n",
       "      <td>61</td>\n",
       "      <td>6.0032</td>\n",
       "      <td>12</td>\n",
       "      <td>117</td>\n",
       "      <td>129</td>\n",
       "    </tr>\n",
       "    <tr>\n",
       "      <th>10885</th>\n",
       "      <td>2012-12-19 23:00:00</td>\n",
       "      <td>4</td>\n",
       "      <td>0</td>\n",
       "      <td>1</td>\n",
       "      <td>1</td>\n",
       "      <td>13.12</td>\n",
       "      <td>16.665</td>\n",
       "      <td>66</td>\n",
       "      <td>8.9981</td>\n",
       "      <td>4</td>\n",
       "      <td>84</td>\n",
       "      <td>88</td>\n",
       "    </tr>\n",
       "  </tbody>\n",
       "</table>\n",
       "<p>10886 rows × 12 columns</p>\n",
       "</div>"
      ],
      "text/plain": [
       "                 datetime  season  holiday  workingday  weather   temp  \\\n",
       "0     2011-01-01 00:00:00       1        0           0        1   9.84   \n",
       "1     2011-01-01 01:00:00       1        0           0        1   9.02   \n",
       "2     2011-01-01 02:00:00       1        0           0        1   9.02   \n",
       "3     2011-01-01 03:00:00       1        0           0        1   9.84   \n",
       "4     2011-01-01 04:00:00       1        0           0        1   9.84   \n",
       "...                   ...     ...      ...         ...      ...    ...   \n",
       "10881 2012-12-19 19:00:00       4        0           1        1  15.58   \n",
       "10882 2012-12-19 20:00:00       4        0           1        1  14.76   \n",
       "10883 2012-12-19 21:00:00       4        0           1        1  13.94   \n",
       "10884 2012-12-19 22:00:00       4        0           1        1  13.94   \n",
       "10885 2012-12-19 23:00:00       4        0           1        1  13.12   \n",
       "\n",
       "        atemp  humidity  windspeed  casual  registered  count  \n",
       "0      14.395        81     0.0000       3          13     16  \n",
       "1      13.635        80     0.0000       8          32     40  \n",
       "2      13.635        80     0.0000       5          27     32  \n",
       "3      14.395        75     0.0000       3          10     13  \n",
       "4      14.395        75     0.0000       0           1      1  \n",
       "...       ...       ...        ...     ...         ...    ...  \n",
       "10881  19.695        50    26.0027       7         329    336  \n",
       "10882  17.425        57    15.0013      10         231    241  \n",
       "10883  15.910        61    15.0013       4         164    168  \n",
       "10884  17.425        61     6.0032      12         117    129  \n",
       "10885  16.665        66     8.9981       4          84     88  \n",
       "\n",
       "[10886 rows x 12 columns]"
      ]
     },
     "execution_count": 9,
     "metadata": {},
     "output_type": "execute_result"
    }
   ],
   "source": [
    "df"
   ]
  },
  {
   "cell_type": "code",
   "execution_count": 10,
   "metadata": {},
   "outputs": [
    {
     "data": {
      "text/plain": [
       "DatetimeIndex(['2011-01-01 00:00:00', '2011-01-01 01:00:00',\n",
       "               '2011-01-01 02:00:00', '2011-01-01 03:00:00',\n",
       "               '2011-01-01 04:00:00', '2011-01-01 05:00:00',\n",
       "               '2011-01-01 06:00:00', '2011-01-01 07:00:00',\n",
       "               '2011-01-01 08:00:00', '2011-01-01 09:00:00',\n",
       "               ...\n",
       "               '2012-12-19 14:00:00', '2012-12-19 15:00:00',\n",
       "               '2012-12-19 16:00:00', '2012-12-19 17:00:00',\n",
       "               '2012-12-19 18:00:00', '2012-12-19 19:00:00',\n",
       "               '2012-12-19 20:00:00', '2012-12-19 21:00:00',\n",
       "               '2012-12-19 22:00:00', '2012-12-19 23:00:00'],\n",
       "              dtype='datetime64[ns]', name='datetime', length=10886, freq=None)"
      ]
     },
     "execution_count": 10,
     "metadata": {},
     "output_type": "execute_result"
    }
   ],
   "source": [
    "df = df.set_index(\"datetime\")\n",
    "df.index"
   ]
  },
  {
   "cell_type": "code",
   "execution_count": 11,
   "metadata": {},
   "outputs": [
    {
     "data": {
      "text/html": [
       "<div>\n",
       "<style scoped>\n",
       "    .dataframe tbody tr th:only-of-type {\n",
       "        vertical-align: middle;\n",
       "    }\n",
       "\n",
       "    .dataframe tbody tr th {\n",
       "        vertical-align: top;\n",
       "    }\n",
       "\n",
       "    .dataframe thead th {\n",
       "        text-align: right;\n",
       "    }\n",
       "</style>\n",
       "<table border=\"1\" class=\"dataframe\">\n",
       "  <thead>\n",
       "    <tr style=\"text-align: right;\">\n",
       "      <th></th>\n",
       "      <th>season</th>\n",
       "      <th>holiday</th>\n",
       "      <th>workingday</th>\n",
       "      <th>weather</th>\n",
       "      <th>temp</th>\n",
       "      <th>atemp</th>\n",
       "      <th>humidity</th>\n",
       "      <th>windspeed</th>\n",
       "      <th>casual</th>\n",
       "      <th>registered</th>\n",
       "      <th>count</th>\n",
       "      <th>month</th>\n",
       "      <th>year</th>\n",
       "    </tr>\n",
       "    <tr>\n",
       "      <th>datetime</th>\n",
       "      <th></th>\n",
       "      <th></th>\n",
       "      <th></th>\n",
       "      <th></th>\n",
       "      <th></th>\n",
       "      <th></th>\n",
       "      <th></th>\n",
       "      <th></th>\n",
       "      <th></th>\n",
       "      <th></th>\n",
       "      <th></th>\n",
       "      <th></th>\n",
       "      <th></th>\n",
       "    </tr>\n",
       "  </thead>\n",
       "  <tbody>\n",
       "    <tr>\n",
       "      <th>2011-01-01 00:00:00</th>\n",
       "      <td>1</td>\n",
       "      <td>0</td>\n",
       "      <td>0</td>\n",
       "      <td>1</td>\n",
       "      <td>9.84</td>\n",
       "      <td>14.395</td>\n",
       "      <td>81</td>\n",
       "      <td>0.0000</td>\n",
       "      <td>3</td>\n",
       "      <td>13</td>\n",
       "      <td>16</td>\n",
       "      <td>1</td>\n",
       "      <td>2011</td>\n",
       "    </tr>\n",
       "    <tr>\n",
       "      <th>2011-01-01 01:00:00</th>\n",
       "      <td>1</td>\n",
       "      <td>0</td>\n",
       "      <td>0</td>\n",
       "      <td>1</td>\n",
       "      <td>9.02</td>\n",
       "      <td>13.635</td>\n",
       "      <td>80</td>\n",
       "      <td>0.0000</td>\n",
       "      <td>8</td>\n",
       "      <td>32</td>\n",
       "      <td>40</td>\n",
       "      <td>1</td>\n",
       "      <td>2011</td>\n",
       "    </tr>\n",
       "    <tr>\n",
       "      <th>2011-01-01 02:00:00</th>\n",
       "      <td>1</td>\n",
       "      <td>0</td>\n",
       "      <td>0</td>\n",
       "      <td>1</td>\n",
       "      <td>9.02</td>\n",
       "      <td>13.635</td>\n",
       "      <td>80</td>\n",
       "      <td>0.0000</td>\n",
       "      <td>5</td>\n",
       "      <td>27</td>\n",
       "      <td>32</td>\n",
       "      <td>1</td>\n",
       "      <td>2011</td>\n",
       "    </tr>\n",
       "    <tr>\n",
       "      <th>2011-01-01 03:00:00</th>\n",
       "      <td>1</td>\n",
       "      <td>0</td>\n",
       "      <td>0</td>\n",
       "      <td>1</td>\n",
       "      <td>9.84</td>\n",
       "      <td>14.395</td>\n",
       "      <td>75</td>\n",
       "      <td>0.0000</td>\n",
       "      <td>3</td>\n",
       "      <td>10</td>\n",
       "      <td>13</td>\n",
       "      <td>1</td>\n",
       "      <td>2011</td>\n",
       "    </tr>\n",
       "    <tr>\n",
       "      <th>2011-01-01 04:00:00</th>\n",
       "      <td>1</td>\n",
       "      <td>0</td>\n",
       "      <td>0</td>\n",
       "      <td>1</td>\n",
       "      <td>9.84</td>\n",
       "      <td>14.395</td>\n",
       "      <td>75</td>\n",
       "      <td>0.0000</td>\n",
       "      <td>0</td>\n",
       "      <td>1</td>\n",
       "      <td>1</td>\n",
       "      <td>1</td>\n",
       "      <td>2011</td>\n",
       "    </tr>\n",
       "    <tr>\n",
       "      <th>...</th>\n",
       "      <td>...</td>\n",
       "      <td>...</td>\n",
       "      <td>...</td>\n",
       "      <td>...</td>\n",
       "      <td>...</td>\n",
       "      <td>...</td>\n",
       "      <td>...</td>\n",
       "      <td>...</td>\n",
       "      <td>...</td>\n",
       "      <td>...</td>\n",
       "      <td>...</td>\n",
       "      <td>...</td>\n",
       "      <td>...</td>\n",
       "    </tr>\n",
       "    <tr>\n",
       "      <th>2012-12-19 19:00:00</th>\n",
       "      <td>4</td>\n",
       "      <td>0</td>\n",
       "      <td>1</td>\n",
       "      <td>1</td>\n",
       "      <td>15.58</td>\n",
       "      <td>19.695</td>\n",
       "      <td>50</td>\n",
       "      <td>26.0027</td>\n",
       "      <td>7</td>\n",
       "      <td>329</td>\n",
       "      <td>336</td>\n",
       "      <td>12</td>\n",
       "      <td>2012</td>\n",
       "    </tr>\n",
       "    <tr>\n",
       "      <th>2012-12-19 20:00:00</th>\n",
       "      <td>4</td>\n",
       "      <td>0</td>\n",
       "      <td>1</td>\n",
       "      <td>1</td>\n",
       "      <td>14.76</td>\n",
       "      <td>17.425</td>\n",
       "      <td>57</td>\n",
       "      <td>15.0013</td>\n",
       "      <td>10</td>\n",
       "      <td>231</td>\n",
       "      <td>241</td>\n",
       "      <td>12</td>\n",
       "      <td>2012</td>\n",
       "    </tr>\n",
       "    <tr>\n",
       "      <th>2012-12-19 21:00:00</th>\n",
       "      <td>4</td>\n",
       "      <td>0</td>\n",
       "      <td>1</td>\n",
       "      <td>1</td>\n",
       "      <td>13.94</td>\n",
       "      <td>15.910</td>\n",
       "      <td>61</td>\n",
       "      <td>15.0013</td>\n",
       "      <td>4</td>\n",
       "      <td>164</td>\n",
       "      <td>168</td>\n",
       "      <td>12</td>\n",
       "      <td>2012</td>\n",
       "    </tr>\n",
       "    <tr>\n",
       "      <th>2012-12-19 22:00:00</th>\n",
       "      <td>4</td>\n",
       "      <td>0</td>\n",
       "      <td>1</td>\n",
       "      <td>1</td>\n",
       "      <td>13.94</td>\n",
       "      <td>17.425</td>\n",
       "      <td>61</td>\n",
       "      <td>6.0032</td>\n",
       "      <td>12</td>\n",
       "      <td>117</td>\n",
       "      <td>129</td>\n",
       "      <td>12</td>\n",
       "      <td>2012</td>\n",
       "    </tr>\n",
       "    <tr>\n",
       "      <th>2012-12-19 23:00:00</th>\n",
       "      <td>4</td>\n",
       "      <td>0</td>\n",
       "      <td>1</td>\n",
       "      <td>1</td>\n",
       "      <td>13.12</td>\n",
       "      <td>16.665</td>\n",
       "      <td>66</td>\n",
       "      <td>8.9981</td>\n",
       "      <td>4</td>\n",
       "      <td>84</td>\n",
       "      <td>88</td>\n",
       "      <td>12</td>\n",
       "      <td>2012</td>\n",
       "    </tr>\n",
       "  </tbody>\n",
       "</table>\n",
       "<p>10886 rows × 13 columns</p>\n",
       "</div>"
      ],
      "text/plain": [
       "                     season  holiday  workingday  weather   temp   atemp  \\\n",
       "datetime                                                                   \n",
       "2011-01-01 00:00:00       1        0           0        1   9.84  14.395   \n",
       "2011-01-01 01:00:00       1        0           0        1   9.02  13.635   \n",
       "2011-01-01 02:00:00       1        0           0        1   9.02  13.635   \n",
       "2011-01-01 03:00:00       1        0           0        1   9.84  14.395   \n",
       "2011-01-01 04:00:00       1        0           0        1   9.84  14.395   \n",
       "...                     ...      ...         ...      ...    ...     ...   \n",
       "2012-12-19 19:00:00       4        0           1        1  15.58  19.695   \n",
       "2012-12-19 20:00:00       4        0           1        1  14.76  17.425   \n",
       "2012-12-19 21:00:00       4        0           1        1  13.94  15.910   \n",
       "2012-12-19 22:00:00       4        0           1        1  13.94  17.425   \n",
       "2012-12-19 23:00:00       4        0           1        1  13.12  16.665   \n",
       "\n",
       "                     humidity  windspeed  casual  registered  count  month  \\\n",
       "datetime                                                                     \n",
       "2011-01-01 00:00:00        81     0.0000       3          13     16      1   \n",
       "2011-01-01 01:00:00        80     0.0000       8          32     40      1   \n",
       "2011-01-01 02:00:00        80     0.0000       5          27     32      1   \n",
       "2011-01-01 03:00:00        75     0.0000       3          10     13      1   \n",
       "2011-01-01 04:00:00        75     0.0000       0           1      1      1   \n",
       "...                       ...        ...     ...         ...    ...    ...   \n",
       "2012-12-19 19:00:00        50    26.0027       7         329    336     12   \n",
       "2012-12-19 20:00:00        57    15.0013      10         231    241     12   \n",
       "2012-12-19 21:00:00        61    15.0013       4         164    168     12   \n",
       "2012-12-19 22:00:00        61     6.0032      12         117    129     12   \n",
       "2012-12-19 23:00:00        66     8.9981       4          84     88     12   \n",
       "\n",
       "                     year  \n",
       "datetime                   \n",
       "2011-01-01 00:00:00  2011  \n",
       "2011-01-01 01:00:00  2011  \n",
       "2011-01-01 02:00:00  2011  \n",
       "2011-01-01 03:00:00  2011  \n",
       "2011-01-01 04:00:00  2011  \n",
       "...                   ...  \n",
       "2012-12-19 19:00:00  2012  \n",
       "2012-12-19 20:00:00  2012  \n",
       "2012-12-19 21:00:00  2012  \n",
       "2012-12-19 22:00:00  2012  \n",
       "2012-12-19 23:00:00  2012  \n",
       "\n",
       "[10886 rows x 13 columns]"
      ]
     },
     "execution_count": 11,
     "metadata": {},
     "output_type": "execute_result"
    }
   ],
   "source": [
    "df[\"month\"] = df.index.month\n",
    "df[\"year\"] = df.index.year\n",
    "df"
   ]
  },
  {
   "cell_type": "code",
   "execution_count": 12,
   "metadata": {},
   "outputs": [
    {
     "data": {
      "text/html": [
       "<div>\n",
       "<style scoped>\n",
       "    .dataframe tbody tr th:only-of-type {\n",
       "        vertical-align: middle;\n",
       "    }\n",
       "\n",
       "    .dataframe tbody tr th {\n",
       "        vertical-align: top;\n",
       "    }\n",
       "\n",
       "    .dataframe thead th {\n",
       "        text-align: right;\n",
       "    }\n",
       "</style>\n",
       "<table border=\"1\" class=\"dataframe\">\n",
       "  <thead>\n",
       "    <tr style=\"text-align: right;\">\n",
       "      <th>datetime</th>\n",
       "      <th>2011-01-01 00:00:00</th>\n",
       "      <th>2011-01-01 01:00:00</th>\n",
       "    </tr>\n",
       "  </thead>\n",
       "  <tbody>\n",
       "    <tr>\n",
       "      <th>season</th>\n",
       "      <td>1.000</td>\n",
       "      <td>1.000</td>\n",
       "    </tr>\n",
       "    <tr>\n",
       "      <th>holiday</th>\n",
       "      <td>0.000</td>\n",
       "      <td>0.000</td>\n",
       "    </tr>\n",
       "    <tr>\n",
       "      <th>workingday</th>\n",
       "      <td>0.000</td>\n",
       "      <td>0.000</td>\n",
       "    </tr>\n",
       "    <tr>\n",
       "      <th>weather</th>\n",
       "      <td>1.000</td>\n",
       "      <td>1.000</td>\n",
       "    </tr>\n",
       "    <tr>\n",
       "      <th>temp</th>\n",
       "      <td>9.840</td>\n",
       "      <td>9.020</td>\n",
       "    </tr>\n",
       "    <tr>\n",
       "      <th>atemp</th>\n",
       "      <td>14.395</td>\n",
       "      <td>13.635</td>\n",
       "    </tr>\n",
       "    <tr>\n",
       "      <th>humidity</th>\n",
       "      <td>81.000</td>\n",
       "      <td>80.000</td>\n",
       "    </tr>\n",
       "    <tr>\n",
       "      <th>windspeed</th>\n",
       "      <td>0.000</td>\n",
       "      <td>0.000</td>\n",
       "    </tr>\n",
       "    <tr>\n",
       "      <th>casual</th>\n",
       "      <td>3.000</td>\n",
       "      <td>8.000</td>\n",
       "    </tr>\n",
       "    <tr>\n",
       "      <th>registered</th>\n",
       "      <td>13.000</td>\n",
       "      <td>32.000</td>\n",
       "    </tr>\n",
       "    <tr>\n",
       "      <th>count</th>\n",
       "      <td>16.000</td>\n",
       "      <td>40.000</td>\n",
       "    </tr>\n",
       "    <tr>\n",
       "      <th>month</th>\n",
       "      <td>1.000</td>\n",
       "      <td>1.000</td>\n",
       "    </tr>\n",
       "    <tr>\n",
       "      <th>year</th>\n",
       "      <td>2011.000</td>\n",
       "      <td>2011.000</td>\n",
       "    </tr>\n",
       "  </tbody>\n",
       "</table>\n",
       "</div>"
      ],
      "text/plain": [
       "datetime    2011-01-01 00:00:00  2011-01-01 01:00:00\n",
       "season                    1.000                1.000\n",
       "holiday                   0.000                0.000\n",
       "workingday                0.000                0.000\n",
       "weather                   1.000                1.000\n",
       "temp                      9.840                9.020\n",
       "atemp                    14.395               13.635\n",
       "humidity                 81.000               80.000\n",
       "windspeed                 0.000                0.000\n",
       "casual                    3.000                8.000\n",
       "registered               13.000               32.000\n",
       "count                    16.000               40.000\n",
       "month                     1.000                1.000\n",
       "year                   2011.000             2011.000"
      ]
     },
     "execution_count": 12,
     "metadata": {},
     "output_type": "execute_result"
    }
   ],
   "source": [
    "df.head(2).T"
   ]
  },
  {
   "cell_type": "markdown",
   "metadata": {},
   "source": [
    "> 월별로 얼마나 자전거를 빌렸는가"
   ]
  },
  {
   "cell_type": "code",
   "execution_count": 13,
   "metadata": {},
   "outputs": [
    {
     "data": {
      "text/plain": [
       "year  month\n",
       "2011  1         23552\n",
       "      2         32844\n",
       "      3         38735\n",
       "      4         50517\n",
       "      5         79713\n",
       "      6         89776\n",
       "      7         92848\n",
       "      8         83296\n",
       "      9         79104\n",
       "      10        79522\n",
       "      11        70889\n",
       "      12        61183\n",
       "2012  1         56332\n",
       "      2         66269\n",
       "      3         94766\n",
       "      4        116885\n",
       "      5        120434\n",
       "      6        130957\n",
       "      7        121769\n",
       "      8        130220\n",
       "      9        133425\n",
       "      10       127912\n",
       "      11       105551\n",
       "      12        98977\n",
       "Name: count, dtype: int64"
      ]
     },
     "execution_count": 13,
     "metadata": {},
     "output_type": "execute_result"
    }
   ],
   "source": [
    "df.groupby([\"year\",\"month\"])[\"count\"].sum()"
   ]
  },
  {
   "cell_type": "code",
   "execution_count": 14,
   "metadata": {},
   "outputs": [
    {
     "data": {
      "text/html": [
       "<div>\n",
       "<style scoped>\n",
       "    .dataframe tbody tr th:only-of-type {\n",
       "        vertical-align: middle;\n",
       "    }\n",
       "\n",
       "    .dataframe tbody tr th {\n",
       "        vertical-align: top;\n",
       "    }\n",
       "\n",
       "    .dataframe thead th {\n",
       "        text-align: right;\n",
       "    }\n",
       "</style>\n",
       "<table border=\"1\" class=\"dataframe\">\n",
       "  <thead>\n",
       "    <tr style=\"text-align: right;\">\n",
       "      <th></th>\n",
       "      <th>year</th>\n",
       "      <th>month</th>\n",
       "      <th>count</th>\n",
       "    </tr>\n",
       "  </thead>\n",
       "  <tbody>\n",
       "    <tr>\n",
       "      <th>0</th>\n",
       "      <td>2011</td>\n",
       "      <td>1</td>\n",
       "      <td>23552</td>\n",
       "    </tr>\n",
       "    <tr>\n",
       "      <th>1</th>\n",
       "      <td>2011</td>\n",
       "      <td>2</td>\n",
       "      <td>32844</td>\n",
       "    </tr>\n",
       "    <tr>\n",
       "      <th>2</th>\n",
       "      <td>2011</td>\n",
       "      <td>3</td>\n",
       "      <td>38735</td>\n",
       "    </tr>\n",
       "    <tr>\n",
       "      <th>3</th>\n",
       "      <td>2011</td>\n",
       "      <td>4</td>\n",
       "      <td>50517</td>\n",
       "    </tr>\n",
       "    <tr>\n",
       "      <th>4</th>\n",
       "      <td>2011</td>\n",
       "      <td>5</td>\n",
       "      <td>79713</td>\n",
       "    </tr>\n",
       "    <tr>\n",
       "      <th>5</th>\n",
       "      <td>2011</td>\n",
       "      <td>6</td>\n",
       "      <td>89776</td>\n",
       "    </tr>\n",
       "    <tr>\n",
       "      <th>6</th>\n",
       "      <td>2011</td>\n",
       "      <td>7</td>\n",
       "      <td>92848</td>\n",
       "    </tr>\n",
       "    <tr>\n",
       "      <th>7</th>\n",
       "      <td>2011</td>\n",
       "      <td>8</td>\n",
       "      <td>83296</td>\n",
       "    </tr>\n",
       "    <tr>\n",
       "      <th>8</th>\n",
       "      <td>2011</td>\n",
       "      <td>9</td>\n",
       "      <td>79104</td>\n",
       "    </tr>\n",
       "    <tr>\n",
       "      <th>9</th>\n",
       "      <td>2011</td>\n",
       "      <td>10</td>\n",
       "      <td>79522</td>\n",
       "    </tr>\n",
       "    <tr>\n",
       "      <th>10</th>\n",
       "      <td>2011</td>\n",
       "      <td>11</td>\n",
       "      <td>70889</td>\n",
       "    </tr>\n",
       "    <tr>\n",
       "      <th>11</th>\n",
       "      <td>2011</td>\n",
       "      <td>12</td>\n",
       "      <td>61183</td>\n",
       "    </tr>\n",
       "    <tr>\n",
       "      <th>12</th>\n",
       "      <td>2012</td>\n",
       "      <td>1</td>\n",
       "      <td>56332</td>\n",
       "    </tr>\n",
       "    <tr>\n",
       "      <th>13</th>\n",
       "      <td>2012</td>\n",
       "      <td>2</td>\n",
       "      <td>66269</td>\n",
       "    </tr>\n",
       "    <tr>\n",
       "      <th>14</th>\n",
       "      <td>2012</td>\n",
       "      <td>3</td>\n",
       "      <td>94766</td>\n",
       "    </tr>\n",
       "    <tr>\n",
       "      <th>15</th>\n",
       "      <td>2012</td>\n",
       "      <td>4</td>\n",
       "      <td>116885</td>\n",
       "    </tr>\n",
       "    <tr>\n",
       "      <th>16</th>\n",
       "      <td>2012</td>\n",
       "      <td>5</td>\n",
       "      <td>120434</td>\n",
       "    </tr>\n",
       "    <tr>\n",
       "      <th>17</th>\n",
       "      <td>2012</td>\n",
       "      <td>6</td>\n",
       "      <td>130957</td>\n",
       "    </tr>\n",
       "    <tr>\n",
       "      <th>18</th>\n",
       "      <td>2012</td>\n",
       "      <td>7</td>\n",
       "      <td>121769</td>\n",
       "    </tr>\n",
       "    <tr>\n",
       "      <th>19</th>\n",
       "      <td>2012</td>\n",
       "      <td>8</td>\n",
       "      <td>130220</td>\n",
       "    </tr>\n",
       "    <tr>\n",
       "      <th>20</th>\n",
       "      <td>2012</td>\n",
       "      <td>9</td>\n",
       "      <td>133425</td>\n",
       "    </tr>\n",
       "    <tr>\n",
       "      <th>21</th>\n",
       "      <td>2012</td>\n",
       "      <td>10</td>\n",
       "      <td>127912</td>\n",
       "    </tr>\n",
       "    <tr>\n",
       "      <th>22</th>\n",
       "      <td>2012</td>\n",
       "      <td>11</td>\n",
       "      <td>105551</td>\n",
       "    </tr>\n",
       "    <tr>\n",
       "      <th>23</th>\n",
       "      <td>2012</td>\n",
       "      <td>12</td>\n",
       "      <td>98977</td>\n",
       "    </tr>\n",
       "  </tbody>\n",
       "</table>\n",
       "</div>"
      ],
      "text/plain": [
       "    year  month   count\n",
       "0   2011      1   23552\n",
       "1   2011      2   32844\n",
       "2   2011      3   38735\n",
       "3   2011      4   50517\n",
       "4   2011      5   79713\n",
       "5   2011      6   89776\n",
       "6   2011      7   92848\n",
       "7   2011      8   83296\n",
       "8   2011      9   79104\n",
       "9   2011     10   79522\n",
       "10  2011     11   70889\n",
       "11  2011     12   61183\n",
       "12  2012      1   56332\n",
       "13  2012      2   66269\n",
       "14  2012      3   94766\n",
       "15  2012      4  116885\n",
       "16  2012      5  120434\n",
       "17  2012      6  130957\n",
       "18  2012      7  121769\n",
       "19  2012      8  130220\n",
       "20  2012      9  133425\n",
       "21  2012     10  127912\n",
       "22  2012     11  105551\n",
       "23  2012     12   98977"
      ]
     },
     "execution_count": 14,
     "metadata": {},
     "output_type": "execute_result"
    }
   ],
   "source": [
    "# dataframe shape\n",
    "df.groupby([\"year\",\"month\"])[\"count\"].sum().reset_index()"
   ]
  },
  {
   "cell_type": "markdown",
   "metadata": {},
   "source": [
    "- groupby보다 더 쉬운거 ; resampling"
   ]
  },
  {
   "cell_type": "markdown",
   "metadata": {},
   "source": [
    "> Q ; 분기별  \n",
    "D ; day 하루  \n",
    "W ; week 주  \n",
    "M ; month 달"
   ]
  },
  {
   "cell_type": "code",
   "execution_count": 15,
   "metadata": {},
   "outputs": [
    {
     "data": {
      "text/plain": [
       "<AxesSubplot:xlabel='datetime'>"
      ]
     },
     "execution_count": 15,
     "metadata": {},
     "output_type": "execute_result"
    },
    {
     "data": {
      "image/png": "[encoded data removed]",
      "text/plain": [
       "<Figure size 432x288 with 1 Axes>"
      ]
     },
     "metadata": {
      "needs_background": "light"
     },
     "output_type": "display_data"
    }
   ],
   "source": [
    "df[\"count\"].resample(\"Q\").sum().plot()"
   ]
  },
  {
   "cell_type": "code",
   "execution_count": 16,
   "metadata": {},
   "outputs": [
    {
     "data": {
      "text/plain": [
       "<AxesSubplot:xlabel='datetime'>"
      ]
     },
     "execution_count": 16,
     "metadata": {},
     "output_type": "execute_result"
    },
    {
     "data": {
      "image/png": "[encoded data removed]",
      "text/plain": [
       "<Figure size 432x288 with 1 Axes>"
      ]
     },
     "metadata": {
      "needs_background": "light"
     },
     "output_type": "display_data"
    }
   ],
   "source": [
    "df[\"count\"].resample(\"D\").sum().plot()"
   ]
  },
  {
   "cell_type": "code",
   "execution_count": 17,
   "metadata": {},
   "outputs": [
    {
     "data": {
      "text/plain": [
       "<AxesSubplot:xlabel='datetime'>"
      ]
     },
     "execution_count": 17,
     "metadata": {},
     "output_type": "execute_result"
    },
    {
     "data": {
      "image/png": "[encoded data removed]",
      "text/plain": [
       "<Figure size 432x288 with 1 Axes>"
      ]
     },
     "metadata": {
      "needs_background": "light"
     },
     "output_type": "display_data"
    }
   ],
   "source": [
    "df[\"count\"].resample(\"W\").sum().plot()"
   ]
  },
  {
   "cell_type": "code",
   "execution_count": 18,
   "metadata": {},
   "outputs": [
    {
     "data": {
      "text/plain": [
       "<AxesSubplot:xlabel='datetime'>"
      ]
     },
     "execution_count": 18,
     "metadata": {},
     "output_type": "execute_result"
    },
    {
     "data": {
      "image/png": "[encoded data removed]",
      "text/plain": [
       "<Figure size 432x288 with 1 Axes>"
      ]
     },
     "metadata": {
      "needs_background": "light"
     },
     "output_type": "display_data"
    }
   ],
   "source": [
    "df[\"count\"].resample(\"M\").sum().plot()"
   ]
  },
  {
   "cell_type": "markdown",
   "metadata": {},
   "source": [
    "### Resampling - Filter\n",
    "- something_range 함수로 기간 생성 : filter 지정\n",
    "```\n",
    "# 월별 data ; period에 저장\n",
    "period = pd.date_range(start='2011-01-01', end = '2011-05-31', freq = 'M')\n",
    "df[\"count\"].resample('M').sum()[period]\n",
    "```\n",
    "- DatetimeIndex\n",
    "- timedelta_range\n",
    "- period_range\n",
    "- interval_range"
   ]
  },
  {
   "cell_type": "code",
   "execution_count": 19,
   "metadata": {},
   "outputs": [
    {
     "data": {
      "text/plain": [
       "datetime\n",
       "2011-01-31    23552\n",
       "2011-02-28    32844\n",
       "2011-03-31    38735\n",
       "2011-04-30    50517\n",
       "2011-05-31    79713\n",
       "2011-06-30    89776\n",
       "2011-07-31    92848\n",
       "2011-08-31    83296\n",
       "2011-09-30    79104\n",
       "2011-10-31    79522\n",
       "2011-11-30    70889\n",
       "2011-12-31    61183\n",
       "2012-01-31    56332\n",
       "Freq: M, Name: count, dtype: int64"
      ]
     },
     "execution_count": 19,
     "metadata": {},
     "output_type": "execute_result"
    }
   ],
   "source": [
    "# 월별 data ; period에 저장\n",
    "period = pd.date_range(start='2011-01-01', end = '2012-01-31', freq = 'M')\n",
    "df[\"count\"].resample('M').sum()[period]"
   ]
  },
  {
   "cell_type": "markdown",
   "metadata": {},
   "source": [
    "> start or end 없어도 가능 ! periods 이용 "
   ]
  },
  {
   "cell_type": "code",
   "execution_count": 20,
   "metadata": {},
   "outputs": [
    {
     "data": {
      "text/plain": [
       "datetime\n",
       "2011-01-31    23552\n",
       "2011-02-28    32844\n",
       "2011-03-31    38735\n",
       "2011-04-30    50517\n",
       "2011-05-31    79713\n",
       "2011-06-30    89776\n",
       "2011-07-31    92848\n",
       "2011-08-31    83296\n",
       "2011-09-30    79104\n",
       "2011-10-31    79522\n",
       "2011-11-30    70889\n",
       "2011-12-31    61183\n",
       "Freq: M, Name: count, dtype: int64"
      ]
     },
     "execution_count": 20,
     "metadata": {},
     "output_type": "execute_result"
    }
   ],
   "source": [
    "period = pd.date_range(start='2011-01-01', periods = 12, freq = 'M')\n",
    "df[\"count\"].resample('M').sum()[period]"
   ]
  },
  {
   "cell_type": "code",
   "execution_count": 21,
   "metadata": {},
   "outputs": [
    {
     "data": {
      "text/plain": [
       "datetime\n",
       "2011-01-31    23552\n",
       "2011-02-28    32844\n",
       "2011-03-31    38735\n",
       "2011-04-30    50517\n",
       "2011-05-31    79713\n",
       "2011-06-30    89776\n",
       "2011-07-31    92848\n",
       "2011-08-31    83296\n",
       "2011-09-30    79104\n",
       "2011-10-31    79522\n",
       "2011-11-30    70889\n",
       "2011-12-31    61183\n",
       "2012-01-31    56332\n",
       "Freq: M, Name: count, dtype: int64"
      ]
     },
     "execution_count": 21,
     "metadata": {},
     "output_type": "execute_result"
    }
   ],
   "source": [
    "period = pd.date_range(start='2011-01-01', periods = 12, freq = 'M')\n",
    "df[\"count\"].resample('M').sum()['2011-01-01':'2012-01-31']"
   ]
  },
  {
   "cell_type": "markdown",
   "metadata": {},
   "source": [
    "> 요일별 자전거의 수요량"
   ]
  },
  {
   "cell_type": "code",
   "execution_count": 22,
   "metadata": {},
   "outputs": [
    {
     "data": {
      "text/plain": [
       "<AxesSubplot:xlabel='dayofweek'>"
      ]
     },
     "execution_count": 22,
     "metadata": {},
     "output_type": "execute_result"
    },
    {
     "data": {
      "image/png": "[encoded data removed]",
      "text/plain": [
       "<Figure size 432x288 with 1 Axes>"
      ]
     },
     "metadata": {
      "needs_background": "light"
     },
     "output_type": "display_data"
    }
   ],
   "source": [
    "df[\"dayofweek\"] = df.index.dayofweek\n",
    "df.groupby(\"dayofweek\")[\"count\"].sum().plot()"
   ]
  },
  {
   "cell_type": "markdown",
   "metadata": {},
   "source": [
    "## Time shifiting\n",
    "- 시간의 차(time lag)분석 필요  \n",
    "ex) 30일 전에 비해 주가는 상승세인가?\n",
    "- pandas 내 Time shifting 기능으로   \n",
    "time window(frequency랑 비슷)를 기준으로 기간 간 차이 분석"
   ]
  },
  {
   "cell_type": "code",
   "execution_count": 23,
   "metadata": {},
   "outputs": [
    {
     "data": {
      "text/plain": [
       "datetime\n",
       "2011-01-31      0.000000\n",
       "2011-02-28      0.000000\n",
       "2011-03-31     54.645012\n",
       "2011-04-30     73.641256\n",
       "2011-05-31     86.849776\n",
       "2011-06-30    111.026374\n",
       "2011-07-31    174.809211\n",
       "2011-08-31    196.877193\n",
       "2011-09-30    203.614035\n",
       "2011-10-31    182.666667\n",
       "2011-11-30    174.622517\n",
       "2011-12-31    174.773626\n",
       "2012-01-31    155.458333\n",
       "2012-02-29    134.173246\n",
       "2012-03-31    124.353201\n",
       "2012-04-30    145.646154\n",
       "2012-05-31    208.276923\n",
       "2012-06-30    257.455947\n",
       "2012-07-31    264.109649\n",
       "2012-08-31    287.186404\n",
       "2012-09-30    267.037281\n",
       "2012-10-31    285.570175\n",
       "2012-11-30    292.598684\n",
       "2012-12-31    280.508772\n",
       "Freq: M, Name: count, dtype: float64"
      ]
     },
     "execution_count": 23,
     "metadata": {},
     "output_type": "execute_result"
    }
   ],
   "source": [
    "monthly_avg=df[\"count\"].resample(\"M\").mean()\n",
    "# 2달 차이로 보기\n",
    "monthly_avg.shift(periods=2,fill_value=0)"
   ]
  },
  {
   "cell_type": "code",
   "execution_count": 24,
   "metadata": {},
   "outputs": [],
   "source": [
    "monthly_avg=df[\"count\"].resample(\"M\").mean()\n",
    "# 2달 차이로 보기\n",
    "monthly_avg\n",
    "result = []\n",
    "# 초기 데이터 넣어주기\n",
    "result.append(monthly_avg)\n",
    "for period in range(1,6):\n",
    "    result.append(monthly_avg.shift(periods=period,fill_value=0))"
   ]
  },
  {
   "cell_type": "code",
   "execution_count": 25,
   "metadata": {},
   "outputs": [
    {
     "data": {
      "text/plain": [
       "[datetime\n",
       " 2011-01-31     54.645012\n",
       " 2011-02-28     73.641256\n",
       " 2011-03-31     86.849776\n",
       " 2011-04-30    111.026374\n",
       " 2011-05-31    174.809211\n",
       " 2011-06-30    196.877193\n",
       " 2011-07-31    203.614035\n",
       " 2011-08-31    182.666667\n",
       " 2011-09-30    174.622517\n",
       " 2011-10-31    174.773626\n",
       " 2011-11-30    155.458333\n",
       " 2011-12-31    134.173246\n",
       " 2012-01-31    124.353201\n",
       " 2012-02-29    145.646154\n",
       " 2012-03-31    208.276923\n",
       " 2012-04-30    257.455947\n",
       " 2012-05-31    264.109649\n",
       " 2012-06-30    287.186404\n",
       " 2012-07-31    267.037281\n",
       " 2012-08-31    285.570175\n",
       " 2012-09-30    292.598684\n",
       " 2012-10-31    280.508772\n",
       " 2012-11-30    231.980220\n",
       " 2012-12-31    217.054825\n",
       " Freq: M, Name: count, dtype: float64,\n",
       " datetime\n",
       " 2011-01-31      0.000000\n",
       " 2011-02-28     54.645012\n",
       " 2011-03-31     73.641256\n",
       " 2011-04-30     86.849776\n",
       " 2011-05-31    111.026374\n",
       " 2011-06-30    174.809211\n",
       " 2011-07-31    196.877193\n",
       " 2011-08-31    203.614035\n",
       " 2011-09-30    182.666667\n",
       " 2011-10-31    174.622517\n",
       " 2011-11-30    174.773626\n",
       " 2011-12-31    155.458333\n",
       " 2012-01-31    134.173246\n",
       " 2012-02-29    124.353201\n",
       " 2012-03-31    145.646154\n",
       " 2012-04-30    208.276923\n",
       " 2012-05-31    257.455947\n",
       " 2012-06-30    264.109649\n",
       " 2012-07-31    287.186404\n",
       " 2012-08-31    267.037281\n",
       " 2012-09-30    285.570175\n",
       " 2012-10-31    292.598684\n",
       " 2012-11-30    280.508772\n",
       " 2012-12-31    231.980220\n",
       " Freq: M, Name: count, dtype: float64,\n",
       " datetime\n",
       " 2011-01-31      0.000000\n",
       " 2011-02-28      0.000000\n",
       " 2011-03-31     54.645012\n",
       " 2011-04-30     73.641256\n",
       " 2011-05-31     86.849776\n",
       " 2011-06-30    111.026374\n",
       " 2011-07-31    174.809211\n",
       " 2011-08-31    196.877193\n",
       " 2011-09-30    203.614035\n",
       " 2011-10-31    182.666667\n",
       " 2011-11-30    174.622517\n",
       " 2011-12-31    174.773626\n",
       " 2012-01-31    155.458333\n",
       " 2012-02-29    134.173246\n",
       " 2012-03-31    124.353201\n",
       " 2012-04-30    145.646154\n",
       " 2012-05-31    208.276923\n",
       " 2012-06-30    257.455947\n",
       " 2012-07-31    264.109649\n",
       " 2012-08-31    287.186404\n",
       " 2012-09-30    267.037281\n",
       " 2012-10-31    285.570175\n",
       " 2012-11-30    292.598684\n",
       " 2012-12-31    280.508772\n",
       " Freq: M, Name: count, dtype: float64,\n",
       " datetime\n",
       " 2011-01-31      0.000000\n",
       " 2011-02-28      0.000000\n",
       " 2011-03-31      0.000000\n",
       " 2011-04-30     54.645012\n",
       " 2011-05-31     73.641256\n",
       " 2011-06-30     86.849776\n",
       " 2011-07-31    111.026374\n",
       " 2011-08-31    174.809211\n",
       " 2011-09-30    196.877193\n",
       " 2011-10-31    203.614035\n",
       " 2011-11-30    182.666667\n",
       " 2011-12-31    174.622517\n",
       " 2012-01-31    174.773626\n",
       " 2012-02-29    155.458333\n",
       " 2012-03-31    134.173246\n",
       " 2012-04-30    124.353201\n",
       " 2012-05-31    145.646154\n",
       " 2012-06-30    208.276923\n",
       " 2012-07-31    257.455947\n",
       " 2012-08-31    264.109649\n",
       " 2012-09-30    287.186404\n",
       " 2012-10-31    267.037281\n",
       " 2012-11-30    285.570175\n",
       " 2012-12-31    292.598684\n",
       " Freq: M, Name: count, dtype: float64,\n",
       " datetime\n",
       " 2011-01-31      0.000000\n",
       " 2011-02-28      0.000000\n",
       " 2011-03-31      0.000000\n",
       " 2011-04-30      0.000000\n",
       " 2011-05-31     54.645012\n",
       " 2011-06-30     73.641256\n",
       " 2011-07-31     86.849776\n",
       " 2011-08-31    111.026374\n",
       " 2011-09-30    174.809211\n",
       " 2011-10-31    196.877193\n",
       " 2011-11-30    203.614035\n",
       " 2011-12-31    182.666667\n",
       " 2012-01-31    174.622517\n",
       " 2012-02-29    174.773626\n",
       " 2012-03-31    155.458333\n",
       " 2012-04-30    134.173246\n",
       " 2012-05-31    124.353201\n",
       " 2012-06-30    145.646154\n",
       " 2012-07-31    208.276923\n",
       " 2012-08-31    257.455947\n",
       " 2012-09-30    264.109649\n",
       " 2012-10-31    287.186404\n",
       " 2012-11-30    267.037281\n",
       " 2012-12-31    285.570175\n",
       " Freq: M, Name: count, dtype: float64,\n",
       " datetime\n",
       " 2011-01-31      0.000000\n",
       " 2011-02-28      0.000000\n",
       " 2011-03-31      0.000000\n",
       " 2011-04-30      0.000000\n",
       " 2011-05-31      0.000000\n",
       " 2011-06-30     54.645012\n",
       " 2011-07-31     73.641256\n",
       " 2011-08-31     86.849776\n",
       " 2011-09-30    111.026374\n",
       " 2011-10-31    174.809211\n",
       " 2011-11-30    196.877193\n",
       " 2011-12-31    203.614035\n",
       " 2012-01-31    182.666667\n",
       " 2012-02-29    174.622517\n",
       " 2012-03-31    174.773626\n",
       " 2012-04-30    155.458333\n",
       " 2012-05-31    134.173246\n",
       " 2012-06-30    124.353201\n",
       " 2012-07-31    145.646154\n",
       " 2012-08-31    208.276923\n",
       " 2012-09-30    257.455947\n",
       " 2012-10-31    264.109649\n",
       " 2012-11-30    287.186404\n",
       " 2012-12-31    267.037281\n",
       " Freq: M, Name: count, dtype: float64]"
      ]
     },
     "execution_count": 25,
     "metadata": {},
     "output_type": "execute_result"
    }
   ],
   "source": [
    "result"
   ]
  },
  {
   "cell_type": "code",
   "execution_count": 26,
   "metadata": {},
   "outputs": [
    {
     "data": {
      "text/html": [
       "<div>\n",
       "<style scoped>\n",
       "    .dataframe tbody tr th:only-of-type {\n",
       "        vertical-align: middle;\n",
       "    }\n",
       "\n",
       "    .dataframe tbody tr th {\n",
       "        vertical-align: top;\n",
       "    }\n",
       "\n",
       "    .dataframe thead th {\n",
       "        text-align: right;\n",
       "    }\n",
       "</style>\n",
       "<table border=\"1\" class=\"dataframe\">\n",
       "  <thead>\n",
       "    <tr style=\"text-align: right;\">\n",
       "      <th></th>\n",
       "      <th>count</th>\n",
       "      <th>count</th>\n",
       "      <th>count</th>\n",
       "      <th>count</th>\n",
       "      <th>count</th>\n",
       "      <th>count</th>\n",
       "    </tr>\n",
       "    <tr>\n",
       "      <th>datetime</th>\n",
       "      <th></th>\n",
       "      <th></th>\n",
       "      <th></th>\n",
       "      <th></th>\n",
       "      <th></th>\n",
       "      <th></th>\n",
       "    </tr>\n",
       "  </thead>\n",
       "  <tbody>\n",
       "    <tr>\n",
       "      <th>2011-01-31</th>\n",
       "      <td>54.645012</td>\n",
       "      <td>0.000000</td>\n",
       "      <td>0.000000</td>\n",
       "      <td>0.000000</td>\n",
       "      <td>0.000000</td>\n",
       "      <td>0.000000</td>\n",
       "    </tr>\n",
       "    <tr>\n",
       "      <th>2011-02-28</th>\n",
       "      <td>73.641256</td>\n",
       "      <td>54.645012</td>\n",
       "      <td>0.000000</td>\n",
       "      <td>0.000000</td>\n",
       "      <td>0.000000</td>\n",
       "      <td>0.000000</td>\n",
       "    </tr>\n",
       "    <tr>\n",
       "      <th>2011-03-31</th>\n",
       "      <td>86.849776</td>\n",
       "      <td>73.641256</td>\n",
       "      <td>54.645012</td>\n",
       "      <td>0.000000</td>\n",
       "      <td>0.000000</td>\n",
       "      <td>0.000000</td>\n",
       "    </tr>\n",
       "    <tr>\n",
       "      <th>2011-04-30</th>\n",
       "      <td>111.026374</td>\n",
       "      <td>86.849776</td>\n",
       "      <td>73.641256</td>\n",
       "      <td>54.645012</td>\n",
       "      <td>0.000000</td>\n",
       "      <td>0.000000</td>\n",
       "    </tr>\n",
       "    <tr>\n",
       "      <th>2011-05-31</th>\n",
       "      <td>174.809211</td>\n",
       "      <td>111.026374</td>\n",
       "      <td>86.849776</td>\n",
       "      <td>73.641256</td>\n",
       "      <td>54.645012</td>\n",
       "      <td>0.000000</td>\n",
       "    </tr>\n",
       "    <tr>\n",
       "      <th>2011-06-30</th>\n",
       "      <td>196.877193</td>\n",
       "      <td>174.809211</td>\n",
       "      <td>111.026374</td>\n",
       "      <td>86.849776</td>\n",
       "      <td>73.641256</td>\n",
       "      <td>54.645012</td>\n",
       "    </tr>\n",
       "    <tr>\n",
       "      <th>2011-07-31</th>\n",
       "      <td>203.614035</td>\n",
       "      <td>196.877193</td>\n",
       "      <td>174.809211</td>\n",
       "      <td>111.026374</td>\n",
       "      <td>86.849776</td>\n",
       "      <td>73.641256</td>\n",
       "    </tr>\n",
       "    <tr>\n",
       "      <th>2011-08-31</th>\n",
       "      <td>182.666667</td>\n",
       "      <td>203.614035</td>\n",
       "      <td>196.877193</td>\n",
       "      <td>174.809211</td>\n",
       "      <td>111.026374</td>\n",
       "      <td>86.849776</td>\n",
       "    </tr>\n",
       "    <tr>\n",
       "      <th>2011-09-30</th>\n",
       "      <td>174.622517</td>\n",
       "      <td>182.666667</td>\n",
       "      <td>203.614035</td>\n",
       "      <td>196.877193</td>\n",
       "      <td>174.809211</td>\n",
       "      <td>111.026374</td>\n",
       "    </tr>\n",
       "    <tr>\n",
       "      <th>2011-10-31</th>\n",
       "      <td>174.773626</td>\n",
       "      <td>174.622517</td>\n",
       "      <td>182.666667</td>\n",
       "      <td>203.614035</td>\n",
       "      <td>196.877193</td>\n",
       "      <td>174.809211</td>\n",
       "    </tr>\n",
       "    <tr>\n",
       "      <th>2011-11-30</th>\n",
       "      <td>155.458333</td>\n",
       "      <td>174.773626</td>\n",
       "      <td>174.622517</td>\n",
       "      <td>182.666667</td>\n",
       "      <td>203.614035</td>\n",
       "      <td>196.877193</td>\n",
       "    </tr>\n",
       "    <tr>\n",
       "      <th>2011-12-31</th>\n",
       "      <td>134.173246</td>\n",
       "      <td>155.458333</td>\n",
       "      <td>174.773626</td>\n",
       "      <td>174.622517</td>\n",
       "      <td>182.666667</td>\n",
       "      <td>203.614035</td>\n",
       "    </tr>\n",
       "    <tr>\n",
       "      <th>2012-01-31</th>\n",
       "      <td>124.353201</td>\n",
       "      <td>134.173246</td>\n",
       "      <td>155.458333</td>\n",
       "      <td>174.773626</td>\n",
       "      <td>174.622517</td>\n",
       "      <td>182.666667</td>\n",
       "    </tr>\n",
       "    <tr>\n",
       "      <th>2012-02-29</th>\n",
       "      <td>145.646154</td>\n",
       "      <td>124.353201</td>\n",
       "      <td>134.173246</td>\n",
       "      <td>155.458333</td>\n",
       "      <td>174.773626</td>\n",
       "      <td>174.622517</td>\n",
       "    </tr>\n",
       "    <tr>\n",
       "      <th>2012-03-31</th>\n",
       "      <td>208.276923</td>\n",
       "      <td>145.646154</td>\n",
       "      <td>124.353201</td>\n",
       "      <td>134.173246</td>\n",
       "      <td>155.458333</td>\n",
       "      <td>174.773626</td>\n",
       "    </tr>\n",
       "    <tr>\n",
       "      <th>2012-04-30</th>\n",
       "      <td>257.455947</td>\n",
       "      <td>208.276923</td>\n",
       "      <td>145.646154</td>\n",
       "      <td>124.353201</td>\n",
       "      <td>134.173246</td>\n",
       "      <td>155.458333</td>\n",
       "    </tr>\n",
       "    <tr>\n",
       "      <th>2012-05-31</th>\n",
       "      <td>264.109649</td>\n",
       "      <td>257.455947</td>\n",
       "      <td>208.276923</td>\n",
       "      <td>145.646154</td>\n",
       "      <td>124.353201</td>\n",
       "      <td>134.173246</td>\n",
       "    </tr>\n",
       "    <tr>\n",
       "      <th>2012-06-30</th>\n",
       "      <td>287.186404</td>\n",
       "      <td>264.109649</td>\n",
       "      <td>257.455947</td>\n",
       "      <td>208.276923</td>\n",
       "      <td>145.646154</td>\n",
       "      <td>124.353201</td>\n",
       "    </tr>\n",
       "    <tr>\n",
       "      <th>2012-07-31</th>\n",
       "      <td>267.037281</td>\n",
       "      <td>287.186404</td>\n",
       "      <td>264.109649</td>\n",
       "      <td>257.455947</td>\n",
       "      <td>208.276923</td>\n",
       "      <td>145.646154</td>\n",
       "    </tr>\n",
       "    <tr>\n",
       "      <th>2012-08-31</th>\n",
       "      <td>285.570175</td>\n",
       "      <td>267.037281</td>\n",
       "      <td>287.186404</td>\n",
       "      <td>264.109649</td>\n",
       "      <td>257.455947</td>\n",
       "      <td>208.276923</td>\n",
       "    </tr>\n",
       "    <tr>\n",
       "      <th>2012-09-30</th>\n",
       "      <td>292.598684</td>\n",
       "      <td>285.570175</td>\n",
       "      <td>267.037281</td>\n",
       "      <td>287.186404</td>\n",
       "      <td>264.109649</td>\n",
       "      <td>257.455947</td>\n",
       "    </tr>\n",
       "    <tr>\n",
       "      <th>2012-10-31</th>\n",
       "      <td>280.508772</td>\n",
       "      <td>292.598684</td>\n",
       "      <td>285.570175</td>\n",
       "      <td>267.037281</td>\n",
       "      <td>287.186404</td>\n",
       "      <td>264.109649</td>\n",
       "    </tr>\n",
       "    <tr>\n",
       "      <th>2012-11-30</th>\n",
       "      <td>231.980220</td>\n",
       "      <td>280.508772</td>\n",
       "      <td>292.598684</td>\n",
       "      <td>285.570175</td>\n",
       "      <td>267.037281</td>\n",
       "      <td>287.186404</td>\n",
       "    </tr>\n",
       "    <tr>\n",
       "      <th>2012-12-31</th>\n",
       "      <td>217.054825</td>\n",
       "      <td>231.980220</td>\n",
       "      <td>280.508772</td>\n",
       "      <td>292.598684</td>\n",
       "      <td>285.570175</td>\n",
       "      <td>267.037281</td>\n",
       "    </tr>\n",
       "  </tbody>\n",
       "</table>\n",
       "</div>"
      ],
      "text/plain": [
       "                 count       count       count       count       count  \\\n",
       "datetime                                                                 \n",
       "2011-01-31   54.645012    0.000000    0.000000    0.000000    0.000000   \n",
       "2011-02-28   73.641256   54.645012    0.000000    0.000000    0.000000   \n",
       "2011-03-31   86.849776   73.641256   54.645012    0.000000    0.000000   \n",
       "2011-04-30  111.026374   86.849776   73.641256   54.645012    0.000000   \n",
       "2011-05-31  174.809211  111.026374   86.849776   73.641256   54.645012   \n",
       "2011-06-30  196.877193  174.809211  111.026374   86.849776   73.641256   \n",
       "2011-07-31  203.614035  196.877193  174.809211  111.026374   86.849776   \n",
       "2011-08-31  182.666667  203.614035  196.877193  174.809211  111.026374   \n",
       "2011-09-30  174.622517  182.666667  203.614035  196.877193  174.809211   \n",
       "2011-10-31  174.773626  174.622517  182.666667  203.614035  196.877193   \n",
       "2011-11-30  155.458333  174.773626  174.622517  182.666667  203.614035   \n",
       "2011-12-31  134.173246  155.458333  174.773626  174.622517  182.666667   \n",
       "2012-01-31  124.353201  134.173246  155.458333  174.773626  174.622517   \n",
       "2012-02-29  145.646154  124.353201  134.173246  155.458333  174.773626   \n",
       "2012-03-31  208.276923  145.646154  124.353201  134.173246  155.458333   \n",
       "2012-04-30  257.455947  208.276923  145.646154  124.353201  134.173246   \n",
       "2012-05-31  264.109649  257.455947  208.276923  145.646154  124.353201   \n",
       "2012-06-30  287.186404  264.109649  257.455947  208.276923  145.646154   \n",
       "2012-07-31  267.037281  287.186404  264.109649  257.455947  208.276923   \n",
       "2012-08-31  285.570175  267.037281  287.186404  264.109649  257.455947   \n",
       "2012-09-30  292.598684  285.570175  267.037281  287.186404  264.109649   \n",
       "2012-10-31  280.508772  292.598684  285.570175  267.037281  287.186404   \n",
       "2012-11-30  231.980220  280.508772  292.598684  285.570175  267.037281   \n",
       "2012-12-31  217.054825  231.980220  280.508772  292.598684  285.570175   \n",
       "\n",
       "                 count  \n",
       "datetime                \n",
       "2011-01-31    0.000000  \n",
       "2011-02-28    0.000000  \n",
       "2011-03-31    0.000000  \n",
       "2011-04-30    0.000000  \n",
       "2011-05-31    0.000000  \n",
       "2011-06-30   54.645012  \n",
       "2011-07-31   73.641256  \n",
       "2011-08-31   86.849776  \n",
       "2011-09-30  111.026374  \n",
       "2011-10-31  174.809211  \n",
       "2011-11-30  196.877193  \n",
       "2011-12-31  203.614035  \n",
       "2012-01-31  182.666667  \n",
       "2012-02-29  174.622517  \n",
       "2012-03-31  174.773626  \n",
       "2012-04-30  155.458333  \n",
       "2012-05-31  134.173246  \n",
       "2012-06-30  124.353201  \n",
       "2012-07-31  145.646154  \n",
       "2012-08-31  208.276923  \n",
       "2012-09-30  257.455947  \n",
       "2012-10-31  264.109649  \n",
       "2012-11-30  287.186404  \n",
       "2012-12-31  267.037281  "
      ]
     },
     "execution_count": 26,
     "metadata": {},
     "output_type": "execute_result"
    }
   ],
   "source": [
    "pd.concat(result,axis=1)"
   ]
  },
  {
   "cell_type": "markdown",
   "metadata": {},
   "source": [
    "### Moving average\n",
    "- 시계열 데이터는 노이즈 발생  \n",
    "=> 노이즈를 줄이면서 추세보기, 이동평균"
   ]
  },
  {
   "cell_type": "code",
   "execution_count": 27,
   "metadata": {},
   "outputs": [
    {
     "data": {
      "text/plain": [
       "datetime\n",
       "2011-01-01     41.041667\n",
       "2011-01-02     34.826087\n",
       "2011-01-03     61.318182\n",
       "2011-01-04     67.913043\n",
       "2011-01-05     69.565217\n",
       "                 ...    \n",
       "2012-12-15    210.291667\n",
       "2012-12-16    157.750000\n",
       "2012-12-17    191.041667\n",
       "2012-12-18    231.541667\n",
       "2012-12-19    219.458333\n",
       "Freq: D, Name: count, Length: 719, dtype: float64"
      ]
     },
     "execution_count": 27,
     "metadata": {},
     "output_type": "execute_result"
    }
   ],
   "source": [
    "day_avg = df[\"count\"].resample(\"D\").mean().fillna(0)\n",
    "day_avg"
   ]
  },
  {
   "cell_type": "markdown",
   "metadata": {},
   "source": [
    "> 빈 곳 발생 "
   ]
  },
  {
   "cell_type": "code",
   "execution_count": 28,
   "metadata": {},
   "outputs": [
    {
     "data": {
      "text/plain": [
       "<AxesSubplot:xlabel='datetime'>"
      ]
     },
     "execution_count": 28,
     "metadata": {},
     "output_type": "execute_result"
    },
    {
     "data": {
      "image/png": "[encoded data removed]",
      "text/plain": [
       "<Figure size 432x288 with 1 Axes>"
      ]
     },
     "metadata": {
      "needs_background": "light"
     },
     "output_type": "display_data"
    }
   ],
   "source": [
    "day_avg.plot()"
   ]
  },
  {
   "cell_type": "markdown",
   "metadata": {},
   "source": [
    "> 빈곳 발생하므로 rolling"
   ]
  },
  {
   "cell_type": "code",
   "execution_count": 29,
   "metadata": {},
   "outputs": [
    {
     "data": {
      "text/plain": [
       "datetime\n",
       "2011-01-01      0.000000\n",
       "2011-01-02      0.000000\n",
       "2011-01-03      0.000000\n",
       "2011-01-04      0.000000\n",
       "2011-01-05      0.000000\n",
       "                 ...    \n",
       "2012-12-15    140.662500\n",
       "2012-12-16    138.006944\n",
       "2012-12-17    136.556944\n",
       "2012-12-18    137.790278\n",
       "2012-12-19    137.468056\n",
       "Freq: D, Name: count, Length: 719, dtype: float64"
      ]
     },
     "execution_count": 29,
     "metadata": {},
     "output_type": "execute_result"
    }
   ],
   "source": [
    "day_avg.rolling(window=30).mean().fillna(0)"
   ]
  },
  {
   "cell_type": "code",
   "execution_count": 30,
   "metadata": {},
   "outputs": [
    {
     "data": {
      "text/plain": [
       "<AxesSubplot:xlabel='datetime'>"
      ]
     },
     "execution_count": 30,
     "metadata": {},
     "output_type": "execute_result"
    },
    {
     "data": {
      "image/png": "[encoded data removed]",
      "text/plain": [
       "<Figure size 432x288 with 1 Axes>"
      ]
     },
     "metadata": {
      "needs_background": "light"
     },
     "output_type": "display_data"
    }
   ],
   "source": [
    "day_avg.rolling(window=30).mean().fillna(0).plot()"
   ]
  },
  {
   "cell_type": "markdown",
   "metadata": {},
   "source": [
    "> 두개 plot 합치기"
   ]
  },
  {
   "cell_type": "code",
   "execution_count": 31,
   "metadata": {},
   "outputs": [
    {
     "data": {
      "text/plain": [
       "<AxesSubplot:xlabel='datetime'>"
      ]
     },
     "execution_count": 31,
     "metadata": {},
     "output_type": "execute_result"
    },
    {
     "data": {
      "image/png": "[encoded data removed]",
      "text/plain": [
       "<Figure size 432x288 with 1 Axes>"
      ]
     },
     "metadata": {
      "needs_background": "light"
     },
     "output_type": "display_data"
    }
   ],
   "source": [
    "day_avg = df[\"count\"].resample(\"D\").mean().fillna(0)\n",
    "day_avg.plot()\n",
    "day_avg.rolling(window=30).mean().fillna(0).plot()"
   ]
  },
  {
   "cell_type": "markdown",
   "metadata": {},
   "source": [
    "### Cumsum\n",
    "- 시계열 데이터를 window마다 합침\n",
    "- rolling(window=10).sum()과 다름"
   ]
  },
  {
   "cell_type": "markdown",
   "metadata": {},
   "source": [
    "> 월별로 그대로 합해짐"
   ]
  },
  {
   "cell_type": "code",
   "execution_count": 32,
   "metadata": {},
   "outputs": [
    {
     "data": {
      "text/plain": [
       "datetime\n",
       "2011-01-31      54.645012\n",
       "2011-02-28     128.286267\n",
       "2011-03-31     215.136043\n",
       "2011-04-30     326.162417\n",
       "2011-05-31     500.971627\n",
       "2011-06-30     697.848820\n",
       "2011-07-31     901.462855\n",
       "2011-08-31    1084.129522\n",
       "2011-09-30    1258.752038\n",
       "2011-10-31    1433.525665\n",
       "2011-11-30    1588.983998\n",
       "2011-12-31    1723.157244\n",
       "2012-01-31    1847.510445\n",
       "2012-02-29    1993.156598\n",
       "2012-03-31    2201.433522\n",
       "2012-04-30    2458.889469\n",
       "2012-05-31    2722.999118\n",
       "2012-06-30    3010.185521\n",
       "2012-07-31    3277.222802\n",
       "2012-08-31    3562.792977\n",
       "2012-09-30    3855.391662\n",
       "2012-10-31    4135.900434\n",
       "2012-11-30    4367.880653\n",
       "2012-12-31    4584.935478\n",
       "Freq: M, Name: count, dtype: float64"
      ]
     },
     "execution_count": 32,
     "metadata": {},
     "output_type": "execute_result"
    }
   ],
   "source": [
    "df[\"count\"].resample(\"M\").mean().cumsum()"
   ]
  },
  {
   "cell_type": "markdown",
   "metadata": {},
   "source": [
    "> 서로의 range가 다르기 때문에 한쪽이 너무 커짐"
   ]
  },
  {
   "cell_type": "code",
   "execution_count": 33,
   "metadata": {},
   "outputs": [
    {
     "data": {
      "text/plain": [
       "<AxesSubplot:xlabel='datetime'>"
      ]
     },
     "execution_count": 33,
     "metadata": {},
     "output_type": "execute_result"
    },
    {
     "data": {
      "image/png": "[encoded data removed]",
      "text/plain": [
       "<Figure size 432x288 with 1 Axes>"
      ]
     },
     "metadata": {
      "needs_background": "light"
     },
     "output_type": "display_data"
    }
   ],
   "source": [
    "monthly_avg = df[\"count\"].resample(\"M\").mean()\n",
    "cumsum_avg=df[\"count\"].resample(\"M\").mean().cumsum()\n",
    "monthly_avg.plot()\n",
    "cumsum_avg.plot()"
   ]
  },
  {
   "cell_type": "code",
   "execution_count": 34,
   "metadata": {},
   "outputs": [
    {
     "data": {
      "text/plain": [
       "<AxesSubplot:>"
      ]
     },
     "execution_count": 34,
     "metadata": {},
     "output_type": "execute_result"
    },
    {
     "data": {
      "image/png": "[encoded data removed]",
      "text/plain": [
       "<Figure size 432x288 with 2 Axes>"
      ]
     },
     "metadata": {
      "needs_background": "light"
     },
     "output_type": "display_data"
    }
   ],
   "source": [
    "monthly_avg = df[\"count\"].resample(\"M\").mean()\n",
    "cumsum_avg=df[\"count\"].resample(\"M\").mean().cumsum()\n",
    "monthly_avg = monthly_avg.rename(\"monthly_avg\")\n",
    "cumsum_avg = cumsum_avg.rename(\"avg_cumsum\")\n",
    "df_monthly = pd.concat([monthly_avg,cumsum_avg],axis=1)\n",
    "ax = df_monthly.plot(y=\"monthly_avg\", use_index = True)\n",
    "df_monthly.plot(y=\"avg_cumsum\",secondary_y=True,ax=ax,use_index = True)"
   ]
  }
 ],
 "metadata": {
  "interpreter": {
   "hash": "179ce7cb0750974f5d99263a762ed953835e5a98627f571ca1c55ff25630e430"
  },
  "kernelspec": {
   "display_name": "Python 3.10.4 64-bit (system)",
   "language": "python",
   "name": "python3"
  },
  "language_info": {
   "codemirror_mode": {
    "name": "ipython",
    "version": 3
   },
   "file_extension": ".py",
   "mimetype": "text/x-python",
   "name": "python",
   "nbconvert_exporter": "python",
   "pygments_lexer": "ipython3",
   "version": "3.9.7"
  },
  "orig_nbformat": 4
 },
 "nbformat": 4,
 "nbformat_minor": 2
}

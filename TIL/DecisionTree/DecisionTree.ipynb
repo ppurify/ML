{
 "cells": [
  {
   "cell_type": "markdown",
   "metadata": {},
   "source": [
    "## 0️⃣ Overview\n",
    "\n",
    "#### 머신러닝의 학습 방법들\n",
    "\n",
    "- Gradient descent based learning\n",
    "\n",
    "- Probability theory based learning\n",
    "\n",
    "- <span style = 'background-color :#ffdce0' >Information theory based learning</span>  \n",
    "    : 이 방법을 사용하는 것이 Decision Tree  \n",
    "    \n",
    "    Ex) Akinator : 스무고개로 유명인, 캐릭터를 맞추는 게임, 트리형태로 구성되어 있음\n",
    "    \n",
    "- Distance simlarity based learning\n",
    "\n",
    "### ✔ Decision Tree Classifier\n",
    "- Data를 가장 잘 구분할 수 있는 Tree를 구성함\n",
    "- Data Y에 따라서 Y를 잘 표현할 수 있는 트리를 구성해서 분류해나가는 기법\n",
    "\n",
    "### ✔ Decision Tree 만들기\n",
    "- 어떤 질문(Attribute)이 가장 많은 해답(Y)을 줄 것인가?\n",
    "- 결국 어떤 질문은 답의 모호성을 줄여줄 것인가?\n",
    "- 문제를 통해서 splitting point을 설정  \n",
    "    -> 남은 정보로 splitting point를 설정하는 식\n",
    "\n",
    "Ex) 모호성을 줄여주는 예시  \n",
    "- 답이 딱딱 나누어 떨어짐 => 모호성을 줄여줌\n",
    "- 정확한 성능을 나타낼 수 있는 Tree\n",
    "\n",
    "![ex1](./img/Ex1.PNG)\n",
    "    "
   ]
  },
  {
   "cell_type": "markdown",
   "metadata": {},
   "source": [
    "## 1️⃣ Information theory - Entropy\n",
    "\n",
    "### ✔ Entropy\n",
    "- 목적 달성을 위한 경우의 수를 정량적으로 표현하는 수치  \n",
    "    $\\Rightarrow$ 작을 수록 경우의 수가 적음\n",
    "\n",
    "- Higher $\\uparrow$  Entropy $\\Rightarrow$ Higher uncertainty 불확실성 증가 $\\uparrow$\n",
    "- Lower $\\downarrow$ Entropy $\\Rightarrow$ Lower uncertainty 불확실성 감소 $\\downarrow$\n",
    "\n",
    "<span style = 'color : red'>Entropy가 작으면 얻을 수 있는 정보가 많다, 명확하다</span>\n",
    "\n",
    "- $p_i$가 클수록 사건이 일어날 확률이 명확하다\n",
    "\n",
    "##### $ h(D) = -\\sum_{i=1}^m p_i log_2(p_i)$\n",
    "\n",
    "h(D)의 값이 0에 가까워지면 Entropy는 $\\downarrow$  \n",
    "$\\Rightarrow$ 불확실성이 $\\downarrow$\n",
    "\n",
    "확률이 1 $\\rightarrow$ Entropy = 0  \n",
    "확률이 작을수록 Entropy는 커진다  \n",
    "\n",
    "![Entropy](./img/Entropy.PNG)\n",
    "\n",
    "Ex) $m$ = 1,2,3  \n",
    "$p_1 = 1$ $\\Rightarrow$ $p_2 = p_3 = 0$  \n",
    "\n",
    "$\\Rightarrow$ h(D)에는 $p_1$만 남게되고, $h(D) = - p_1 log_2(p_1)$ \n",
    "\n",
    "이때, $log_2(p_1) = 0, -log_2(p_i) = 0 \\Rightarrow h(D) = 0$  \n",
    "$\\Rightarrow$ Lower Entropy, Lower uncertainty\n",
    "\n",
    "⚠ $p_i$의 값이 다양할 경우 $-log_2(p_i)$의 값은 증가 $\\uparrow$  \n",
    "$\\Rightarrow$ 불확실성 $\\uparrow$\n",
    "\n",
    "Ex) No : 5개, Yes : 9개  \n",
    "\n",
    "$\\rightarrow h(D) = -\\frac{9}{14} log_2\\frac{9}{14} + -\\frac{5}{14} log_2\\frac{5}{14}  \n",
    "= 0.940bits $ "
   ]
  },
  {
   "cell_type": "code",
   "execution_count": 1,
   "metadata": {},
   "outputs": [],
   "source": [
    "import numpy as np"
   ]
  },
  {
   "cell_type": "code",
   "execution_count": 2,
   "metadata": {},
   "outputs": [
    {
     "data": {
      "text/plain": [
       "0.9402859586706311"
      ]
     },
     "execution_count": 2,
     "metadata": {},
     "output_type": "execute_result"
    }
   ],
   "source": [
    "x = np.array([9/14, 5/14])\n",
    "y = np.log2(x)\n",
    "\n",
    "-sum(x*y)"
   ]
  },
  {
   "cell_type": "markdown",
   "metadata": {},
   "source": [
    "## 2️⃣ Algorithms of Decision Tree\n",
    "- Decision Tree 만드는 것을 시키는 알고리즘 필요\n",
    "\n",
    "- 어떻게 하면 가장 잘 분기(branch)를 만들수 있는가?\n",
    "\n",
    "- Data의 attribute를 기준으로 분기 생성 (어떤기준으로 나눌지)\n",
    "\n",
    "- 어떤 attribute를 기준으로 했을 때 가장 Entropy가 작은가?\n",
    "\n",
    "- 하나를 자른 후에 그 다음은 어떻게 할 것인가? \n",
    "\n",
    "- Decision Tree는 재귀적으로 생김  \n",
    ": 큰 Attribute에서 sub attribute로 나눔\n",
    "\n",
    "- 대산 라벨에 대해 어떤 Attribute가 더 확실한 정보를 제공하고 있는가?로 branch attribute를 선택\n",
    "\n",
    "- 확실한 정보의 선택 기준은 알고리즘 별로 차이 발생\n",
    "\n",
    "- Tree 생성 후 pruning을 통해 Tree generalization 시행  \n",
    "( pruning : Overfitting을 방지하기 위해 가지치기하는 거 )\n",
    "\n",
    "- 일반적으로 효율을 위해 Binary Tree 사용\n",
    "\n",
    "### ✔ Decision Tree의 특징\n",
    "- 비교적 간단, <span style = 'color : blue'>직관적으로 결과 표현</span>\n",
    "- 훈련시간이 길고 메모리 공간을 많이 사용\n",
    "- Top-down, Recursive, Divide and Conquer 기법  \n",
    "Top-down : 위에서 아래로 내려가는 구조  \n",
    "Recursive : 재귀적   \n",
    "Divide and Conquer : 나눈 후에 또 다시 나누는 구조  \n",
    "\n",
    "- Greedy 알고리즘 $\\rightarrow$ 부분 최적화  \n",
    ": 전체 optimization이 아닌 현재의 optimization을 찾음  \n",
    "Ex) 주황에서도 최적화, 파랑에서도 최적화됨\n",
    "\n",
    "![ex2](./img/Ex2.png)\n",
    "\n",
    "### 💁‍♀️ Decision Tree의 장점\n",
    "- 트리의 상단 부분 attribute들이 가장 중요한 예측변수  \n",
    "$\\Rightarrow$ attribute 선택 기법으로도 활용 가능\n",
    "\n",
    "- Attribute의 scaling 필요 X\n",
    "- 관측치의 절대값이 아닌 순서가 중요  \n",
    "$\\Rightarrow$ Outlier에 이점  \n",
    "(Outlier : 정규분포에서 양극단에 있는 거)\n",
    "\n",
    "- 자동적 변수 부분 선택 $\\Leftarrow$ Tree Pruning \n",
    "\n",
    "### ✔ Algorithms of Decision Tree\n",
    "- 크게 두가지 형태의 decision tree 알고리즘 존재  \n",
    "    : 1. ID3, 2. CART\n",
    "\n",
    "- 알고리즘 별 attribute branch 방법이 다름\n",
    "- ID3 $\\rightarrow$ C4.5(Ross Quinlan), CART\n",
    "- 연속형 변수를 위한 regression tree도 존재 "
   ]
  },
  {
   "cell_type": "markdown",
   "metadata": {},
   "source": [
    "## 3️⃣ ID3 & Information Gain\n",
    "\n",
    "### ✔ Information Gain\n",
    "- Entropy 함수를 도입하여 branch splitting\n",
    "- Information Gain  \n",
    ": Entropy를 사용하여 속성별 분류시 Impurity를 측정하는 지표\n",
    "\n",
    "- (전체 Entropy - 속성별 Entropy)로 속셩별 Information Gain을 계산  \n",
    "속성별 Entropy $\\uparrow$ $\\Rightarrow$ 복잡도 $\\uparrow$  \n",
    "\n",
    "$\\Rightarrow$ 속성별 Entropy가 $\\downarrow$ 속성을 선택해서 분기   \n",
    "(가장 명확하게 데이터를 나눌 수 있음)\n",
    "\n",
    "#### <span style = 'color : green'> 전체 데이터 D의 정보량 ( 전체 Information Gain )</span>\n",
    "#### $Info(D) = -\\sum_{i=1}^n P_i log_2(p_i)$\n",
    "\n",
    "#### <span style = 'color : green'> 속성 A로 분류시 정보량 ( 속성 A의 Information Gain )</span>\n",
    "#### $Info_A(D) = -\\sum_{j=1}^v  \\frac{\\vert D_j \\vert}{D} * Info(D_j)$\n",
    "( j : 속성 A의 label,  Ex) j = red, blue )\n",
    "\n",
    "#### <span style = 'color : green'> 속성 A의 정보 소득 </span>\n",
    "#### $ <span style = 'background-color :#ffdce0' >Gain(A) = Info(D) - Info_A(D) $ </span>\n",
    "\n",
    "$Gain(A) \\downarrow $  \n",
    "$\\Rightarrow Info_A(D) \\uparrow$   \n",
    "$\\Rightarrow$ 복잡도 $\\uparrow$  \n",
    "\n",
    "$\\Rightarrow Info_A(D)$가 가장 $\\downarrow$ , $Gain(A)\\uparrow$ 선택\n",
    "\n",
    "```\n",
    "if 데이터 집합에 있는 모든 아이템이 같은 라벨임:\n",
    "    분류 항목 표시를 반환 (Ex : buy_yes)\n",
    "\n",
    "else:\n",
    "    Find Best spllit_branch_attribute (Ex : attribute - age)\n",
    "    해당 Attribute를 기준으로 dataset 분할\n",
    "    Branch node 생성\n",
    "        for each Branch\n",
    "            branch_node.add(Recursive branch split)\n",
    "    return branch node\n",
    "```\n",
    "\n",
    "### ✔ Growing a Decsion Tree\n",
    "\n",
    "#### [ Age ] 👶🧑👧👵\n",
    "#####  **$Gain(age)$** $= Info(D) - Info_{age}(D)$\n",
    "##### **$Info_{age}(D)$** $= -\\sum_{j=1}^v  \\frac{\\vert D_j \\vert}{D} * Info(D_j)$\n",
    "\n",
    "$ j \\ni$ {youth, middle_age, senior}\n",
    "\n",
    "Ex) $D_j$ : $ D_{youth} $= 5명, middle_age : 4명, senior   : 5명\n",
    "\n",
    "##### **$Info_{age}(D)$**\n",
    "##### = $\\frac{5}{14} * (\\frac{2}{5} log_2 \\frac{2}{5} - \\frac{3}{5} log_2 \\frac{3}{5}) $ ;  age가 youth인 5명 중 yes : 2명, No : 3명\n",
    "##### $+ \\frac{4}{14} * (\\frac{4}{4} log_2 \\frac{4}{4} ) $\n",
    "##### $+ \\frac{5}{14} * (\\frac{3}{5} log_2 \\frac{3}{5} - \\frac{2}{5} log_2 \\frac{2}{5}) $\n",
    "\n",
    "##### **$Info(D)$** $= -\\frac{9}{14}(log_2 \\frac{9}{14}) -\\frac{5}{14}(log_2 \\frac{5}{14})$\n",
    "\n",
    "#### [ Credit ] 💳\n",
    "$Gain(Credit) = Info(D) - Info_{Credit}(D)$\n",
    "\n",
    "#### [ Income ] 💵💴💶\n",
    "$Gain(Income) = Info(D) - Info_{Income}(D)$\n",
    "\n",
    "#### [ Student ] 👩‍🎓👨‍🎓\n",
    "$Gain(Student) = Info(D) - Info_{Student}(D)$\n",
    "\n",
    "\n"
   ]
  },
  {
   "cell_type": "code",
   "execution_count": 1,
   "metadata": {},
   "outputs": [],
   "source": [
    "import pandas as pd\n",
    "import numpy as np"
   ]
  },
  {
   "cell_type": "code",
   "execution_count": 2,
   "metadata": {},
   "outputs": [
    {
     "data": {
      "text/html": [
       "<div>\n",
       "<style scoped>\n",
       "    .dataframe tbody tr th:only-of-type {\n",
       "        vertical-align: middle;\n",
       "    }\n",
       "\n",
       "    .dataframe tbody tr th {\n",
       "        vertical-align: top;\n",
       "    }\n",
       "\n",
       "    .dataframe thead th {\n",
       "        text-align: right;\n",
       "    }\n",
       "</style>\n",
       "<table border=\"1\" class=\"dataframe\">\n",
       "  <thead>\n",
       "    <tr style=\"text-align: right;\">\n",
       "      <th></th>\n",
       "      <th>RID</th>\n",
       "      <th>age</th>\n",
       "      <th>income</th>\n",
       "      <th>student</th>\n",
       "      <th>credit_rating</th>\n",
       "      <th>class_buys_computer</th>\n",
       "    </tr>\n",
       "  </thead>\n",
       "  <tbody>\n",
       "    <tr>\n",
       "      <th>0</th>\n",
       "      <td>1</td>\n",
       "      <td>youth</td>\n",
       "      <td>high</td>\n",
       "      <td>no</td>\n",
       "      <td>fair</td>\n",
       "      <td>no</td>\n",
       "    </tr>\n",
       "    <tr>\n",
       "      <th>1</th>\n",
       "      <td>2</td>\n",
       "      <td>youth</td>\n",
       "      <td>high</td>\n",
       "      <td>no</td>\n",
       "      <td>excellent</td>\n",
       "      <td>no</td>\n",
       "    </tr>\n",
       "    <tr>\n",
       "      <th>2</th>\n",
       "      <td>3</td>\n",
       "      <td>middle_aged</td>\n",
       "      <td>high</td>\n",
       "      <td>no</td>\n",
       "      <td>fair</td>\n",
       "      <td>yes</td>\n",
       "    </tr>\n",
       "    <tr>\n",
       "      <th>3</th>\n",
       "      <td>4</td>\n",
       "      <td>senior</td>\n",
       "      <td>medium</td>\n",
       "      <td>no</td>\n",
       "      <td>fair</td>\n",
       "      <td>yes</td>\n",
       "    </tr>\n",
       "    <tr>\n",
       "      <th>4</th>\n",
       "      <td>5</td>\n",
       "      <td>senior</td>\n",
       "      <td>low</td>\n",
       "      <td>yes</td>\n",
       "      <td>fair</td>\n",
       "      <td>yes</td>\n",
       "    </tr>\n",
       "    <tr>\n",
       "      <th>5</th>\n",
       "      <td>6</td>\n",
       "      <td>senior</td>\n",
       "      <td>low</td>\n",
       "      <td>yes</td>\n",
       "      <td>excellent</td>\n",
       "      <td>no</td>\n",
       "    </tr>\n",
       "    <tr>\n",
       "      <th>6</th>\n",
       "      <td>7</td>\n",
       "      <td>middle_aged</td>\n",
       "      <td>low</td>\n",
       "      <td>yes</td>\n",
       "      <td>excellent</td>\n",
       "      <td>yes</td>\n",
       "    </tr>\n",
       "    <tr>\n",
       "      <th>7</th>\n",
       "      <td>8</td>\n",
       "      <td>youth</td>\n",
       "      <td>medium</td>\n",
       "      <td>no</td>\n",
       "      <td>fair</td>\n",
       "      <td>no</td>\n",
       "    </tr>\n",
       "    <tr>\n",
       "      <th>8</th>\n",
       "      <td>9</td>\n",
       "      <td>youth</td>\n",
       "      <td>low</td>\n",
       "      <td>yes</td>\n",
       "      <td>fair</td>\n",
       "      <td>yes</td>\n",
       "    </tr>\n",
       "    <tr>\n",
       "      <th>9</th>\n",
       "      <td>10</td>\n",
       "      <td>senior</td>\n",
       "      <td>medium</td>\n",
       "      <td>yes</td>\n",
       "      <td>fair</td>\n",
       "      <td>yes</td>\n",
       "    </tr>\n",
       "    <tr>\n",
       "      <th>10</th>\n",
       "      <td>11</td>\n",
       "      <td>youth</td>\n",
       "      <td>medium</td>\n",
       "      <td>yes</td>\n",
       "      <td>excellent</td>\n",
       "      <td>yes</td>\n",
       "    </tr>\n",
       "    <tr>\n",
       "      <th>11</th>\n",
       "      <td>12</td>\n",
       "      <td>middle_aged</td>\n",
       "      <td>medium</td>\n",
       "      <td>no</td>\n",
       "      <td>excellent</td>\n",
       "      <td>yes</td>\n",
       "    </tr>\n",
       "    <tr>\n",
       "      <th>12</th>\n",
       "      <td>13</td>\n",
       "      <td>middle_aged</td>\n",
       "      <td>high</td>\n",
       "      <td>yes</td>\n",
       "      <td>fair</td>\n",
       "      <td>yes</td>\n",
       "    </tr>\n",
       "    <tr>\n",
       "      <th>13</th>\n",
       "      <td>14</td>\n",
       "      <td>senior</td>\n",
       "      <td>medium</td>\n",
       "      <td>no</td>\n",
       "      <td>excellent</td>\n",
       "      <td>no</td>\n",
       "    </tr>\n",
       "  </tbody>\n",
       "</table>\n",
       "</div>"
      ],
      "text/plain": [
       "    RID          age  income student credit_rating class_buys_computer\n",
       "0     1        youth    high      no          fair                  no\n",
       "1     2        youth    high      no     excellent                  no\n",
       "2     3  middle_aged    high      no          fair                 yes\n",
       "3     4       senior  medium      no          fair                 yes\n",
       "4     5       senior     low     yes          fair                 yes\n",
       "5     6       senior     low     yes     excellent                  no\n",
       "6     7  middle_aged     low     yes     excellent                 yes\n",
       "7     8        youth  medium      no          fair                  no\n",
       "8     9        youth     low     yes          fair                 yes\n",
       "9    10       senior  medium     yes          fair                 yes\n",
       "10   11        youth  medium     yes     excellent                 yes\n",
       "11   12  middle_aged  medium      no     excellent                 yes\n",
       "12   13  middle_aged    high     yes          fair                 yes\n",
       "13   14       senior  medium      no     excellent                  no"
      ]
     },
     "execution_count": 2,
     "metadata": {},
     "output_type": "execute_result"
    }
   ],
   "source": [
    "pd_data = pd.read_csv('https://raw.githubusercontent.com/AugustLONG/ML01/master/01decisiontree/AllElectronics.csv')\n",
    "pd_data.drop('RID', axis = 1)\n",
    "pd_data"
   ]
  },
  {
   "cell_type": "code",
   "execution_count": 3,
   "metadata": {},
   "outputs": [],
   "source": [
    "buy = pd_data.loc[pd_data['class_buys_computer'] == 'yes']\n",
    "not_buy = pd_data.loc[pd_data['class_buys_computer'] == 'no']"
   ]
  },
  {
   "cell_type": "code",
   "execution_count": 6,
   "metadata": {},
   "outputs": [
    {
     "data": {
      "text/html": [
       "<div>\n",
       "<style scoped>\n",
       "    .dataframe tbody tr th:only-of-type {\n",
       "        vertical-align: middle;\n",
       "    }\n",
       "\n",
       "    .dataframe tbody tr th {\n",
       "        vertical-align: top;\n",
       "    }\n",
       "\n",
       "    .dataframe thead th {\n",
       "        text-align: right;\n",
       "    }\n",
       "</style>\n",
       "<table border=\"1\" class=\"dataframe\">\n",
       "  <thead>\n",
       "    <tr style=\"text-align: right;\">\n",
       "      <th></th>\n",
       "      <th>RID</th>\n",
       "      <th>age</th>\n",
       "      <th>income</th>\n",
       "      <th>student</th>\n",
       "      <th>credit_rating</th>\n",
       "      <th>class_buys_computer</th>\n",
       "    </tr>\n",
       "  </thead>\n",
       "  <tbody>\n",
       "    <tr>\n",
       "      <th>2</th>\n",
       "      <td>3</td>\n",
       "      <td>middle_aged</td>\n",
       "      <td>high</td>\n",
       "      <td>no</td>\n",
       "      <td>fair</td>\n",
       "      <td>yes</td>\n",
       "    </tr>\n",
       "    <tr>\n",
       "      <th>3</th>\n",
       "      <td>4</td>\n",
       "      <td>senior</td>\n",
       "      <td>medium</td>\n",
       "      <td>no</td>\n",
       "      <td>fair</td>\n",
       "      <td>yes</td>\n",
       "    </tr>\n",
       "    <tr>\n",
       "      <th>4</th>\n",
       "      <td>5</td>\n",
       "      <td>senior</td>\n",
       "      <td>low</td>\n",
       "      <td>yes</td>\n",
       "      <td>fair</td>\n",
       "      <td>yes</td>\n",
       "    </tr>\n",
       "    <tr>\n",
       "      <th>6</th>\n",
       "      <td>7</td>\n",
       "      <td>middle_aged</td>\n",
       "      <td>low</td>\n",
       "      <td>yes</td>\n",
       "      <td>excellent</td>\n",
       "      <td>yes</td>\n",
       "    </tr>\n",
       "    <tr>\n",
       "      <th>8</th>\n",
       "      <td>9</td>\n",
       "      <td>youth</td>\n",
       "      <td>low</td>\n",
       "      <td>yes</td>\n",
       "      <td>fair</td>\n",
       "      <td>yes</td>\n",
       "    </tr>\n",
       "    <tr>\n",
       "      <th>9</th>\n",
       "      <td>10</td>\n",
       "      <td>senior</td>\n",
       "      <td>medium</td>\n",
       "      <td>yes</td>\n",
       "      <td>fair</td>\n",
       "      <td>yes</td>\n",
       "    </tr>\n",
       "    <tr>\n",
       "      <th>10</th>\n",
       "      <td>11</td>\n",
       "      <td>youth</td>\n",
       "      <td>medium</td>\n",
       "      <td>yes</td>\n",
       "      <td>excellent</td>\n",
       "      <td>yes</td>\n",
       "    </tr>\n",
       "    <tr>\n",
       "      <th>11</th>\n",
       "      <td>12</td>\n",
       "      <td>middle_aged</td>\n",
       "      <td>medium</td>\n",
       "      <td>no</td>\n",
       "      <td>excellent</td>\n",
       "      <td>yes</td>\n",
       "    </tr>\n",
       "    <tr>\n",
       "      <th>12</th>\n",
       "      <td>13</td>\n",
       "      <td>middle_aged</td>\n",
       "      <td>high</td>\n",
       "      <td>yes</td>\n",
       "      <td>fair</td>\n",
       "      <td>yes</td>\n",
       "    </tr>\n",
       "  </tbody>\n",
       "</table>\n",
       "</div>"
      ],
      "text/plain": [
       "    RID          age  income student credit_rating class_buys_computer\n",
       "2     3  middle_aged    high      no          fair                 yes\n",
       "3     4       senior  medium      no          fair                 yes\n",
       "4     5       senior     low     yes          fair                 yes\n",
       "6     7  middle_aged     low     yes     excellent                 yes\n",
       "8     9        youth     low     yes          fair                 yes\n",
       "9    10       senior  medium     yes          fair                 yes\n",
       "10   11        youth  medium     yes     excellent                 yes\n",
       "11   12  middle_aged  medium      no     excellent                 yes\n",
       "12   13  middle_aged    high     yes          fair                 yes"
      ]
     },
     "execution_count": 6,
     "metadata": {},
     "output_type": "execute_result"
    }
   ],
   "source": [
    "buy"
   ]
  },
  {
   "cell_type": "code",
   "execution_count": 7,
   "metadata": {},
   "outputs": [
    {
     "data": {
      "text/html": [
       "<div>\n",
       "<style scoped>\n",
       "    .dataframe tbody tr th:only-of-type {\n",
       "        vertical-align: middle;\n",
       "    }\n",
       "\n",
       "    .dataframe tbody tr th {\n",
       "        vertical-align: top;\n",
       "    }\n",
       "\n",
       "    .dataframe thead th {\n",
       "        text-align: right;\n",
       "    }\n",
       "</style>\n",
       "<table border=\"1\" class=\"dataframe\">\n",
       "  <thead>\n",
       "    <tr style=\"text-align: right;\">\n",
       "      <th></th>\n",
       "      <th>RID</th>\n",
       "      <th>age</th>\n",
       "      <th>income</th>\n",
       "      <th>student</th>\n",
       "      <th>credit_rating</th>\n",
       "      <th>class_buys_computer</th>\n",
       "    </tr>\n",
       "  </thead>\n",
       "  <tbody>\n",
       "    <tr>\n",
       "      <th>0</th>\n",
       "      <td>1</td>\n",
       "      <td>youth</td>\n",
       "      <td>high</td>\n",
       "      <td>no</td>\n",
       "      <td>fair</td>\n",
       "      <td>no</td>\n",
       "    </tr>\n",
       "    <tr>\n",
       "      <th>1</th>\n",
       "      <td>2</td>\n",
       "      <td>youth</td>\n",
       "      <td>high</td>\n",
       "      <td>no</td>\n",
       "      <td>excellent</td>\n",
       "      <td>no</td>\n",
       "    </tr>\n",
       "    <tr>\n",
       "      <th>5</th>\n",
       "      <td>6</td>\n",
       "      <td>senior</td>\n",
       "      <td>low</td>\n",
       "      <td>yes</td>\n",
       "      <td>excellent</td>\n",
       "      <td>no</td>\n",
       "    </tr>\n",
       "    <tr>\n",
       "      <th>7</th>\n",
       "      <td>8</td>\n",
       "      <td>youth</td>\n",
       "      <td>medium</td>\n",
       "      <td>no</td>\n",
       "      <td>fair</td>\n",
       "      <td>no</td>\n",
       "    </tr>\n",
       "    <tr>\n",
       "      <th>13</th>\n",
       "      <td>14</td>\n",
       "      <td>senior</td>\n",
       "      <td>medium</td>\n",
       "      <td>no</td>\n",
       "      <td>excellent</td>\n",
       "      <td>no</td>\n",
       "    </tr>\n",
       "  </tbody>\n",
       "</table>\n",
       "</div>"
      ],
      "text/plain": [
       "    RID     age  income student credit_rating class_buys_computer\n",
       "0     1   youth    high      no          fair                  no\n",
       "1     2   youth    high      no     excellent                  no\n",
       "5     6  senior     low     yes     excellent                  no\n",
       "7     8   youth  medium      no          fair                  no\n",
       "13   14  senior  medium      no     excellent                  no"
      ]
     },
     "execution_count": 7,
     "metadata": {},
     "output_type": "execute_result"
    }
   ],
   "source": [
    "not_buy"
   ]
  },
  {
   "cell_type": "code",
   "execution_count": 9,
   "metadata": {},
   "outputs": [
    {
     "data": {
      "text/plain": [
       "(array([0.64285714, 0.35714286]),\n",
       " array([-0.63742992, -1.48542683]),\n",
       " 0.9402859586706311)"
      ]
     },
     "execution_count": 9,
     "metadata": {},
     "output_type": "execute_result"
    }
   ],
   "source": [
    "x = np.array([len(buy) / len(pd_data), len(not_buy) / len(pd_data)])\n",
    "y = np.log2(x)\n",
    "\n",
    "info_all = -sum( x * y)\n",
    "\n",
    "x, y, info_all"
   ]
  },
  {
   "cell_type": "markdown",
   "metadata": {},
   "source": [
    "$Info(D)$ 함수화 해보기"
   ]
  },
  {
   "cell_type": "code",
   "execution_count": 5,
   "metadata": {},
   "outputs": [],
   "source": [
    "def get_info(df):\n",
    "    buy = df.loc[df['class_buys_computer'] == 'yes']\n",
    "    not_buy = df.loc[df['class_buys_computer'] == 'no']\n",
    "    x = np.array([len(buy) / len(df), len(not_buy) / len(df)])\n",
    "    y = np.log2(x[x!=0])\n",
    "\n",
    "    info_all = -sum( x[x!=0] * y)\n",
    "    return info_all"
   ]
  },
  {
   "cell_type": "code",
   "execution_count": 10,
   "metadata": {},
   "outputs": [
    {
     "data": {
      "text/plain": [
       "0.9402859586706311"
      ]
     },
     "execution_count": 10,
     "metadata": {},
     "output_type": "execute_result"
    }
   ],
   "source": [
    "get_info(pd_data)"
   ]
  },
  {
   "cell_type": "markdown",
   "metadata": {},
   "source": [
    "Attribute 별 information gain 구하기"
   ]
  },
  {
   "cell_type": "code",
   "execution_count": 18,
   "metadata": {},
   "outputs": [],
   "source": [
    "youth = pd_data.loc[pd_data['age'] == 'youth']\n",
    "senior = pd_data.loc[pd_data['age'] == 'senior']\n",
    "middle_aged = pd_data.loc[pd_data['age'] == 'middle_aged']"
   ]
  },
  {
   "cell_type": "code",
   "execution_count": 12,
   "metadata": {},
   "outputs": [
    {
     "data": {
      "text/html": [
       "<div>\n",
       "<style scoped>\n",
       "    .dataframe tbody tr th:only-of-type {\n",
       "        vertical-align: middle;\n",
       "    }\n",
       "\n",
       "    .dataframe tbody tr th {\n",
       "        vertical-align: top;\n",
       "    }\n",
       "\n",
       "    .dataframe thead th {\n",
       "        text-align: right;\n",
       "    }\n",
       "</style>\n",
       "<table border=\"1\" class=\"dataframe\">\n",
       "  <thead>\n",
       "    <tr style=\"text-align: right;\">\n",
       "      <th></th>\n",
       "      <th>RID</th>\n",
       "      <th>age</th>\n",
       "      <th>income</th>\n",
       "      <th>student</th>\n",
       "      <th>credit_rating</th>\n",
       "      <th>class_buys_computer</th>\n",
       "    </tr>\n",
       "  </thead>\n",
       "  <tbody>\n",
       "    <tr>\n",
       "      <th>0</th>\n",
       "      <td>1</td>\n",
       "      <td>youth</td>\n",
       "      <td>high</td>\n",
       "      <td>no</td>\n",
       "      <td>fair</td>\n",
       "      <td>no</td>\n",
       "    </tr>\n",
       "    <tr>\n",
       "      <th>1</th>\n",
       "      <td>2</td>\n",
       "      <td>youth</td>\n",
       "      <td>high</td>\n",
       "      <td>no</td>\n",
       "      <td>excellent</td>\n",
       "      <td>no</td>\n",
       "    </tr>\n",
       "    <tr>\n",
       "      <th>7</th>\n",
       "      <td>8</td>\n",
       "      <td>youth</td>\n",
       "      <td>medium</td>\n",
       "      <td>no</td>\n",
       "      <td>fair</td>\n",
       "      <td>no</td>\n",
       "    </tr>\n",
       "    <tr>\n",
       "      <th>8</th>\n",
       "      <td>9</td>\n",
       "      <td>youth</td>\n",
       "      <td>low</td>\n",
       "      <td>yes</td>\n",
       "      <td>fair</td>\n",
       "      <td>yes</td>\n",
       "    </tr>\n",
       "    <tr>\n",
       "      <th>10</th>\n",
       "      <td>11</td>\n",
       "      <td>youth</td>\n",
       "      <td>medium</td>\n",
       "      <td>yes</td>\n",
       "      <td>excellent</td>\n",
       "      <td>yes</td>\n",
       "    </tr>\n",
       "  </tbody>\n",
       "</table>\n",
       "</div>"
      ],
      "text/plain": [
       "    RID    age  income student credit_rating class_buys_computer\n",
       "0     1  youth    high      no          fair                  no\n",
       "1     2  youth    high      no     excellent                  no\n",
       "7     8  youth  medium      no          fair                  no\n",
       "8     9  youth     low     yes          fair                 yes\n",
       "10   11  youth  medium     yes     excellent                 yes"
      ]
     },
     "execution_count": 12,
     "metadata": {},
     "output_type": "execute_result"
    }
   ],
   "source": [
    "youth"
   ]
  },
  {
   "cell_type": "markdown",
   "metadata": {},
   "source": [
    "age = youth일 때의 Entropy"
   ]
  },
  {
   "cell_type": "code",
   "execution_count": 15,
   "metadata": {},
   "outputs": [
    {
     "data": {
      "text/plain": [
       "0.9709505944546686"
      ]
     },
     "execution_count": 15,
     "metadata": {},
     "output_type": "execute_result"
    }
   ],
   "source": [
    "get_info(youth)"
   ]
  },
  {
   "cell_type": "code",
   "execution_count": 13,
   "metadata": {},
   "outputs": [
    {
     "data": {
      "text/html": [
       "<div>\n",
       "<style scoped>\n",
       "    .dataframe tbody tr th:only-of-type {\n",
       "        vertical-align: middle;\n",
       "    }\n",
       "\n",
       "    .dataframe tbody tr th {\n",
       "        vertical-align: top;\n",
       "    }\n",
       "\n",
       "    .dataframe thead th {\n",
       "        text-align: right;\n",
       "    }\n",
       "</style>\n",
       "<table border=\"1\" class=\"dataframe\">\n",
       "  <thead>\n",
       "    <tr style=\"text-align: right;\">\n",
       "      <th></th>\n",
       "      <th>RID</th>\n",
       "      <th>age</th>\n",
       "      <th>income</th>\n",
       "      <th>student</th>\n",
       "      <th>credit_rating</th>\n",
       "      <th>class_buys_computer</th>\n",
       "    </tr>\n",
       "  </thead>\n",
       "  <tbody>\n",
       "    <tr>\n",
       "      <th>3</th>\n",
       "      <td>4</td>\n",
       "      <td>senior</td>\n",
       "      <td>medium</td>\n",
       "      <td>no</td>\n",
       "      <td>fair</td>\n",
       "      <td>yes</td>\n",
       "    </tr>\n",
       "    <tr>\n",
       "      <th>4</th>\n",
       "      <td>5</td>\n",
       "      <td>senior</td>\n",
       "      <td>low</td>\n",
       "      <td>yes</td>\n",
       "      <td>fair</td>\n",
       "      <td>yes</td>\n",
       "    </tr>\n",
       "    <tr>\n",
       "      <th>5</th>\n",
       "      <td>6</td>\n",
       "      <td>senior</td>\n",
       "      <td>low</td>\n",
       "      <td>yes</td>\n",
       "      <td>excellent</td>\n",
       "      <td>no</td>\n",
       "    </tr>\n",
       "    <tr>\n",
       "      <th>9</th>\n",
       "      <td>10</td>\n",
       "      <td>senior</td>\n",
       "      <td>medium</td>\n",
       "      <td>yes</td>\n",
       "      <td>fair</td>\n",
       "      <td>yes</td>\n",
       "    </tr>\n",
       "    <tr>\n",
       "      <th>13</th>\n",
       "      <td>14</td>\n",
       "      <td>senior</td>\n",
       "      <td>medium</td>\n",
       "      <td>no</td>\n",
       "      <td>excellent</td>\n",
       "      <td>no</td>\n",
       "    </tr>\n",
       "  </tbody>\n",
       "</table>\n",
       "</div>"
      ],
      "text/plain": [
       "    RID     age  income student credit_rating class_buys_computer\n",
       "3     4  senior  medium      no          fair                 yes\n",
       "4     5  senior     low     yes          fair                 yes\n",
       "5     6  senior     low     yes     excellent                  no\n",
       "9    10  senior  medium     yes          fair                 yes\n",
       "13   14  senior  medium      no     excellent                  no"
      ]
     },
     "execution_count": 13,
     "metadata": {},
     "output_type": "execute_result"
    }
   ],
   "source": [
    "senior"
   ]
  },
  {
   "cell_type": "code",
   "execution_count": 16,
   "metadata": {},
   "outputs": [
    {
     "data": {
      "text/plain": [
       "0.9709505944546686"
      ]
     },
     "execution_count": 16,
     "metadata": {},
     "output_type": "execute_result"
    }
   ],
   "source": [
    "get_info(senior)"
   ]
  },
  {
   "cell_type": "code",
   "execution_count": 19,
   "metadata": {},
   "outputs": [
    {
     "data": {
      "text/html": [
       "<div>\n",
       "<style scoped>\n",
       "    .dataframe tbody tr th:only-of-type {\n",
       "        vertical-align: middle;\n",
       "    }\n",
       "\n",
       "    .dataframe tbody tr th {\n",
       "        vertical-align: top;\n",
       "    }\n",
       "\n",
       "    .dataframe thead th {\n",
       "        text-align: right;\n",
       "    }\n",
       "</style>\n",
       "<table border=\"1\" class=\"dataframe\">\n",
       "  <thead>\n",
       "    <tr style=\"text-align: right;\">\n",
       "      <th></th>\n",
       "      <th>RID</th>\n",
       "      <th>age</th>\n",
       "      <th>income</th>\n",
       "      <th>student</th>\n",
       "      <th>credit_rating</th>\n",
       "      <th>class_buys_computer</th>\n",
       "    </tr>\n",
       "  </thead>\n",
       "  <tbody>\n",
       "    <tr>\n",
       "      <th>2</th>\n",
       "      <td>3</td>\n",
       "      <td>middle_aged</td>\n",
       "      <td>high</td>\n",
       "      <td>no</td>\n",
       "      <td>fair</td>\n",
       "      <td>yes</td>\n",
       "    </tr>\n",
       "    <tr>\n",
       "      <th>6</th>\n",
       "      <td>7</td>\n",
       "      <td>middle_aged</td>\n",
       "      <td>low</td>\n",
       "      <td>yes</td>\n",
       "      <td>excellent</td>\n",
       "      <td>yes</td>\n",
       "    </tr>\n",
       "    <tr>\n",
       "      <th>11</th>\n",
       "      <td>12</td>\n",
       "      <td>middle_aged</td>\n",
       "      <td>medium</td>\n",
       "      <td>no</td>\n",
       "      <td>excellent</td>\n",
       "      <td>yes</td>\n",
       "    </tr>\n",
       "    <tr>\n",
       "      <th>12</th>\n",
       "      <td>13</td>\n",
       "      <td>middle_aged</td>\n",
       "      <td>high</td>\n",
       "      <td>yes</td>\n",
       "      <td>fair</td>\n",
       "      <td>yes</td>\n",
       "    </tr>\n",
       "  </tbody>\n",
       "</table>\n",
       "</div>"
      ],
      "text/plain": [
       "    RID          age  income student credit_rating class_buys_computer\n",
       "2     3  middle_aged    high      no          fair                 yes\n",
       "6     7  middle_aged     low     yes     excellent                 yes\n",
       "11   12  middle_aged  medium      no     excellent                 yes\n",
       "12   13  middle_aged    high     yes          fair                 yes"
      ]
     },
     "execution_count": 19,
     "metadata": {},
     "output_type": "execute_result"
    }
   ],
   "source": [
    "middle_aged"
   ]
  },
  {
   "cell_type": "code",
   "execution_count": 20,
   "metadata": {},
   "outputs": [
    {
     "data": {
      "text/plain": [
       "-0.0"
      ]
     },
     "execution_count": 20,
     "metadata": {},
     "output_type": "execute_result"
    }
   ],
   "source": [
    "get_info(middle_aged)"
   ]
  },
  {
   "cell_type": "markdown",
   "metadata": {},
   "source": [
    "각 속성별 Entropy 함수화하기"
   ]
  },
  {
   "cell_type": "code",
   "execution_count": 21,
   "metadata": {},
   "outputs": [],
   "source": [
    "def get_attribute_info(df, attribute_name) :\n",
    "    # Ex) attribute_name : age\n",
    "    \n",
    "    attribute_values = df[attribute_name].unique()\n",
    "    # attribute_values = youth, middle_age, senior\n",
    "    print(attribute_values)\n",
    "    \n",
    "    get_infos = []\n",
    "\n",
    "    for value in attribute_values:\n",
    "        split_df = df.loc[df[attribute_name] == value]\n",
    "\n",
    "        get_infos.append( (len(split_df) / len(df)) * get_info(split_df))\n",
    "\n",
    "    return sum(get_infos)"
   ]
  },
  {
   "cell_type": "code",
   "execution_count": 22,
   "metadata": {},
   "outputs": [
    {
     "name": "stdout",
     "output_type": "stream",
     "text": [
      "['youth' 'middle_aged' 'senior']\n"
     ]
    },
    {
     "data": {
      "text/plain": [
       "0.6935361388961918"
      ]
     },
     "execution_count": 22,
     "metadata": {},
     "output_type": "execute_result"
    }
   ],
   "source": [
    "get_attribute_info(pd_data, 'age')"
   ]
  },
  {
   "cell_type": "markdown",
   "metadata": {},
   "source": [
    "### 최종적으로 Information Gain의 값\n",
    "$ Gain(age) = Info(D) - Info_{age}(D) $"
   ]
  },
  {
   "cell_type": "code",
   "execution_count": 23,
   "metadata": {},
   "outputs": [
    {
     "name": "stdout",
     "output_type": "stream",
     "text": [
      "['youth' 'middle_aged' 'senior']\n"
     ]
    },
    {
     "data": {
      "text/plain": [
       "0.24674981977443933"
      ]
     },
     "execution_count": 23,
     "metadata": {},
     "output_type": "execute_result"
    }
   ],
   "source": [
    "get_info(pd_data) - get_attribute_info(pd_data, 'age')"
   ]
  },
  {
   "cell_type": "markdown",
   "metadata": {},
   "source": [
    "$ Gain(credit) = Info(D) - Info_{credit}(D) $"
   ]
  },
  {
   "cell_type": "code",
   "execution_count": 27,
   "metadata": {},
   "outputs": [
    {
     "name": "stdout",
     "output_type": "stream",
     "text": [
      "['fair' 'excellent']\n"
     ]
    },
    {
     "data": {
      "text/plain": [
       "0.04812703040826949"
      ]
     },
     "execution_count": 27,
     "metadata": {},
     "output_type": "execute_result"
    }
   ],
   "source": [
    "get_info(pd_data) - get_attribute_info(pd_data, 'credit_rating')"
   ]
  },
  {
   "cell_type": "markdown",
   "metadata": {},
   "source": [
    "$ Gain(income) = Info(D) - Info_{income}(D) $"
   ]
  },
  {
   "cell_type": "code",
   "execution_count": 24,
   "metadata": {},
   "outputs": [
    {
     "name": "stdout",
     "output_type": "stream",
     "text": [
      "['high' 'medium' 'low']\n"
     ]
    },
    {
     "data": {
      "text/plain": [
       "0.02922256565895487"
      ]
     },
     "execution_count": 24,
     "metadata": {},
     "output_type": "execute_result"
    }
   ],
   "source": [
    "get_info(pd_data) - get_attribute_info(pd_data, 'income')"
   ]
  },
  {
   "cell_type": "markdown",
   "metadata": {},
   "source": [
    "$ Gain(student) = Info(D) - Info_{student}(D) $"
   ]
  },
  {
   "cell_type": "code",
   "execution_count": 25,
   "metadata": {},
   "outputs": [
    {
     "name": "stdout",
     "output_type": "stream",
     "text": [
      "['no' 'yes']\n"
     ]
    },
    {
     "data": {
      "text/plain": [
       "0.15183550136234159"
      ]
     },
     "execution_count": 25,
     "metadata": {},
     "output_type": "execute_result"
    }
   ],
   "source": [
    "get_info(pd_data) - get_attribute_info(pd_data, 'student')"
   ]
  },
  {
   "cell_type": "markdown",
   "metadata": {},
   "source": [
    "위의 4가지 속성 중 가장 큰 Gain의 Attribute는 Age인 것을 볼 수 있다.  \n",
    "= Age의 Entropy가 가장 작다 = 헷가리는 것이 작다. = 먼저 분류할 Attribute\n",
    "\n",
    "![branch](https://ifh.cc/g/JXRamt.jpg)"
   ]
  },
  {
   "cell_type": "code",
   "execution_count": null,
   "metadata": {},
   "outputs": [],
   "source": []
  }
 ],
 "metadata": {
  "kernelspec": {
   "display_name": "Python 3.10.4 ('ml')",
   "language": "python",
   "name": "python3"
  },
  "language_info": {
   "codemirror_mode": {
    "name": "ipython",
    "version": 3
   },
   "file_extension": ".py",
   "mimetype": "text/x-python",
   "name": "python",
   "nbconvert_exporter": "python",
   "pygments_lexer": "ipython3",
   "version": "3.10.4"
  },
  "orig_nbformat": 4,
  "vscode": {
   "interpreter": {
    "hash": "054003ddc8bb90967440df83eb0c4b5179a46b3dd7ffab730dd8d113d29b604c"
   }
  }
 },
 "nbformat": 4,
 "nbformat_minor": 2
}

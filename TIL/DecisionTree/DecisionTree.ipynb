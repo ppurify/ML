{
 "cells": [
  {
   "cell_type": "markdown",
   "metadata": {},
   "source": [
    "## 0️⃣ Overview\n",
    "\n",
    "#### 머신러닝의 학습 방법들\n",
    "\n",
    "- Gradient descent based learning\n",
    "\n",
    "- Probability theory based learning\n",
    "\n",
    "- <span style = 'background-color :#ffdce0' >Information theory based learning</span>  \n",
    "    : 이 방법을 사용하는 것이 Decision Tree  \n",
    "    \n",
    "    Ex) Akinator : 스무고개로 유명인, 캐릭터를 맞추는 게임, 트리형태로 구성되어 있음\n",
    "    \n",
    "- Distance simlarity based learning\n",
    "\n",
    "### ✔ Decision Tree Classifier\n",
    "- Data를 가장 잘 구분할 수 있는 Tree를 구성함\n",
    "- Data Y에 따라서 Y를 잘 표현할 수 있는 트리를 구성해서 분류해나가는 기법\n",
    "\n",
    "### ✔ Decision Tree 만들기\n",
    "- 어떤 질문(Attribute)이 가장 많은 해답(Y)을 줄 것인가?\n",
    "- 결국 어떤 질문은 답의 모호성을 줄여줄 것인가?\n",
    "- 문제를 통해서 splitting point을 설정  \n",
    "    -> 남은 정보로 splitting point를 설정하는 식\n",
    "\n",
    "Ex) 모호성을 줄여주는 예시  \n",
    "- 답이 딱딱 나누어 떨어짐 => 모호성을 줄여줌\n",
    "- 정확한 성능을 나타낼 수 있는 Tree\n",
    "\n",
    "![ex1](./img/Ex1.PNG)\n",
    "    "
   ]
  },
  {
   "cell_type": "markdown",
   "metadata": {},
   "source": [
    "## 1️⃣ Information theory - Entropy\n",
    "\n",
    "### ✔ Entropy\n",
    "- 목적 달성을 위한 경우의 수를 정량적으로 표현하는 수치  \n",
    "    $\\Rightarrow$ 작을 수록 경우의 수가 적음\n",
    "\n",
    "- Higher $\\uparrow$  Entropy $\\Rightarrow$ Higher uncertainty 불확실성 증가 $\\uparrow$\n",
    "- Lower $\\downarrow$ Entropy $\\Rightarrow$ Lower uncertainty 불확실성 감소 $\\downarrow$\n",
    "\n",
    "<span style = 'color : red'>Entropy가 작으면 얻을 수 있는 정보가 많다, 명확하다</span>\n",
    "\n",
    "- $p_i$가 클수록 사건이 일어날 확률이 명확하다\n",
    "\n",
    "##### $ h(D) = -\\sum_{i=1}^m p_i log_2(p_i)$\n",
    "\n",
    "h(D)의 값이 0에 가까워지면 Entropy는 $\\downarrow$  \n",
    "$\\Rightarrow$ 불확실성이 $\\downarrow$\n",
    "\n",
    "확률이 1 $\\rightarrow$ Entropy = 0  \n",
    "확률이 작을수록 Entropy는 커진다  \n",
    "\n",
    "![Entropy](./img/Entropy.PNG)\n",
    "\n",
    "Ex) $m$ = 1,2,3  \n",
    "$p_1 = 1$ $\\Rightarrow$ $p_2 = p_3 = 0$  \n",
    "\n",
    "$\\Rightarrow$ h(D)에는 $p_1$만 남게되고, $h(D) = - p_1 log_2(p_1)$ \n",
    "\n",
    "이때, $log_2(p_1) = 0, -log_2(p_i) = 0 \\Rightarrow h(D) = 0$  \n",
    "$\\Rightarrow$ Lower Entropy, Lower uncertainty\n",
    "\n",
    "⚠ $p_i$의 값이 다양할 경우 $-log_2(p_i)$의 값은 증가 $\\uparrow$  \n",
    "$\\Rightarrow$ 불확실성 $\\uparrow$\n",
    "\n",
    "Ex) No : 5개, Yes : 9개  \n",
    "\n",
    "$\\rightarrow h(D) = -\\frac{9}{14} log_2\\frac{9}{14} + -\\frac{5}{14} log_2\\frac{5}{14}  \n",
    "= 0.940bits $ "
   ]
  },
  {
   "cell_type": "code",
   "execution_count": 345,
   "metadata": {},
   "outputs": [],
   "source": [
    "import numpy as np"
   ]
  },
  {
   "cell_type": "code",
   "execution_count": 346,
   "metadata": {},
   "outputs": [
    {
     "data": {
      "text/plain": [
       "0.9402859586706311"
      ]
     },
     "execution_count": 346,
     "metadata": {},
     "output_type": "execute_result"
    }
   ],
   "source": [
    "x = np.array([9/14, 5/14])\n",
    "y = np.log2(x)\n",
    "\n",
    "-sum(x*y)"
   ]
  },
  {
   "cell_type": "markdown",
   "metadata": {},
   "source": [
    "## 2️⃣ Algorithms of Decision Tree\n",
    "- Decision Tree 만드는 것을 시키는 알고리즘 필요\n",
    "\n",
    "- 어떻게 하면 가장 잘 분기(branch)를 만들수 있는가?\n",
    "\n",
    "- Data의 attribute를 기준으로 분기 생성 (어떤기준으로 나눌지)\n",
    "\n",
    "- 어떤 attribute를 기준으로 했을 때 가장 Entropy가 작은가?\n",
    "\n",
    "- 하나를 자른 후에 그 다음은 어떻게 할 것인가? \n",
    "\n",
    "- Decision Tree는 재귀적으로 생김  \n",
    ": 큰 Attribute에서 sub attribute로 나눔\n",
    "\n",
    "- 대산 라벨에 대해 어떤 Attribute가 더 확실한 정보를 제공하고 있는가?로 branch attribute를 선택\n",
    "\n",
    "- 확실한 정보의 선택 기준은 알고리즘 별로 차이 발생\n",
    "\n",
    "- Tree 생성 후 pruning을 통해 Tree generalization 시행  \n",
    "( pruning : Overfitting을 방지하기 위해 가지치기하는 거 )\n",
    "\n",
    "- 일반적으로 효율을 위해 Binary Tree 사용\n",
    "\n",
    "### ✔ Decision Tree의 특징\n",
    "- 비교적 간단, <span style = 'color : blue'>직관적으로 결과 표현</span>\n",
    "- 훈련시간이 길고 메모리 공간을 많이 사용\n",
    "- Top-down, Recursive, Divide and Conquer 기법  \n",
    "Top-down : 위에서 아래로 내려가는 구조  \n",
    "Recursive : 재귀적   \n",
    "Divide and Conquer : 나눈 후에 또 다시 나누는 구조  \n",
    "\n",
    "- Greedy 알고리즘 $\\rightarrow$ 부분 최적화  \n",
    ": 전체 optimization이 아닌 현재의 optimization을 찾음  \n",
    "Ex) 주황에서도 최적화, 파랑에서도 최적화됨\n",
    "\n",
    "![ex2](./img/Ex2.png)\n",
    "\n",
    "### 💁‍♀️ Decision Tree의 장점\n",
    "- 트리의 상단 부분 attribute들이 가장 중요한 예측변수  \n",
    "$\\Rightarrow$ attribute 선택 기법으로도 활용 가능\n",
    "\n",
    "- Attribute의 scaling 필요 X\n",
    "- 관측치의 절대값이 아닌 순서가 중요  \n",
    "$\\Rightarrow$ Outlier에 이점  \n",
    "(Outlier : 정규분포에서 양극단에 있는 거)\n",
    "\n",
    "- 자동적 변수 부분 선택 $\\Leftarrow$ Tree Pruning \n",
    "\n",
    "### ✔ Algorithms of Decision Tree\n",
    "- 크게 두가지 형태의 decision tree 알고리즘 존재  \n",
    "    : 1. ID3, 2. CART\n",
    "\n",
    "- 알고리즘 별 attribute branch 방법이 다름\n",
    "- ID3 $\\rightarrow$ C4.5(Ross Quinlan), CART\n",
    "- 연속형 변수를 위한 regression tree도 존재 "
   ]
  },
  {
   "cell_type": "markdown",
   "metadata": {},
   "source": [
    "## 3️⃣ ID3 & Information Gain\n",
    "\n",
    "### ✔ Information Gain\n",
    "- Entropy 함수를 도입하여 branch splitting\n",
    "- Information Gain  \n",
    ": Entropy를 사용하여 속성별 분류시 Impurity를 측정하는 지표\n",
    "\n",
    "- (전체 Entropy - 속성별 Entropy)로 속셩별 Information Gain을 계산  \n",
    "속성별 Entropy $\\uparrow$ $\\Rightarrow$ 복잡도 $\\uparrow$  \n",
    "\n",
    "$\\Rightarrow$ 속성별 Entropy가 $\\downarrow$ 속성을 선택해서 분기   \n",
    "(가장 명확하게 데이터를 나눌 수 있음)\n",
    "\n",
    "#### <span style = 'color : green'> 전체 데이터 D의 정보량 ( 전체 Information Gain )</span>\n",
    "#### $Info(D) = -\\sum_{i=1}^n P_i log_2(p_i)$\n",
    "\n",
    "#### <span style = 'color : green'> 속성 A로 분류시 정보량 ( 속성 A의 Information Gain )</span>\n",
    "#### $Info_A(D) = -\\sum_{j=1}^v  \\frac{\\vert D_j \\vert}{D} * Info(D_j)$\n",
    "( j : 속성 A의 label,  Ex) j = red, blue )\n",
    "\n",
    "#### <span style = 'color : green'> 속성 A의 정보 소득 </span>\n",
    "#### <span style = 'background-color :#ffdce0' > $ Gain(A) = Info(D) - Info_A(D) $ </span>\n",
    "\n",
    "$Gain(A) \\downarrow $  \n",
    "$\\Rightarrow Info_A(D) \\uparrow$   \n",
    "$\\Rightarrow$ 복잡도 $\\uparrow$  \n",
    "\n",
    "$\\Rightarrow Info_A(D)$가 가장 $\\downarrow$ , $Gain(A)\\uparrow$ 선택\n",
    "\n",
    "```\n",
    "if 데이터 집합에 있는 모든 아이템이 같은 라벨임:\n",
    "    분류 항목 표시를 반환 (Ex : buy_yes)\n",
    "\n",
    "else:\n",
    "    Find Best spllit_branch_attribute (Ex : attribute - age)\n",
    "    해당 Attribute를 기준으로 dataset 분할\n",
    "    Branch node 생성\n",
    "        for each Branch\n",
    "            branch_node.add(Recursive branch split)\n",
    "    return branch node\n",
    "```\n",
    "\n",
    "### ✔ Growing a Decsion Tree\n",
    "\n",
    "#### [ Age ] 👶🧑👧👵\n",
    "#####  **$Gain(age)$** $= Info(D) - Info_{age}(D)$\n",
    "##### **$Info_{age}(D)$** $= -\\sum_{j=1}^v  \\frac{\\vert D_j \\vert}{D} * Info(D_j)$\n",
    "\n",
    "$ j \\ni$ {youth, middle_age, senior}\n",
    "\n",
    "Ex) $D_j$ : $ D_{youth} $= 5명, middle_age : 4명, senior   : 5명\n",
    "\n",
    "##### **$Info_{age}(D)$**\n",
    "##### = $\\frac{5}{14} * (\\frac{2}{5} log_2 \\frac{2}{5} - \\frac{3}{5} log_2 \\frac{3}{5}) $ ;  age가 youth인 5명 중 yes : 2명, No : 3명\n",
    "##### $+ \\frac{4}{14} * (\\frac{4}{4} log_2 \\frac{4}{4} ) $\n",
    "##### $+ \\frac{5}{14} * (\\frac{3}{5} log_2 \\frac{3}{5} - \\frac{2}{5} log_2 \\frac{2}{5}) $\n",
    "\n",
    "##### **$Info(D)$** $= -\\frac{9}{14}(log_2 \\frac{9}{14}) -\\frac{5}{14}(log_2 \\frac{5}{14})$\n",
    "\n",
    "#### [ Credit ] 💳\n",
    "$Gain(Credit) = Info(D) - Info_{Credit}(D)$\n",
    "\n",
    "#### [ Income ] 💵💴💶\n",
    "$Gain(Income) = Info(D) - Info_{Income}(D)$\n",
    "\n",
    "#### [ Student ] 👩‍🎓👨‍🎓\n",
    "$Gain(Student) = Info(D) - Info_{Student}(D)$\n",
    "\n",
    "\n"
   ]
  },
  {
   "cell_type": "code",
   "execution_count": 347,
   "metadata": {},
   "outputs": [],
   "source": [
    "import pandas as pd\n",
    "import numpy as np"
   ]
  },
  {
   "cell_type": "code",
   "execution_count": 348,
   "metadata": {},
   "outputs": [
    {
     "data": {
      "text/html": [
       "<div>\n",
       "<style scoped>\n",
       "    .dataframe tbody tr th:only-of-type {\n",
       "        vertical-align: middle;\n",
       "    }\n",
       "\n",
       "    .dataframe tbody tr th {\n",
       "        vertical-align: top;\n",
       "    }\n",
       "\n",
       "    .dataframe thead th {\n",
       "        text-align: right;\n",
       "    }\n",
       "</style>\n",
       "<table border=\"1\" class=\"dataframe\">\n",
       "  <thead>\n",
       "    <tr style=\"text-align: right;\">\n",
       "      <th></th>\n",
       "      <th>RID</th>\n",
       "      <th>age</th>\n",
       "      <th>income</th>\n",
       "      <th>student</th>\n",
       "      <th>credit_rating</th>\n",
       "      <th>class_buys_computer</th>\n",
       "    </tr>\n",
       "  </thead>\n",
       "  <tbody>\n",
       "    <tr>\n",
       "      <th>0</th>\n",
       "      <td>1</td>\n",
       "      <td>youth</td>\n",
       "      <td>high</td>\n",
       "      <td>no</td>\n",
       "      <td>fair</td>\n",
       "      <td>no</td>\n",
       "    </tr>\n",
       "    <tr>\n",
       "      <th>1</th>\n",
       "      <td>2</td>\n",
       "      <td>youth</td>\n",
       "      <td>high</td>\n",
       "      <td>no</td>\n",
       "      <td>excellent</td>\n",
       "      <td>no</td>\n",
       "    </tr>\n",
       "    <tr>\n",
       "      <th>2</th>\n",
       "      <td>3</td>\n",
       "      <td>middle_aged</td>\n",
       "      <td>high</td>\n",
       "      <td>no</td>\n",
       "      <td>fair</td>\n",
       "      <td>yes</td>\n",
       "    </tr>\n",
       "    <tr>\n",
       "      <th>3</th>\n",
       "      <td>4</td>\n",
       "      <td>senior</td>\n",
       "      <td>medium</td>\n",
       "      <td>no</td>\n",
       "      <td>fair</td>\n",
       "      <td>yes</td>\n",
       "    </tr>\n",
       "    <tr>\n",
       "      <th>4</th>\n",
       "      <td>5</td>\n",
       "      <td>senior</td>\n",
       "      <td>low</td>\n",
       "      <td>yes</td>\n",
       "      <td>fair</td>\n",
       "      <td>yes</td>\n",
       "    </tr>\n",
       "    <tr>\n",
       "      <th>5</th>\n",
       "      <td>6</td>\n",
       "      <td>senior</td>\n",
       "      <td>low</td>\n",
       "      <td>yes</td>\n",
       "      <td>excellent</td>\n",
       "      <td>no</td>\n",
       "    </tr>\n",
       "    <tr>\n",
       "      <th>6</th>\n",
       "      <td>7</td>\n",
       "      <td>middle_aged</td>\n",
       "      <td>low</td>\n",
       "      <td>yes</td>\n",
       "      <td>excellent</td>\n",
       "      <td>yes</td>\n",
       "    </tr>\n",
       "    <tr>\n",
       "      <th>7</th>\n",
       "      <td>8</td>\n",
       "      <td>youth</td>\n",
       "      <td>medium</td>\n",
       "      <td>no</td>\n",
       "      <td>fair</td>\n",
       "      <td>no</td>\n",
       "    </tr>\n",
       "    <tr>\n",
       "      <th>8</th>\n",
       "      <td>9</td>\n",
       "      <td>youth</td>\n",
       "      <td>low</td>\n",
       "      <td>yes</td>\n",
       "      <td>fair</td>\n",
       "      <td>yes</td>\n",
       "    </tr>\n",
       "    <tr>\n",
       "      <th>9</th>\n",
       "      <td>10</td>\n",
       "      <td>senior</td>\n",
       "      <td>medium</td>\n",
       "      <td>yes</td>\n",
       "      <td>fair</td>\n",
       "      <td>yes</td>\n",
       "    </tr>\n",
       "    <tr>\n",
       "      <th>10</th>\n",
       "      <td>11</td>\n",
       "      <td>youth</td>\n",
       "      <td>medium</td>\n",
       "      <td>yes</td>\n",
       "      <td>excellent</td>\n",
       "      <td>yes</td>\n",
       "    </tr>\n",
       "    <tr>\n",
       "      <th>11</th>\n",
       "      <td>12</td>\n",
       "      <td>middle_aged</td>\n",
       "      <td>medium</td>\n",
       "      <td>no</td>\n",
       "      <td>excellent</td>\n",
       "      <td>yes</td>\n",
       "    </tr>\n",
       "    <tr>\n",
       "      <th>12</th>\n",
       "      <td>13</td>\n",
       "      <td>middle_aged</td>\n",
       "      <td>high</td>\n",
       "      <td>yes</td>\n",
       "      <td>fair</td>\n",
       "      <td>yes</td>\n",
       "    </tr>\n",
       "    <tr>\n",
       "      <th>13</th>\n",
       "      <td>14</td>\n",
       "      <td>senior</td>\n",
       "      <td>medium</td>\n",
       "      <td>no</td>\n",
       "      <td>excellent</td>\n",
       "      <td>no</td>\n",
       "    </tr>\n",
       "  </tbody>\n",
       "</table>\n",
       "</div>"
      ],
      "text/plain": [
       "    RID          age  income student credit_rating class_buys_computer\n",
       "0     1        youth    high      no          fair                  no\n",
       "1     2        youth    high      no     excellent                  no\n",
       "2     3  middle_aged    high      no          fair                 yes\n",
       "3     4       senior  medium      no          fair                 yes\n",
       "4     5       senior     low     yes          fair                 yes\n",
       "5     6       senior     low     yes     excellent                  no\n",
       "6     7  middle_aged     low     yes     excellent                 yes\n",
       "7     8        youth  medium      no          fair                  no\n",
       "8     9        youth     low     yes          fair                 yes\n",
       "9    10       senior  medium     yes          fair                 yes\n",
       "10   11        youth  medium     yes     excellent                 yes\n",
       "11   12  middle_aged  medium      no     excellent                 yes\n",
       "12   13  middle_aged    high     yes          fair                 yes\n",
       "13   14       senior  medium      no     excellent                  no"
      ]
     },
     "execution_count": 348,
     "metadata": {},
     "output_type": "execute_result"
    }
   ],
   "source": [
    "pd_data = pd.read_csv('https://raw.githubusercontent.com/AugustLONG/ML01/master/01decisiontree/AllElectronics.csv')\n",
    "pd_data.drop('RID', axis = 1)\n",
    "pd_data"
   ]
  },
  {
   "cell_type": "code",
   "execution_count": 349,
   "metadata": {},
   "outputs": [],
   "source": [
    "buy = pd_data.loc[pd_data['class_buys_computer'] == 'yes']\n",
    "not_buy = pd_data.loc[pd_data['class_buys_computer'] == 'no']"
   ]
  },
  {
   "cell_type": "code",
   "execution_count": 350,
   "metadata": {},
   "outputs": [
    {
     "data": {
      "text/html": [
       "<div>\n",
       "<style scoped>\n",
       "    .dataframe tbody tr th:only-of-type {\n",
       "        vertical-align: middle;\n",
       "    }\n",
       "\n",
       "    .dataframe tbody tr th {\n",
       "        vertical-align: top;\n",
       "    }\n",
       "\n",
       "    .dataframe thead th {\n",
       "        text-align: right;\n",
       "    }\n",
       "</style>\n",
       "<table border=\"1\" class=\"dataframe\">\n",
       "  <thead>\n",
       "    <tr style=\"text-align: right;\">\n",
       "      <th></th>\n",
       "      <th>RID</th>\n",
       "      <th>age</th>\n",
       "      <th>income</th>\n",
       "      <th>student</th>\n",
       "      <th>credit_rating</th>\n",
       "      <th>class_buys_computer</th>\n",
       "    </tr>\n",
       "  </thead>\n",
       "  <tbody>\n",
       "    <tr>\n",
       "      <th>2</th>\n",
       "      <td>3</td>\n",
       "      <td>middle_aged</td>\n",
       "      <td>high</td>\n",
       "      <td>no</td>\n",
       "      <td>fair</td>\n",
       "      <td>yes</td>\n",
       "    </tr>\n",
       "    <tr>\n",
       "      <th>3</th>\n",
       "      <td>4</td>\n",
       "      <td>senior</td>\n",
       "      <td>medium</td>\n",
       "      <td>no</td>\n",
       "      <td>fair</td>\n",
       "      <td>yes</td>\n",
       "    </tr>\n",
       "    <tr>\n",
       "      <th>4</th>\n",
       "      <td>5</td>\n",
       "      <td>senior</td>\n",
       "      <td>low</td>\n",
       "      <td>yes</td>\n",
       "      <td>fair</td>\n",
       "      <td>yes</td>\n",
       "    </tr>\n",
       "    <tr>\n",
       "      <th>6</th>\n",
       "      <td>7</td>\n",
       "      <td>middle_aged</td>\n",
       "      <td>low</td>\n",
       "      <td>yes</td>\n",
       "      <td>excellent</td>\n",
       "      <td>yes</td>\n",
       "    </tr>\n",
       "    <tr>\n",
       "      <th>8</th>\n",
       "      <td>9</td>\n",
       "      <td>youth</td>\n",
       "      <td>low</td>\n",
       "      <td>yes</td>\n",
       "      <td>fair</td>\n",
       "      <td>yes</td>\n",
       "    </tr>\n",
       "    <tr>\n",
       "      <th>9</th>\n",
       "      <td>10</td>\n",
       "      <td>senior</td>\n",
       "      <td>medium</td>\n",
       "      <td>yes</td>\n",
       "      <td>fair</td>\n",
       "      <td>yes</td>\n",
       "    </tr>\n",
       "    <tr>\n",
       "      <th>10</th>\n",
       "      <td>11</td>\n",
       "      <td>youth</td>\n",
       "      <td>medium</td>\n",
       "      <td>yes</td>\n",
       "      <td>excellent</td>\n",
       "      <td>yes</td>\n",
       "    </tr>\n",
       "    <tr>\n",
       "      <th>11</th>\n",
       "      <td>12</td>\n",
       "      <td>middle_aged</td>\n",
       "      <td>medium</td>\n",
       "      <td>no</td>\n",
       "      <td>excellent</td>\n",
       "      <td>yes</td>\n",
       "    </tr>\n",
       "    <tr>\n",
       "      <th>12</th>\n",
       "      <td>13</td>\n",
       "      <td>middle_aged</td>\n",
       "      <td>high</td>\n",
       "      <td>yes</td>\n",
       "      <td>fair</td>\n",
       "      <td>yes</td>\n",
       "    </tr>\n",
       "  </tbody>\n",
       "</table>\n",
       "</div>"
      ],
      "text/plain": [
       "    RID          age  income student credit_rating class_buys_computer\n",
       "2     3  middle_aged    high      no          fair                 yes\n",
       "3     4       senior  medium      no          fair                 yes\n",
       "4     5       senior     low     yes          fair                 yes\n",
       "6     7  middle_aged     low     yes     excellent                 yes\n",
       "8     9        youth     low     yes          fair                 yes\n",
       "9    10       senior  medium     yes          fair                 yes\n",
       "10   11        youth  medium     yes     excellent                 yes\n",
       "11   12  middle_aged  medium      no     excellent                 yes\n",
       "12   13  middle_aged    high     yes          fair                 yes"
      ]
     },
     "execution_count": 350,
     "metadata": {},
     "output_type": "execute_result"
    }
   ],
   "source": [
    "buy"
   ]
  },
  {
   "cell_type": "code",
   "execution_count": 351,
   "metadata": {},
   "outputs": [
    {
     "data": {
      "text/html": [
       "<div>\n",
       "<style scoped>\n",
       "    .dataframe tbody tr th:only-of-type {\n",
       "        vertical-align: middle;\n",
       "    }\n",
       "\n",
       "    .dataframe tbody tr th {\n",
       "        vertical-align: top;\n",
       "    }\n",
       "\n",
       "    .dataframe thead th {\n",
       "        text-align: right;\n",
       "    }\n",
       "</style>\n",
       "<table border=\"1\" class=\"dataframe\">\n",
       "  <thead>\n",
       "    <tr style=\"text-align: right;\">\n",
       "      <th></th>\n",
       "      <th>RID</th>\n",
       "      <th>age</th>\n",
       "      <th>income</th>\n",
       "      <th>student</th>\n",
       "      <th>credit_rating</th>\n",
       "      <th>class_buys_computer</th>\n",
       "    </tr>\n",
       "  </thead>\n",
       "  <tbody>\n",
       "    <tr>\n",
       "      <th>0</th>\n",
       "      <td>1</td>\n",
       "      <td>youth</td>\n",
       "      <td>high</td>\n",
       "      <td>no</td>\n",
       "      <td>fair</td>\n",
       "      <td>no</td>\n",
       "    </tr>\n",
       "    <tr>\n",
       "      <th>1</th>\n",
       "      <td>2</td>\n",
       "      <td>youth</td>\n",
       "      <td>high</td>\n",
       "      <td>no</td>\n",
       "      <td>excellent</td>\n",
       "      <td>no</td>\n",
       "    </tr>\n",
       "    <tr>\n",
       "      <th>5</th>\n",
       "      <td>6</td>\n",
       "      <td>senior</td>\n",
       "      <td>low</td>\n",
       "      <td>yes</td>\n",
       "      <td>excellent</td>\n",
       "      <td>no</td>\n",
       "    </tr>\n",
       "    <tr>\n",
       "      <th>7</th>\n",
       "      <td>8</td>\n",
       "      <td>youth</td>\n",
       "      <td>medium</td>\n",
       "      <td>no</td>\n",
       "      <td>fair</td>\n",
       "      <td>no</td>\n",
       "    </tr>\n",
       "    <tr>\n",
       "      <th>13</th>\n",
       "      <td>14</td>\n",
       "      <td>senior</td>\n",
       "      <td>medium</td>\n",
       "      <td>no</td>\n",
       "      <td>excellent</td>\n",
       "      <td>no</td>\n",
       "    </tr>\n",
       "  </tbody>\n",
       "</table>\n",
       "</div>"
      ],
      "text/plain": [
       "    RID     age  income student credit_rating class_buys_computer\n",
       "0     1   youth    high      no          fair                  no\n",
       "1     2   youth    high      no     excellent                  no\n",
       "5     6  senior     low     yes     excellent                  no\n",
       "7     8   youth  medium      no          fair                  no\n",
       "13   14  senior  medium      no     excellent                  no"
      ]
     },
     "execution_count": 351,
     "metadata": {},
     "output_type": "execute_result"
    }
   ],
   "source": [
    "not_buy"
   ]
  },
  {
   "cell_type": "code",
   "execution_count": 352,
   "metadata": {},
   "outputs": [
    {
     "data": {
      "text/plain": [
       "(array([0.64285714, 0.35714286]),\n",
       " array([-0.63742992, -1.48542683]),\n",
       " 0.9402859586706311)"
      ]
     },
     "execution_count": 352,
     "metadata": {},
     "output_type": "execute_result"
    }
   ],
   "source": [
    "x = np.array([len(buy) / len(pd_data), len(not_buy) / len(pd_data)])\n",
    "y = np.log2(x)\n",
    "\n",
    "info_all = -sum( x * y)\n",
    "\n",
    "x, y, info_all"
   ]
  },
  {
   "cell_type": "markdown",
   "metadata": {},
   "source": [
    "$Info(D)$ 함수화 해보기"
   ]
  },
  {
   "cell_type": "code",
   "execution_count": 353,
   "metadata": {},
   "outputs": [],
   "source": [
    "def get_info(df):\n",
    "    buy = df.loc[df['class_buys_computer'] == 'yes']\n",
    "    not_buy = df.loc[df['class_buys_computer'] == 'no']\n",
    "    x = np.array([len(buy) / len(df), len(not_buy) / len(df)])\n",
    "    y = np.log2(x[x!=0])\n",
    "\n",
    "    info_all = -sum( x[x!=0] * y)\n",
    "    return info_all"
   ]
  },
  {
   "cell_type": "code",
   "execution_count": 354,
   "metadata": {},
   "outputs": [
    {
     "data": {
      "text/plain": [
       "0.9402859586706311"
      ]
     },
     "execution_count": 354,
     "metadata": {},
     "output_type": "execute_result"
    }
   ],
   "source": [
    "get_info(pd_data)"
   ]
  },
  {
   "cell_type": "markdown",
   "metadata": {},
   "source": [
    "Attribute 별 information gain 구하기"
   ]
  },
  {
   "cell_type": "code",
   "execution_count": 355,
   "metadata": {},
   "outputs": [],
   "source": [
    "youth = pd_data.loc[pd_data['age'] == 'youth']\n",
    "senior = pd_data.loc[pd_data['age'] == 'senior']\n",
    "middle_aged = pd_data.loc[pd_data['age'] == 'middle_aged']"
   ]
  },
  {
   "cell_type": "code",
   "execution_count": 356,
   "metadata": {},
   "outputs": [
    {
     "data": {
      "text/html": [
       "<div>\n",
       "<style scoped>\n",
       "    .dataframe tbody tr th:only-of-type {\n",
       "        vertical-align: middle;\n",
       "    }\n",
       "\n",
       "    .dataframe tbody tr th {\n",
       "        vertical-align: top;\n",
       "    }\n",
       "\n",
       "    .dataframe thead th {\n",
       "        text-align: right;\n",
       "    }\n",
       "</style>\n",
       "<table border=\"1\" class=\"dataframe\">\n",
       "  <thead>\n",
       "    <tr style=\"text-align: right;\">\n",
       "      <th></th>\n",
       "      <th>RID</th>\n",
       "      <th>age</th>\n",
       "      <th>income</th>\n",
       "      <th>student</th>\n",
       "      <th>credit_rating</th>\n",
       "      <th>class_buys_computer</th>\n",
       "    </tr>\n",
       "  </thead>\n",
       "  <tbody>\n",
       "    <tr>\n",
       "      <th>0</th>\n",
       "      <td>1</td>\n",
       "      <td>youth</td>\n",
       "      <td>high</td>\n",
       "      <td>no</td>\n",
       "      <td>fair</td>\n",
       "      <td>no</td>\n",
       "    </tr>\n",
       "    <tr>\n",
       "      <th>1</th>\n",
       "      <td>2</td>\n",
       "      <td>youth</td>\n",
       "      <td>high</td>\n",
       "      <td>no</td>\n",
       "      <td>excellent</td>\n",
       "      <td>no</td>\n",
       "    </tr>\n",
       "    <tr>\n",
       "      <th>7</th>\n",
       "      <td>8</td>\n",
       "      <td>youth</td>\n",
       "      <td>medium</td>\n",
       "      <td>no</td>\n",
       "      <td>fair</td>\n",
       "      <td>no</td>\n",
       "    </tr>\n",
       "    <tr>\n",
       "      <th>8</th>\n",
       "      <td>9</td>\n",
       "      <td>youth</td>\n",
       "      <td>low</td>\n",
       "      <td>yes</td>\n",
       "      <td>fair</td>\n",
       "      <td>yes</td>\n",
       "    </tr>\n",
       "    <tr>\n",
       "      <th>10</th>\n",
       "      <td>11</td>\n",
       "      <td>youth</td>\n",
       "      <td>medium</td>\n",
       "      <td>yes</td>\n",
       "      <td>excellent</td>\n",
       "      <td>yes</td>\n",
       "    </tr>\n",
       "  </tbody>\n",
       "</table>\n",
       "</div>"
      ],
      "text/plain": [
       "    RID    age  income student credit_rating class_buys_computer\n",
       "0     1  youth    high      no          fair                  no\n",
       "1     2  youth    high      no     excellent                  no\n",
       "7     8  youth  medium      no          fair                  no\n",
       "8     9  youth     low     yes          fair                 yes\n",
       "10   11  youth  medium     yes     excellent                 yes"
      ]
     },
     "execution_count": 356,
     "metadata": {},
     "output_type": "execute_result"
    }
   ],
   "source": [
    "youth"
   ]
  },
  {
   "cell_type": "markdown",
   "metadata": {},
   "source": [
    "age = youth일 때의 Entropy"
   ]
  },
  {
   "cell_type": "code",
   "execution_count": 357,
   "metadata": {},
   "outputs": [
    {
     "data": {
      "text/plain": [
       "0.9709505944546686"
      ]
     },
     "execution_count": 357,
     "metadata": {},
     "output_type": "execute_result"
    }
   ],
   "source": [
    "get_info(youth)"
   ]
  },
  {
   "cell_type": "code",
   "execution_count": 358,
   "metadata": {},
   "outputs": [
    {
     "data": {
      "text/html": [
       "<div>\n",
       "<style scoped>\n",
       "    .dataframe tbody tr th:only-of-type {\n",
       "        vertical-align: middle;\n",
       "    }\n",
       "\n",
       "    .dataframe tbody tr th {\n",
       "        vertical-align: top;\n",
       "    }\n",
       "\n",
       "    .dataframe thead th {\n",
       "        text-align: right;\n",
       "    }\n",
       "</style>\n",
       "<table border=\"1\" class=\"dataframe\">\n",
       "  <thead>\n",
       "    <tr style=\"text-align: right;\">\n",
       "      <th></th>\n",
       "      <th>RID</th>\n",
       "      <th>age</th>\n",
       "      <th>income</th>\n",
       "      <th>student</th>\n",
       "      <th>credit_rating</th>\n",
       "      <th>class_buys_computer</th>\n",
       "    </tr>\n",
       "  </thead>\n",
       "  <tbody>\n",
       "    <tr>\n",
       "      <th>3</th>\n",
       "      <td>4</td>\n",
       "      <td>senior</td>\n",
       "      <td>medium</td>\n",
       "      <td>no</td>\n",
       "      <td>fair</td>\n",
       "      <td>yes</td>\n",
       "    </tr>\n",
       "    <tr>\n",
       "      <th>4</th>\n",
       "      <td>5</td>\n",
       "      <td>senior</td>\n",
       "      <td>low</td>\n",
       "      <td>yes</td>\n",
       "      <td>fair</td>\n",
       "      <td>yes</td>\n",
       "    </tr>\n",
       "    <tr>\n",
       "      <th>5</th>\n",
       "      <td>6</td>\n",
       "      <td>senior</td>\n",
       "      <td>low</td>\n",
       "      <td>yes</td>\n",
       "      <td>excellent</td>\n",
       "      <td>no</td>\n",
       "    </tr>\n",
       "    <tr>\n",
       "      <th>9</th>\n",
       "      <td>10</td>\n",
       "      <td>senior</td>\n",
       "      <td>medium</td>\n",
       "      <td>yes</td>\n",
       "      <td>fair</td>\n",
       "      <td>yes</td>\n",
       "    </tr>\n",
       "    <tr>\n",
       "      <th>13</th>\n",
       "      <td>14</td>\n",
       "      <td>senior</td>\n",
       "      <td>medium</td>\n",
       "      <td>no</td>\n",
       "      <td>excellent</td>\n",
       "      <td>no</td>\n",
       "    </tr>\n",
       "  </tbody>\n",
       "</table>\n",
       "</div>"
      ],
      "text/plain": [
       "    RID     age  income student credit_rating class_buys_computer\n",
       "3     4  senior  medium      no          fair                 yes\n",
       "4     5  senior     low     yes          fair                 yes\n",
       "5     6  senior     low     yes     excellent                  no\n",
       "9    10  senior  medium     yes          fair                 yes\n",
       "13   14  senior  medium      no     excellent                  no"
      ]
     },
     "execution_count": 358,
     "metadata": {},
     "output_type": "execute_result"
    }
   ],
   "source": [
    "senior"
   ]
  },
  {
   "cell_type": "code",
   "execution_count": 359,
   "metadata": {},
   "outputs": [
    {
     "data": {
      "text/plain": [
       "0.9709505944546686"
      ]
     },
     "execution_count": 359,
     "metadata": {},
     "output_type": "execute_result"
    }
   ],
   "source": [
    "get_info(senior)"
   ]
  },
  {
   "cell_type": "code",
   "execution_count": 360,
   "metadata": {},
   "outputs": [
    {
     "data": {
      "text/html": [
       "<div>\n",
       "<style scoped>\n",
       "    .dataframe tbody tr th:only-of-type {\n",
       "        vertical-align: middle;\n",
       "    }\n",
       "\n",
       "    .dataframe tbody tr th {\n",
       "        vertical-align: top;\n",
       "    }\n",
       "\n",
       "    .dataframe thead th {\n",
       "        text-align: right;\n",
       "    }\n",
       "</style>\n",
       "<table border=\"1\" class=\"dataframe\">\n",
       "  <thead>\n",
       "    <tr style=\"text-align: right;\">\n",
       "      <th></th>\n",
       "      <th>RID</th>\n",
       "      <th>age</th>\n",
       "      <th>income</th>\n",
       "      <th>student</th>\n",
       "      <th>credit_rating</th>\n",
       "      <th>class_buys_computer</th>\n",
       "    </tr>\n",
       "  </thead>\n",
       "  <tbody>\n",
       "    <tr>\n",
       "      <th>2</th>\n",
       "      <td>3</td>\n",
       "      <td>middle_aged</td>\n",
       "      <td>high</td>\n",
       "      <td>no</td>\n",
       "      <td>fair</td>\n",
       "      <td>yes</td>\n",
       "    </tr>\n",
       "    <tr>\n",
       "      <th>6</th>\n",
       "      <td>7</td>\n",
       "      <td>middle_aged</td>\n",
       "      <td>low</td>\n",
       "      <td>yes</td>\n",
       "      <td>excellent</td>\n",
       "      <td>yes</td>\n",
       "    </tr>\n",
       "    <tr>\n",
       "      <th>11</th>\n",
       "      <td>12</td>\n",
       "      <td>middle_aged</td>\n",
       "      <td>medium</td>\n",
       "      <td>no</td>\n",
       "      <td>excellent</td>\n",
       "      <td>yes</td>\n",
       "    </tr>\n",
       "    <tr>\n",
       "      <th>12</th>\n",
       "      <td>13</td>\n",
       "      <td>middle_aged</td>\n",
       "      <td>high</td>\n",
       "      <td>yes</td>\n",
       "      <td>fair</td>\n",
       "      <td>yes</td>\n",
       "    </tr>\n",
       "  </tbody>\n",
       "</table>\n",
       "</div>"
      ],
      "text/plain": [
       "    RID          age  income student credit_rating class_buys_computer\n",
       "2     3  middle_aged    high      no          fair                 yes\n",
       "6     7  middle_aged     low     yes     excellent                 yes\n",
       "11   12  middle_aged  medium      no     excellent                 yes\n",
       "12   13  middle_aged    high     yes          fair                 yes"
      ]
     },
     "execution_count": 360,
     "metadata": {},
     "output_type": "execute_result"
    }
   ],
   "source": [
    "middle_aged"
   ]
  },
  {
   "cell_type": "code",
   "execution_count": 361,
   "metadata": {},
   "outputs": [
    {
     "data": {
      "text/plain": [
       "-0.0"
      ]
     },
     "execution_count": 361,
     "metadata": {},
     "output_type": "execute_result"
    }
   ],
   "source": [
    "get_info(middle_aged)"
   ]
  },
  {
   "cell_type": "markdown",
   "metadata": {},
   "source": [
    "각 속성별 Entropy 함수화하기"
   ]
  },
  {
   "cell_type": "code",
   "execution_count": 362,
   "metadata": {},
   "outputs": [],
   "source": [
    "def get_attribute_info(df, attribute_name) :\n",
    "    # Ex) attribute_name : age\n",
    "    \n",
    "    attribute_values = df[attribute_name].unique()\n",
    "    # attribute_values = youth, middle_age, senior\n",
    "    print(attribute_values)\n",
    "    \n",
    "    get_infos = []\n",
    "\n",
    "    for value in attribute_values:\n",
    "        split_df = df.loc[df[attribute_name] == value]\n",
    "\n",
    "        get_infos.append( (len(split_df) / len(df)) * get_info(split_df))\n",
    "\n",
    "    return sum(get_infos)"
   ]
  },
  {
   "cell_type": "code",
   "execution_count": 363,
   "metadata": {},
   "outputs": [
    {
     "name": "stdout",
     "output_type": "stream",
     "text": [
      "['youth' 'middle_aged' 'senior']\n"
     ]
    },
    {
     "data": {
      "text/plain": [
       "0.6935361388961918"
      ]
     },
     "execution_count": 363,
     "metadata": {},
     "output_type": "execute_result"
    }
   ],
   "source": [
    "get_attribute_info(pd_data, 'age')"
   ]
  },
  {
   "cell_type": "markdown",
   "metadata": {},
   "source": [
    "### 최종적으로 Information Gain의 값\n",
    "$ Gain(age) = Info(D) - Info_{age}(D) $"
   ]
  },
  {
   "cell_type": "code",
   "execution_count": 364,
   "metadata": {},
   "outputs": [
    {
     "name": "stdout",
     "output_type": "stream",
     "text": [
      "['youth' 'middle_aged' 'senior']\n"
     ]
    },
    {
     "data": {
      "text/plain": [
       "0.24674981977443933"
      ]
     },
     "execution_count": 364,
     "metadata": {},
     "output_type": "execute_result"
    }
   ],
   "source": [
    "get_info(pd_data) - get_attribute_info(pd_data, 'age')"
   ]
  },
  {
   "cell_type": "markdown",
   "metadata": {},
   "source": [
    "$ Gain(credit) = Info(D) - Info_{credit}(D) $"
   ]
  },
  {
   "cell_type": "code",
   "execution_count": 365,
   "metadata": {},
   "outputs": [
    {
     "name": "stdout",
     "output_type": "stream",
     "text": [
      "['fair' 'excellent']\n"
     ]
    },
    {
     "data": {
      "text/plain": [
       "0.04812703040826949"
      ]
     },
     "execution_count": 365,
     "metadata": {},
     "output_type": "execute_result"
    }
   ],
   "source": [
    "get_info(pd_data) - get_attribute_info(pd_data, 'credit_rating')"
   ]
  },
  {
   "cell_type": "markdown",
   "metadata": {},
   "source": [
    "$ Gain(income) = Info(D) - Info_{income}(D) $"
   ]
  },
  {
   "cell_type": "code",
   "execution_count": 366,
   "metadata": {},
   "outputs": [
    {
     "name": "stdout",
     "output_type": "stream",
     "text": [
      "['high' 'medium' 'low']\n"
     ]
    },
    {
     "data": {
      "text/plain": [
       "0.02922256565895487"
      ]
     },
     "execution_count": 366,
     "metadata": {},
     "output_type": "execute_result"
    }
   ],
   "source": [
    "get_info(pd_data) - get_attribute_info(pd_data, 'income')"
   ]
  },
  {
   "cell_type": "markdown",
   "metadata": {},
   "source": [
    "$ Gain(student) = Info(D) - Info_{student}(D) $"
   ]
  },
  {
   "cell_type": "code",
   "execution_count": 367,
   "metadata": {},
   "outputs": [
    {
     "name": "stdout",
     "output_type": "stream",
     "text": [
      "['no' 'yes']\n"
     ]
    },
    {
     "data": {
      "text/plain": [
       "0.15183550136234159"
      ]
     },
     "execution_count": 367,
     "metadata": {},
     "output_type": "execute_result"
    }
   ],
   "source": [
    "get_info(pd_data) - get_attribute_info(pd_data, 'student')"
   ]
  },
  {
   "cell_type": "markdown",
   "metadata": {},
   "source": [
    "위의 4가지 속성 중 가장 큰 Gain의 Attribute는 Age인 것을 볼 수 있다.  \n",
    "= Age의 Entropy가 가장 작다 = 헷가리는 것이 작다. = 먼저 분류할 Attribute\n",
    "\n",
    "먼저, Age Attribute를 기준으로 branch\n",
    "\n",
    "![branch](https://ifh.cc/g/JXRamt.jpg)\n",
    "\n",
    "다음으로는 youth를 기준으로 branch, senior 기준으로 branch  \n",
    "\n",
    "위와 똑같은 방식으로 youth를 기준으로 branch 해보자\n"
   ]
  },
  {
   "cell_type": "code",
   "execution_count": 368,
   "metadata": {},
   "outputs": [
    {
     "data": {
      "text/html": [
       "<div>\n",
       "<style scoped>\n",
       "    .dataframe tbody tr th:only-of-type {\n",
       "        vertical-align: middle;\n",
       "    }\n",
       "\n",
       "    .dataframe tbody tr th {\n",
       "        vertical-align: top;\n",
       "    }\n",
       "\n",
       "    .dataframe thead th {\n",
       "        text-align: right;\n",
       "    }\n",
       "</style>\n",
       "<table border=\"1\" class=\"dataframe\">\n",
       "  <thead>\n",
       "    <tr style=\"text-align: right;\">\n",
       "      <th></th>\n",
       "      <th>RID</th>\n",
       "      <th>age</th>\n",
       "      <th>income</th>\n",
       "      <th>student</th>\n",
       "      <th>credit_rating</th>\n",
       "      <th>class_buys_computer</th>\n",
       "    </tr>\n",
       "  </thead>\n",
       "  <tbody>\n",
       "    <tr>\n",
       "      <th>0</th>\n",
       "      <td>1</td>\n",
       "      <td>youth</td>\n",
       "      <td>high</td>\n",
       "      <td>no</td>\n",
       "      <td>fair</td>\n",
       "      <td>no</td>\n",
       "    </tr>\n",
       "    <tr>\n",
       "      <th>1</th>\n",
       "      <td>2</td>\n",
       "      <td>youth</td>\n",
       "      <td>high</td>\n",
       "      <td>no</td>\n",
       "      <td>excellent</td>\n",
       "      <td>no</td>\n",
       "    </tr>\n",
       "    <tr>\n",
       "      <th>7</th>\n",
       "      <td>8</td>\n",
       "      <td>youth</td>\n",
       "      <td>medium</td>\n",
       "      <td>no</td>\n",
       "      <td>fair</td>\n",
       "      <td>no</td>\n",
       "    </tr>\n",
       "    <tr>\n",
       "      <th>8</th>\n",
       "      <td>9</td>\n",
       "      <td>youth</td>\n",
       "      <td>low</td>\n",
       "      <td>yes</td>\n",
       "      <td>fair</td>\n",
       "      <td>yes</td>\n",
       "    </tr>\n",
       "    <tr>\n",
       "      <th>10</th>\n",
       "      <td>11</td>\n",
       "      <td>youth</td>\n",
       "      <td>medium</td>\n",
       "      <td>yes</td>\n",
       "      <td>excellent</td>\n",
       "      <td>yes</td>\n",
       "    </tr>\n",
       "  </tbody>\n",
       "</table>\n",
       "</div>"
      ],
      "text/plain": [
       "    RID    age  income student credit_rating class_buys_computer\n",
       "0     1  youth    high      no          fair                  no\n",
       "1     2  youth    high      no     excellent                  no\n",
       "7     8  youth  medium      no          fair                  no\n",
       "8     9  youth     low     yes          fair                 yes\n",
       "10   11  youth  medium     yes     excellent                 yes"
      ]
     },
     "execution_count": 368,
     "metadata": {},
     "output_type": "execute_result"
    }
   ],
   "source": [
    "youth = pd_data.loc[pd_data['age'] == 'youth']\n",
    "youth"
   ]
  },
  {
   "cell_type": "code",
   "execution_count": 369,
   "metadata": {},
   "outputs": [
    {
     "name": "stdout",
     "output_type": "stream",
     "text": [
      "['high' 'medium' 'low']\n"
     ]
    },
    {
     "data": {
      "text/plain": [
       "0.5709505944546686"
      ]
     },
     "execution_count": 369,
     "metadata": {},
     "output_type": "execute_result"
    }
   ],
   "source": [
    "get_info(youth) - get_attribute_info(youth, 'income')"
   ]
  },
  {
   "cell_type": "code",
   "execution_count": 370,
   "metadata": {},
   "outputs": [
    {
     "name": "stdout",
     "output_type": "stream",
     "text": [
      "['no' 'yes']\n"
     ]
    },
    {
     "data": {
      "text/plain": [
       "0.9709505944546686"
      ]
     },
     "execution_count": 370,
     "metadata": {},
     "output_type": "execute_result"
    }
   ],
   "source": [
    "get_info(youth) - get_attribute_info(youth, 'student')"
   ]
  },
  {
   "cell_type": "code",
   "execution_count": 371,
   "metadata": {},
   "outputs": [
    {
     "name": "stdout",
     "output_type": "stream",
     "text": [
      "['fair' 'excellent']\n"
     ]
    },
    {
     "data": {
      "text/plain": [
       "0.01997309402197489"
      ]
     },
     "execution_count": 371,
     "metadata": {},
     "output_type": "execute_result"
    }
   ],
   "source": [
    "get_info(youth) - get_attribute_info(youth, 'credit_rating')"
   ]
  },
  {
   "cell_type": "markdown",
   "metadata": {},
   "source": [
    "income, student, credit_rating의 information Gain 중 가장 큰 값을 가지는 Attribute는 student이다. \n",
    "\n",
    "$\\Rightarrow$ Student를 기준으로 branch\n",
    "\n",
    "![branch1](./img/branch1.PNG)\n",
    "\n",
    "잘 나눠졌으므로 senior 기준으로 다시 branch"
   ]
  },
  {
   "cell_type": "markdown",
   "metadata": {},
   "source": [
    "## 4️⃣ C4.5 & Gini Index\n",
    "\n",
    "### ✔ Information Gain의 문제점\n",
    "- 어떤 Attribute에 포함된 값이 다양할 수록 선택되고자 함\n",
    "\n",
    "이게 무슨 말이냐면   \n",
    "\n",
    "예를 들어서 age라는 Attribute에 1~100까지 모두 하나씩 있다고 해보자   \n",
    "\n",
    "그러면 $Info_A(D)$의 식에서 $\\frac{\\vert D_j \\vert}{\\vert D \\vert}$가 작은 값을 가지게 될 것이다.  \n",
    "\n",
    "$\\Rightarrow Info_A(D) \\downarrow \\Rightarrow Gain(A) \\uparrow$  \n",
    "\n",
    "##### $Gain(A) = info(D) - Info_A(D)$\n",
    "##### $Info_A(D) = \\sum_{j=1}^v \\frac{\\vert D_j \\vert}{\\vert D \\vert} * Info(D_j)$\n",
    "##### $Info(D) = - \\sum_{i=1}^n p_i log_2 (p_i)$\n",
    "\n",
    "- 한 Attribute가 모두 다른 값을 가질 때   \n",
    "<span style = 'color : red'>보완을 해줄 다른 Measure 필요</span>\n",
    "\n",
    "### ✔ Gain Ratio\n",
    "- ID3의 발전형인 C4.5 알고리즘에서 사용되는 measure\n",
    "- Info(D)의 값을 평준화시켜 분할 정보 값을 대신 사용\n",
    "- 값이 다양할 수록 weight를 줘 penalty 부여\n",
    "\n",
    "##### $ splitInfo_A(D) = -\\sum_{j=1}^v \\frac{\\vert D_j \\vert}{\\vert D \\vert} * (log_2 \\frac{\\vert D_j \\vert}{\\vert D \\vert})$\n",
    "##### $ GainRatio(A) = \\frac{Gain(A)}{SplitInfo_A(D)} = \\frac{Info(D) - Info_A(D)}{SplitInfo_A(D)} $\n",
    "\n",
    "![c4](./img/c4.PNG)\n",
    "\n",
    "Ex) $SplitInfo_A(D)$  \n",
    "\n",
    "총 데이터 14개 중에서 j = 1인 데이터의 개수가 2개인 경우  \n",
    "\n",
    "$\\frac{\\vert D_j \\vert}{\\vert D \\vert}$는 작을 것이고,  - $log_2 \\frac{\\vert D_j \\vert}{\\vert D \\vert}$는 클 것이다.  \n",
    "\n",
    "(위의 그래프를 보면 $p_i$가 작아질수록 $-log_2(p_i)$가 커지는 것을 볼 수 있다.)\n",
    "\n",
    "$\\Rightarrow$ 이런 경우 $splitInfo_A(D)$의 값이 커지게 되며 $GainRatio(A)$의 값은 작아질 것이다.\n",
    "\n",
    "\n",
    "<span style = 'background-color : #f5f0ff'>$SplitInfo_A(D) \\uparrow \\ \\Rightarrow GainRatio(A) \\downarrow  \\ \\Rightarrow SplitInfo_A(D) : Penalty$ </span>\n",
    "\n",
    "### ✔ Gini Index\n",
    "- CART 알고리즘의 split measure\n",
    "- 훈련 튜플 세트를 파티션을 나누었을때 불순한 정도를 측정\n",
    "##### $Gini(D) = 1 - \\sum_{i=1}^m p_i^2 = 1 - \\sum_{i=1}^m \\frac{\\vert C_{i,D} \\vert}{\\vert D \\vert}$\n",
    "where $C_i$ is a class\n",
    "\n",
    "- class 별로 데이터 개수 구해서 하는 방식\n",
    "\n",
    "- 데이터의 대상 속성을 얼마나 잘못 분류할지를 계산\n",
    "\n",
    "- 실제 Gini Index는 Entropy와 비슷한 그래프가 그려짐\n",
    "\n",
    "- 0.5일 때 Impurity의 최대화, 약 극점에서 0\n",
    "\n",
    "##### $ Gini(D) = \\sum_{i=1}^m p_i (1-p_i) = 1 - \\sum_{i=1}^m p_i^2 = 1 - \\sum_{i=1}^m \\frac{\\vert C_{i,D} \\vert}{\\vert D \\vert} $\n",
    "\n",
    "![Gini](./img/Gini.PNG)\n",
    "\n",
    "### ✔ <span style = 'background-color : #ffdce0'> Binary Split </span>\n",
    ": 컴퓨터가 searching을 잘 할 수 있는 방법 중 하나\n",
    "\n",
    "- CART 알고리즘은 Binary Split을 전제로 분석\n",
    "\n",
    "\n",
    "    이게 무슨 말이냐\n",
    "\n",
    "    Ex) category data가 youth, middle, senior로 구분될 때  \n",
    "\n",
    "    youth와 나머지 /  middle과 나머지 / senior와 나머지로 각각 3개의 binary split을 해서 구하는 방식\n",
    "  \n",
    "    그렇다면 아래의 식에서 A는 youth, middle, senior를 뜻하며 총 3개의 Gini의 값이 나올것이다.   \n",
    "    \n",
    "\n",
    "- k가 속성 내 데이터 분류의 개수일 때 $2^{k-1} - 1$개 만큼의 Split 생성\n",
    "\n",
    "    $ \\Rightarrow $ C4.5에 비해 많은 split이 생김\n",
    "\n",
    "##### $ Gini_A(D) = \\frac{\\vert D_1 \\vert}{\\vert D \\vert }Gini(D_1) +  \\frac{\\vert D_2 \\vert}{\\vert D \\vert }Gini(D_2) $\n",
    "\n",
    "-  <span style = 'color : purple'> Gini 값이 가장 작은 분류를 선택</span>\n",
    "\n",
    "### Growing a CART Decision Tree\n",
    "\n",
    "#### **[ Age ]**\n",
    "$ Gini_{age}(D)$ $age \\in $ {youth, middle_age, senior}  \n",
    "\n",
    "![gini_age](./img/Gini_Age.PNG)\n",
    "\n",
    "##### 세 가지 경우의 모든 Gini Index 산출\n",
    "\n",
    "$age_1 \\in $ {youth} = {middle_age, senior}  \n",
    "$age_2 \\in $ {middle_age} = {youth, senior}  \n",
    "$age_3 \\in $ {senior} = {youth, middle_age}  \n",
    "\n",
    "##### $ Gini_A(D) = \\frac{\\vert D_1 \\vert}{\\vert D \\vert }Gini(D_1) +  \\frac{\\vert D_2 \\vert}{\\vert D \\vert }Gini(D_2) $\n",
    "\n",
    "##### Ex) youth와 나머지를 Binary Split 했을 경우 \n",
    "$\\Rightarrow \\ age_1$ : youth = 5명, 나머지 : 9명 \n",
    "\n",
    "##### $ Gini_{age_1} = \\frac{5}{14}Gini(D_1) +  \\frac{9}{14}Gini(D_2) $  \n",
    "\n",
    "$ Gini(D_1)$ : youth 중 yes = 2명 , no = 3명\n",
    "\n",
    "##### $ Gini(D_1) = 1 - (\\frac{3}{5})^2 - (\\frac{2}{5})^2 $  \n",
    "\n",
    "$ Gini(D_2) $ : 나머지 중 yes : 7명, no : 2명\n",
    "\n",
    "##### $ Gini(D_2) = 1 - (\\frac{7}{9})^2 - (\\frac{2}{9})^2 $"
   ]
  },
  {
   "cell_type": "code",
   "execution_count": 372,
   "metadata": {},
   "outputs": [],
   "source": [
    "import numpy as np\n",
    "import pandas as pd"
   ]
  },
  {
   "cell_type": "code",
   "execution_count": 373,
   "metadata": {},
   "outputs": [
    {
     "data": {
      "text/html": [
       "<div>\n",
       "<style scoped>\n",
       "    .dataframe tbody tr th:only-of-type {\n",
       "        vertical-align: middle;\n",
       "    }\n",
       "\n",
       "    .dataframe tbody tr th {\n",
       "        vertical-align: top;\n",
       "    }\n",
       "\n",
       "    .dataframe thead th {\n",
       "        text-align: right;\n",
       "    }\n",
       "</style>\n",
       "<table border=\"1\" class=\"dataframe\">\n",
       "  <thead>\n",
       "    <tr style=\"text-align: right;\">\n",
       "      <th></th>\n",
       "      <th>RID</th>\n",
       "      <th>age</th>\n",
       "      <th>income</th>\n",
       "      <th>student</th>\n",
       "      <th>credit_rating</th>\n",
       "      <th>class_buys_computer</th>\n",
       "    </tr>\n",
       "  </thead>\n",
       "  <tbody>\n",
       "    <tr>\n",
       "      <th>0</th>\n",
       "      <td>1</td>\n",
       "      <td>youth</td>\n",
       "      <td>high</td>\n",
       "      <td>no</td>\n",
       "      <td>fair</td>\n",
       "      <td>no</td>\n",
       "    </tr>\n",
       "    <tr>\n",
       "      <th>1</th>\n",
       "      <td>2</td>\n",
       "      <td>youth</td>\n",
       "      <td>high</td>\n",
       "      <td>no</td>\n",
       "      <td>excellent</td>\n",
       "      <td>no</td>\n",
       "    </tr>\n",
       "    <tr>\n",
       "      <th>2</th>\n",
       "      <td>3</td>\n",
       "      <td>middle_aged</td>\n",
       "      <td>high</td>\n",
       "      <td>no</td>\n",
       "      <td>fair</td>\n",
       "      <td>yes</td>\n",
       "    </tr>\n",
       "    <tr>\n",
       "      <th>3</th>\n",
       "      <td>4</td>\n",
       "      <td>senior</td>\n",
       "      <td>medium</td>\n",
       "      <td>no</td>\n",
       "      <td>fair</td>\n",
       "      <td>yes</td>\n",
       "    </tr>\n",
       "    <tr>\n",
       "      <th>4</th>\n",
       "      <td>5</td>\n",
       "      <td>senior</td>\n",
       "      <td>low</td>\n",
       "      <td>yes</td>\n",
       "      <td>fair</td>\n",
       "      <td>yes</td>\n",
       "    </tr>\n",
       "    <tr>\n",
       "      <th>5</th>\n",
       "      <td>6</td>\n",
       "      <td>senior</td>\n",
       "      <td>low</td>\n",
       "      <td>yes</td>\n",
       "      <td>excellent</td>\n",
       "      <td>no</td>\n",
       "    </tr>\n",
       "    <tr>\n",
       "      <th>6</th>\n",
       "      <td>7</td>\n",
       "      <td>middle_aged</td>\n",
       "      <td>low</td>\n",
       "      <td>yes</td>\n",
       "      <td>excellent</td>\n",
       "      <td>yes</td>\n",
       "    </tr>\n",
       "    <tr>\n",
       "      <th>7</th>\n",
       "      <td>8</td>\n",
       "      <td>youth</td>\n",
       "      <td>medium</td>\n",
       "      <td>no</td>\n",
       "      <td>fair</td>\n",
       "      <td>no</td>\n",
       "    </tr>\n",
       "    <tr>\n",
       "      <th>8</th>\n",
       "      <td>9</td>\n",
       "      <td>youth</td>\n",
       "      <td>low</td>\n",
       "      <td>yes</td>\n",
       "      <td>fair</td>\n",
       "      <td>yes</td>\n",
       "    </tr>\n",
       "    <tr>\n",
       "      <th>9</th>\n",
       "      <td>10</td>\n",
       "      <td>senior</td>\n",
       "      <td>medium</td>\n",
       "      <td>yes</td>\n",
       "      <td>fair</td>\n",
       "      <td>yes</td>\n",
       "    </tr>\n",
       "    <tr>\n",
       "      <th>10</th>\n",
       "      <td>11</td>\n",
       "      <td>youth</td>\n",
       "      <td>medium</td>\n",
       "      <td>yes</td>\n",
       "      <td>excellent</td>\n",
       "      <td>yes</td>\n",
       "    </tr>\n",
       "    <tr>\n",
       "      <th>11</th>\n",
       "      <td>12</td>\n",
       "      <td>middle_aged</td>\n",
       "      <td>medium</td>\n",
       "      <td>no</td>\n",
       "      <td>excellent</td>\n",
       "      <td>yes</td>\n",
       "    </tr>\n",
       "    <tr>\n",
       "      <th>12</th>\n",
       "      <td>13</td>\n",
       "      <td>middle_aged</td>\n",
       "      <td>high</td>\n",
       "      <td>yes</td>\n",
       "      <td>fair</td>\n",
       "      <td>yes</td>\n",
       "    </tr>\n",
       "    <tr>\n",
       "      <th>13</th>\n",
       "      <td>14</td>\n",
       "      <td>senior</td>\n",
       "      <td>medium</td>\n",
       "      <td>no</td>\n",
       "      <td>excellent</td>\n",
       "      <td>no</td>\n",
       "    </tr>\n",
       "  </tbody>\n",
       "</table>\n",
       "</div>"
      ],
      "text/plain": [
       "    RID          age  income student credit_rating class_buys_computer\n",
       "0     1        youth    high      no          fair                  no\n",
       "1     2        youth    high      no     excellent                  no\n",
       "2     3  middle_aged    high      no          fair                 yes\n",
       "3     4       senior  medium      no          fair                 yes\n",
       "4     5       senior     low     yes          fair                 yes\n",
       "5     6       senior     low     yes     excellent                  no\n",
       "6     7  middle_aged     low     yes     excellent                 yes\n",
       "7     8        youth  medium      no          fair                  no\n",
       "8     9        youth     low     yes          fair                 yes\n",
       "9    10       senior  medium     yes          fair                 yes\n",
       "10   11        youth  medium     yes     excellent                 yes\n",
       "11   12  middle_aged  medium      no     excellent                 yes\n",
       "12   13  middle_aged    high     yes          fair                 yes\n",
       "13   14       senior  medium      no     excellent                  no"
      ]
     },
     "execution_count": 373,
     "metadata": {},
     "output_type": "execute_result"
    }
   ],
   "source": [
    "from dataclasses import replace\n",
    "\n",
    "\n",
    "pd_data = pd.read_csv('https://raw.githubusercontent.com/AugustLONG/ML01/master/01decisiontree/AllElectronics.csv')\n",
    "pd_data.drop('RID', axis =1)\n",
    "pd_data"
   ]
  },
  {
   "cell_type": "code",
   "execution_count": 374,
   "metadata": {},
   "outputs": [
    {
     "data": {
      "text/html": [
       "<div>\n",
       "<style scoped>\n",
       "    .dataframe tbody tr th:only-of-type {\n",
       "        vertical-align: middle;\n",
       "    }\n",
       "\n",
       "    .dataframe tbody tr th {\n",
       "        vertical-align: top;\n",
       "    }\n",
       "\n",
       "    .dataframe thead th {\n",
       "        text-align: right;\n",
       "    }\n",
       "</style>\n",
       "<table border=\"1\" class=\"dataframe\">\n",
       "  <thead>\n",
       "    <tr style=\"text-align: right;\">\n",
       "      <th></th>\n",
       "      <th>RID</th>\n",
       "      <th>age</th>\n",
       "      <th>income</th>\n",
       "      <th>student</th>\n",
       "      <th>credit_rating</th>\n",
       "      <th>class_buys_computer</th>\n",
       "    </tr>\n",
       "  </thead>\n",
       "  <tbody>\n",
       "    <tr>\n",
       "      <th>0</th>\n",
       "      <td>1</td>\n",
       "      <td>youth</td>\n",
       "      <td>high</td>\n",
       "      <td>no</td>\n",
       "      <td>fair</td>\n",
       "      <td>no</td>\n",
       "    </tr>\n",
       "    <tr>\n",
       "      <th>1</th>\n",
       "      <td>2</td>\n",
       "      <td>youth</td>\n",
       "      <td>high</td>\n",
       "      <td>no</td>\n",
       "      <td>excellent</td>\n",
       "      <td>no</td>\n",
       "    </tr>\n",
       "    <tr>\n",
       "      <th>7</th>\n",
       "      <td>8</td>\n",
       "      <td>youth</td>\n",
       "      <td>medium</td>\n",
       "      <td>no</td>\n",
       "      <td>fair</td>\n",
       "      <td>no</td>\n",
       "    </tr>\n",
       "    <tr>\n",
       "      <th>8</th>\n",
       "      <td>9</td>\n",
       "      <td>youth</td>\n",
       "      <td>low</td>\n",
       "      <td>yes</td>\n",
       "      <td>fair</td>\n",
       "      <td>yes</td>\n",
       "    </tr>\n",
       "    <tr>\n",
       "      <th>10</th>\n",
       "      <td>11</td>\n",
       "      <td>youth</td>\n",
       "      <td>medium</td>\n",
       "      <td>yes</td>\n",
       "      <td>excellent</td>\n",
       "      <td>yes</td>\n",
       "    </tr>\n",
       "  </tbody>\n",
       "</table>\n",
       "</div>"
      ],
      "text/plain": [
       "    RID    age  income student credit_rating class_buys_computer\n",
       "0     1  youth    high      no          fair                  no\n",
       "1     2  youth    high      no     excellent                  no\n",
       "7     8  youth  medium      no          fair                  no\n",
       "8     9  youth     low     yes          fair                 yes\n",
       "10   11  youth  medium     yes     excellent                 yes"
      ]
     },
     "execution_count": 374,
     "metadata": {},
     "output_type": "execute_result"
    }
   ],
   "source": [
    "youth = pd_data.loc[pd_data['age'] == 'youth']\n",
    "youth"
   ]
  },
  {
   "cell_type": "code",
   "execution_count": 375,
   "metadata": {},
   "outputs": [
    {
     "data": {
      "text/plain": [
       "Int64Index([0, 1, 7, 8, 10], dtype='int64')"
      ]
     },
     "execution_count": 375,
     "metadata": {},
     "output_type": "execute_result"
    }
   ],
   "source": [
    "youth.index"
   ]
  },
  {
   "cell_type": "markdown",
   "metadata": {},
   "source": [
    "difference(index) : index의 차집합을 구해줌"
   ]
  },
  {
   "cell_type": "code",
   "execution_count": 376,
   "metadata": {},
   "outputs": [
    {
     "data": {
      "text/plain": [
       "Int64Index([2, 3, 4, 5, 6, 9, 11, 12, 13], dtype='int64')"
      ]
     },
     "execution_count": 376,
     "metadata": {},
     "output_type": "execute_result"
    }
   ],
   "source": [
    "pd_data.index.difference(youth.index)"
   ]
  },
  {
   "cell_type": "code",
   "execution_count": 377,
   "metadata": {},
   "outputs": [
    {
     "data": {
      "text/html": [
       "<div>\n",
       "<style scoped>\n",
       "    .dataframe tbody tr th:only-of-type {\n",
       "        vertical-align: middle;\n",
       "    }\n",
       "\n",
       "    .dataframe tbody tr th {\n",
       "        vertical-align: top;\n",
       "    }\n",
       "\n",
       "    .dataframe thead th {\n",
       "        text-align: right;\n",
       "    }\n",
       "</style>\n",
       "<table border=\"1\" class=\"dataframe\">\n",
       "  <thead>\n",
       "    <tr style=\"text-align: right;\">\n",
       "      <th></th>\n",
       "      <th>RID</th>\n",
       "      <th>age</th>\n",
       "      <th>income</th>\n",
       "      <th>student</th>\n",
       "      <th>credit_rating</th>\n",
       "      <th>class_buys_computer</th>\n",
       "    </tr>\n",
       "  </thead>\n",
       "  <tbody>\n",
       "    <tr>\n",
       "      <th>2</th>\n",
       "      <td>3</td>\n",
       "      <td>middle_aged</td>\n",
       "      <td>high</td>\n",
       "      <td>no</td>\n",
       "      <td>fair</td>\n",
       "      <td>yes</td>\n",
       "    </tr>\n",
       "    <tr>\n",
       "      <th>3</th>\n",
       "      <td>4</td>\n",
       "      <td>senior</td>\n",
       "      <td>medium</td>\n",
       "      <td>no</td>\n",
       "      <td>fair</td>\n",
       "      <td>yes</td>\n",
       "    </tr>\n",
       "    <tr>\n",
       "      <th>4</th>\n",
       "      <td>5</td>\n",
       "      <td>senior</td>\n",
       "      <td>low</td>\n",
       "      <td>yes</td>\n",
       "      <td>fair</td>\n",
       "      <td>yes</td>\n",
       "    </tr>\n",
       "    <tr>\n",
       "      <th>5</th>\n",
       "      <td>6</td>\n",
       "      <td>senior</td>\n",
       "      <td>low</td>\n",
       "      <td>yes</td>\n",
       "      <td>excellent</td>\n",
       "      <td>no</td>\n",
       "    </tr>\n",
       "    <tr>\n",
       "      <th>6</th>\n",
       "      <td>7</td>\n",
       "      <td>middle_aged</td>\n",
       "      <td>low</td>\n",
       "      <td>yes</td>\n",
       "      <td>excellent</td>\n",
       "      <td>yes</td>\n",
       "    </tr>\n",
       "    <tr>\n",
       "      <th>9</th>\n",
       "      <td>10</td>\n",
       "      <td>senior</td>\n",
       "      <td>medium</td>\n",
       "      <td>yes</td>\n",
       "      <td>fair</td>\n",
       "      <td>yes</td>\n",
       "    </tr>\n",
       "    <tr>\n",
       "      <th>11</th>\n",
       "      <td>12</td>\n",
       "      <td>middle_aged</td>\n",
       "      <td>medium</td>\n",
       "      <td>no</td>\n",
       "      <td>excellent</td>\n",
       "      <td>yes</td>\n",
       "    </tr>\n",
       "    <tr>\n",
       "      <th>12</th>\n",
       "      <td>13</td>\n",
       "      <td>middle_aged</td>\n",
       "      <td>high</td>\n",
       "      <td>yes</td>\n",
       "      <td>fair</td>\n",
       "      <td>yes</td>\n",
       "    </tr>\n",
       "    <tr>\n",
       "      <th>13</th>\n",
       "      <td>14</td>\n",
       "      <td>senior</td>\n",
       "      <td>medium</td>\n",
       "      <td>no</td>\n",
       "      <td>excellent</td>\n",
       "      <td>no</td>\n",
       "    </tr>\n",
       "  </tbody>\n",
       "</table>\n",
       "</div>"
      ],
      "text/plain": [
       "    RID          age  income student credit_rating class_buys_computer\n",
       "2     3  middle_aged    high      no          fair                 yes\n",
       "3     4       senior  medium      no          fair                 yes\n",
       "4     5       senior     low     yes          fair                 yes\n",
       "5     6       senior     low     yes     excellent                  no\n",
       "6     7  middle_aged     low     yes     excellent                 yes\n",
       "9    10       senior  medium     yes          fair                 yes\n",
       "11   12  middle_aged  medium      no     excellent                 yes\n",
       "12   13  middle_aged    high     yes          fair                 yes\n",
       "13   14       senior  medium      no     excellent                  no"
      ]
     },
     "execution_count": 377,
     "metadata": {},
     "output_type": "execute_result"
    }
   ],
   "source": [
    "middle_senior = pd_data.loc[pd_data.index.difference(youth.index)]\n",
    "middle_senior"
   ]
  },
  {
   "cell_type": "markdown",
   "metadata": {},
   "source": [
    "### Gini Index 구하는 함수\n",
    "\n",
    "##### $ Gini(D) = \\sum_{i=1}^m p_i (1-p_i) = 1 - \\sum_{i=1}^m p_i^2 = 1 - \\sum_{i=1}^m \\frac{\\vert C_{i,D} \\vert}{\\vert D \\vert} $"
   ]
  },
  {
   "cell_type": "markdown",
   "metadata": {},
   "source": [
    "아래의 코드는 별로 좋은 코드 아님"
   ]
  },
  {
   "cell_type": "code",
   "execution_count": 378,
   "metadata": {},
   "outputs": [],
   "source": [
    "def get_gini(df):\n",
    "\n",
    "    buy_df = df.loc[df['class_buys_computer'] == 'yes']\n",
    "    not_buy_df = df.loc[df['class_buys_computer'] == 'no']\n",
    "\n",
    "    if len(buy_df) == 0:\n",
    "        buy_value = 0\n",
    "\n",
    "    else:\n",
    "        buy_value = len(buy_df)\n",
    "\n",
    "    if len(not_buy_df) == 0:\n",
    "        not_buy_value = 0\n",
    "\n",
    "    else:\n",
    "        not_buy_value = len(not_buy_df)\n",
    "\n",
    "    result = ( buy_value / len(df) ) ** 2 + ( not_buy_value / len(df) ) ** 2\n",
    "\n",
    "    return 1 - result\n",
    "    "
   ]
  },
  {
   "cell_type": "code",
   "execution_count": 379,
   "metadata": {},
   "outputs": [],
   "source": [
    "from itertools import chain, combinations"
   ]
  },
  {
   "cell_type": "markdown",
   "metadata": {},
   "source": [
    "결합되는 모든 경우의 수를 나타내는 함수"
   ]
  },
  {
   "cell_type": "code",
   "execution_count": 380,
   "metadata": {},
   "outputs": [],
   "source": [
    "def powerset(data):\n",
    "    listed_data = list(data)\n",
    "    chain_set = chain.from_iterable(combinations(listed_data, i) for i in range(len(listed_data)+1 ))\n",
    "\n",
    "    return [set_data for set_data in chain_set]"
   ]
  },
  {
   "cell_type": "code",
   "execution_count": 381,
   "metadata": {},
   "outputs": [
    {
     "data": {
      "text/plain": [
       "[(),\n",
       " ('youth',),\n",
       " ('middle_aged',),\n",
       " ('senior',),\n",
       " ('youth', 'middle_aged'),\n",
       " ('youth', 'senior'),\n",
       " ('middle_aged', 'senior'),\n",
       " ('youth', 'middle_aged', 'senior')]"
      ]
     },
     "execution_count": 381,
     "metadata": {},
     "output_type": "execute_result"
    }
   ],
   "source": [
    "powerset(pd_data['age'].unique())"
   ]
  },
  {
   "cell_type": "code",
   "execution_count": 382,
   "metadata": {},
   "outputs": [],
   "source": [
    "def get_binary_split(df, attribute):\n",
    "    powerset_data = powerset( df[attribute].unique() )\n",
    "    result = []\n",
    "\n",
    "    # ()와 같이 0이 되는 것은 빼주기\n",
    "    result = [ data for data in powerset_data if len(data) != 0]\n",
    "    print('result:', result)\n",
    "\n",
    "    # 모든 값이 포함되어 있는 것은 빼주기\n",
    "    result = [set(data) for data in result if len(data) != len(df[attribute].unique())]\n",
    "\n",
    "    return result"
   ]
  },
  {
   "cell_type": "code",
   "execution_count": 383,
   "metadata": {},
   "outputs": [
    {
     "name": "stdout",
     "output_type": "stream",
     "text": [
      "result: [('youth',), ('middle_aged',), ('senior',), ('youth', 'middle_aged'), ('youth', 'senior'), ('middle_aged', 'senior'), ('youth', 'middle_aged', 'senior')]\n"
     ]
    },
    {
     "data": {
      "text/plain": [
       "[{'youth'},\n",
       " {'middle_aged'},\n",
       " {'senior'},\n",
       " {'middle_aged', 'youth'},\n",
       " {'senior', 'youth'},\n",
       " {'middle_aged', 'senior'}]"
      ]
     },
     "execution_count": 383,
     "metadata": {},
     "output_type": "execute_result"
    }
   ],
   "source": [
    "get_binary_split(pd_data, 'age')"
   ]
  },
  {
   "cell_type": "markdown",
   "metadata": {},
   "source": [
    "### Gini Index 구하는 함수"
   ]
  },
  {
   "cell_type": "code",
   "execution_count": 384,
   "metadata": {},
   "outputs": [],
   "source": [
    "def get_attribute_gini_index(df, attribute_name):\n",
    "\n",
    "    # 모든 경우의 수 구하기\n",
    "    split_attributes = get_binary_split(pd_data, attribute_name)\n",
    "\n",
    "    result = {}\n",
    "\n",
    "    for split_attr in split_attributes:\n",
    "        indexes = [df.loc[df[attribute_name] == attr ].index for attr in split_attr]\n",
    "\n",
    "        d1_index = indexes[0]\n",
    "\n",
    "        for index in indexes[1:]:\n",
    "            # union : 합집합\n",
    "            d1_index = d1_index.union(index)\n",
    "            \n",
    "        d2_index = df.index.difference(d1_index)\n",
    "\n",
    "        d1_gini = (len(d1_index) / len(df)) * get_gini(df.loc[d1_index])\n",
    "        d2_gini = (len(d2_index) / len(df)) * get_gini(df.loc[d2_index])\n",
    "        d_split_gini = d1_gini + d2_gini\n",
    "\n",
    "        result['_'.join(split_attr)] = d_split_gini\n",
    "\n",
    "    return result\n"
   ]
  },
  {
   "cell_type": "code",
   "execution_count": 385,
   "metadata": {},
   "outputs": [
    {
     "name": "stdout",
     "output_type": "stream",
     "text": [
      "result: [('youth',), ('middle_aged',), ('senior',), ('youth', 'middle_aged'), ('youth', 'senior'), ('middle_aged', 'senior'), ('youth', 'middle_aged', 'senior')]\n"
     ]
    },
    {
     "data": {
      "text/plain": [
       "{'youth': 0.3936507936507937,\n",
       " 'middle_aged': 0.35714285714285715,\n",
       " 'senior': 0.45714285714285713,\n",
       " 'youth_middle_aged': 0.45714285714285713,\n",
       " 'youth_senior': 0.35714285714285715,\n",
       " 'senior_middle_aged': 0.3936507936507937}"
      ]
     },
     "execution_count": 385,
     "metadata": {},
     "output_type": "execute_result"
    }
   ],
   "source": [
    "get_attribute_gini_index(pd_data, 'age')"
   ]
  },
  {
   "cell_type": "markdown",
   "metadata": {},
   "source": [
    "위의 결과를 보면 senior와 middle_aged_youth가 동일한 값을 가지는 것을 볼 수 있다.  \n",
    "이는, senior일 경우에 나머지가 middle_aged_youth이고, 반대도 동일하기 때문이다."
   ]
  },
  {
   "cell_type": "code",
   "execution_count": 386,
   "metadata": {},
   "outputs": [
    {
     "name": "stdout",
     "output_type": "stream",
     "text": [
      "result: [('fair',), ('excellent',), ('fair', 'excellent')]\n"
     ]
    },
    {
     "data": {
      "text/plain": [
       "{'fair': 0.42857142857142855, 'excellent': 0.42857142857142855}"
      ]
     },
     "execution_count": 386,
     "metadata": {},
     "output_type": "execute_result"
    }
   ],
   "source": [
    "get_attribute_gini_index(pd_data, 'credit_rating')"
   ]
  },
  {
   "cell_type": "code",
   "execution_count": 387,
   "metadata": {},
   "outputs": [
    {
     "name": "stdout",
     "output_type": "stream",
     "text": [
      "result: [('no',), ('yes',), ('no', 'yes')]\n"
     ]
    },
    {
     "data": {
      "text/plain": [
       "{'no': 0.3673469387755103, 'yes': 0.3673469387755103}"
      ]
     },
     "execution_count": 387,
     "metadata": {},
     "output_type": "execute_result"
    }
   ],
   "source": [
    "get_attribute_gini_index(pd_data, 'student')"
   ]
  },
  {
   "cell_type": "markdown",
   "metadata": {},
   "source": [
    "## 5️⃣ Tree prunning (Tree 가지치기)\n",
    "\n",
    "### Decision Tree 생성 시 문제점\n",
    "- class의 leaf node의 결정\n",
    "\n",
    "- 복잡하게 너무 많은 가지가 생길 경우 $\\rightarrow$ Overfitting\n",
    "\n",
    "- impurity or variance는 낮은데, 노드에 데이터가 1개\n",
    "\n",
    "- 어떤 시점에서 트리 가지치기 해야할 지 결정이 중요\n",
    "\n",
    "### Pre-prunnig\n",
    ": Tree 생성 전에 정해주는 거  \n",
    "\n",
    "Ex) hyperparameter로 Tree depth, leaf node의 개수 제한 등등 사전에 지정\n",
    "\n",
    "- Tree 생성 시, 일정 기준 이하면 노드 생성 X\n",
    "    \n",
    "    $\\Rightarrow$ 하위 노드 개수, 하위 노드의 label 비율 (Ex : 한쪽이 95?)\n",
    "\n",
    "- Threshold를 잡아줘야 하는 어려움, CHAID등 사용\n",
    "\n",
    "- 계산 효율이 좋고 작은 데이터셋에서 잘 작동\n",
    "\n",
    "- 속성을 놓칠 수 있음, underfitting 가능성이 $\\uparrow$\n",
    "\n",
    "### Post-prunnig\n",
    "- Tree 생성 후 Tree의 오차율 최소화를 위해 실행\n",
    "\n",
    "- 오분류율 최소화, cost complexity 최소화 등을 사용\n",
    "\n",
    "- 검증을 위한 validation set을 따로 생성\n",
    "\n",
    "![error](./img/Error.PNG)\n",
    "\n",
    "어느 정도의 node 수를 초과하게 되면 Test Dataset의 Error가 $\\uparrow$ \n",
    "\n",
    "$\\Rightarrow$ 어느 정도 node의 수가 되었을 때 잘라야함"
   ]
  },
  {
   "cell_type": "markdown",
   "metadata": {},
   "source": [
    "## 6️⃣ Decision tree with scikit-learn\n",
    "\n",
    "```\n",
    "sklearn.tree.DecisionTreeClassifier\n",
    "```\n",
    "\n",
    "- criterion (분류 기준)  \n",
    ": string, optional (default = 'gini)  \n",
    "Decision Tree를 구현하는 거는 CART 알고리즘을 많이 사용\n",
    "\n",
    "- max_depth  \n",
    ": Overfitting 방지  \n",
    "int or None, optional (default = None)\n",
    "\n",
    "- min_samples_split  \n",
    ": 최소한의 sample의 개수 이상이어야 split할 거임  \n",
    "int, float, optional (default = 2)\n",
    "\n",
    "- min_samples_leaf  \n",
    ": leaf가 적어도 몇개이상일 때 넘어감  \n",
    "int, float, optional (default = 1)\n",
    "\n",
    "- max_features  \n",
    ": split할 feature의 최대 개수  \n",
    "int, float, string or None, optional (default = None)\n",
    "\n",
    "- max_leaf_nodes  \n",
    "int or None, oprional (default = None)\n",
    "\n",
    "### Casestudy -Titanic\n",
    ": Titanic에 탑승한 승객 정보를 승객의 구출 여부 결정"
   ]
  },
  {
   "cell_type": "code",
   "execution_count": 388,
   "metadata": {},
   "outputs": [],
   "source": [
    "import pandas as pd\n",
    "import warnings\n",
    "warnings.filterwarnings(action = 'ignore')"
   ]
  },
  {
   "cell_type": "markdown",
   "metadata": {},
   "source": [
    "### Load Dataset"
   ]
  },
  {
   "cell_type": "code",
   "execution_count": 389,
   "metadata": {},
   "outputs": [
    {
     "data": {
      "text/html": [
       "<div>\n",
       "<style scoped>\n",
       "    .dataframe tbody tr th:only-of-type {\n",
       "        vertical-align: middle;\n",
       "    }\n",
       "\n",
       "    .dataframe tbody tr th {\n",
       "        vertical-align: top;\n",
       "    }\n",
       "\n",
       "    .dataframe thead th {\n",
       "        text-align: right;\n",
       "    }\n",
       "</style>\n",
       "<table border=\"1\" class=\"dataframe\">\n",
       "  <thead>\n",
       "    <tr style=\"text-align: right;\">\n",
       "      <th></th>\n",
       "      <th>PassengerId</th>\n",
       "      <th>Survived</th>\n",
       "      <th>Pclass</th>\n",
       "      <th>Name</th>\n",
       "      <th>Sex</th>\n",
       "      <th>Age</th>\n",
       "      <th>SibSp</th>\n",
       "      <th>Parch</th>\n",
       "      <th>Ticket</th>\n",
       "      <th>Fare</th>\n",
       "      <th>Cabin</th>\n",
       "      <th>Embarked</th>\n",
       "    </tr>\n",
       "  </thead>\n",
       "  <tbody>\n",
       "    <tr>\n",
       "      <th>0</th>\n",
       "      <td>1</td>\n",
       "      <td>0</td>\n",
       "      <td>3</td>\n",
       "      <td>Braund, Mr. Owen Harris</td>\n",
       "      <td>male</td>\n",
       "      <td>22.0</td>\n",
       "      <td>1</td>\n",
       "      <td>0</td>\n",
       "      <td>A/5 21171</td>\n",
       "      <td>7.2500</td>\n",
       "      <td>NaN</td>\n",
       "      <td>S</td>\n",
       "    </tr>\n",
       "    <tr>\n",
       "      <th>1</th>\n",
       "      <td>2</td>\n",
       "      <td>1</td>\n",
       "      <td>1</td>\n",
       "      <td>Cumings, Mrs. John Bradley (Florence Briggs Th...</td>\n",
       "      <td>female</td>\n",
       "      <td>38.0</td>\n",
       "      <td>1</td>\n",
       "      <td>0</td>\n",
       "      <td>PC 17599</td>\n",
       "      <td>71.2833</td>\n",
       "      <td>C85</td>\n",
       "      <td>C</td>\n",
       "    </tr>\n",
       "    <tr>\n",
       "      <th>2</th>\n",
       "      <td>3</td>\n",
       "      <td>1</td>\n",
       "      <td>3</td>\n",
       "      <td>Heikkinen, Miss. Laina</td>\n",
       "      <td>female</td>\n",
       "      <td>26.0</td>\n",
       "      <td>0</td>\n",
       "      <td>0</td>\n",
       "      <td>STON/O2. 3101282</td>\n",
       "      <td>7.9250</td>\n",
       "      <td>NaN</td>\n",
       "      <td>S</td>\n",
       "    </tr>\n",
       "    <tr>\n",
       "      <th>3</th>\n",
       "      <td>4</td>\n",
       "      <td>1</td>\n",
       "      <td>1</td>\n",
       "      <td>Futrelle, Mrs. Jacques Heath (Lily May Peel)</td>\n",
       "      <td>female</td>\n",
       "      <td>35.0</td>\n",
       "      <td>1</td>\n",
       "      <td>0</td>\n",
       "      <td>113803</td>\n",
       "      <td>53.1000</td>\n",
       "      <td>C123</td>\n",
       "      <td>S</td>\n",
       "    </tr>\n",
       "    <tr>\n",
       "      <th>4</th>\n",
       "      <td>5</td>\n",
       "      <td>0</td>\n",
       "      <td>3</td>\n",
       "      <td>Allen, Mr. William Henry</td>\n",
       "      <td>male</td>\n",
       "      <td>35.0</td>\n",
       "      <td>0</td>\n",
       "      <td>0</td>\n",
       "      <td>373450</td>\n",
       "      <td>8.0500</td>\n",
       "      <td>NaN</td>\n",
       "      <td>S</td>\n",
       "    </tr>\n",
       "  </tbody>\n",
       "</table>\n",
       "</div>"
      ],
      "text/plain": [
       "   PassengerId  Survived  Pclass  \\\n",
       "0            1         0       3   \n",
       "1            2         1       1   \n",
       "2            3         1       3   \n",
       "3            4         1       1   \n",
       "4            5         0       3   \n",
       "\n",
       "                                                Name     Sex   Age  SibSp  \\\n",
       "0                            Braund, Mr. Owen Harris    male  22.0      1   \n",
       "1  Cumings, Mrs. John Bradley (Florence Briggs Th...  female  38.0      1   \n",
       "2                             Heikkinen, Miss. Laina  female  26.0      0   \n",
       "3       Futrelle, Mrs. Jacques Heath (Lily May Peel)  female  35.0      1   \n",
       "4                           Allen, Mr. William Henry    male  35.0      0   \n",
       "\n",
       "   Parch            Ticket     Fare Cabin Embarked  \n",
       "0      0         A/5 21171   7.2500   NaN        S  \n",
       "1      0          PC 17599  71.2833   C85        C  \n",
       "2      0  STON/O2. 3101282   7.9250   NaN        S  \n",
       "3      0            113803  53.1000  C123        S  \n",
       "4      0            373450   8.0500   NaN        S  "
      ]
     },
     "execution_count": 389,
     "metadata": {},
     "output_type": "execute_result"
    }
   ],
   "source": [
    "train_df = pd.read_csv('https://raw.githubusercontent.com/TeamLab/machine_learning_from_scratch_with_python/master/code/ch12/titanic/train.csv')\n",
    "train_df.head()"
   ]
  },
  {
   "cell_type": "code",
   "execution_count": 390,
   "metadata": {},
   "outputs": [
    {
     "data": {
      "text/html": [
       "<div>\n",
       "<style scoped>\n",
       "    .dataframe tbody tr th:only-of-type {\n",
       "        vertical-align: middle;\n",
       "    }\n",
       "\n",
       "    .dataframe tbody tr th {\n",
       "        vertical-align: top;\n",
       "    }\n",
       "\n",
       "    .dataframe thead th {\n",
       "        text-align: right;\n",
       "    }\n",
       "</style>\n",
       "<table border=\"1\" class=\"dataframe\">\n",
       "  <thead>\n",
       "    <tr style=\"text-align: right;\">\n",
       "      <th></th>\n",
       "      <th>PassengerId</th>\n",
       "      <th>Pclass</th>\n",
       "      <th>Name</th>\n",
       "      <th>Sex</th>\n",
       "      <th>Age</th>\n",
       "      <th>SibSp</th>\n",
       "      <th>Parch</th>\n",
       "      <th>Ticket</th>\n",
       "      <th>Fare</th>\n",
       "      <th>Cabin</th>\n",
       "      <th>Embarked</th>\n",
       "    </tr>\n",
       "  </thead>\n",
       "  <tbody>\n",
       "    <tr>\n",
       "      <th>0</th>\n",
       "      <td>892</td>\n",
       "      <td>3</td>\n",
       "      <td>Kelly, Mr. James</td>\n",
       "      <td>male</td>\n",
       "      <td>34.5</td>\n",
       "      <td>0</td>\n",
       "      <td>0</td>\n",
       "      <td>330911</td>\n",
       "      <td>7.8292</td>\n",
       "      <td>NaN</td>\n",
       "      <td>Q</td>\n",
       "    </tr>\n",
       "    <tr>\n",
       "      <th>1</th>\n",
       "      <td>893</td>\n",
       "      <td>3</td>\n",
       "      <td>Wilkes, Mrs. James (Ellen Needs)</td>\n",
       "      <td>female</td>\n",
       "      <td>47.0</td>\n",
       "      <td>1</td>\n",
       "      <td>0</td>\n",
       "      <td>363272</td>\n",
       "      <td>7.0000</td>\n",
       "      <td>NaN</td>\n",
       "      <td>S</td>\n",
       "    </tr>\n",
       "    <tr>\n",
       "      <th>2</th>\n",
       "      <td>894</td>\n",
       "      <td>2</td>\n",
       "      <td>Myles, Mr. Thomas Francis</td>\n",
       "      <td>male</td>\n",
       "      <td>62.0</td>\n",
       "      <td>0</td>\n",
       "      <td>0</td>\n",
       "      <td>240276</td>\n",
       "      <td>9.6875</td>\n",
       "      <td>NaN</td>\n",
       "      <td>Q</td>\n",
       "    </tr>\n",
       "    <tr>\n",
       "      <th>3</th>\n",
       "      <td>895</td>\n",
       "      <td>3</td>\n",
       "      <td>Wirz, Mr. Albert</td>\n",
       "      <td>male</td>\n",
       "      <td>27.0</td>\n",
       "      <td>0</td>\n",
       "      <td>0</td>\n",
       "      <td>315154</td>\n",
       "      <td>8.6625</td>\n",
       "      <td>NaN</td>\n",
       "      <td>S</td>\n",
       "    </tr>\n",
       "    <tr>\n",
       "      <th>4</th>\n",
       "      <td>896</td>\n",
       "      <td>3</td>\n",
       "      <td>Hirvonen, Mrs. Alexander (Helga E Lindqvist)</td>\n",
       "      <td>female</td>\n",
       "      <td>22.0</td>\n",
       "      <td>1</td>\n",
       "      <td>1</td>\n",
       "      <td>3101298</td>\n",
       "      <td>12.2875</td>\n",
       "      <td>NaN</td>\n",
       "      <td>S</td>\n",
       "    </tr>\n",
       "  </tbody>\n",
       "</table>\n",
       "</div>"
      ],
      "text/plain": [
       "   PassengerId  Pclass                                          Name     Sex  \\\n",
       "0          892       3                              Kelly, Mr. James    male   \n",
       "1          893       3              Wilkes, Mrs. James (Ellen Needs)  female   \n",
       "2          894       2                     Myles, Mr. Thomas Francis    male   \n",
       "3          895       3                              Wirz, Mr. Albert    male   \n",
       "4          896       3  Hirvonen, Mrs. Alexander (Helga E Lindqvist)  female   \n",
       "\n",
       "    Age  SibSp  Parch   Ticket     Fare Cabin Embarked  \n",
       "0  34.5      0      0   330911   7.8292   NaN        Q  \n",
       "1  47.0      1      0   363272   7.0000   NaN        S  \n",
       "2  62.0      0      0   240276   9.6875   NaN        Q  \n",
       "3  27.0      0      0   315154   8.6625   NaN        S  \n",
       "4  22.0      1      1  3101298  12.2875   NaN        S  "
      ]
     },
     "execution_count": 390,
     "metadata": {},
     "output_type": "execute_result"
    }
   ],
   "source": [
    "test_df = pd.read_csv('https://raw.githubusercontent.com/TeamLab/machine_learning_from_scratch_with_python/master/code/ch12/titanic/test.csv')\n",
    "test_df.head()"
   ]
  },
  {
   "cell_type": "code",
   "execution_count": 391,
   "metadata": {},
   "outputs": [
    {
     "data": {
      "text/plain": [
       "(891, 418)"
      ]
     },
     "execution_count": 391,
     "metadata": {},
     "output_type": "execute_result"
    }
   ],
   "source": [
    "len(train_df), len(test_df)"
   ]
  },
  {
   "cell_type": "code",
   "execution_count": 392,
   "metadata": {},
   "outputs": [
    {
     "data": {
      "text/plain": [
       "(891, 1309)"
      ]
     },
     "execution_count": 392,
     "metadata": {},
     "output_type": "execute_result"
    }
   ],
   "source": [
    "train_id = train_df['PassengerId'].values\n",
    "test_id = test_df['PassengerId'].values\n",
    "\n",
    "train_id[-1], test_id[-1]"
   ]
  },
  {
   "cell_type": "code",
   "execution_count": 393,
   "metadata": {},
   "outputs": [
    {
     "data": {
      "text/html": [
       "<div>\n",
       "<style scoped>\n",
       "    .dataframe tbody tr th:only-of-type {\n",
       "        vertical-align: middle;\n",
       "    }\n",
       "\n",
       "    .dataframe tbody tr th {\n",
       "        vertical-align: top;\n",
       "    }\n",
       "\n",
       "    .dataframe thead th {\n",
       "        text-align: right;\n",
       "    }\n",
       "</style>\n",
       "<table border=\"1\" class=\"dataframe\">\n",
       "  <thead>\n",
       "    <tr style=\"text-align: right;\">\n",
       "      <th></th>\n",
       "      <th>Survived</th>\n",
       "      <th>Pclass</th>\n",
       "      <th>Name</th>\n",
       "      <th>Sex</th>\n",
       "      <th>Age</th>\n",
       "      <th>SibSp</th>\n",
       "      <th>Parch</th>\n",
       "      <th>Ticket</th>\n",
       "      <th>Fare</th>\n",
       "      <th>Cabin</th>\n",
       "      <th>Embarked</th>\n",
       "    </tr>\n",
       "    <tr>\n",
       "      <th>PassengerId</th>\n",
       "      <th></th>\n",
       "      <th></th>\n",
       "      <th></th>\n",
       "      <th></th>\n",
       "      <th></th>\n",
       "      <th></th>\n",
       "      <th></th>\n",
       "      <th></th>\n",
       "      <th></th>\n",
       "      <th></th>\n",
       "      <th></th>\n",
       "    </tr>\n",
       "  </thead>\n",
       "  <tbody>\n",
       "    <tr>\n",
       "      <th>1</th>\n",
       "      <td>0.0</td>\n",
       "      <td>3</td>\n",
       "      <td>Braund, Mr. Owen Harris</td>\n",
       "      <td>male</td>\n",
       "      <td>22.0</td>\n",
       "      <td>1</td>\n",
       "      <td>0</td>\n",
       "      <td>A/5 21171</td>\n",
       "      <td>7.2500</td>\n",
       "      <td>NaN</td>\n",
       "      <td>S</td>\n",
       "    </tr>\n",
       "    <tr>\n",
       "      <th>2</th>\n",
       "      <td>1.0</td>\n",
       "      <td>1</td>\n",
       "      <td>Cumings, Mrs. John Bradley (Florence Briggs Th...</td>\n",
       "      <td>female</td>\n",
       "      <td>38.0</td>\n",
       "      <td>1</td>\n",
       "      <td>0</td>\n",
       "      <td>PC 17599</td>\n",
       "      <td>71.2833</td>\n",
       "      <td>C85</td>\n",
       "      <td>C</td>\n",
       "    </tr>\n",
       "    <tr>\n",
       "      <th>3</th>\n",
       "      <td>1.0</td>\n",
       "      <td>3</td>\n",
       "      <td>Heikkinen, Miss. Laina</td>\n",
       "      <td>female</td>\n",
       "      <td>26.0</td>\n",
       "      <td>0</td>\n",
       "      <td>0</td>\n",
       "      <td>STON/O2. 3101282</td>\n",
       "      <td>7.9250</td>\n",
       "      <td>NaN</td>\n",
       "      <td>S</td>\n",
       "    </tr>\n",
       "    <tr>\n",
       "      <th>4</th>\n",
       "      <td>1.0</td>\n",
       "      <td>1</td>\n",
       "      <td>Futrelle, Mrs. Jacques Heath (Lily May Peel)</td>\n",
       "      <td>female</td>\n",
       "      <td>35.0</td>\n",
       "      <td>1</td>\n",
       "      <td>0</td>\n",
       "      <td>113803</td>\n",
       "      <td>53.1000</td>\n",
       "      <td>C123</td>\n",
       "      <td>S</td>\n",
       "    </tr>\n",
       "    <tr>\n",
       "      <th>5</th>\n",
       "      <td>0.0</td>\n",
       "      <td>3</td>\n",
       "      <td>Allen, Mr. William Henry</td>\n",
       "      <td>male</td>\n",
       "      <td>35.0</td>\n",
       "      <td>0</td>\n",
       "      <td>0</td>\n",
       "      <td>373450</td>\n",
       "      <td>8.0500</td>\n",
       "      <td>NaN</td>\n",
       "      <td>S</td>\n",
       "    </tr>\n",
       "  </tbody>\n",
       "</table>\n",
       "</div>"
      ],
      "text/plain": [
       "             Survived  Pclass  \\\n",
       "PassengerId                     \n",
       "1                 0.0       3   \n",
       "2                 1.0       1   \n",
       "3                 1.0       3   \n",
       "4                 1.0       1   \n",
       "5                 0.0       3   \n",
       "\n",
       "                                                          Name     Sex   Age  \\\n",
       "PassengerId                                                                    \n",
       "1                                      Braund, Mr. Owen Harris    male  22.0   \n",
       "2            Cumings, Mrs. John Bradley (Florence Briggs Th...  female  38.0   \n",
       "3                                       Heikkinen, Miss. Laina  female  26.0   \n",
       "4                 Futrelle, Mrs. Jacques Heath (Lily May Peel)  female  35.0   \n",
       "5                                     Allen, Mr. William Henry    male  35.0   \n",
       "\n",
       "             SibSp  Parch            Ticket     Fare Cabin Embarked  \n",
       "PassengerId                                                          \n",
       "1                1      0         A/5 21171   7.2500   NaN        S  \n",
       "2                1      0          PC 17599  71.2833   C85        C  \n",
       "3                0      0  STON/O2. 3101282   7.9250   NaN        S  \n",
       "4                1      0            113803  53.1000  C123        S  \n",
       "5                0      0            373450   8.0500   NaN        S  "
      ]
     },
     "execution_count": 393,
     "metadata": {},
     "output_type": "execute_result"
    }
   ],
   "source": [
    "all_df = train_df.append(test_df).set_index('PassengerId')\n",
    "all_df.head()"
   ]
  },
  {
   "cell_type": "markdown",
   "metadata": {},
   "source": [
    "### 데이터 전처리"
   ]
  },
  {
   "cell_type": "markdown",
   "metadata": {},
   "source": [
    "성별 재할당 : 남 $\\rightarrow$ 0, 여 $\\rightarrow$ 1"
   ]
  },
  {
   "cell_type": "code",
   "execution_count": 394,
   "metadata": {},
   "outputs": [
    {
     "data": {
      "text/html": [
       "<div>\n",
       "<style scoped>\n",
       "    .dataframe tbody tr th:only-of-type {\n",
       "        vertical-align: middle;\n",
       "    }\n",
       "\n",
       "    .dataframe tbody tr th {\n",
       "        vertical-align: top;\n",
       "    }\n",
       "\n",
       "    .dataframe thead th {\n",
       "        text-align: right;\n",
       "    }\n",
       "</style>\n",
       "<table border=\"1\" class=\"dataframe\">\n",
       "  <thead>\n",
       "    <tr style=\"text-align: right;\">\n",
       "      <th></th>\n",
       "      <th>Survived</th>\n",
       "      <th>Pclass</th>\n",
       "      <th>Name</th>\n",
       "      <th>Sex</th>\n",
       "      <th>Age</th>\n",
       "      <th>SibSp</th>\n",
       "      <th>Parch</th>\n",
       "      <th>Ticket</th>\n",
       "      <th>Fare</th>\n",
       "      <th>Cabin</th>\n",
       "      <th>Embarked</th>\n",
       "    </tr>\n",
       "    <tr>\n",
       "      <th>PassengerId</th>\n",
       "      <th></th>\n",
       "      <th></th>\n",
       "      <th></th>\n",
       "      <th></th>\n",
       "      <th></th>\n",
       "      <th></th>\n",
       "      <th></th>\n",
       "      <th></th>\n",
       "      <th></th>\n",
       "      <th></th>\n",
       "      <th></th>\n",
       "    </tr>\n",
       "  </thead>\n",
       "  <tbody>\n",
       "    <tr>\n",
       "      <th>1</th>\n",
       "      <td>0.0</td>\n",
       "      <td>3</td>\n",
       "      <td>Braund, Mr. Owen Harris</td>\n",
       "      <td>0</td>\n",
       "      <td>22.0</td>\n",
       "      <td>1</td>\n",
       "      <td>0</td>\n",
       "      <td>A/5 21171</td>\n",
       "      <td>7.2500</td>\n",
       "      <td>NaN</td>\n",
       "      <td>S</td>\n",
       "    </tr>\n",
       "    <tr>\n",
       "      <th>2</th>\n",
       "      <td>1.0</td>\n",
       "      <td>1</td>\n",
       "      <td>Cumings, Mrs. John Bradley (Florence Briggs Th...</td>\n",
       "      <td>1</td>\n",
       "      <td>38.0</td>\n",
       "      <td>1</td>\n",
       "      <td>0</td>\n",
       "      <td>PC 17599</td>\n",
       "      <td>71.2833</td>\n",
       "      <td>C85</td>\n",
       "      <td>C</td>\n",
       "    </tr>\n",
       "    <tr>\n",
       "      <th>3</th>\n",
       "      <td>1.0</td>\n",
       "      <td>3</td>\n",
       "      <td>Heikkinen, Miss. Laina</td>\n",
       "      <td>1</td>\n",
       "      <td>26.0</td>\n",
       "      <td>0</td>\n",
       "      <td>0</td>\n",
       "      <td>STON/O2. 3101282</td>\n",
       "      <td>7.9250</td>\n",
       "      <td>NaN</td>\n",
       "      <td>S</td>\n",
       "    </tr>\n",
       "    <tr>\n",
       "      <th>4</th>\n",
       "      <td>1.0</td>\n",
       "      <td>1</td>\n",
       "      <td>Futrelle, Mrs. Jacques Heath (Lily May Peel)</td>\n",
       "      <td>1</td>\n",
       "      <td>35.0</td>\n",
       "      <td>1</td>\n",
       "      <td>0</td>\n",
       "      <td>113803</td>\n",
       "      <td>53.1000</td>\n",
       "      <td>C123</td>\n",
       "      <td>S</td>\n",
       "    </tr>\n",
       "    <tr>\n",
       "      <th>5</th>\n",
       "      <td>0.0</td>\n",
       "      <td>3</td>\n",
       "      <td>Allen, Mr. William Henry</td>\n",
       "      <td>0</td>\n",
       "      <td>35.0</td>\n",
       "      <td>0</td>\n",
       "      <td>0</td>\n",
       "      <td>373450</td>\n",
       "      <td>8.0500</td>\n",
       "      <td>NaN</td>\n",
       "      <td>S</td>\n",
       "    </tr>\n",
       "  </tbody>\n",
       "</table>\n",
       "</div>"
      ],
      "text/plain": [
       "             Survived  Pclass  \\\n",
       "PassengerId                     \n",
       "1                 0.0       3   \n",
       "2                 1.0       1   \n",
       "3                 1.0       3   \n",
       "4                 1.0       1   \n",
       "5                 0.0       3   \n",
       "\n",
       "                                                          Name  Sex   Age  \\\n",
       "PassengerId                                                                 \n",
       "1                                      Braund, Mr. Owen Harris    0  22.0   \n",
       "2            Cumings, Mrs. John Bradley (Florence Briggs Th...    1  38.0   \n",
       "3                                       Heikkinen, Miss. Laina    1  26.0   \n",
       "4                 Futrelle, Mrs. Jacques Heath (Lily May Peel)    1  35.0   \n",
       "5                                     Allen, Mr. William Henry    0  35.0   \n",
       "\n",
       "             SibSp  Parch            Ticket     Fare Cabin Embarked  \n",
       "PassengerId                                                          \n",
       "1                1      0         A/5 21171   7.2500   NaN        S  \n",
       "2                1      0          PC 17599  71.2833   C85        C  \n",
       "3                0      0  STON/O2. 3101282   7.9250   NaN        S  \n",
       "4                1      0            113803  53.1000  C123        S  \n",
       "5                0      0            373450   8.0500   NaN        S  "
      ]
     },
     "execution_count": 394,
     "metadata": {},
     "output_type": "execute_result"
    }
   ],
   "source": [
    "all_df[\"Sex\"] = all_df[\"Sex\"].replace({\"male\":0,\"female\":1})\n",
    "all_df.head()"
   ]
  },
  {
   "cell_type": "markdown",
   "metadata": {},
   "source": [
    "### 결측치 확인"
   ]
  },
  {
   "cell_type": "code",
   "execution_count": 395,
   "metadata": {},
   "outputs": [
    {
     "data": {
      "text/plain": [
       "Survived     418\n",
       "Pclass         0\n",
       "Name           0\n",
       "Sex            0\n",
       "Age          263\n",
       "SibSp          0\n",
       "Parch          0\n",
       "Ticket         0\n",
       "Fare           1\n",
       "Cabin       1014\n",
       "Embarked       2\n",
       "dtype: int64"
      ]
     },
     "execution_count": 395,
     "metadata": {},
     "output_type": "execute_result"
    }
   ],
   "source": [
    "all_df.isnull().sum()"
   ]
  },
  {
   "cell_type": "markdown",
   "metadata": {},
   "source": [
    "### Age 결측치 처리"
   ]
  },
  {
   "cell_type": "code",
   "execution_count": 396,
   "metadata": {},
   "outputs": [
    {
     "data": {
      "text/plain": [
       "PassengerId\n",
       "1       24.816367\n",
       "2       39.159930\n",
       "3       24.816367\n",
       "4       39.159930\n",
       "5       24.816367\n",
       "          ...    \n",
       "1305    24.816367\n",
       "1306    39.159930\n",
       "1307    24.816367\n",
       "1308    24.816367\n",
       "1309    24.816367\n",
       "Name: Age, Length: 1309, dtype: float64"
      ]
     },
     "execution_count": 396,
     "metadata": {},
     "output_type": "execute_result"
    }
   ],
   "source": [
    "all_df.groupby(\"Pclass\")[\"Age\"].transform(\"mean\")"
   ]
  },
  {
   "cell_type": "code",
   "execution_count": 397,
   "metadata": {},
   "outputs": [
    {
     "data": {
      "text/plain": [
       "Survived     418\n",
       "Pclass         0\n",
       "Name           0\n",
       "Sex            0\n",
       "Age            0\n",
       "SibSp          0\n",
       "Parch          0\n",
       "Ticket         0\n",
       "Fare           1\n",
       "Cabin       1014\n",
       "Embarked       2\n",
       "dtype: int64"
      ]
     },
     "execution_count": 397,
     "metadata": {},
     "output_type": "execute_result"
    }
   ],
   "source": [
    "all_df['Age'].fillna(all_df.groupby('Pclass')['Age'].transform('mean'), inplace = True)\n",
    "\n",
    "all_df.isnull().sum()"
   ]
  },
  {
   "cell_type": "markdown",
   "metadata": {},
   "source": [
    "### Cabin 결측치 처리\n",
    "짐을 많이 들고다니면 돈이 많지 않을까 라고 생각했대"
   ]
  },
  {
   "cell_type": "code",
   "execution_count": 398,
   "metadata": {},
   "outputs": [
    {
     "data": {
      "text/plain": [
       "array([nan, 'C85', 'C123', 'E46', 'G6', 'C103', 'D56', 'A6',\n",
       "       'C23 C25 C27', 'B78', 'D33', 'B30', 'C52', 'B28', 'C83', 'F33',\n",
       "       'F G73', 'E31', 'A5', 'D10 D12', 'D26', 'C110', 'B58 B60', 'E101',\n",
       "       'F E69', 'D47', 'B86', 'F2', 'C2', 'E33', 'B19', 'A7', 'C49', 'F4',\n",
       "       'A32', 'B4', 'B80', 'A31', 'D36', 'D15', 'C93', 'C78', 'D35',\n",
       "       'C87', 'B77', 'E67', 'B94', 'C125', 'C99', 'C118', 'D7', 'A19',\n",
       "       'B49', 'D', 'C22 C26', 'C106', 'C65', 'E36', 'C54',\n",
       "       'B57 B59 B63 B66', 'C7', 'E34', 'C32', 'B18', 'C124', 'C91', 'E40',\n",
       "       'T', 'C128', 'D37', 'B35', 'E50', 'C82', 'B96 B98', 'E10', 'E44',\n",
       "       'A34', 'C104', 'C111', 'C92', 'E38', 'D21', 'E12', 'E63', 'A14',\n",
       "       'B37', 'C30', 'D20', 'B79', 'E25', 'D46', 'B73', 'C95', 'B38',\n",
       "       'B39', 'B22', 'C86', 'C70', 'A16', 'C101', 'C68', 'A10', 'E68',\n",
       "       'B41', 'A20', 'D19', 'D50', 'D9', 'A23', 'B50', 'A26', 'D48',\n",
       "       'E58', 'C126', 'B71', 'B51 B53 B55', 'D49', 'B5', 'B20', 'F G63',\n",
       "       'C62 C64', 'E24', 'C90', 'C45', 'E8', 'B101', 'D45', 'C46', 'D30',\n",
       "       'E121', 'D11', 'E77', 'F38', 'B3', 'D6', 'B82 B84', 'D17', 'A36',\n",
       "       'B102', 'B69', 'E49', 'C47', 'D28', 'E17', 'A24', 'C50', 'B42',\n",
       "       'C148', 'B45', 'B36', 'A21', 'D34', 'A9', 'C31', 'B61', 'C53',\n",
       "       'D43', 'C130', 'C132', 'C55 C57', 'C116', 'F', 'A29', 'C6', 'C28',\n",
       "       'C51', 'C97', 'D22', 'B10', 'E45', 'E52', 'A11', 'B11', 'C80',\n",
       "       'C89', 'F E46', 'B26', 'F E57', 'A18', 'E60', 'E39 E41',\n",
       "       'B52 B54 B56', 'C39', 'B24', 'D40', 'D38', 'C105'], dtype=object)"
      ]
     },
     "execution_count": 398,
     "metadata": {},
     "output_type": "execute_result"
    }
   ],
   "source": [
    "all_df['Cabin'].unique()"
   ]
  },
  {
   "cell_type": "code",
   "execution_count": 399,
   "metadata": {},
   "outputs": [
    {
     "data": {
      "text/html": [
       "<div>\n",
       "<style scoped>\n",
       "    .dataframe tbody tr th:only-of-type {\n",
       "        vertical-align: middle;\n",
       "    }\n",
       "\n",
       "    .dataframe tbody tr th {\n",
       "        vertical-align: top;\n",
       "    }\n",
       "\n",
       "    .dataframe thead th {\n",
       "        text-align: right;\n",
       "    }\n",
       "</style>\n",
       "<table border=\"1\" class=\"dataframe\">\n",
       "  <thead>\n",
       "    <tr style=\"text-align: right;\">\n",
       "      <th></th>\n",
       "      <th>Survived</th>\n",
       "      <th>Pclass</th>\n",
       "      <th>Name</th>\n",
       "      <th>Sex</th>\n",
       "      <th>Age</th>\n",
       "      <th>SibSp</th>\n",
       "      <th>Parch</th>\n",
       "      <th>Ticket</th>\n",
       "      <th>Fare</th>\n",
       "      <th>Cabin</th>\n",
       "      <th>Embarked</th>\n",
       "      <th>cabin_count</th>\n",
       "    </tr>\n",
       "    <tr>\n",
       "      <th>PassengerId</th>\n",
       "      <th></th>\n",
       "      <th></th>\n",
       "      <th></th>\n",
       "      <th></th>\n",
       "      <th></th>\n",
       "      <th></th>\n",
       "      <th></th>\n",
       "      <th></th>\n",
       "      <th></th>\n",
       "      <th></th>\n",
       "      <th></th>\n",
       "      <th></th>\n",
       "    </tr>\n",
       "  </thead>\n",
       "  <tbody>\n",
       "    <tr>\n",
       "      <th>1</th>\n",
       "      <td>0.0</td>\n",
       "      <td>3</td>\n",
       "      <td>Braund, Mr. Owen Harris</td>\n",
       "      <td>0</td>\n",
       "      <td>22.0</td>\n",
       "      <td>1</td>\n",
       "      <td>0</td>\n",
       "      <td>A/5 21171</td>\n",
       "      <td>7.2500</td>\n",
       "      <td>NaN</td>\n",
       "      <td>S</td>\n",
       "      <td>0</td>\n",
       "    </tr>\n",
       "    <tr>\n",
       "      <th>2</th>\n",
       "      <td>1.0</td>\n",
       "      <td>1</td>\n",
       "      <td>Cumings, Mrs. John Bradley (Florence Briggs Th...</td>\n",
       "      <td>1</td>\n",
       "      <td>38.0</td>\n",
       "      <td>1</td>\n",
       "      <td>0</td>\n",
       "      <td>PC 17599</td>\n",
       "      <td>71.2833</td>\n",
       "      <td>C85</td>\n",
       "      <td>C</td>\n",
       "      <td>1</td>\n",
       "    </tr>\n",
       "    <tr>\n",
       "      <th>3</th>\n",
       "      <td>1.0</td>\n",
       "      <td>3</td>\n",
       "      <td>Heikkinen, Miss. Laina</td>\n",
       "      <td>1</td>\n",
       "      <td>26.0</td>\n",
       "      <td>0</td>\n",
       "      <td>0</td>\n",
       "      <td>STON/O2. 3101282</td>\n",
       "      <td>7.9250</td>\n",
       "      <td>NaN</td>\n",
       "      <td>S</td>\n",
       "      <td>0</td>\n",
       "    </tr>\n",
       "    <tr>\n",
       "      <th>4</th>\n",
       "      <td>1.0</td>\n",
       "      <td>1</td>\n",
       "      <td>Futrelle, Mrs. Jacques Heath (Lily May Peel)</td>\n",
       "      <td>1</td>\n",
       "      <td>35.0</td>\n",
       "      <td>1</td>\n",
       "      <td>0</td>\n",
       "      <td>113803</td>\n",
       "      <td>53.1000</td>\n",
       "      <td>C123</td>\n",
       "      <td>S</td>\n",
       "      <td>1</td>\n",
       "    </tr>\n",
       "    <tr>\n",
       "      <th>5</th>\n",
       "      <td>0.0</td>\n",
       "      <td>3</td>\n",
       "      <td>Allen, Mr. William Henry</td>\n",
       "      <td>0</td>\n",
       "      <td>35.0</td>\n",
       "      <td>0</td>\n",
       "      <td>0</td>\n",
       "      <td>373450</td>\n",
       "      <td>8.0500</td>\n",
       "      <td>NaN</td>\n",
       "      <td>S</td>\n",
       "      <td>0</td>\n",
       "    </tr>\n",
       "  </tbody>\n",
       "</table>\n",
       "</div>"
      ],
      "text/plain": [
       "             Survived  Pclass  \\\n",
       "PassengerId                     \n",
       "1                 0.0       3   \n",
       "2                 1.0       1   \n",
       "3                 1.0       3   \n",
       "4                 1.0       1   \n",
       "5                 0.0       3   \n",
       "\n",
       "                                                          Name  Sex   Age  \\\n",
       "PassengerId                                                                 \n",
       "1                                      Braund, Mr. Owen Harris    0  22.0   \n",
       "2            Cumings, Mrs. John Bradley (Florence Briggs Th...    1  38.0   \n",
       "3                                       Heikkinen, Miss. Laina    1  26.0   \n",
       "4                 Futrelle, Mrs. Jacques Heath (Lily May Peel)    1  35.0   \n",
       "5                                     Allen, Mr. William Henry    0  35.0   \n",
       "\n",
       "             SibSp  Parch            Ticket     Fare Cabin Embarked  \\\n",
       "PassengerId                                                           \n",
       "1                1      0         A/5 21171   7.2500   NaN        S   \n",
       "2                1      0          PC 17599  71.2833   C85        C   \n",
       "3                0      0  STON/O2. 3101282   7.9250   NaN        S   \n",
       "4                1      0            113803  53.1000  C123        S   \n",
       "5                0      0            373450   8.0500   NaN        S   \n",
       "\n",
       "             cabin_count  \n",
       "PassengerId               \n",
       "1                      0  \n",
       "2                      1  \n",
       "3                      0  \n",
       "4                      1  \n",
       "5                      0  "
      ]
     },
     "execution_count": 399,
     "metadata": {},
     "output_type": "execute_result"
    }
   ],
   "source": [
    "all_df[\"cabin_count\"] = all_df[\"Cabin\"].map(lambda x : len(x.split()) if type(x) == str else 0)\n",
    "all_df.head()"
   ]
  },
  {
   "cell_type": "markdown",
   "metadata": {},
   "source": [
    "### Name feature에 있는 Mr., Mrs. 등으로 분석"
   ]
  },
  {
   "cell_type": "code",
   "execution_count": 400,
   "metadata": {},
   "outputs": [
    {
     "data": {
      "text/plain": [
       "PassengerId\n",
       "1                              Braund, Mr. Owen Harris\n",
       "2    Cumings, Mrs. John Bradley (Florence Briggs Th...\n",
       "3                               Heikkinen, Miss. Laina\n",
       "4         Futrelle, Mrs. Jacques Heath (Lily May Peel)\n",
       "5                             Allen, Mr. William Henry\n",
       "Name: Name, dtype: object"
      ]
     },
     "execution_count": 400,
     "metadata": {},
     "output_type": "execute_result"
    }
   ],
   "source": [
    "all_df[\"Name\"][:5]"
   ]
  },
  {
   "cell_type": "code",
   "execution_count": 401,
   "metadata": {},
   "outputs": [],
   "source": [
    "def transform_status(x):\n",
    "    if \"Mrs\" in x or \"Ms\" in x:\n",
    "        return \"Mrs\" \n",
    "    elif \"Mr\" in x:\n",
    "        return \"Mr\"\n",
    "    elif \"Miss\" in x:\n",
    "        return \"Miss\"\n",
    "    elif \"Master\" in x:\n",
    "        return \"Master\"\n",
    "    elif \"Dr\" in x:\n",
    "        return \"Dr\"\n",
    "    elif \"Rev\" in x:\n",
    "        return \"Rev\"\n",
    "    elif \"Col\" in x:\n",
    "        return \"Col\"\n",
    "    else:\n",
    "        return \"0\""
   ]
  },
  {
   "cell_type": "code",
   "execution_count": 402,
   "metadata": {},
   "outputs": [
    {
     "data": {
      "text/plain": [
       "['Riordan, Miss. Johanna Hannah\"\"',\n",
       " 'Peacock, Miss. Treasteall',\n",
       " 'Naughton, Miss. Hannah',\n",
       " 'Minahan, Mrs. William Edward (Lillian E Thorpe)',\n",
       " 'Henriksson, Miss. Jenny Lovisa',\n",
       " 'Spector, Mr. Woolf',\n",
       " 'Oliva y Ocana, Dona. Fermina',\n",
       " 'Saether, Mr. Simon Sivertsen',\n",
       " 'Ware, Mr. Frederick',\n",
       " 'Peter, Master. Michael J']"
      ]
     },
     "execution_count": 402,
     "metadata": {},
     "output_type": "execute_result"
    }
   ],
   "source": [
    "all_df[\"Name\"].unique().tolist()[-10:]"
   ]
  },
  {
   "cell_type": "code",
   "execution_count": 403,
   "metadata": {},
   "outputs": [],
   "source": [
    "all_df[\"social_status\"] = all_df[\"Name\"].map(lambda x : transform_status(x))"
   ]
  },
  {
   "cell_type": "code",
   "execution_count": 404,
   "metadata": {},
   "outputs": [
    {
     "data": {
      "text/plain": [
       "Mr        758\n",
       "Miss      258\n",
       "Mrs       203\n",
       "Master     61\n",
       "0           9\n",
       "Rev         8\n",
       "Dr          8\n",
       "Col         4\n",
       "Name: social_status, dtype: int64"
      ]
     },
     "execution_count": 404,
     "metadata": {},
     "output_type": "execute_result"
    }
   ],
   "source": [
    "all_df[\"social_status\"].value_counts()"
   ]
  },
  {
   "cell_type": "markdown",
   "metadata": {},
   "source": [
    "#### social_status == 0인 Name 살펴보기"
   ]
  },
  {
   "cell_type": "code",
   "execution_count": 405,
   "metadata": {},
   "outputs": [
    {
     "data": {
      "text/plain": [
       "PassengerId\n",
       "31                               Uruchurtu, Don. Manuel E\n",
       "370                         Aubart, Mme. Leontine Pauline\n",
       "450                        Peuchen, Major. Arthur Godfrey\n",
       "537                     Butt, Major. Archibald Willingham\n",
       "642                                  Sagesser, Mlle. Emma\n",
       "746                          Crosby, Capt. Edward Gifford\n",
       "760     Rothes, the Countess. of (Lucy Noel Martha Dye...\n",
       "823                       Reuchlin, Jonkheer. John George\n",
       "1306                         Oliva y Ocana, Dona. Fermina\n",
       "Name: Name, dtype: object"
      ]
     },
     "execution_count": 405,
     "metadata": {},
     "output_type": "execute_result"
    }
   ],
   "source": [
    "all_df[all_df[\"social_status\"] == \"0\"][\"Name\"]"
   ]
  },
  {
   "cell_type": "code",
   "execution_count": 406,
   "metadata": {},
   "outputs": [
    {
     "data": {
      "text/plain": [
       "Survived           0\n",
       "Pclass             0\n",
       "Name               0\n",
       "Sex                0\n",
       "Age                0\n",
       "SibSp              0\n",
       "Parch              0\n",
       "Ticket             0\n",
       "Fare               0\n",
       "Cabin            687\n",
       "Embarked           2\n",
       "cabin_count        0\n",
       "social_status      0\n",
       "dtype: int64"
      ]
     },
     "execution_count": 406,
     "metadata": {},
     "output_type": "execute_result"
    }
   ],
   "source": [
    "all_df.iloc[train_id-1].isnull().sum()"
   ]
  },
  {
   "cell_type": "markdown",
   "metadata": {},
   "source": [
    "### Emvarked 결측치 처리"
   ]
  },
  {
   "cell_type": "markdown",
   "metadata": {},
   "source": [
    "Embarked : 어디에서 출발해는지"
   ]
  },
  {
   "cell_type": "code",
   "execution_count": 407,
   "metadata": {},
   "outputs": [
    {
     "data": {
      "text/html": [
       "<div>\n",
       "<style scoped>\n",
       "    .dataframe tbody tr th:only-of-type {\n",
       "        vertical-align: middle;\n",
       "    }\n",
       "\n",
       "    .dataframe tbody tr th {\n",
       "        vertical-align: top;\n",
       "    }\n",
       "\n",
       "    .dataframe thead th {\n",
       "        text-align: right;\n",
       "    }\n",
       "</style>\n",
       "<table border=\"1\" class=\"dataframe\">\n",
       "  <thead>\n",
       "    <tr style=\"text-align: right;\">\n",
       "      <th></th>\n",
       "      <th>Survived</th>\n",
       "      <th>Pclass</th>\n",
       "      <th>Name</th>\n",
       "      <th>Sex</th>\n",
       "      <th>Age</th>\n",
       "      <th>SibSp</th>\n",
       "      <th>Parch</th>\n",
       "      <th>Ticket</th>\n",
       "      <th>Fare</th>\n",
       "      <th>Cabin</th>\n",
       "      <th>Embarked</th>\n",
       "      <th>cabin_count</th>\n",
       "      <th>social_status</th>\n",
       "    </tr>\n",
       "    <tr>\n",
       "      <th>PassengerId</th>\n",
       "      <th></th>\n",
       "      <th></th>\n",
       "      <th></th>\n",
       "      <th></th>\n",
       "      <th></th>\n",
       "      <th></th>\n",
       "      <th></th>\n",
       "      <th></th>\n",
       "      <th></th>\n",
       "      <th></th>\n",
       "      <th></th>\n",
       "      <th></th>\n",
       "      <th></th>\n",
       "    </tr>\n",
       "  </thead>\n",
       "  <tbody>\n",
       "    <tr>\n",
       "      <th>62</th>\n",
       "      <td>1.0</td>\n",
       "      <td>1</td>\n",
       "      <td>Icard, Miss. Amelie</td>\n",
       "      <td>1</td>\n",
       "      <td>38.0</td>\n",
       "      <td>0</td>\n",
       "      <td>0</td>\n",
       "      <td>113572</td>\n",
       "      <td>80.0</td>\n",
       "      <td>B28</td>\n",
       "      <td>NaN</td>\n",
       "      <td>1</td>\n",
       "      <td>Miss</td>\n",
       "    </tr>\n",
       "    <tr>\n",
       "      <th>830</th>\n",
       "      <td>1.0</td>\n",
       "      <td>1</td>\n",
       "      <td>Stone, Mrs. George Nelson (Martha Evelyn)</td>\n",
       "      <td>1</td>\n",
       "      <td>62.0</td>\n",
       "      <td>0</td>\n",
       "      <td>0</td>\n",
       "      <td>113572</td>\n",
       "      <td>80.0</td>\n",
       "      <td>B28</td>\n",
       "      <td>NaN</td>\n",
       "      <td>1</td>\n",
       "      <td>Mrs</td>\n",
       "    </tr>\n",
       "  </tbody>\n",
       "</table>\n",
       "</div>"
      ],
      "text/plain": [
       "             Survived  Pclass                                       Name  Sex  \\\n",
       "PassengerId                                                                     \n",
       "62                1.0       1                        Icard, Miss. Amelie    1   \n",
       "830               1.0       1  Stone, Mrs. George Nelson (Martha Evelyn)    1   \n",
       "\n",
       "              Age  SibSp  Parch  Ticket  Fare Cabin Embarked  cabin_count  \\\n",
       "PassengerId                                                                 \n",
       "62           38.0      0      0  113572  80.0   B28      NaN            1   \n",
       "830          62.0      0      0  113572  80.0   B28      NaN            1   \n",
       "\n",
       "            social_status  \n",
       "PassengerId                \n",
       "62                   Miss  \n",
       "830                   Mrs  "
      ]
     },
     "execution_count": 407,
     "metadata": {},
     "output_type": "execute_result"
    }
   ],
   "source": [
    "all_df[all_df[\"Embarked\"].isnull()]"
   ]
  },
  {
   "cell_type": "markdown",
   "metadata": {},
   "source": [
    "Drop Embarked"
   ]
  },
  {
   "cell_type": "code",
   "execution_count": 408,
   "metadata": {},
   "outputs": [],
   "source": [
    "all_df =all_df.drop([62,830])"
   ]
  },
  {
   "cell_type": "code",
   "execution_count": 409,
   "metadata": {},
   "outputs": [
    {
     "data": {
      "text/plain": [
       "Survived          418\n",
       "Pclass              0\n",
       "Name                0\n",
       "Sex                 0\n",
       "Age                 0\n",
       "SibSp               0\n",
       "Parch               0\n",
       "Ticket              0\n",
       "Fare                1\n",
       "Cabin            1014\n",
       "Embarked            0\n",
       "cabin_count         0\n",
       "social_status       0\n",
       "dtype: int64"
      ]
     },
     "execution_count": 409,
     "metadata": {},
     "output_type": "execute_result"
    }
   ],
   "source": [
    "all_df.isnull().sum()"
   ]
  },
  {
   "cell_type": "markdown",
   "metadata": {},
   "source": [
    "Train_id에서도 Embarked 결측치 drop"
   ]
  },
  {
   "cell_type": "code",
   "execution_count": 410,
   "metadata": {},
   "outputs": [],
   "source": [
    "import numpy as np \n",
    "\n",
    "train_id = np.delete(train_id, [62-1,830-1])"
   ]
  },
  {
   "cell_type": "code",
   "execution_count": 411,
   "metadata": {},
   "outputs": [
    {
     "data": {
      "text/plain": [
       "Survived           0\n",
       "Pclass             0\n",
       "Name               0\n",
       "Sex                0\n",
       "Age                0\n",
       "SibSp              0\n",
       "Parch              0\n",
       "Ticket             0\n",
       "Fare               0\n",
       "Cabin            687\n",
       "Embarked           0\n",
       "cabin_count        0\n",
       "social_status      0\n",
       "dtype: int64"
      ]
     },
     "execution_count": 411,
     "metadata": {},
     "output_type": "execute_result"
    }
   ],
   "source": [
    "all_df.iloc[:len(train_id)].isnull().sum()"
   ]
  },
  {
   "cell_type": "markdown",
   "metadata": {},
   "source": [
    "### Fare 결측치 처리"
   ]
  },
  {
   "cell_type": "code",
   "execution_count": 412,
   "metadata": {},
   "outputs": [
    {
     "data": {
      "text/html": [
       "<div>\n",
       "<style scoped>\n",
       "    .dataframe tbody tr th:only-of-type {\n",
       "        vertical-align: middle;\n",
       "    }\n",
       "\n",
       "    .dataframe tbody tr th {\n",
       "        vertical-align: top;\n",
       "    }\n",
       "\n",
       "    .dataframe thead th {\n",
       "        text-align: right;\n",
       "    }\n",
       "</style>\n",
       "<table border=\"1\" class=\"dataframe\">\n",
       "  <thead>\n",
       "    <tr style=\"text-align: right;\">\n",
       "      <th></th>\n",
       "      <th>Survived</th>\n",
       "      <th>Pclass</th>\n",
       "      <th>Name</th>\n",
       "      <th>Sex</th>\n",
       "      <th>Age</th>\n",
       "      <th>SibSp</th>\n",
       "      <th>Parch</th>\n",
       "      <th>Ticket</th>\n",
       "      <th>Fare</th>\n",
       "      <th>Cabin</th>\n",
       "      <th>Embarked</th>\n",
       "      <th>cabin_count</th>\n",
       "      <th>social_status</th>\n",
       "    </tr>\n",
       "    <tr>\n",
       "      <th>PassengerId</th>\n",
       "      <th></th>\n",
       "      <th></th>\n",
       "      <th></th>\n",
       "      <th></th>\n",
       "      <th></th>\n",
       "      <th></th>\n",
       "      <th></th>\n",
       "      <th></th>\n",
       "      <th></th>\n",
       "      <th></th>\n",
       "      <th></th>\n",
       "      <th></th>\n",
       "      <th></th>\n",
       "    </tr>\n",
       "  </thead>\n",
       "  <tbody>\n",
       "    <tr>\n",
       "      <th>1044</th>\n",
       "      <td>NaN</td>\n",
       "      <td>3</td>\n",
       "      <td>Storey, Mr. Thomas</td>\n",
       "      <td>0</td>\n",
       "      <td>60.5</td>\n",
       "      <td>0</td>\n",
       "      <td>0</td>\n",
       "      <td>3701</td>\n",
       "      <td>NaN</td>\n",
       "      <td>NaN</td>\n",
       "      <td>S</td>\n",
       "      <td>0</td>\n",
       "      <td>Mr</td>\n",
       "    </tr>\n",
       "  </tbody>\n",
       "</table>\n",
       "</div>"
      ],
      "text/plain": [
       "             Survived  Pclass                Name  Sex   Age  SibSp  Parch  \\\n",
       "PassengerId                                                                  \n",
       "1044              NaN       3  Storey, Mr. Thomas    0  60.5      0      0   \n",
       "\n",
       "            Ticket  Fare Cabin Embarked  cabin_count social_status  \n",
       "PassengerId                                                         \n",
       "1044          3701   NaN   NaN        S            0            Mr  "
      ]
     },
     "execution_count": 412,
     "metadata": {},
     "output_type": "execute_result"
    }
   ],
   "source": [
    "all_df[all_df[\"Fare\"].isnull()]"
   ]
  },
  {
   "cell_type": "code",
   "execution_count": 413,
   "metadata": {},
   "outputs": [
    {
     "data": {
      "text/plain": [
       "Pclass  Sex\n",
       "1       0       69.888385\n",
       "        1      109.826644\n",
       "2       0       19.904946\n",
       "        1       23.234827\n",
       "3       0       12.415462\n",
       "        1       15.324250\n",
       "Name: Fare, dtype: float64"
      ]
     },
     "execution_count": 413,
     "metadata": {},
     "output_type": "execute_result"
    }
   ],
   "source": [
    "all_df.groupby([\"Pclass\",\"Sex\"])[\"Fare\"].mean()"
   ]
  },
  {
   "cell_type": "code",
   "execution_count": 414,
   "metadata": {},
   "outputs": [],
   "source": [
    "all_df.loc[all_df[\"Fare\"].isnull(), \"Fare\"] = 12.415462"
   ]
  },
  {
   "cell_type": "code",
   "execution_count": 415,
   "metadata": {},
   "outputs": [
    {
     "data": {
      "text/plain": [
       "Survived          418\n",
       "Pclass              0\n",
       "Name                0\n",
       "Sex                 0\n",
       "Age                 0\n",
       "SibSp               0\n",
       "Parch               0\n",
       "Ticket              0\n",
       "Fare                0\n",
       "Cabin            1014\n",
       "Embarked            0\n",
       "cabin_count         0\n",
       "social_status       0\n",
       "dtype: int64"
      ]
     },
     "execution_count": 415,
     "metadata": {},
     "output_type": "execute_result"
    }
   ],
   "source": [
    "all_df.isnull().sum()"
   ]
  },
  {
   "cell_type": "code",
   "execution_count": 416,
   "metadata": {},
   "outputs": [
    {
     "data": {
      "text/html": [
       "<div>\n",
       "<style scoped>\n",
       "    .dataframe tbody tr th:only-of-type {\n",
       "        vertical-align: middle;\n",
       "    }\n",
       "\n",
       "    .dataframe tbody tr th {\n",
       "        vertical-align: top;\n",
       "    }\n",
       "\n",
       "    .dataframe thead th {\n",
       "        text-align: right;\n",
       "    }\n",
       "</style>\n",
       "<table border=\"1\" class=\"dataframe\">\n",
       "  <thead>\n",
       "    <tr style=\"text-align: right;\">\n",
       "      <th></th>\n",
       "      <th>Survived</th>\n",
       "      <th>Pclass</th>\n",
       "      <th>Name</th>\n",
       "      <th>Sex</th>\n",
       "      <th>Age</th>\n",
       "      <th>SibSp</th>\n",
       "      <th>Parch</th>\n",
       "      <th>Ticket</th>\n",
       "      <th>Fare</th>\n",
       "      <th>Cabin</th>\n",
       "      <th>Embarked</th>\n",
       "      <th>cabin_count</th>\n",
       "      <th>social_status</th>\n",
       "    </tr>\n",
       "    <tr>\n",
       "      <th>PassengerId</th>\n",
       "      <th></th>\n",
       "      <th></th>\n",
       "      <th></th>\n",
       "      <th></th>\n",
       "      <th></th>\n",
       "      <th></th>\n",
       "      <th></th>\n",
       "      <th></th>\n",
       "      <th></th>\n",
       "      <th></th>\n",
       "      <th></th>\n",
       "      <th></th>\n",
       "      <th></th>\n",
       "    </tr>\n",
       "  </thead>\n",
       "  <tbody>\n",
       "    <tr>\n",
       "      <th>1</th>\n",
       "      <td>0.0</td>\n",
       "      <td>3</td>\n",
       "      <td>Braund, Mr. Owen Harris</td>\n",
       "      <td>0</td>\n",
       "      <td>22.0</td>\n",
       "      <td>1</td>\n",
       "      <td>0</td>\n",
       "      <td>A/5 21171</td>\n",
       "      <td>7.2500</td>\n",
       "      <td>NaN</td>\n",
       "      <td>S</td>\n",
       "      <td>0</td>\n",
       "      <td>Mr</td>\n",
       "    </tr>\n",
       "    <tr>\n",
       "      <th>2</th>\n",
       "      <td>1.0</td>\n",
       "      <td>1</td>\n",
       "      <td>Cumings, Mrs. John Bradley (Florence Briggs Th...</td>\n",
       "      <td>1</td>\n",
       "      <td>38.0</td>\n",
       "      <td>1</td>\n",
       "      <td>0</td>\n",
       "      <td>PC 17599</td>\n",
       "      <td>71.2833</td>\n",
       "      <td>C85</td>\n",
       "      <td>C</td>\n",
       "      <td>1</td>\n",
       "      <td>Mrs</td>\n",
       "    </tr>\n",
       "    <tr>\n",
       "      <th>3</th>\n",
       "      <td>1.0</td>\n",
       "      <td>3</td>\n",
       "      <td>Heikkinen, Miss. Laina</td>\n",
       "      <td>1</td>\n",
       "      <td>26.0</td>\n",
       "      <td>0</td>\n",
       "      <td>0</td>\n",
       "      <td>STON/O2. 3101282</td>\n",
       "      <td>7.9250</td>\n",
       "      <td>NaN</td>\n",
       "      <td>S</td>\n",
       "      <td>0</td>\n",
       "      <td>Miss</td>\n",
       "    </tr>\n",
       "    <tr>\n",
       "      <th>4</th>\n",
       "      <td>1.0</td>\n",
       "      <td>1</td>\n",
       "      <td>Futrelle, Mrs. Jacques Heath (Lily May Peel)</td>\n",
       "      <td>1</td>\n",
       "      <td>35.0</td>\n",
       "      <td>1</td>\n",
       "      <td>0</td>\n",
       "      <td>113803</td>\n",
       "      <td>53.1000</td>\n",
       "      <td>C123</td>\n",
       "      <td>S</td>\n",
       "      <td>1</td>\n",
       "      <td>Mrs</td>\n",
       "    </tr>\n",
       "    <tr>\n",
       "      <th>5</th>\n",
       "      <td>0.0</td>\n",
       "      <td>3</td>\n",
       "      <td>Allen, Mr. William Henry</td>\n",
       "      <td>0</td>\n",
       "      <td>35.0</td>\n",
       "      <td>0</td>\n",
       "      <td>0</td>\n",
       "      <td>373450</td>\n",
       "      <td>8.0500</td>\n",
       "      <td>NaN</td>\n",
       "      <td>S</td>\n",
       "      <td>0</td>\n",
       "      <td>Mr</td>\n",
       "    </tr>\n",
       "  </tbody>\n",
       "</table>\n",
       "</div>"
      ],
      "text/plain": [
       "             Survived  Pclass  \\\n",
       "PassengerId                     \n",
       "1                 0.0       3   \n",
       "2                 1.0       1   \n",
       "3                 1.0       3   \n",
       "4                 1.0       1   \n",
       "5                 0.0       3   \n",
       "\n",
       "                                                          Name  Sex   Age  \\\n",
       "PassengerId                                                                 \n",
       "1                                      Braund, Mr. Owen Harris    0  22.0   \n",
       "2            Cumings, Mrs. John Bradley (Florence Briggs Th...    1  38.0   \n",
       "3                                       Heikkinen, Miss. Laina    1  26.0   \n",
       "4                 Futrelle, Mrs. Jacques Heath (Lily May Peel)    1  35.0   \n",
       "5                                     Allen, Mr. William Henry    0  35.0   \n",
       "\n",
       "             SibSp  Parch            Ticket     Fare Cabin Embarked  \\\n",
       "PassengerId                                                           \n",
       "1                1      0         A/5 21171   7.2500   NaN        S   \n",
       "2                1      0          PC 17599  71.2833   C85        C   \n",
       "3                0      0  STON/O2. 3101282   7.9250   NaN        S   \n",
       "4                1      0            113803  53.1000  C123        S   \n",
       "5                0      0            373450   8.0500   NaN        S   \n",
       "\n",
       "             cabin_count social_status  \n",
       "PassengerId                             \n",
       "1                      0            Mr  \n",
       "2                      1           Mrs  \n",
       "3                      0          Miss  \n",
       "4                      1           Mrs  \n",
       "5                      0            Mr  "
      ]
     },
     "execution_count": 416,
     "metadata": {},
     "output_type": "execute_result"
    }
   ],
   "source": [
    "all_df.head()"
   ]
  },
  {
   "cell_type": "markdown",
   "metadata": {},
   "source": [
    "### Cabin 결측치 처리"
   ]
  },
  {
   "cell_type": "code",
   "execution_count": 417,
   "metadata": {},
   "outputs": [],
   "source": [
    "all_df[\"cabin_type\"] = all_df[\"Cabin\"].map(lambda x : x[0] if type(x) == str else \"99\")"
   ]
  },
  {
   "cell_type": "code",
   "execution_count": 418,
   "metadata": {},
   "outputs": [
    {
     "data": {
      "text/html": [
       "<div>\n",
       "<style scoped>\n",
       "    .dataframe tbody tr th:only-of-type {\n",
       "        vertical-align: middle;\n",
       "    }\n",
       "\n",
       "    .dataframe tbody tr th {\n",
       "        vertical-align: top;\n",
       "    }\n",
       "\n",
       "    .dataframe thead th {\n",
       "        text-align: right;\n",
       "    }\n",
       "</style>\n",
       "<table border=\"1\" class=\"dataframe\">\n",
       "  <thead>\n",
       "    <tr style=\"text-align: right;\">\n",
       "      <th></th>\n",
       "      <th>Survived</th>\n",
       "      <th>Pclass</th>\n",
       "      <th>Name</th>\n",
       "      <th>Sex</th>\n",
       "      <th>Age</th>\n",
       "      <th>SibSp</th>\n",
       "      <th>Parch</th>\n",
       "      <th>Ticket</th>\n",
       "      <th>Fare</th>\n",
       "      <th>Cabin</th>\n",
       "      <th>Embarked</th>\n",
       "      <th>cabin_count</th>\n",
       "      <th>social_status</th>\n",
       "      <th>cabin_type</th>\n",
       "    </tr>\n",
       "    <tr>\n",
       "      <th>PassengerId</th>\n",
       "      <th></th>\n",
       "      <th></th>\n",
       "      <th></th>\n",
       "      <th></th>\n",
       "      <th></th>\n",
       "      <th></th>\n",
       "      <th></th>\n",
       "      <th></th>\n",
       "      <th></th>\n",
       "      <th></th>\n",
       "      <th></th>\n",
       "      <th></th>\n",
       "      <th></th>\n",
       "      <th></th>\n",
       "    </tr>\n",
       "  </thead>\n",
       "  <tbody>\n",
       "    <tr>\n",
       "      <th>1</th>\n",
       "      <td>0.0</td>\n",
       "      <td>3</td>\n",
       "      <td>Braund, Mr. Owen Harris</td>\n",
       "      <td>0</td>\n",
       "      <td>22.0</td>\n",
       "      <td>1</td>\n",
       "      <td>0</td>\n",
       "      <td>A/5 21171</td>\n",
       "      <td>7.2500</td>\n",
       "      <td>NaN</td>\n",
       "      <td>S</td>\n",
       "      <td>0</td>\n",
       "      <td>Mr</td>\n",
       "      <td>99</td>\n",
       "    </tr>\n",
       "    <tr>\n",
       "      <th>2</th>\n",
       "      <td>1.0</td>\n",
       "      <td>1</td>\n",
       "      <td>Cumings, Mrs. John Bradley (Florence Briggs Th...</td>\n",
       "      <td>1</td>\n",
       "      <td>38.0</td>\n",
       "      <td>1</td>\n",
       "      <td>0</td>\n",
       "      <td>PC 17599</td>\n",
       "      <td>71.2833</td>\n",
       "      <td>C85</td>\n",
       "      <td>C</td>\n",
       "      <td>1</td>\n",
       "      <td>Mrs</td>\n",
       "      <td>C</td>\n",
       "    </tr>\n",
       "    <tr>\n",
       "      <th>3</th>\n",
       "      <td>1.0</td>\n",
       "      <td>3</td>\n",
       "      <td>Heikkinen, Miss. Laina</td>\n",
       "      <td>1</td>\n",
       "      <td>26.0</td>\n",
       "      <td>0</td>\n",
       "      <td>0</td>\n",
       "      <td>STON/O2. 3101282</td>\n",
       "      <td>7.9250</td>\n",
       "      <td>NaN</td>\n",
       "      <td>S</td>\n",
       "      <td>0</td>\n",
       "      <td>Miss</td>\n",
       "      <td>99</td>\n",
       "    </tr>\n",
       "    <tr>\n",
       "      <th>4</th>\n",
       "      <td>1.0</td>\n",
       "      <td>1</td>\n",
       "      <td>Futrelle, Mrs. Jacques Heath (Lily May Peel)</td>\n",
       "      <td>1</td>\n",
       "      <td>35.0</td>\n",
       "      <td>1</td>\n",
       "      <td>0</td>\n",
       "      <td>113803</td>\n",
       "      <td>53.1000</td>\n",
       "      <td>C123</td>\n",
       "      <td>S</td>\n",
       "      <td>1</td>\n",
       "      <td>Mrs</td>\n",
       "      <td>C</td>\n",
       "    </tr>\n",
       "    <tr>\n",
       "      <th>5</th>\n",
       "      <td>0.0</td>\n",
       "      <td>3</td>\n",
       "      <td>Allen, Mr. William Henry</td>\n",
       "      <td>0</td>\n",
       "      <td>35.0</td>\n",
       "      <td>0</td>\n",
       "      <td>0</td>\n",
       "      <td>373450</td>\n",
       "      <td>8.0500</td>\n",
       "      <td>NaN</td>\n",
       "      <td>S</td>\n",
       "      <td>0</td>\n",
       "      <td>Mr</td>\n",
       "      <td>99</td>\n",
       "    </tr>\n",
       "  </tbody>\n",
       "</table>\n",
       "</div>"
      ],
      "text/plain": [
       "             Survived  Pclass  \\\n",
       "PassengerId                     \n",
       "1                 0.0       3   \n",
       "2                 1.0       1   \n",
       "3                 1.0       3   \n",
       "4                 1.0       1   \n",
       "5                 0.0       3   \n",
       "\n",
       "                                                          Name  Sex   Age  \\\n",
       "PassengerId                                                                 \n",
       "1                                      Braund, Mr. Owen Harris    0  22.0   \n",
       "2            Cumings, Mrs. John Bradley (Florence Briggs Th...    1  38.0   \n",
       "3                                       Heikkinen, Miss. Laina    1  26.0   \n",
       "4                 Futrelle, Mrs. Jacques Heath (Lily May Peel)    1  35.0   \n",
       "5                                     Allen, Mr. William Henry    0  35.0   \n",
       "\n",
       "             SibSp  Parch            Ticket     Fare Cabin Embarked  \\\n",
       "PassengerId                                                           \n",
       "1                1      0         A/5 21171   7.2500   NaN        S   \n",
       "2                1      0          PC 17599  71.2833   C85        C   \n",
       "3                0      0  STON/O2. 3101282   7.9250   NaN        S   \n",
       "4                1      0            113803  53.1000  C123        S   \n",
       "5                0      0            373450   8.0500   NaN        S   \n",
       "\n",
       "             cabin_count social_status cabin_type  \n",
       "PassengerId                                        \n",
       "1                      0            Mr         99  \n",
       "2                      1           Mrs          C  \n",
       "3                      0          Miss         99  \n",
       "4                      1           Mrs          C  \n",
       "5                      0            Mr         99  "
      ]
     },
     "execution_count": 418,
     "metadata": {},
     "output_type": "execute_result"
    }
   ],
   "source": [
    "all_df.head()"
   ]
  },
  {
   "cell_type": "code",
   "execution_count": 419,
   "metadata": {},
   "outputs": [],
   "source": [
    "del all_df[\"Cabin\"]\n",
    "del all_df[\"Name\"]\n",
    "del all_df[\"Ticket\"]"
   ]
  },
  {
   "cell_type": "code",
   "execution_count": 420,
   "metadata": {},
   "outputs": [
    {
     "data": {
      "text/plain": [
       "0"
      ]
     },
     "execution_count": 420,
     "metadata": {},
     "output_type": "execute_result"
    }
   ],
   "source": [
    "all_df.loc[train_id]['Survived'].isnull().sum()"
   ]
  },
  {
   "cell_type": "code",
   "execution_count": 421,
   "metadata": {},
   "outputs": [
    {
     "data": {
      "text/plain": [
       "array([0., 1., 1., 1., 0., 0., 0., 0., 1., 1., 1., 1., 0., 0., 0., 1., 0.,\n",
       "       1., 0., 1., 0., 1., 1., 1., 0., 1., 0., 0., 1., 0., 0., 1., 1., 0.,\n",
       "       0., 0., 1., 0., 0., 1., 0., 0., 0., 1., 1., 0., 0., 1., 0., 0., 0.,\n",
       "       0., 1., 1., 0., 1., 1., 0., 1., 0., 0., 0., 0., 0., 1., 1., 0., 1.,\n",
       "       0., 0., 0., 0., 0., 1., 0., 0., 0., 1., 1., 0., 1., 1., 0., 1., 1.,\n",
       "       0., 0., 1., 0., 0., 0., 0., 0., 0., 0., 0., 1., 1., 0., 0.])"
      ]
     },
     "execution_count": 421,
     "metadata": {},
     "output_type": "execute_result"
    }
   ],
   "source": [
    "y = all_df.loc[train_id, \"Survived\"].values\n",
    "y[:100]"
   ]
  },
  {
   "cell_type": "code",
   "execution_count": 422,
   "metadata": {},
   "outputs": [
    {
     "data": {
      "text/plain": [
       "(889, 889)"
      ]
     },
     "execution_count": 422,
     "metadata": {},
     "output_type": "execute_result"
    }
   ],
   "source": [
    "len(y), len(train_id)"
   ]
  },
  {
   "cell_type": "code",
   "execution_count": 423,
   "metadata": {},
   "outputs": [],
   "source": [
    "del all_df[\"Survived\"]"
   ]
  },
  {
   "cell_type": "markdown",
   "metadata": {},
   "source": [
    "### OneHot Encoding"
   ]
  },
  {
   "cell_type": "code",
   "execution_count": 424,
   "metadata": {},
   "outputs": [
    {
     "data": {
      "text/html": [
       "<div>\n",
       "<style scoped>\n",
       "    .dataframe tbody tr th:only-of-type {\n",
       "        vertical-align: middle;\n",
       "    }\n",
       "\n",
       "    .dataframe tbody tr th {\n",
       "        vertical-align: top;\n",
       "    }\n",
       "\n",
       "    .dataframe thead th {\n",
       "        text-align: right;\n",
       "    }\n",
       "</style>\n",
       "<table border=\"1\" class=\"dataframe\">\n",
       "  <thead>\n",
       "    <tr style=\"text-align: right;\">\n",
       "      <th></th>\n",
       "      <th>Pclass</th>\n",
       "      <th>Sex</th>\n",
       "      <th>Age</th>\n",
       "      <th>SibSp</th>\n",
       "      <th>Parch</th>\n",
       "      <th>Fare</th>\n",
       "      <th>cabin_count</th>\n",
       "      <th>Embarked_C</th>\n",
       "      <th>Embarked_Q</th>\n",
       "      <th>Embarked_S</th>\n",
       "      <th>...</th>\n",
       "      <th>social_status_Rev</th>\n",
       "      <th>cabin_type_99</th>\n",
       "      <th>cabin_type_A</th>\n",
       "      <th>cabin_type_B</th>\n",
       "      <th>cabin_type_C</th>\n",
       "      <th>cabin_type_D</th>\n",
       "      <th>cabin_type_E</th>\n",
       "      <th>cabin_type_F</th>\n",
       "      <th>cabin_type_G</th>\n",
       "      <th>cabin_type_T</th>\n",
       "    </tr>\n",
       "    <tr>\n",
       "      <th>PassengerId</th>\n",
       "      <th></th>\n",
       "      <th></th>\n",
       "      <th></th>\n",
       "      <th></th>\n",
       "      <th></th>\n",
       "      <th></th>\n",
       "      <th></th>\n",
       "      <th></th>\n",
       "      <th></th>\n",
       "      <th></th>\n",
       "      <th></th>\n",
       "      <th></th>\n",
       "      <th></th>\n",
       "      <th></th>\n",
       "      <th></th>\n",
       "      <th></th>\n",
       "      <th></th>\n",
       "      <th></th>\n",
       "      <th></th>\n",
       "      <th></th>\n",
       "      <th></th>\n",
       "    </tr>\n",
       "  </thead>\n",
       "  <tbody>\n",
       "    <tr>\n",
       "      <th>1</th>\n",
       "      <td>3</td>\n",
       "      <td>0</td>\n",
       "      <td>22.000000</td>\n",
       "      <td>1</td>\n",
       "      <td>0</td>\n",
       "      <td>7.2500</td>\n",
       "      <td>0</td>\n",
       "      <td>0</td>\n",
       "      <td>0</td>\n",
       "      <td>1</td>\n",
       "      <td>...</td>\n",
       "      <td>0</td>\n",
       "      <td>1</td>\n",
       "      <td>0</td>\n",
       "      <td>0</td>\n",
       "      <td>0</td>\n",
       "      <td>0</td>\n",
       "      <td>0</td>\n",
       "      <td>0</td>\n",
       "      <td>0</td>\n",
       "      <td>0</td>\n",
       "    </tr>\n",
       "    <tr>\n",
       "      <th>2</th>\n",
       "      <td>1</td>\n",
       "      <td>1</td>\n",
       "      <td>38.000000</td>\n",
       "      <td>1</td>\n",
       "      <td>0</td>\n",
       "      <td>71.2833</td>\n",
       "      <td>1</td>\n",
       "      <td>1</td>\n",
       "      <td>0</td>\n",
       "      <td>0</td>\n",
       "      <td>...</td>\n",
       "      <td>0</td>\n",
       "      <td>0</td>\n",
       "      <td>0</td>\n",
       "      <td>0</td>\n",
       "      <td>1</td>\n",
       "      <td>0</td>\n",
       "      <td>0</td>\n",
       "      <td>0</td>\n",
       "      <td>0</td>\n",
       "      <td>0</td>\n",
       "    </tr>\n",
       "    <tr>\n",
       "      <th>3</th>\n",
       "      <td>3</td>\n",
       "      <td>1</td>\n",
       "      <td>26.000000</td>\n",
       "      <td>0</td>\n",
       "      <td>0</td>\n",
       "      <td>7.9250</td>\n",
       "      <td>0</td>\n",
       "      <td>0</td>\n",
       "      <td>0</td>\n",
       "      <td>1</td>\n",
       "      <td>...</td>\n",
       "      <td>0</td>\n",
       "      <td>1</td>\n",
       "      <td>0</td>\n",
       "      <td>0</td>\n",
       "      <td>0</td>\n",
       "      <td>0</td>\n",
       "      <td>0</td>\n",
       "      <td>0</td>\n",
       "      <td>0</td>\n",
       "      <td>0</td>\n",
       "    </tr>\n",
       "    <tr>\n",
       "      <th>4</th>\n",
       "      <td>1</td>\n",
       "      <td>1</td>\n",
       "      <td>35.000000</td>\n",
       "      <td>1</td>\n",
       "      <td>0</td>\n",
       "      <td>53.1000</td>\n",
       "      <td>1</td>\n",
       "      <td>0</td>\n",
       "      <td>0</td>\n",
       "      <td>1</td>\n",
       "      <td>...</td>\n",
       "      <td>0</td>\n",
       "      <td>0</td>\n",
       "      <td>0</td>\n",
       "      <td>0</td>\n",
       "      <td>1</td>\n",
       "      <td>0</td>\n",
       "      <td>0</td>\n",
       "      <td>0</td>\n",
       "      <td>0</td>\n",
       "      <td>0</td>\n",
       "    </tr>\n",
       "    <tr>\n",
       "      <th>5</th>\n",
       "      <td>3</td>\n",
       "      <td>0</td>\n",
       "      <td>35.000000</td>\n",
       "      <td>0</td>\n",
       "      <td>0</td>\n",
       "      <td>8.0500</td>\n",
       "      <td>0</td>\n",
       "      <td>0</td>\n",
       "      <td>0</td>\n",
       "      <td>1</td>\n",
       "      <td>...</td>\n",
       "      <td>0</td>\n",
       "      <td>1</td>\n",
       "      <td>0</td>\n",
       "      <td>0</td>\n",
       "      <td>0</td>\n",
       "      <td>0</td>\n",
       "      <td>0</td>\n",
       "      <td>0</td>\n",
       "      <td>0</td>\n",
       "      <td>0</td>\n",
       "    </tr>\n",
       "    <tr>\n",
       "      <th>...</th>\n",
       "      <td>...</td>\n",
       "      <td>...</td>\n",
       "      <td>...</td>\n",
       "      <td>...</td>\n",
       "      <td>...</td>\n",
       "      <td>...</td>\n",
       "      <td>...</td>\n",
       "      <td>...</td>\n",
       "      <td>...</td>\n",
       "      <td>...</td>\n",
       "      <td>...</td>\n",
       "      <td>...</td>\n",
       "      <td>...</td>\n",
       "      <td>...</td>\n",
       "      <td>...</td>\n",
       "      <td>...</td>\n",
       "      <td>...</td>\n",
       "      <td>...</td>\n",
       "      <td>...</td>\n",
       "      <td>...</td>\n",
       "      <td>...</td>\n",
       "    </tr>\n",
       "    <tr>\n",
       "      <th>1305</th>\n",
       "      <td>3</td>\n",
       "      <td>0</td>\n",
       "      <td>24.816367</td>\n",
       "      <td>0</td>\n",
       "      <td>0</td>\n",
       "      <td>8.0500</td>\n",
       "      <td>0</td>\n",
       "      <td>0</td>\n",
       "      <td>0</td>\n",
       "      <td>1</td>\n",
       "      <td>...</td>\n",
       "      <td>0</td>\n",
       "      <td>1</td>\n",
       "      <td>0</td>\n",
       "      <td>0</td>\n",
       "      <td>0</td>\n",
       "      <td>0</td>\n",
       "      <td>0</td>\n",
       "      <td>0</td>\n",
       "      <td>0</td>\n",
       "      <td>0</td>\n",
       "    </tr>\n",
       "    <tr>\n",
       "      <th>1306</th>\n",
       "      <td>1</td>\n",
       "      <td>1</td>\n",
       "      <td>39.000000</td>\n",
       "      <td>0</td>\n",
       "      <td>0</td>\n",
       "      <td>108.9000</td>\n",
       "      <td>1</td>\n",
       "      <td>1</td>\n",
       "      <td>0</td>\n",
       "      <td>0</td>\n",
       "      <td>...</td>\n",
       "      <td>0</td>\n",
       "      <td>0</td>\n",
       "      <td>0</td>\n",
       "      <td>0</td>\n",
       "      <td>1</td>\n",
       "      <td>0</td>\n",
       "      <td>0</td>\n",
       "      <td>0</td>\n",
       "      <td>0</td>\n",
       "      <td>0</td>\n",
       "    </tr>\n",
       "    <tr>\n",
       "      <th>1307</th>\n",
       "      <td>3</td>\n",
       "      <td>0</td>\n",
       "      <td>38.500000</td>\n",
       "      <td>0</td>\n",
       "      <td>0</td>\n",
       "      <td>7.2500</td>\n",
       "      <td>0</td>\n",
       "      <td>0</td>\n",
       "      <td>0</td>\n",
       "      <td>1</td>\n",
       "      <td>...</td>\n",
       "      <td>0</td>\n",
       "      <td>1</td>\n",
       "      <td>0</td>\n",
       "      <td>0</td>\n",
       "      <td>0</td>\n",
       "      <td>0</td>\n",
       "      <td>0</td>\n",
       "      <td>0</td>\n",
       "      <td>0</td>\n",
       "      <td>0</td>\n",
       "    </tr>\n",
       "    <tr>\n",
       "      <th>1308</th>\n",
       "      <td>3</td>\n",
       "      <td>0</td>\n",
       "      <td>24.816367</td>\n",
       "      <td>0</td>\n",
       "      <td>0</td>\n",
       "      <td>8.0500</td>\n",
       "      <td>0</td>\n",
       "      <td>0</td>\n",
       "      <td>0</td>\n",
       "      <td>1</td>\n",
       "      <td>...</td>\n",
       "      <td>0</td>\n",
       "      <td>1</td>\n",
       "      <td>0</td>\n",
       "      <td>0</td>\n",
       "      <td>0</td>\n",
       "      <td>0</td>\n",
       "      <td>0</td>\n",
       "      <td>0</td>\n",
       "      <td>0</td>\n",
       "      <td>0</td>\n",
       "    </tr>\n",
       "    <tr>\n",
       "      <th>1309</th>\n",
       "      <td>3</td>\n",
       "      <td>0</td>\n",
       "      <td>24.816367</td>\n",
       "      <td>1</td>\n",
       "      <td>1</td>\n",
       "      <td>22.3583</td>\n",
       "      <td>0</td>\n",
       "      <td>1</td>\n",
       "      <td>0</td>\n",
       "      <td>0</td>\n",
       "      <td>...</td>\n",
       "      <td>0</td>\n",
       "      <td>1</td>\n",
       "      <td>0</td>\n",
       "      <td>0</td>\n",
       "      <td>0</td>\n",
       "      <td>0</td>\n",
       "      <td>0</td>\n",
       "      <td>0</td>\n",
       "      <td>0</td>\n",
       "      <td>0</td>\n",
       "    </tr>\n",
       "  </tbody>\n",
       "</table>\n",
       "<p>1307 rows × 27 columns</p>\n",
       "</div>"
      ],
      "text/plain": [
       "             Pclass  Sex        Age  SibSp  Parch      Fare  cabin_count  \\\n",
       "PassengerId                                                                \n",
       "1                 3    0  22.000000      1      0    7.2500            0   \n",
       "2                 1    1  38.000000      1      0   71.2833            1   \n",
       "3                 3    1  26.000000      0      0    7.9250            0   \n",
       "4                 1    1  35.000000      1      0   53.1000            1   \n",
       "5                 3    0  35.000000      0      0    8.0500            0   \n",
       "...             ...  ...        ...    ...    ...       ...          ...   \n",
       "1305              3    0  24.816367      0      0    8.0500            0   \n",
       "1306              1    1  39.000000      0      0  108.9000            1   \n",
       "1307              3    0  38.500000      0      0    7.2500            0   \n",
       "1308              3    0  24.816367      0      0    8.0500            0   \n",
       "1309              3    0  24.816367      1      1   22.3583            0   \n",
       "\n",
       "             Embarked_C  Embarked_Q  Embarked_S  ...  social_status_Rev  \\\n",
       "PassengerId                                      ...                      \n",
       "1                     0           0           1  ...                  0   \n",
       "2                     1           0           0  ...                  0   \n",
       "3                     0           0           1  ...                  0   \n",
       "4                     0           0           1  ...                  0   \n",
       "5                     0           0           1  ...                  0   \n",
       "...                 ...         ...         ...  ...                ...   \n",
       "1305                  0           0           1  ...                  0   \n",
       "1306                  1           0           0  ...                  0   \n",
       "1307                  0           0           1  ...                  0   \n",
       "1308                  0           0           1  ...                  0   \n",
       "1309                  1           0           0  ...                  0   \n",
       "\n",
       "             cabin_type_99  cabin_type_A  cabin_type_B  cabin_type_C  \\\n",
       "PassengerId                                                            \n",
       "1                        1             0             0             0   \n",
       "2                        0             0             0             1   \n",
       "3                        1             0             0             0   \n",
       "4                        0             0             0             1   \n",
       "5                        1             0             0             0   \n",
       "...                    ...           ...           ...           ...   \n",
       "1305                     1             0             0             0   \n",
       "1306                     0             0             0             1   \n",
       "1307                     1             0             0             0   \n",
       "1308                     1             0             0             0   \n",
       "1309                     1             0             0             0   \n",
       "\n",
       "             cabin_type_D  cabin_type_E  cabin_type_F  cabin_type_G  \\\n",
       "PassengerId                                                           \n",
       "1                       0             0             0             0   \n",
       "2                       0             0             0             0   \n",
       "3                       0             0             0             0   \n",
       "4                       0             0             0             0   \n",
       "5                       0             0             0             0   \n",
       "...                   ...           ...           ...           ...   \n",
       "1305                    0             0             0             0   \n",
       "1306                    0             0             0             0   \n",
       "1307                    0             0             0             0   \n",
       "1308                    0             0             0             0   \n",
       "1309                    0             0             0             0   \n",
       "\n",
       "             cabin_type_T  \n",
       "PassengerId                \n",
       "1                       0  \n",
       "2                       0  \n",
       "3                       0  \n",
       "4                       0  \n",
       "5                       0  \n",
       "...                   ...  \n",
       "1305                    0  \n",
       "1306                    0  \n",
       "1307                    0  \n",
       "1308                    0  \n",
       "1309                    0  \n",
       "\n",
       "[1307 rows x 27 columns]"
      ]
     },
     "execution_count": 424,
     "metadata": {},
     "output_type": "execute_result"
    }
   ],
   "source": [
    "X_df = pd.get_dummies(all_df)\n",
    "X_df "
   ]
  },
  {
   "cell_type": "markdown",
   "metadata": {},
   "source": [
    "numpy module로 변환"
   ]
  },
  {
   "cell_type": "code",
   "execution_count": 425,
   "metadata": {},
   "outputs": [
    {
     "data": {
      "text/plain": [
       "array([[ 3.        ,  0.        , 22.        , ...,  0.        ,\n",
       "         0.        ,  0.        ],\n",
       "       [ 1.        ,  1.        , 38.        , ...,  0.        ,\n",
       "         0.        ,  0.        ],\n",
       "       [ 3.        ,  1.        , 26.        , ...,  0.        ,\n",
       "         0.        ,  0.        ],\n",
       "       ...,\n",
       "       [ 3.        ,  0.        , 38.5       , ...,  0.        ,\n",
       "         0.        ,  0.        ],\n",
       "       [ 3.        ,  0.        , 24.81636727, ...,  0.        ,\n",
       "         0.        ,  0.        ],\n",
       "       [ 3.        ,  0.        , 24.81636727, ...,  0.        ,\n",
       "         0.        ,  0.        ]])"
      ]
     },
     "execution_count": 425,
     "metadata": {},
     "output_type": "execute_result"
    }
   ],
   "source": [
    "X = X_df.values\n",
    "X"
   ]
  },
  {
   "cell_type": "code",
   "execution_count": 426,
   "metadata": {},
   "outputs": [],
   "source": [
    "from sklearn.preprocessing import MinMaxScaler\n",
    "minmax_scaler = MinMaxScaler()\n",
    "\n",
    "minmax_scaler.fit(X)\n",
    "X = minmax_scaler.transform(X)"
   ]
  },
  {
   "cell_type": "code",
   "execution_count": 427,
   "metadata": {},
   "outputs": [
    {
     "data": {
      "text/plain": [
       "array([[1.        , 0.        , 0.27345609, ..., 0.        , 0.        ,\n",
       "        0.        ],\n",
       "       [0.        , 1.        , 0.473882  , ..., 0.        , 0.        ,\n",
       "        0.        ],\n",
       "       [1.        , 1.        , 0.32356257, ..., 0.        , 0.        ,\n",
       "        0.        ],\n",
       "       ...,\n",
       "       [1.        , 0.        , 0.48014531, ..., 0.        , 0.        ,\n",
       "        0.        ],\n",
       "       [1.        , 0.        , 0.30873565, ..., 0.        , 0.        ,\n",
       "        0.        ],\n",
       "       [1.        , 0.        , 0.30873565, ..., 0.        , 0.        ,\n",
       "        0.        ]])"
      ]
     },
     "execution_count": 427,
     "metadata": {},
     "output_type": "execute_result"
    }
   ],
   "source": [
    "X"
   ]
  },
  {
   "cell_type": "code",
   "execution_count": 428,
   "metadata": {},
   "outputs": [],
   "source": [
    "X_train = X[:len(train_id)]\n",
    "X_test = X[len(train_id):]"
   ]
  },
  {
   "cell_type": "code",
   "execution_count": 429,
   "metadata": {},
   "outputs": [
    {
     "data": {
      "text/plain": [
       "(889, 889)"
      ]
     },
     "execution_count": 429,
     "metadata": {},
     "output_type": "execute_result"
    }
   ],
   "source": [
    "len(X_train), len(y)"
   ]
  },
  {
   "cell_type": "code",
   "execution_count": 430,
   "metadata": {},
   "outputs": [],
   "source": [
    "from sklearn.linear_model import LogisticRegression\n",
    "from sklearn.tree import DecisionTreeClassifier"
   ]
  },
  {
   "cell_type": "code",
   "execution_count": 431,
   "metadata": {},
   "outputs": [],
   "source": [
    "from sklearn.pipeline import Pipeline\n",
    "from sklearn.pipeline import make_pipeline\n",
    "\n",
    "algorithmes = [LogisticRegression(), DecisionTreeClassifier()]"
   ]
  },
  {
   "cell_type": "code",
   "execution_count": 432,
   "metadata": {},
   "outputs": [],
   "source": [
    "c_params = [0.1,  5.0, 7.0, 10.0, 15.0, 20.0, 100.0]\n",
    "\n",
    "params = []\n",
    "params.append([{\n",
    "    \"solver\" : [\"saga\"],\n",
    "    \"penalty\" : [\"l1\"],\n",
    "    \"C\" : c_params\n",
    "    },{\n",
    "    \"solver\" : ['liblinear'],\n",
    "    \"penalty\" : [\"l2\"],\n",
    "    \"C\" : c_params\n",
    "    }\n",
    "    ])\n",
    "params.append({\n",
    "    \"criterion\" : [\"gini\", \"entropy\"],\n",
    "    \"max_depth\" : [10,8,7,6,5,4,3,2],\n",
    "    \"min_samples_leaf\": [1,2,3,4,5,6,7,8,9]})"
   ]
  },
  {
   "cell_type": "code",
   "execution_count": 433,
   "metadata": {},
   "outputs": [
    {
     "data": {
      "text/plain": [
       "[[{'solver': ['saga'],\n",
       "   'penalty': ['l1'],\n",
       "   'C': [0.1, 5.0, 7.0, 10.0, 15.0, 20.0, 100.0]},\n",
       "  {'solver': ['liblinear'],\n",
       "   'penalty': ['l2'],\n",
       "   'C': [0.1, 5.0, 7.0, 10.0, 15.0, 20.0, 100.0]}],\n",
       " {'criterion': ['gini', 'entropy'],\n",
       "  'max_depth': [10, 8, 7, 6, 5, 4, 3, 2],\n",
       "  'min_samples_leaf': [1, 2, 3, 4, 5, 6, 7, 8, 9]}]"
      ]
     },
     "execution_count": 433,
     "metadata": {},
     "output_type": "execute_result"
    }
   ],
   "source": [
    "params"
   ]
  },
  {
   "cell_type": "code",
   "execution_count": 434,
   "metadata": {},
   "outputs": [
    {
     "name": "stdout",
     "output_type": "stream",
     "text": [
      "GridSearchCV(cv=5, estimator=LogisticRegression(), n_jobs=4,\n",
      "             param_grid=[{'C': [0.1, 5.0, 7.0, 10.0, 15.0, 20.0, 100.0],\n",
      "                          'penalty': ['l1'], 'solver': ['saga']},\n",
      "                         {'C': [0.1, 5.0, 7.0, 10.0, 15.0, 20.0, 100.0],\n",
      "                          'penalty': ['l2'], 'solver': ['liblinear']}],\n",
      "             refit='accuracy', scoring=['accuracy'], verbose=1)\n",
      "Fitting 5 folds for each of 14 candidates, totalling 70 fits\n",
      "GridSearchCV(cv=5, estimator=DecisionTreeClassifier(), n_jobs=4,\n",
      "             param_grid={'criterion': ['gini', 'entropy'],\n",
      "                         'max_depth': [10, 8, 7, 6, 5, 4, 3, 2],\n",
      "                         'min_samples_leaf': [1, 2, 3, 4, 5, 6, 7, 8, 9]},\n",
      "             refit='accuracy', scoring=['accuracy'], verbose=1)\n",
      "Fitting 5 folds for each of 144 candidates, totalling 720 fits\n"
     ]
    }
   ],
   "source": [
    "from sklearn.model_selection import GridSearchCV\n",
    "from sklearn.metrics import classification_report, accuracy_score\n",
    "\n",
    "scoring = ['accuracy']\n",
    "estimator_results = []\n",
    "for i, (estimator, params) in enumerate(zip(algorithmes,params)):\n",
    "    gs_estimator = GridSearchCV(\n",
    "            refit=\"accuracy\", estimator=estimator,param_grid=params, scoring=scoring, cv=5, verbose=1, n_jobs=4)\n",
    "    print(gs_estimator)\n",
    "\n",
    "    gs_estimator.fit(X_train, y)\n",
    "    estimator_results.append(gs_estimator)"
   ]
  },
  {
   "cell_type": "markdown",
   "metadata": {},
   "source": [
    "### Logistic Regression"
   ]
  },
  {
   "cell_type": "code",
   "execution_count": 435,
   "metadata": {},
   "outputs": [
    {
     "data": {
      "text/plain": [
       "0.8268075922046594"
      ]
     },
     "execution_count": 435,
     "metadata": {},
     "output_type": "execute_result"
    }
   ],
   "source": [
    "estimator_results[0].best_score_"
   ]
  },
  {
   "cell_type": "markdown",
   "metadata": {},
   "source": [
    "### Decision Tree"
   ]
  },
  {
   "cell_type": "code",
   "execution_count": 436,
   "metadata": {},
   "outputs": [
    {
     "data": {
      "text/plain": [
       "0.8358154002412238"
      ]
     },
     "execution_count": 436,
     "metadata": {},
     "output_type": "execute_result"
    }
   ],
   "source": [
    "estimator_results[1].best_score_"
   ]
  },
  {
   "cell_type": "code",
   "execution_count": 437,
   "metadata": {},
   "outputs": [],
   "source": [
    "import pandas as pd\n",
    "from pandas import DataFrame\n",
    "from collections import defaultdict\n",
    "\n",
    "result_df_dict = {}\n",
    "\n",
    "result_attributes = [\"model\", \"accuracy\", \"penalty\", \"solver\", \"C\", \"criterion\", \"max_depth\", \"min_samples_leaf\"]\n",
    "result_dict = defaultdict(list)\n",
    "\n",
    "algorithm_name= [\"LogisticRegression\", \"DecisionTreeClassifier\"]\n",
    "\n",
    "for i, estimators in enumerate(estimator_results):\n",
    "    number_of_estimators = len(estimators.cv_results_[\"mean_fit_time\"])\n",
    "\n",
    "    for idx_estimator in range(number_of_estimators):\n",
    "        result_dict[\"model\"].append(algorithm_name[i])\n",
    "        result_dict[\"accuracy\"].append(\n",
    "            estimators.cv_results_[\"mean_test_accuracy\"][idx_estimator])\n",
    "            \n",
    "    for param_value in estimators.cv_results_[\"params\"]:\n",
    "        for k,v in param_value.items():\n",
    "            result_dict[k].append(v)\n",
    "    for attr_name in result_attributes:\n",
    "        if len(result_dict[attr_name]) < len(result_dict[\"accuracy\"]):\n",
    "            result_dict[attr_name].extend([None for i in range(number_of_estimators)])\n"
   ]
  },
  {
   "cell_type": "code",
   "execution_count": 438,
   "metadata": {},
   "outputs": [
    {
     "data": {
      "text/html": [
       "<div>\n",
       "<style scoped>\n",
       "    .dataframe tbody tr th:only-of-type {\n",
       "        vertical-align: middle;\n",
       "    }\n",
       "\n",
       "    .dataframe tbody tr th {\n",
       "        vertical-align: top;\n",
       "    }\n",
       "\n",
       "    .dataframe thead th {\n",
       "        text-align: right;\n",
       "    }\n",
       "</style>\n",
       "<table border=\"1\" class=\"dataframe\">\n",
       "  <thead>\n",
       "    <tr style=\"text-align: right;\">\n",
       "      <th></th>\n",
       "      <th>model</th>\n",
       "      <th>accuracy</th>\n",
       "      <th>penalty</th>\n",
       "      <th>solver</th>\n",
       "      <th>C</th>\n",
       "      <th>criterion</th>\n",
       "      <th>max_depth</th>\n",
       "      <th>min_samples_leaf</th>\n",
       "    </tr>\n",
       "  </thead>\n",
       "  <tbody>\n",
       "    <tr>\n",
       "      <th>138</th>\n",
       "      <td>DecisionTreeClassifier</td>\n",
       "      <td>0.835815</td>\n",
       "      <td>None</td>\n",
       "      <td>None</td>\n",
       "      <td>NaN</td>\n",
       "      <td>entropy</td>\n",
       "      <td>4.0</td>\n",
       "      <td>8.0</td>\n",
       "    </tr>\n",
       "    <tr>\n",
       "      <th>136</th>\n",
       "      <td>DecisionTreeClassifier</td>\n",
       "      <td>0.834692</td>\n",
       "      <td>None</td>\n",
       "      <td>None</td>\n",
       "      <td>NaN</td>\n",
       "      <td>entropy</td>\n",
       "      <td>4.0</td>\n",
       "      <td>6.0</td>\n",
       "    </tr>\n",
       "    <tr>\n",
       "      <th>137</th>\n",
       "      <td>DecisionTreeClassifier</td>\n",
       "      <td>0.833556</td>\n",
       "      <td>None</td>\n",
       "      <td>None</td>\n",
       "      <td>NaN</td>\n",
       "      <td>entropy</td>\n",
       "      <td>4.0</td>\n",
       "      <td>7.0</td>\n",
       "    </tr>\n",
       "    <tr>\n",
       "      <th>102</th>\n",
       "      <td>DecisionTreeClassifier</td>\n",
       "      <td>0.833543</td>\n",
       "      <td>None</td>\n",
       "      <td>None</td>\n",
       "      <td>NaN</td>\n",
       "      <td>entropy</td>\n",
       "      <td>8.0</td>\n",
       "      <td>8.0</td>\n",
       "    </tr>\n",
       "    <tr>\n",
       "      <th>132</th>\n",
       "      <td>DecisionTreeClassifier</td>\n",
       "      <td>0.832445</td>\n",
       "      <td>None</td>\n",
       "      <td>None</td>\n",
       "      <td>NaN</td>\n",
       "      <td>entropy</td>\n",
       "      <td>4.0</td>\n",
       "      <td>2.0</td>\n",
       "    </tr>\n",
       "    <tr>\n",
       "      <th>...</th>\n",
       "      <td>...</td>\n",
       "      <td>...</td>\n",
       "      <td>...</td>\n",
       "      <td>...</td>\n",
       "      <td>...</td>\n",
       "      <td>...</td>\n",
       "      <td>...</td>\n",
       "      <td>...</td>\n",
       "    </tr>\n",
       "    <tr>\n",
       "      <th>143</th>\n",
       "      <td>DecisionTreeClassifier</td>\n",
       "      <td>0.811052</td>\n",
       "      <td>None</td>\n",
       "      <td>None</td>\n",
       "      <td>NaN</td>\n",
       "      <td>entropy</td>\n",
       "      <td>3.0</td>\n",
       "      <td>4.0</td>\n",
       "    </tr>\n",
       "    <tr>\n",
       "      <th>142</th>\n",
       "      <td>DecisionTreeClassifier</td>\n",
       "      <td>0.811052</td>\n",
       "      <td>None</td>\n",
       "      <td>None</td>\n",
       "      <td>NaN</td>\n",
       "      <td>entropy</td>\n",
       "      <td>3.0</td>\n",
       "      <td>3.0</td>\n",
       "    </tr>\n",
       "    <tr>\n",
       "      <th>140</th>\n",
       "      <td>DecisionTreeClassifier</td>\n",
       "      <td>0.811052</td>\n",
       "      <td>None</td>\n",
       "      <td>None</td>\n",
       "      <td>NaN</td>\n",
       "      <td>entropy</td>\n",
       "      <td>3.0</td>\n",
       "      <td>1.0</td>\n",
       "    </tr>\n",
       "    <tr>\n",
       "      <th>51</th>\n",
       "      <td>DecisionTreeClassifier</td>\n",
       "      <td>0.809947</td>\n",
       "      <td>None</td>\n",
       "      <td>None</td>\n",
       "      <td>NaN</td>\n",
       "      <td>gini</td>\n",
       "      <td>5.0</td>\n",
       "      <td>2.0</td>\n",
       "    </tr>\n",
       "    <tr>\n",
       "      <th>122</th>\n",
       "      <td>DecisionTreeClassifier</td>\n",
       "      <td>0.809947</td>\n",
       "      <td>None</td>\n",
       "      <td>None</td>\n",
       "      <td>NaN</td>\n",
       "      <td>entropy</td>\n",
       "      <td>5.0</td>\n",
       "      <td>1.0</td>\n",
       "    </tr>\n",
       "  </tbody>\n",
       "</table>\n",
       "<p>100 rows × 8 columns</p>\n",
       "</div>"
      ],
      "text/plain": [
       "                      model  accuracy penalty solver   C criterion  max_depth  \\\n",
       "138  DecisionTreeClassifier  0.835815    None   None NaN   entropy        4.0   \n",
       "136  DecisionTreeClassifier  0.834692    None   None NaN   entropy        4.0   \n",
       "137  DecisionTreeClassifier  0.833556    None   None NaN   entropy        4.0   \n",
       "102  DecisionTreeClassifier  0.833543    None   None NaN   entropy        8.0   \n",
       "132  DecisionTreeClassifier  0.832445    None   None NaN   entropy        4.0   \n",
       "..                      ...       ...     ...    ...  ..       ...        ...   \n",
       "143  DecisionTreeClassifier  0.811052    None   None NaN   entropy        3.0   \n",
       "142  DecisionTreeClassifier  0.811052    None   None NaN   entropy        3.0   \n",
       "140  DecisionTreeClassifier  0.811052    None   None NaN   entropy        3.0   \n",
       "51   DecisionTreeClassifier  0.809947    None   None NaN      gini        5.0   \n",
       "122  DecisionTreeClassifier  0.809947    None   None NaN   entropy        5.0   \n",
       "\n",
       "     min_samples_leaf  \n",
       "138               8.0  \n",
       "136               6.0  \n",
       "137               7.0  \n",
       "102               8.0  \n",
       "132               2.0  \n",
       "..                ...  \n",
       "143               4.0  \n",
       "142               3.0  \n",
       "140               1.0  \n",
       "51                2.0  \n",
       "122               1.0  \n",
       "\n",
       "[100 rows x 8 columns]"
      ]
     },
     "execution_count": 438,
     "metadata": {},
     "output_type": "execute_result"
    }
   ],
   "source": [
    "result_df = DataFrame(result_dict, columns=result_attributes)\n",
    "result_df.sort_values(\"accuracy\",ascending=False).head(n=100)"
   ]
  },
  {
   "cell_type": "markdown",
   "metadata": {},
   "source": [
    "아래의 값이 크면 클수록 중요한 변수"
   ]
  },
  {
   "cell_type": "code",
   "execution_count": 439,
   "metadata": {},
   "outputs": [
    {
     "data": {
      "text/plain": [
       "array([0.13408672, 0.06272407, 0.08523299, 0.        , 0.        ,\n",
       "       0.18928639, 0.01353489, 0.        , 0.        , 0.        ,\n",
       "       0.        , 0.        , 0.        , 0.        , 0.        ,\n",
       "       0.51513495, 0.        , 0.        , 0.        , 0.        ,\n",
       "       0.        , 0.        , 0.        , 0.        , 0.        ,\n",
       "       0.        , 0.        ])"
      ]
     },
     "execution_count": 439,
     "metadata": {},
     "output_type": "execute_result"
    }
   ],
   "source": [
    "estimator_results[1].best_estimator_.feature_importances_"
   ]
  },
  {
   "cell_type": "markdown",
   "metadata": {},
   "source": [
    "위의 값 중 가장 큰 값의 위치를 아래와 비교해봐서 가장 중요한 변수를 찾을 수 있다"
   ]
  },
  {
   "cell_type": "code",
   "execution_count": 440,
   "metadata": {},
   "outputs": [
    {
     "data": {
      "text/plain": [
       "Index(['Pclass', 'Sex', 'Age', 'SibSp', 'Parch', 'Fare', 'cabin_count',\n",
       "       'Embarked_C', 'Embarked_Q', 'Embarked_S', 'social_status_0',\n",
       "       'social_status_Col', 'social_status_Dr', 'social_status_Master',\n",
       "       'social_status_Miss', 'social_status_Mr', 'social_status_Mrs',\n",
       "       'social_status_Rev', 'cabin_type_99', 'cabin_type_A', 'cabin_type_B',\n",
       "       'cabin_type_C', 'cabin_type_D', 'cabin_type_E', 'cabin_type_F',\n",
       "       'cabin_type_G', 'cabin_type_T'],\n",
       "      dtype='object')"
      ]
     },
     "execution_count": 440,
     "metadata": {},
     "output_type": "execute_result"
    }
   ],
   "source": [
    "X_df.columns"
   ]
  },
  {
   "cell_type": "markdown",
   "metadata": {},
   "source": [
    "coef_ 값이 크면 클수록 y값에 영향을 많이 줬다"
   ]
  },
  {
   "cell_type": "code",
   "execution_count": 441,
   "metadata": {},
   "outputs": [
    {
     "data": {
      "text/plain": [
       "array([[-1.7340206 ,  2.24871444, -2.19185204, -3.65078951, -2.41066605,\n",
       "         1.27767702, -0.45084803,  0.50596033,  0.34796529,  0.07057548,\n",
       "        -0.60628329,  0.3376824 , -0.06522338,  2.50565412,  0.07097907,\n",
       "        -0.57552064,  0.75801619, -1.50080336, -0.41747765,  0.1604547 ,\n",
       "         0.32518843, -0.10809998,  0.84396811,  1.1312503 ,  0.53153586,\n",
       "        -0.733188  , -0.80913066]])"
      ]
     },
     "execution_count": 441,
     "metadata": {},
     "output_type": "execute_result"
    }
   ],
   "source": [
    "estimator_results[0].best_estimator_.coef_"
   ]
  },
  {
   "cell_type": "markdown",
   "metadata": {},
   "source": [
    "Decision Tree의 장점 중 하나는 pydot을 사용하여 결정 트리를 출력"
   ]
  },
  {
   "cell_type": "code",
   "execution_count": 442,
   "metadata": {},
   "outputs": [],
   "source": [
    "best_tree = estimator_results[1].best_estimator_\n",
    "column_names=  pd.get_dummies(all_df).columns"
   ]
  },
  {
   "cell_type": "code",
   "execution_count": 443,
   "metadata": {},
   "outputs": [
    {
     "data": {
      "text/plain": [
       "Index(['Pclass', 'Sex', 'Age', 'SibSp', 'Parch', 'Fare', 'cabin_count',\n",
       "       'Embarked_C', 'Embarked_Q', 'Embarked_S', 'social_status_0',\n",
       "       'social_status_Col', 'social_status_Dr', 'social_status_Master',\n",
       "       'social_status_Miss', 'social_status_Mr', 'social_status_Mrs',\n",
       "       'social_status_Rev', 'cabin_type_99', 'cabin_type_A', 'cabin_type_B',\n",
       "       'cabin_type_C', 'cabin_type_D', 'cabin_type_E', 'cabin_type_F',\n",
       "       'cabin_type_G', 'cabin_type_T'],\n",
       "      dtype='object')"
      ]
     },
     "execution_count": 443,
     "metadata": {},
     "output_type": "execute_result"
    }
   ],
   "source": [
    "column_names"
   ]
  },
  {
   "cell_type": "code",
   "execution_count": 444,
   "metadata": {},
   "outputs": [],
   "source": [
    "import six\n",
    "import sys\n",
    "sys.modules['sklearn.externals.six'] = six"
   ]
  },
  {
   "cell_type": "code",
   "execution_count": 445,
   "metadata": {},
   "outputs": [
    {
     "data": {
      "image/png": "[encoded data removed]",
      "text/plain": [
       "<IPython.core.display.Image object>"
      ]
     },
     "execution_count": 445,
     "metadata": {},
     "output_type": "execute_result"
    }
   ],
   "source": [
    "import pydotplus\n",
    "from sklearn.externals.six import StringIO\n",
    "from sklearn import tree\n",
    "\n",
    "dot_data = StringIO()\n",
    "tree.export_graphviz(best_tree, out_file=dot_data, feature_names=column_names) \n",
    "\n",
    "graph = pydotplus.pydotplus.graph_from_dot_data(dot_data.getvalue())\n",
    "graph.write_png(\"titanic.png\")\n",
    "from IPython.core.display import Image \n",
    "Image(filename='titanic.png')"
   ]
  },
  {
   "cell_type": "code",
   "execution_count": 446,
   "metadata": {},
   "outputs": [
    {
     "data": {
      "text/plain": [
       "(418, 418)"
      ]
     },
     "execution_count": 446,
     "metadata": {},
     "output_type": "execute_result"
    }
   ],
   "source": [
    "len(test_id), len(best_tree.predict(X_test))"
   ]
  },
  {
   "cell_type": "code",
   "execution_count": 342,
   "metadata": {},
   "outputs": [],
   "source": [
    "test_id.dtype ='int'"
   ]
  },
  {
   "cell_type": "code",
   "execution_count": 447,
   "metadata": {},
   "outputs": [
    {
     "data": {
      "text/plain": [
       "(418,)"
      ]
     },
     "execution_count": 447,
     "metadata": {},
     "output_type": "execute_result"
    }
   ],
   "source": [
    "test_id.shape"
   ]
  },
  {
   "cell_type": "code",
   "execution_count": 449,
   "metadata": {},
   "outputs": [],
   "source": [
    "clf = estimator_results[0].best_estimator_\n",
    "\n",
    "result = np.concatenate( (test_id.reshape(-1,1), clf.predict(X_test).reshape(-1,1)  ) , axis=1)"
   ]
  },
  {
   "cell_type": "code",
   "execution_count": 450,
   "metadata": {},
   "outputs": [
    {
     "data": {
      "text/html": [
       "<div>\n",
       "<style scoped>\n",
       "    .dataframe tbody tr th:only-of-type {\n",
       "        vertical-align: middle;\n",
       "    }\n",
       "\n",
       "    .dataframe tbody tr th {\n",
       "        vertical-align: top;\n",
       "    }\n",
       "\n",
       "    .dataframe thead th {\n",
       "        text-align: right;\n",
       "    }\n",
       "</style>\n",
       "<table border=\"1\" class=\"dataframe\">\n",
       "  <thead>\n",
       "    <tr style=\"text-align: right;\">\n",
       "      <th></th>\n",
       "      <th>PassengerId</th>\n",
       "      <th>Survived</th>\n",
       "    </tr>\n",
       "  </thead>\n",
       "  <tbody>\n",
       "    <tr>\n",
       "      <th>0</th>\n",
       "      <td>892</td>\n",
       "      <td>0</td>\n",
       "    </tr>\n",
       "    <tr>\n",
       "      <th>1</th>\n",
       "      <td>893</td>\n",
       "      <td>1</td>\n",
       "    </tr>\n",
       "    <tr>\n",
       "      <th>2</th>\n",
       "      <td>894</td>\n",
       "      <td>0</td>\n",
       "    </tr>\n",
       "    <tr>\n",
       "      <th>3</th>\n",
       "      <td>895</td>\n",
       "      <td>0</td>\n",
       "    </tr>\n",
       "    <tr>\n",
       "      <th>4</th>\n",
       "      <td>896</td>\n",
       "      <td>1</td>\n",
       "    </tr>\n",
       "  </tbody>\n",
       "</table>\n",
       "</div>"
      ],
      "text/plain": [
       "   PassengerId  Survived\n",
       "0          892         0\n",
       "1          893         1\n",
       "2          894         0\n",
       "3          895         0\n",
       "4          896         1"
      ]
     },
     "execution_count": 450,
     "metadata": {},
     "output_type": "execute_result"
    }
   ],
   "source": [
    "df_submssion =pd.DataFrame(result, columns=[\"PassengerId\",\"Survived\"],dtype=int)\n",
    "df_submssion.head()"
   ]
  },
  {
   "cell_type": "code",
   "execution_count": 452,
   "metadata": {},
   "outputs": [],
   "source": [
    "df_submssion.to_csv('submission_result.csv', index = False)"
   ]
  },
  {
   "cell_type": "code",
   "execution_count": null,
   "metadata": {},
   "outputs": [],
   "source": [
    "#!pip install kaggle\n",
    "#!kaggle competitions submit -c titanic -f submission_result.csv -m \"My submission message\""
   ]
  },
  {
   "cell_type": "markdown",
   "metadata": {},
   "source": [
    "## 7️⃣ Splitting continous attribute\n",
    "연속적인 값을 가지는 Attribute를 기준으로 branch\n",
    "\n",
    "### Continuous Attribute 나누기\n",
    "- 불연속적 명목 데이터에 비해 나눌 수 있는 구간이 많음  \n",
    "Ex) 1 ~ 100\n",
    "\n",
    "1) 전체 데이터를 모두 기준점으로 한다  \n",
    "\n",
    "2) 주우이값, 4분위수들을 기준점으로 한다 (binning)  \n",
    "\n",
    "3) <span style = 'color : red'>Y-class 값이 바뀌는 수를 기준점으로 한다 </span>\n",
    "\n",
    "- split 할 data를 Sorting 시킨다\n",
    "- Y-class 데이터가 변경되는 부분 찾기\n",
    "- 구간별 경계 평균값으로 기준 잡기\n",
    "- 구간별 경계 값을 기준으로 Entropy or Gini 산출\n",
    "##### $ Gain(elec_a) = Info(D) - Info_a(D) $\n",
    "$ Gain(elec_a) $ 보다 큰 값, 작은 값으로 구간 나누기\n",
    "\n",
    "ex) a = 750, 1350, 2250, 4175일 때 \n",
    "\n",
    "이 4가지의 Gain 중 가장 큰 값을 Attribute elec의 기준으로 삼는다.\n",
    "\n",
    "$Max(Gain(elec))$"
   ]
  },
  {
   "cell_type": "code",
   "execution_count": null,
   "metadata": {},
   "outputs": [],
   "source": [
    "import numpy as np\n",
    "import pandas as pd"
   ]
  },
  {
   "cell_type": "code",
   "execution_count": null,
   "metadata": {},
   "outputs": [
    {
     "data": {
      "text/html": [
       "<div>\n",
       "<style scoped>\n",
       "    .dataframe tbody tr th:only-of-type {\n",
       "        vertical-align: middle;\n",
       "    }\n",
       "\n",
       "    .dataframe tbody tr th {\n",
       "        vertical-align: top;\n",
       "    }\n",
       "\n",
       "    .dataframe thead th {\n",
       "        text-align: right;\n",
       "    }\n",
       "</style>\n",
       "<table border=\"1\" class=\"dataframe\">\n",
       "  <thead>\n",
       "    <tr style=\"text-align: right;\">\n",
       "      <th></th>\n",
       "      <th>ID</th>\n",
       "      <th>STREAM</th>\n",
       "      <th>SLOPE</th>\n",
       "      <th>ELEVATION</th>\n",
       "      <th>VEGETATION</th>\n",
       "    </tr>\n",
       "  </thead>\n",
       "  <tbody>\n",
       "    <tr>\n",
       "      <th>0</th>\n",
       "      <td>1</td>\n",
       "      <td>False</td>\n",
       "      <td>steep</td>\n",
       "      <td>3900</td>\n",
       "      <td>chapparal</td>\n",
       "    </tr>\n",
       "    <tr>\n",
       "      <th>1</th>\n",
       "      <td>2</td>\n",
       "      <td>True</td>\n",
       "      <td>moderate</td>\n",
       "      <td>300</td>\n",
       "      <td>riparian</td>\n",
       "    </tr>\n",
       "    <tr>\n",
       "      <th>2</th>\n",
       "      <td>3</td>\n",
       "      <td>True</td>\n",
       "      <td>steep</td>\n",
       "      <td>1500</td>\n",
       "      <td>riparian</td>\n",
       "    </tr>\n",
       "    <tr>\n",
       "      <th>3</th>\n",
       "      <td>4</td>\n",
       "      <td>False</td>\n",
       "      <td>steep</td>\n",
       "      <td>1200</td>\n",
       "      <td>chapparal</td>\n",
       "    </tr>\n",
       "    <tr>\n",
       "      <th>4</th>\n",
       "      <td>5</td>\n",
       "      <td>False</td>\n",
       "      <td>flat</td>\n",
       "      <td>4450</td>\n",
       "      <td>conifer</td>\n",
       "    </tr>\n",
       "    <tr>\n",
       "      <th>5</th>\n",
       "      <td>6</td>\n",
       "      <td>True</td>\n",
       "      <td>steep</td>\n",
       "      <td>5000</td>\n",
       "      <td>conifer</td>\n",
       "    </tr>\n",
       "    <tr>\n",
       "      <th>6</th>\n",
       "      <td>7</td>\n",
       "      <td>True</td>\n",
       "      <td>steep</td>\n",
       "      <td>3000</td>\n",
       "      <td>chapparal</td>\n",
       "    </tr>\n",
       "  </tbody>\n",
       "</table>\n",
       "</div>"
      ],
      "text/plain": [
       "   ID  STREAM     SLOPE  ELEVATION VEGETATION\n",
       "0   1   False     steep       3900  chapparal\n",
       "1   2    True  moderate        300   riparian\n",
       "2   3    True     steep       1500   riparian\n",
       "3   4   False     steep       1200  chapparal\n",
       "4   5   False      flat       4450    conifer\n",
       "5   6    True     steep       5000    conifer\n",
       "6   7    True     steep       3000  chapparal"
      ]
     },
     "execution_count": 19,
     "metadata": {},
     "output_type": "execute_result"
    }
   ],
   "source": [
    "pd_data = pd.read_csv('https://raw.githubusercontent.com/TeamLab/machine_learning_from_scratch_with_python/master/code/ch12/vegeterianl_dataset.csv',delimiter=r\"\\s+\")\n",
    "pd_data.drop(\"ID\",axis=1)\n",
    "pd_data"
   ]
  },
  {
   "cell_type": "markdown",
   "metadata": {},
   "source": [
    "### Sorting\n",
    ": ELEVATION 기준"
   ]
  },
  {
   "cell_type": "code",
   "execution_count": null,
   "metadata": {},
   "outputs": [
    {
     "data": {
      "text/html": [
       "<div>\n",
       "<style scoped>\n",
       "    .dataframe tbody tr th:only-of-type {\n",
       "        vertical-align: middle;\n",
       "    }\n",
       "\n",
       "    .dataframe tbody tr th {\n",
       "        vertical-align: top;\n",
       "    }\n",
       "\n",
       "    .dataframe thead th {\n",
       "        text-align: right;\n",
       "    }\n",
       "</style>\n",
       "<table border=\"1\" class=\"dataframe\">\n",
       "  <thead>\n",
       "    <tr style=\"text-align: right;\">\n",
       "      <th></th>\n",
       "      <th>ID</th>\n",
       "      <th>STREAM</th>\n",
       "      <th>SLOPE</th>\n",
       "      <th>ELEVATION</th>\n",
       "      <th>VEGETATION</th>\n",
       "    </tr>\n",
       "  </thead>\n",
       "  <tbody>\n",
       "    <tr>\n",
       "      <th>1</th>\n",
       "      <td>2</td>\n",
       "      <td>True</td>\n",
       "      <td>moderate</td>\n",
       "      <td>300</td>\n",
       "      <td>riparian</td>\n",
       "    </tr>\n",
       "    <tr>\n",
       "      <th>3</th>\n",
       "      <td>4</td>\n",
       "      <td>False</td>\n",
       "      <td>steep</td>\n",
       "      <td>1200</td>\n",
       "      <td>chapparal</td>\n",
       "    </tr>\n",
       "    <tr>\n",
       "      <th>2</th>\n",
       "      <td>3</td>\n",
       "      <td>True</td>\n",
       "      <td>steep</td>\n",
       "      <td>1500</td>\n",
       "      <td>riparian</td>\n",
       "    </tr>\n",
       "    <tr>\n",
       "      <th>6</th>\n",
       "      <td>7</td>\n",
       "      <td>True</td>\n",
       "      <td>steep</td>\n",
       "      <td>3000</td>\n",
       "      <td>chapparal</td>\n",
       "    </tr>\n",
       "    <tr>\n",
       "      <th>0</th>\n",
       "      <td>1</td>\n",
       "      <td>False</td>\n",
       "      <td>steep</td>\n",
       "      <td>3900</td>\n",
       "      <td>chapparal</td>\n",
       "    </tr>\n",
       "    <tr>\n",
       "      <th>4</th>\n",
       "      <td>5</td>\n",
       "      <td>False</td>\n",
       "      <td>flat</td>\n",
       "      <td>4450</td>\n",
       "      <td>conifer</td>\n",
       "    </tr>\n",
       "    <tr>\n",
       "      <th>5</th>\n",
       "      <td>6</td>\n",
       "      <td>True</td>\n",
       "      <td>steep</td>\n",
       "      <td>5000</td>\n",
       "      <td>conifer</td>\n",
       "    </tr>\n",
       "  </tbody>\n",
       "</table>\n",
       "</div>"
      ],
      "text/plain": [
       "   ID  STREAM     SLOPE  ELEVATION VEGETATION\n",
       "1   2    True  moderate        300   riparian\n",
       "3   4   False     steep       1200  chapparal\n",
       "2   3    True     steep       1500   riparian\n",
       "6   7    True     steep       3000  chapparal\n",
       "0   1   False     steep       3900  chapparal\n",
       "4   5   False      flat       4450    conifer\n",
       "5   6    True     steep       5000    conifer"
      ]
     },
     "execution_count": 6,
     "metadata": {},
     "output_type": "execute_result"
    }
   ],
   "source": [
    "pd_data.sort_values('ELEVATION')"
   ]
  },
  {
   "cell_type": "code",
   "execution_count": null,
   "metadata": {},
   "outputs": [],
   "source": [
    "def get_info(df):\n",
    "    riparian = df.loc[df['VEGETATION'] == 'riparian']\n",
    "    chapparal = df.loc[df['VEGETATION'] == 'chapparal']\n",
    "    conifer = df.loc[df['VEGETATION'] == 'conifer']\n",
    "\n",
    "    x = np.array([len(riparian) / len(df), len(chapparal) / len(df), len(conifer) / len(df)])\n",
    "    y = np.log2(x[x!=0])\n",
    "\n",
    "    info_all = -sum(x[x!=0] * y)\n",
    "    return info_all"
   ]
  },
  {
   "cell_type": "code",
   "execution_count": null,
   "metadata": {},
   "outputs": [
    {
     "data": {
      "text/plain": [
       "1.5566567074628228"
      ]
     },
     "execution_count": 8,
     "metadata": {},
     "output_type": "execute_result"
    }
   ],
   "source": [
    "get_info(pd_data)"
   ]
  },
  {
   "cell_type": "code",
   "execution_count": null,
   "metadata": {},
   "outputs": [],
   "source": [
    "def get_attribute_info(df, attribute_name, continuous_value = 0 ):\n",
    "    get_infos = []\n",
    "\n",
    "    if continuous_value == 0 :\n",
    "        attribute_values = pd_data[attribute_name].unique()\n",
    "\n",
    "        for value in attribute_values:\n",
    "            split_df = pd_data.loc[pd_data[attribute_name] == value]\n",
    "            get_infos.append( (len(split_df) / len(df)) * get_info(split_df))\n",
    "    \n",
    "    else:\n",
    "        split_df_1 = pd_data.loc[pd_data[attribute_name] >= continuous_value ]\n",
    "        split_df_2 = pd_data.loc[pd_data[attribute_name] < continuous_value ]\n",
    "\n",
    "        get_infos.append( (len(split_df_1) / len(df)) * get_info(split_df_1))\n",
    "        get_infos.append( (len(split_df_2) / len(df)) * get_info(split_df_2))\n",
    "\n",
    "    return sum(get_infos)"
   ]
  },
  {
   "cell_type": "code",
   "execution_count": null,
   "metadata": {},
   "outputs": [],
   "source": [
    "def get_continuos_attribute_info(df, attribute_name):\n",
    "\n",
    "    result = pd_data.sort_values(attribute_name)\n",
    "\n",
    "    prior = 0 \n",
    "    split_index = []\n",
    "    sorted_key = {}\n",
    "    sorted_index = {}\n",
    "\n",
    "    # index를 기준, 값이 바뀌는 index 찾기 \n",
    "    for index, value in enumerate(result.index):\n",
    "\n",
    "        # index 이전, 이후의 VEGETATION\n",
    "        if prior != result[\"VEGETATION\"][value]:\n",
    "            split_index.append(value)\n",
    "            prior = result[\"VEGETATION\"][value]\n",
    "\n",
    "        sorted_index[value] = index\n",
    "        sorted_key[index] = value\n",
    "\n",
    "    split_value = []\n",
    "\n",
    "    for v in split_index[1:]:\n",
    "\n",
    "        current_value = result[attribute_name][v]\n",
    "\n",
    "        prior_value_index = sorted_key[sorted_index[v] - 1]\n",
    "\n",
    "        prior_value = result[attribute_name][prior_value_index]\n",
    "        \n",
    "        split_value_average = current_value + prior_value\n",
    "        # 평균\n",
    "        split_value.append(split_value_average/2)\n",
    "\n",
    "    result = {}\n",
    "\n",
    "    for value in split_value:\n",
    "        \n",
    "        result[value] = (get_attribute_info(df, attribute_name, value))\n",
    "\n",
    "    return result"
   ]
  },
  {
   "cell_type": "markdown",
   "metadata": {},
   "source": [
    "### 각 Entropy 구하기"
   ]
  },
  {
   "cell_type": "code",
   "execution_count": null,
   "metadata": {},
   "outputs": [
    {
     "data": {
      "text/plain": [
       "{750.0: 1.250698214594781,\n",
       " 1350.0: 1.3728057820624016,\n",
       " 2250.0: 0.9649839288804954,\n",
       " 4175.0: 0.6935361388961918}"
      ]
     },
     "execution_count": 11,
     "metadata": {},
     "output_type": "execute_result"
    }
   ],
   "source": [
    "get_continuos_attribute_info(pd_data, \"ELEVATION\")"
   ]
  },
  {
   "cell_type": "markdown",
   "metadata": {},
   "source": [
    "Entropy가 작은 값 선택 $\\Rightarrow$ Information Gain $\\uparrow$"
   ]
  },
  {
   "cell_type": "markdown",
   "metadata": {},
   "source": [
    "전체 Entropy"
   ]
  },
  {
   "cell_type": "code",
   "execution_count": null,
   "metadata": {},
   "outputs": [
    {
     "data": {
      "text/plain": [
       "1.5566567074628228"
      ]
     },
     "execution_count": 12,
     "metadata": {},
     "output_type": "execute_result"
    }
   ],
   "source": [
    "get_info(pd_data)"
   ]
  },
  {
   "cell_type": "markdown",
   "metadata": {},
   "source": [
    "#### $Max(Gain(elec))$"
   ]
  },
  {
   "cell_type": "code",
   "execution_count": null,
   "metadata": {},
   "outputs": [
    {
     "name": "stdout",
     "output_type": "stream",
     "text": [
      "750.0 : 0.3059584928680419\n",
      "1350.0 : 0.18385092540042125\n",
      "2250.0 : 0.5916727785823274\n",
      "4175.0 : 0.863120568566631\n"
     ]
    }
   ],
   "source": [
    "for key, value in get_continuos_attribute_info(pd_data, 'ELEVATION').items():\n",
    "    print(key, ':', get_info(pd_data) - value)"
   ]
  },
  {
   "cell_type": "markdown",
   "metadata": {},
   "source": [
    "4175.0 : 0.863120568566631이 각 Attribute의 Information Gain 중 가장 큼  \n",
    "$\\Rightarrow$ 4175를 기준으로 나누는 것이 좋음"
   ]
  },
  {
   "cell_type": "code",
   "execution_count": null,
   "metadata": {},
   "outputs": [
    {
     "data": {
      "text/plain": [
       "0.30595849286804166"
      ]
     },
     "execution_count": 14,
     "metadata": {},
     "output_type": "execute_result"
    }
   ],
   "source": [
    "get_info(pd_data) - get_attribute_info(pd_data, 'STREAM')"
   ]
  },
  {
   "cell_type": "code",
   "execution_count": null,
   "metadata": {},
   "outputs": [
    {
     "data": {
      "text/plain": [
       "0.5774062828523452"
      ]
     },
     "execution_count": 15,
     "metadata": {},
     "output_type": "execute_result"
    }
   ],
   "source": [
    "get_info(pd_data) - get_attribute_info(pd_data, 'SLOPE')"
   ]
  },
  {
   "cell_type": "markdown",
   "metadata": {},
   "source": [
    "### Continuous attribute branch 특징\n",
    "- 명목속성과 달리, 여러번 재사용 가능 \n",
    "    명목속성 : Category Data\n",
    "\n",
    "    Ex) 4175를 기준으로 먼저 나누었지만 나머지는 아직 사용 X  \n",
    "    => 나머지값을 가지고 branch 가능  \n",
    "    \n",
    "    단, 경계값은 달라야 함\n",
    "\n",
    "- 연속값과 명목값을 동시에 split 가능\n",
    "\n",
    "    성능상 좋고 나쁨은 데이터에 따라 다름"
   ]
  },
  {
   "cell_type": "markdown",
   "metadata": {},
   "source": [
    "## 8️⃣ Regression Tree\n",
    "\n",
    "### Decision Tree로 Regression 문제 풀기\n",
    "\n",
    "- Y의 값이 continuous일 경우\n",
    "\n",
    "1) Split measure의 변화\n",
    "\n",
    "    : entropy Or Gini -> variance (분산)\n",
    "\n",
    "2) 결과 노드의 선택\n",
    "\n",
    "    : class -> 해당 instances의 Y평균\n",
    "\n",
    "3) 나머진 다 같음\n",
    "\n",
    "![reg](./img/reg.PNG)\n",
    "\n",
    "### Splitting branch measure\n",
    "\n",
    "#### $ var(D) = \\frac{ \\sum_{i=1}^n (y^{(i)} - \\bar{y})^2 }{n-1} $\n",
    "####  where $ \\bar{y} = \\frac{ \\sum_{i=1}^n y^{(i)} }{n} $\n",
    "\n",
    "##### $ data[best] = argmin_{ attr \\in data } \\sum_{l \\in levels(attr)} \\frac{\\vert D_{attr = l} \\vert}{\\vert D \\vert} * var(D_{attr = l})$\n",
    "\n",
    "### Branch 만들기\n",
    "실제로 CART는 Binary splitting을 실행"
   ]
  },
  {
   "cell_type": "code",
   "execution_count": null,
   "metadata": {},
   "outputs": [
    {
     "data": {
      "text/html": [
       "<div>\n",
       "<style scoped>\n",
       "    .dataframe tbody tr th:only-of-type {\n",
       "        vertical-align: middle;\n",
       "    }\n",
       "\n",
       "    .dataframe tbody tr th {\n",
       "        vertical-align: top;\n",
       "    }\n",
       "\n",
       "    .dataframe thead th {\n",
       "        text-align: right;\n",
       "    }\n",
       "</style>\n",
       "<table border=\"1\" class=\"dataframe\">\n",
       "  <thead>\n",
       "    <tr style=\"text-align: right;\">\n",
       "      <th></th>\n",
       "      <th>ID</th>\n",
       "      <th>SEASON</th>\n",
       "      <th>WORK_DAY</th>\n",
       "      <th>RENTALS</th>\n",
       "    </tr>\n",
       "  </thead>\n",
       "  <tbody>\n",
       "    <tr>\n",
       "      <th>0</th>\n",
       "      <td>1</td>\n",
       "      <td>winter</td>\n",
       "      <td>False</td>\n",
       "      <td>800</td>\n",
       "    </tr>\n",
       "    <tr>\n",
       "      <th>1</th>\n",
       "      <td>2</td>\n",
       "      <td>winter</td>\n",
       "      <td>False</td>\n",
       "      <td>826</td>\n",
       "    </tr>\n",
       "    <tr>\n",
       "      <th>2</th>\n",
       "      <td>3</td>\n",
       "      <td>winter</td>\n",
       "      <td>True</td>\n",
       "      <td>900</td>\n",
       "    </tr>\n",
       "    <tr>\n",
       "      <th>3</th>\n",
       "      <td>4</td>\n",
       "      <td>spring</td>\n",
       "      <td>False</td>\n",
       "      <td>2100</td>\n",
       "    </tr>\n",
       "    <tr>\n",
       "      <th>4</th>\n",
       "      <td>5</td>\n",
       "      <td>spring</td>\n",
       "      <td>True</td>\n",
       "      <td>4740</td>\n",
       "    </tr>\n",
       "    <tr>\n",
       "      <th>5</th>\n",
       "      <td>6</td>\n",
       "      <td>spring</td>\n",
       "      <td>True</td>\n",
       "      <td>4900</td>\n",
       "    </tr>\n",
       "    <tr>\n",
       "      <th>6</th>\n",
       "      <td>8</td>\n",
       "      <td>summer</td>\n",
       "      <td>True</td>\n",
       "      <td>3000</td>\n",
       "    </tr>\n",
       "    <tr>\n",
       "      <th>7</th>\n",
       "      <td>9</td>\n",
       "      <td>summer</td>\n",
       "      <td>True</td>\n",
       "      <td>5800</td>\n",
       "    </tr>\n",
       "    <tr>\n",
       "      <th>8</th>\n",
       "      <td>10</td>\n",
       "      <td>autumn</td>\n",
       "      <td>False</td>\n",
       "      <td>6200</td>\n",
       "    </tr>\n",
       "    <tr>\n",
       "      <th>9</th>\n",
       "      <td>11</td>\n",
       "      <td>autumn</td>\n",
       "      <td>False</td>\n",
       "      <td>2910</td>\n",
       "    </tr>\n",
       "    <tr>\n",
       "      <th>10</th>\n",
       "      <td>12</td>\n",
       "      <td>autumn</td>\n",
       "      <td>True</td>\n",
       "      <td>2880</td>\n",
       "    </tr>\n",
       "    <tr>\n",
       "      <th>11</th>\n",
       "      <td>7</td>\n",
       "      <td>summer</td>\n",
       "      <td>False</td>\n",
       "      <td>2820</td>\n",
       "    </tr>\n",
       "  </tbody>\n",
       "</table>\n",
       "</div>"
      ],
      "text/plain": [
       "    ID  SEASON  WORK_DAY  RENTALS\n",
       "0    1  winter     False      800\n",
       "1    2  winter     False      826\n",
       "2    3  winter      True      900\n",
       "3    4  spring     False     2100\n",
       "4    5  spring      True     4740\n",
       "5    6  spring      True     4900\n",
       "6    8  summer      True     3000\n",
       "7    9  summer      True     5800\n",
       "8   10  autumn     False     6200\n",
       "9   11  autumn     False     2910\n",
       "10  12  autumn      True     2880\n",
       "11   7  summer     False     2820"
      ]
     },
     "execution_count": 21,
     "metadata": {},
     "output_type": "execute_result"
    }
   ],
   "source": [
    "pd_data = pd.read_csv('https://raw.githubusercontent.com/TeamLab/machine_learning_from_scratch_with_python/master/code/ch12/rental_price.csv',delimiter=r\"\\s+\")\n",
    "pd_data"
   ]
  },
  {
   "cell_type": "code",
   "execution_count": null,
   "metadata": {},
   "outputs": [],
   "source": [
    "def get_var(df):\n",
    "    mean_value = df['RENTALS'].mean()\n",
    "    number_of_value = len(df['RENTALS'])\n",
    "    return sum( (df['RENTALS'] - mean_value) ** 2 ) / (number_of_value -1)"
   ]
  },
  {
   "cell_type": "code",
   "execution_count": null,
   "metadata": {},
   "outputs": [
    {
     "data": {
      "text/plain": [
       "3569590.424242425"
      ]
     },
     "execution_count": 23,
     "metadata": {},
     "output_type": "execute_result"
    }
   ],
   "source": [
    "get_var(pd_data)"
   ]
  },
  {
   "cell_type": "markdown",
   "metadata": {},
   "source": [
    "### Attribute variance 구하는 함수"
   ]
  },
  {
   "cell_type": "code",
   "execution_count": null,
   "metadata": {},
   "outputs": [],
   "source": [
    "def get_attribute_weighted_var(df, attribute_name):\n",
    "    levels = df[attribute_name].unique()\n",
    "    sum_of_weighted_variance = []\n",
    "\n",
    "    for level in levels:\n",
    "        split_df = df.loc[df[attribute_name] == level]\n",
    "        sum_of_weighted_variance.append(\n",
    "            (len(split_df) / len(df)) * get_var(split_df))\n",
    "    \n",
    "    return sum(sum_of_weighted_variance)"
   ]
  },
  {
   "cell_type": "code",
   "execution_count": null,
   "metadata": {},
   "outputs": [
    {
     "data": {
      "text/plain": [
       "2227148.0"
      ]
     },
     "execution_count": 26,
     "metadata": {},
     "output_type": "execute_result"
    }
   ],
   "source": [
    "get_attribute_weighted_var(pd_data, 'SEASON')"
   ]
  },
  {
   "cell_type": "code",
   "execution_count": null,
   "metadata": {},
   "outputs": [
    {
     "data": {
      "text/plain": [
       "3567498.6666666665"
      ]
     },
     "execution_count": 27,
     "metadata": {},
     "output_type": "execute_result"
    }
   ],
   "source": [
    "get_attribute_weighted_var(pd_data, 'WORK_DAY')"
   ]
  },
  {
   "cell_type": "markdown",
   "metadata": {},
   "source": [
    "Overfitting이 심하게 발생할 수도 있으므로 depth라던지 parameter 설정 중요"
   ]
  }
 ],
 "metadata": {
  "kernelspec": {
   "display_name": "Python 3.10.4 ('ml')",
   "language": "python",
   "name": "python3"
  },
  "language_info": {
   "codemirror_mode": {
    "name": "ipython",
    "version": 3
   },
   "file_extension": ".py",
   "mimetype": "text/x-python",
   "name": "python",
   "nbconvert_exporter": "python",
   "pygments_lexer": "ipython3",
   "version": "3.10.4"
  },
  "orig_nbformat": 4,
  "vscode": {
   "interpreter": {
    "hash": "054003ddc8bb90967440df83eb0c4b5179a46b3dd7ffab730dd8d113d29b604c"
   }
  }
 },
 "nbformat": 4,
 "nbformat_minor": 2
}

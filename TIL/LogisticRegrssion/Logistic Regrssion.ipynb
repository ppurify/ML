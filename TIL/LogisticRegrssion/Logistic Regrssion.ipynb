{
 "cells": [
  {
   "cell_type": "markdown",
   "metadata": {},
   "source": [
    "## 0️⃣ Overview\n",
    "### Logistic Regrssion Classifier (분류)\n",
    "\n",
    "#### Classification Problem\n",
    "Ex )  발전소 발전기가 제대로 돌아가고 있는가?\n",
    "\n",
    "##### 구분하는 선을 어떻게 잘 찾을 것인가가 핵심❗\n",
    "\n",
    "### 방법 1.\n",
    "- 좋을 땐 1 if $ f(x) \\geq 0$\n",
    "- 안좋을 땐 0 (otherwise)\n",
    "\n",
    "#### Linear Regrssion으로 학습할 경우 문제점\n",
    "- 1 이상 or 0 이하의 수들이 나오는 경우에는 어떻게 해석?\n",
    "- 1 or 0으로 정확히 표현 가능한가?\n",
    "- 변수가 Y에 영향을 주는 정도가 비례하는 가>\n",
    "- <span style = 'color :blue'>확률로 발생할 사건의 가능성을 표현해야 함</span>\n",
    "\n",
    "### <span style = 'background-color :#F7DDBE'>Solution</span>\n",
    "#### 확률로 나타내자\n",
    "- sigmoid\n",
    "- Logistic Function\n",
    "\n",
    "![logistic](./img/Logistic.PNG)\n"
   ]
  },
  {
   "cell_type": "markdown",
   "metadata": {},
   "source": [
    "## 1️⃣ Sigmoid Function\n",
    "#### 분류의 가능성을 확률로 얘기하기\n",
    "⭐ 가장 큰 특성  \n",
    "- 미분가능한 연속구간으로 변환\n",
    "- 0과 1사이의 확률값을 나타냄\n",
    "- S형태를 닮았다고 하여 sigmoid function으로 호칭  \n",
    "\n",
    "$P(X) : $ 어떤 사건이 일어날 확률  \n",
    "- Binary (1 or 0)\n",
    "\n",
    "$1- P(X) : $ 어떤 사건이 일어나지 않을 확률  \n",
    "\n",
    "$ 0 \\leq P(X) \\geq 1 $ \n",
    "\n",
    "### ✔ Odds Ratio\n",
    "해당 사건이 일어날 확률과 일어나지 않을 확률의 비율  \n",
    "\n",
    "#### $\\frac{P(X)}{1-P(X)}$\n",
    "\n",
    "![odds](./img/Odds%20Ratio.PNG)\n",
    "\n",
    "### ✔ Logit Funtion\n",
    "X의 값이 주어졌을 때 y의 확률을 이용한 log odds\n",
    "\n",
    "$log$(Odds Ratio)\n",
    "\n",
    "![logit](./img/logit.PNG)\n",
    "\n",
    "$log(10/2) = log 10 - log2$\n",
    "\n",
    "확률을 input으로 넣어줌 => 확률을 구하기 위해선 역함수 필요 \n",
    "\n",
    "### ✔ Sigmoid ( = Logistic ) Function\n",
    "Logit 함수의 역함수로 z에 관한 확률 산출\n",
    "\n",
    "#### $ f(z) = y = -log_e (\\frac {1}{z} - 1)$\n",
    "\n",
    "역함수로 바꾸기  \n",
    "\n",
    "$\\Downarrow$\n",
    "\n",
    "#### $z = -log_e(\\frac{1}{y} - 1)$\n",
    "\n",
    "<span style = 'background-color : #ffdce0'> 결과값이 확률로 나오는 형태로 정리 </span>  \n",
    "\n",
    "y(확률값)에 관해 정리\n",
    "\n",
    "$\\Downarrow$\n",
    "\n",
    "#### $ y = \\frac{1}{1+e^{-z}}$\n",
    "\n",
    "#### <span style = 'color : green'> Logistic Function = Inverse of logit function</span>\n",
    "\n",
    "\n",
    "### ✔ 선형함수에서 sigmoid function으로 변환\n",
    "#### $ p = \\sigma(z) = \\frac {1}{1+e^{-z}}$  \n",
    "#### $\\frac {p}{1-p} = \\frac{1}{e^{-z}} = e^z$\n",
    "#### $log_e \\frac{p}{1-p} = w_0 x_0 + w_1 x_1 + ... + w_n x_n $\n",
    "\n",
    "$\\Rightarrow$ z값을 알면 확률값을 찾을 수 있다"
   ]
  },
  {
   "cell_type": "markdown",
   "metadata": {},
   "source": [
    "## 2️⃣ Cost Function\n",
    ": 실제값과 예측값의 차이를 최소화 시키는 cost fuction\n",
    "\n",
    "### Logistic Regrssion에서 Weight 학습하기\n",
    "\n",
    "### ✔ 가설 함수 $h_\\theta(x)$\n",
    "확률을 나타냄\n",
    "\n",
    "#### $h_\\theta(x) = g(z) = \\frac{1}{1+e^{-z}}$\n",
    "#### $ where : z = w_0 x_0 + w_1 x_1 + ... + w_n x_n = \\theta^Tx$\n",
    "$ 0 \\leq h_\\theta(x) \\geq 1$  \n",
    "\n",
    "#### ▶ Example\n",
    "$ h_\\theta(x) \\geq 0.5 \\Rightarrow  True$  \n",
    "$ h_\\theta(x) \\leq 0.5 \\Rightarrow  False$  \n",
    "\n",
    "### ✔ Training $\\theta$\n",
    "\n",
    "#### $ h_\\theta(x) = \\frac{1}{1+e^{-\\theta Tx}}$\n",
    "\n",
    "#### $\\theta^T x = w_0 x_0 + w_1 x_1 + ... + w_n x_n $\n",
    "\n",
    "#### $ y = 0 or 1 $\n",
    "\n",
    "### ✔ Cost Function\n",
    "#### $Cost(h_\\theta(x), y) = \\begin{cases} -log(h_\\theta(x)) & if \\; y = 1 \\\\ -log(1 - h_\\theta(x)) & if \\; y = 0 \\end{cases}$\n",
    "\n",
    "![cost](./img/cost1.PNG) ![cost](./img/cost2.PNG)\n",
    "\n",
    "- if y = 1인 경우 $\\Rightarrow$ 1에 가까울 수록 작은 값\n",
    "- if y = 0인 경우 $\\Rightarrow$ 1에 가까울 수록 큰 값\n",
    "\n",
    "#### $J(\\theta) = \\frac{1}{m} \\sum_{i=1}^m Cost( h_\\theta(x^{(i)}), y^{(i)} ) $\n",
    "\n",
    "#### $ = - \\frac{1}{m}  \\sum_{i=1}^m [y^{(i)} logh_\\theta(x^{(i)}) + (1- y^{(i)}) log (1- h_\\theta(x^{(i)}))] $\n",
    "\n",
    "#### find $\\theta$ , where $min_\\theta$  $J(\\theta)$  \n",
    "#### $h_\\theta(x) = \\frac{1}{1+e^{-\\theta Tx}}$\n",
    "\n",
    "$\\Downarrow$\n",
    "\n",
    "#### $J(\\theta) = \\frac{1}{m} \\sum_{i=1}^m [y_i \\theta x^i - log(1+ e^{\\theta x^i})]$\n",
    "$\\Downarrow$\n",
    "\n",
    "#### $ z = w_0 x_0 + w_1 x_1 + ... + w_n x_n (\\rightarrow linear \\ combination) $\n",
    "\n",
    "#### $ = \\theta^T x $\n",
    "\n",
    "### ✔ Partial derivation of cost function\n",
    "####  $ \\theta$ 에 관해 미분  \n",
    "\n",
    "### $\\frac{\\sigma}{\\sigma \\theta_j} y_i \\theta x^i = y_i x_j ^i$\n",
    "\n",
    "### $\\frac{\\sigma}{\\sigma \\theta_j}log(1+e^{\\theta x^i}) = \\frac{x_j^i e^{\\theta x^i}}{ 1 + e^{\\theta x^i}} = x_j^ih_\\theta (x^i)$\n",
    "\n",
    "#### $ h_\\theta(x^i) = \\frac{1}{1+e^{-\\theta x^i}} = \\frac{1}{1+e^{-z}} $\n",
    "\n",
    "### <span style ='background-color : #fff5b1'> $J(\\theta) =\\frac{\\sigma}{\\sigma \\theta_j} J(\\theta)  = \\frac{1}{m} \\sum_{i=1}^m (h_\\theta (x^i) - y^i) x_j^i$ </span>\n",
    "\n",
    "#### $\\theta_j = w_j$\n",
    "\n",
    "#### Example\n",
    "#### $\\frac{d}{dx}ln(2x) = \\frac{2}{2x} = \\frac{1}{x} $\n",
    "#### $\\frac{d}{dx}e^{2x} = 2e^{2x} $\n",
    "\n",
    "\n",
    "### ✔ Weight update\n",
    "#### $J(\\theta) =\\frac{\\sigma}{\\sigma \\theta_j} J(\\theta)  = \\frac{1}{m} \\sum_{i=1}^m (h_\\theta (x^i) - y^i) x_j^i$\n",
    "\n",
    "#### $\\theta_j := \\theta_j - \\alpha \\frac{\\sigma}{\\sigma \\theta_j} J(\\theta) $\n",
    "\n",
    "#### $ := \\theta_j - \\alpha \\sum_{i=1}^m (h_{\\theta}(x^{i}) - y^{i} ) x_j^{i} $\n",
    "\n",
    "#### <span style ='color : red'> 모든 $\\theta_j$ 동시에 업데이트 </span>\n"
   ]
  },
  {
   "cell_type": "markdown",
   "metadata": {},
   "source": [
    "## 3️⃣ Numpy implementation\n",
    "Logistic Regrssion을 numpy로 구현\n",
    "\n",
    "#### [ sigmoid function ]\n",
    "#### $h_\\theta (x) = g(z) = \\frac{1}{1+e^{-z}}$\n",
    "\n",
    "```\n",
    "def sigmoid(z):\n",
    "    return  1 / (1 + np.exp(z)) \n",
    "```\n",
    "\n",
    "#### [ Hypothesis function ]\n",
    "#### $h_\\theta (x) = \\frac{1}{1+ e^{-\\theta T x}}$\n",
    "\n",
    "```\n",
    "def hypothesis_function(x, theta):\n",
    "    z = (np.dot(-x, theta))\n",
    "    return sigmoid(z)\n",
    "```"
   ]
  },
  {
   "cell_type": "code",
   "execution_count": 3,
   "metadata": {},
   "outputs": [],
   "source": [
    "import numpy as np\n",
    "import matplotlib.pyplot as plt\n",
    "import math"
   ]
  },
  {
   "cell_type": "code",
   "execution_count": 4,
   "metadata": {},
   "outputs": [
    {
     "data": {
      "image/png": "[encoded data removed]",
      "text/plain": [
       "<Figure size 432x288 with 1 Axes>"
      ]
     },
     "metadata": {
      "needs_background": "light"
     },
     "output_type": "display_data"
    }
   ],
   "source": [
    "def sigmoid(x):\n",
    "    a = []\n",
    "    for item in x:\n",
    "        a.append(1/(1 + math.exp(-item)))\n",
    "    return a\n",
    "\n",
    "x = np.arange(-10.0, 10., 0.2)\n",
    "sig = sigmoid(x)\n",
    "plt.plot(x, sig)\n",
    "plt.show()"
   ]
  },
  {
   "cell_type": "markdown",
   "metadata": {},
   "source": [
    "#### [ Cost function ]\n",
    "#### $J(\\theta) = - \\frac{1}{m} \\sum_{i = 1}^m [y^{(i)} log h_\\theta (x ^ {(i)}) + (1 - y^{(i)}) log (1 - h_\\theta (x^{(i)}))] $\n",
    "\n",
    "```\n",
    "def compute_cost(x, y, theta):\n",
    "    m = y.shape[0]\n",
    "    J = (-1.0 /m) * ( y.T.dot(np.log(hypothesis_function(x, theta))) + \\ \n",
    "        (1-y).T.dot(np.log(1 - hypothesis_function(x, theta) )))\n",
    "\n",
    "    return (-1.0 / m) * (y * np.log(hypothesis_function(x,theta)) + (1-y) \\\n",
    "            * np.log( 1- hypothesis_function(x,theta) )).sum()\n",
    "```\n",
    "\n",
    "#### [ Weight update ]\n",
    "\n",
    "$\\theta_j := \\theta_j - \\alpha \\sum_{i=1}^m (h_\\theta (x^{(i)}) - y^{(i)})x_j^{(i)}$\n",
    "\n",
    "delta = $h_\\theta (x^{(i)}) - y^{(i)}$\n",
    "```\n",
    "def minimize_gradient(x, y, theta, iterations = 100000, alpha = 0.01)\n",
    "    m = y.size\n",
    "    cost_history = []\n",
    "    theta_history = []\n",
    "\n",
    "    for _ in range(iterations):\n",
    "\n",
    "        original_theata = theta\n",
    "    \n",
    "        for i in range(theta.size):\n",
    "            partial_marginal = x[:, i].reshape(x.shape[0], 1)\n",
    "            delta = hypothesis_function(x, original_theta) - y\n",
    "            grad_i = delta.T.dot(parital_marginal) # 정수\n",
    "\n",
    "            theta[i] = theta[i] - (alpha * grad_i)\n",
    "\n",
    "        # 위의 for문 2번 안쓰도록 해야함 !!!!\n",
    "        \n",
    "        if ( _ % 10000) == 0:\n",
    "            theta_history.append(theta)\n",
    "            cost_history.append(compute_cost(x,y, theta) )\n",
    "\n",
    "    return theta, np.array(cost_history), np.array(theta_history)\n",
    "```\n",
    "\n",
    "#### [predict]\n",
    "\n",
    "```\n",
    "theta_initial = np.ones([3,1])\n",
    "theta, cost_history, theta_history = minimize_gradient(\n",
    "                                    x_data, y_data, theta_initial, 1000000, 0.01)\n",
    "\n",
    "# accuracy \n",
    "sum( (sigmoid(-x_data.dot(theta)) > 0.5) == y_data) / y_data.shape[0]\n",
    "```"
   ]
  },
  {
   "cell_type": "code",
   "execution_count": 5,
   "metadata": {},
   "outputs": [],
   "source": [
    "import numpy as np\n",
    "import matplotlib.pyplot as plt"
   ]
  },
  {
   "cell_type": "code",
   "execution_count": 11,
   "metadata": {},
   "outputs": [],
   "source": [
    "data = [(0.7,48000,1),(1.9,48000,0),(2.5,60000,1),(4.2,63000,0),(6,76000,0),(6.5,69000,0),(7.5,76000,0),(8.1,88000,0),(8.7,83000,1),(10,83000,1),(0.8,43000,0),(1.8,60000,0),(10,79000,1),(6.1,76000,0),(1.4,50000,0),(9.1,92000,0),(5.8,75000,0),(5.2,69000,0),(1,56000,0),(6,67000,0),(4.9,74000,0),(6.4,63000,1),(6.2,82000,0),(3.3,58000,0),(9.3,90000,1),(5.5,57000,1),(9.1,102000,0),(2.4,54000,0),(8.2,65000,1),(5.3,82000,0),(9.8,107000,0),(1.8,64000,0),(0.6,46000,1),(0.8,48000,0),(8.6,84000,1),(0.6,45000,0),(0.5,30000,1),(7.3,89000,0),(2.5,48000,1),(5.6,76000,0),(7.4,77000,0),(2.7,56000,0),(0.7,48000,0),(1.2,42000,0),(0.2,32000,1),(4.7,56000,1),(2.8,44000,1),(7.6,78000,0),(1.1,63000,0),(8,79000,1),(2.7,56000,0),(6,52000,1),(4.6,56000,0),(2.5,51000,0),(5.7,71000,0),(2.9,65000,0),(1.1,33000,1),(3,62000,0),(4,71000,0),(2.4,61000,0),(7.5,75000,0),(9.7,81000,1),(3.2,62000,0),(7.9,88000,0),(4.7,44000,1),(2.5,55000,0),(1.6,41000,0),(6.7,64000,1),(6.9,66000,1),(7.9,78000,1),(8.1,102000,0),(5.3,48000,1),(8.5,66000,1),(0.2,56000,0),(6,69000,0),(7.5,77000,0),(8,86000,0),(4.4,68000,0),(4.9,75000,0),(1.5,60000,0),(2.2,50000,0),(3.4,49000,1),(4.2,70000,0),(7.7,98000,0),(8.2,85000,0),(5.4,88000,0),(0.1,46000,0),(1.5,37000,0),(6.3,86000,0),(3.7,57000,0),(8.4,85000,0),(2,42000,0),(5.8,69000,1),(2.7,64000,0),(3.1,63000,0),(1.9,48000,0),(10,72000,1),(0.2,45000,0),(8.6,95000,0),(1.5,64000,0),(9.8,95000,0),(5.3,65000,0),(7.5,80000,0),(9.9,91000,0),(9.7,50000,1),(2.8,68000,0),(3.6,58000,0),(3.9,74000,0),(4.4,76000,0),(2.5,49000,0),(7.2,81000,0),(5.2,60000,1),(2.4,62000,0),(8.9,94000,0),(2.4,63000,0),(6.8,69000,1),(6.5,77000,0),(7,86000,0),(9.4,94000,0),(7.8,72000,1),(0.2,53000,0),(10,97000,0),(5.5,65000,0),(7.7,71000,1),(8.1,66000,1),(9.8,91000,0),(8,84000,0),(2.7,55000,0),(2.8,62000,0),(9.4,79000,0),(2.5,57000,0),(7.4,70000,1),(2.1,47000,0),(5.3,62000,1),(6.3,79000,0),(6.8,58000,1),(5.7,80000,0),(2.2,61000,0),(4.8,62000,0),(3.7,64000,0),(4.1,85000,0),(2.3,51000,0),(3.5,58000,0),(0.9,43000,0),(0.9,54000,0),(4.5,74000,0),(6.5,55000,1),(4.1,41000,1),(7.1,73000,0),(1.1,66000,0),(9.1,81000,1),(8,69000,1),(7.3,72000,1),(3.3,50000,0),(3.9,58000,0),(2.6,49000,0),(1.6,78000,0),(0.7,56000,0),(2.1,36000,1),(7.5,90000,0),(4.8,59000,1),(8.9,95000,0),(6.2,72000,0),(6.3,63000,0),(9.1,100000,0),(7.3,61000,1),(5.6,74000,0),(0.5,66000,0),(1.1,59000,0),(5.1,61000,0),(6.2,70000,0),(6.6,56000,1),(6.3,76000,0),(6.5,78000,0),(5.1,59000,0),(9.5,74000,1),(4.5,64000,0),(2,54000,0),(1,52000,0),(4,69000,0),(6.5,76000,0),(3,60000,0),(4.5,63000,0),(7.8,70000,0),(3.9,60000,1),(0.8,51000,0),(4.2,78000,0),(1.1,54000,0),(6.2,60000,0),(2.9,59000,0),(2.1,52000,0),(8.2,87000,0),(4.8,73000,0),(2.2,42000,1),(9.1,98000,0),(6.5,84000,0),(6.9,73000,0),(5.1,72000,0),(9.1,69000,1),(9.8,79000,1),]\n",
    "# change tuples to list\n",
    "data = np.array(list( map(list, data) ))\n",
    "paid_data = data[np.where(data[:,2] == 1)]\n",
    "unpaid_data = data[np.where(data[:,2]==0)]"
   ]
  },
  {
   "cell_type": "code",
   "execution_count": 12,
   "metadata": {},
   "outputs": [
    {
     "data": {
      "text/plain": [
       "(52, 3)"
      ]
     },
     "execution_count": 12,
     "metadata": {},
     "output_type": "execute_result"
    }
   ],
   "source": [
    "paid_data.shape"
   ]
  },
  {
   "cell_type": "code",
   "execution_count": 13,
   "metadata": {},
   "outputs": [
    {
     "data": {
      "text/plain": [
       "array([[7.0e-01, 4.8e+04, 1.0e+00],\n",
       "       [2.5e+00, 6.0e+04, 1.0e+00],\n",
       "       [8.7e+00, 8.3e+04, 1.0e+00]])"
      ]
     },
     "execution_count": 13,
     "metadata": {},
     "output_type": "execute_result"
    }
   ],
   "source": [
    "paid_data[:3]"
   ]
  },
  {
   "cell_type": "code",
   "execution_count": 16,
   "metadata": {},
   "outputs": [
    {
     "data": {
      "text/plain": [
       "(148, 3)"
      ]
     },
     "execution_count": 16,
     "metadata": {},
     "output_type": "execute_result"
    }
   ],
   "source": [
    "unpaid_data.shape"
   ]
  },
  {
   "cell_type": "code",
   "execution_count": 17,
   "metadata": {},
   "outputs": [
    {
     "data": {
      "text/plain": [
       "array([[1.9e+00, 4.8e+04, 0.0e+00],\n",
       "       [4.2e+00, 6.3e+04, 0.0e+00],\n",
       "       [6.0e+00, 7.6e+04, 0.0e+00]])"
      ]
     },
     "execution_count": 17,
     "metadata": {},
     "output_type": "execute_result"
    }
   ],
   "source": [
    "unpaid_data[:3]"
   ]
  },
  {
   "cell_type": "code",
   "execution_count": 18,
   "metadata": {},
   "outputs": [
    {
     "data": {
      "image/png": "[encoded data removed]",
      "text/plain": [
       "<Figure size 432x288 with 1 Axes>"
      ]
     },
     "metadata": {
      "needs_background": "light"
     },
     "output_type": "display_data"
    }
   ],
   "source": [
    "fig, ax = plt.subplots()\n",
    "\n",
    "x, y = paid_data[:,0], paid_data[:,1]\n",
    "scale = 50.0\n",
    "ax.scatter(x, y, c ='red', s = scale, label = 'paid', alpha = 0.3, edgecolors = 'none')\n",
    "\n",
    "x, y = unpaid_data[:,0], unpaid_data[:,1]\n",
    "scale = 50.0\n",
    "ax.scatter(x,y, c ='blue', s = scale, label = 'unpaid', alpha = 0.3, edgecolor = 'none')\n",
    "\n",
    "ax.legend()\n",
    "ax.grid(True)\n",
    "\n",
    "plt.show()"
   ]
  },
  {
   "cell_type": "code",
   "execution_count": 19,
   "metadata": {},
   "outputs": [
    {
     "data": {
      "text/plain": [
       "array([[0.00861027, 0.04956583, 1.        ],\n",
       "       [0.02337075, 0.04956583, 0.        ],\n",
       "       [0.03075098, 0.06195729, 1.        ],\n",
       "       [0.05166165, 0.06505516, 0.        ],\n",
       "       [0.07380236, 0.07847924, 0.        ]])"
      ]
     },
     "execution_count": 19,
     "metadata": {},
     "output_type": "execute_result"
    }
   ],
   "source": [
    "from sklearn.preprocessing import normalize\n",
    "\n",
    "data[:,:2] = normalize(data[:,:2], axis = 0)\n",
    "data[:5]"
   ]
  },
  {
   "cell_type": "code",
   "execution_count": 20,
   "metadata": {},
   "outputs": [
    {
     "data": {
      "text/plain": [
       "((200, 3), (200, 1))"
      ]
     },
     "execution_count": 20,
     "metadata": {},
     "output_type": "execute_result"
    }
   ],
   "source": [
    "x_data = data[:,:2]\n",
    "x_data = np.insert(x_data, 0, 1, axis = 1)\n",
    "\n",
    "y_data = data[:,-1]\n",
    "y_data = y_data.reshape(y_data.shape[0], 1)\n",
    "\n",
    "x_data.shape, y_data.shape"
   ]
  },
  {
   "cell_type": "code",
   "execution_count": 21,
   "metadata": {},
   "outputs": [
    {
     "data": {
      "text/plain": [
       "array([[1.        , 0.00861027, 0.04956583],\n",
       "       [1.        , 0.02337075, 0.04956583],\n",
       "       [1.        , 0.03075098, 0.06195729]])"
      ]
     },
     "execution_count": 21,
     "metadata": {},
     "output_type": "execute_result"
    }
   ],
   "source": [
    "x_data[:3]"
   ]
  },
  {
   "cell_type": "code",
   "execution_count": 22,
   "metadata": {},
   "outputs": [
    {
     "data": {
      "text/plain": [
       "array([[1.],\n",
       "       [0.],\n",
       "       [1.]])"
      ]
     },
     "execution_count": 22,
     "metadata": {},
     "output_type": "execute_result"
    }
   ],
   "source": [
    "y_data[:3]"
   ]
  },
  {
   "cell_type": "code",
   "execution_count": 23,
   "metadata": {},
   "outputs": [],
   "source": [
    "def sigmoid(z):\n",
    "    return 1 / ( 1 + np.exp(-z) )"
   ]
  },
  {
   "cell_type": "code",
   "execution_count": 24,
   "metadata": {},
   "outputs": [],
   "source": [
    "def hypothesis_function(x, theta):\n",
    "    z = (np.dot(x, theta))\n",
    "    return sigmoid(z)"
   ]
  },
  {
   "cell_type": "code",
   "execution_count": 26,
   "metadata": {},
   "outputs": [],
   "source": [
    "def compute_cost(x, y, theta):\n",
    "    m = y.shape[0]\n",
    "    J = ( -1.0 / m ) * ( y.T.dot(np.log(hypothesis_function(x, theta)))) + \\\n",
    "        (1-y).T.dot(np.log( 1- hypothesis_function(x, theta)))\n",
    "\n",
    "    return (-1.0/m) * (y * np.log(hypothesis_function(x, theta)) + ( 1- y )\n",
    "            * np.log( 1 - hypothesis_function(x, theta))).sum()"
   ]
  },
  {
   "cell_type": "code",
   "execution_count": 27,
   "metadata": {},
   "outputs": [],
   "source": [
    "def minimize_gradient(x, y, theta, iterations = 100000, alpha = 0.01):\n",
    "    m = y.size\n",
    "    cost_history = []\n",
    "    theta_history = []\n",
    "\n",
    "    for _ in range(iterations):\n",
    "        original_theta = theta\n",
    "        for i in range(theta.size):\n",
    "            partial_marginal = x[:, i].reshape(x.shape[0], 1)\n",
    "            delta = hypothesis_function(x, original_theta) - y\n",
    "            grad_i = delta.T.dot(partial_marginal)\n",
    "\n",
    "            theta[i] = theta[i] - (alpha * grad_i)\n",
    "\n",
    "        if (_ % 100) == 0:\n",
    "            theta_history.append(theta)\n",
    "            cost_history.append(compute_cost(x, y, theta))\n",
    "\n",
    "    return theta, np.array(cost_history), np.array(theta_history)"
   ]
  },
  {
   "cell_type": "code",
   "execution_count": 28,
   "metadata": {},
   "outputs": [
    {
     "data": {
      "text/plain": [
       "array([[1.],\n",
       "       [1.],\n",
       "       [1.]])"
      ]
     },
     "execution_count": 28,
     "metadata": {},
     "output_type": "execute_result"
    }
   ],
   "source": [
    "theta_initial = np.ones([3,1])\n",
    "theta_initial"
   ]
  },
  {
   "cell_type": "code",
   "execution_count": 69,
   "metadata": {},
   "outputs": [],
   "source": [
    "theta, cost_history, theta_history = minimize_gradient(x_data, y_data,\n",
    "                                         theta_initial, 10000, 0.0001)"
   ]
  },
  {
   "cell_type": "code",
   "execution_count": 70,
   "metadata": {},
   "outputs": [
    {
     "data": {
      "text/plain": [
       "array([[   8.81196564],\n",
       "       [ 129.29072683],\n",
       "       [-273.95888895]])"
      ]
     },
     "execution_count": 70,
     "metadata": {},
     "output_type": "execute_result"
    }
   ],
   "source": [
    "theta[:3]"
   ]
  },
  {
   "cell_type": "code",
   "execution_count": 71,
   "metadata": {},
   "outputs": [
    {
     "data": {
      "text/plain": [
       "array([0.28739325, 0.28739325, 0.28739325])"
      ]
     },
     "execution_count": 71,
     "metadata": {},
     "output_type": "execute_result"
    }
   ],
   "source": [
    "cost_history[:3]"
   ]
  },
  {
   "cell_type": "code",
   "execution_count": 72,
   "metadata": {},
   "outputs": [
    {
     "data": {
      "text/plain": [
       "array([[[   8.81196564],\n",
       "        [ 129.29072683],\n",
       "        [-273.95888895]],\n",
       "\n",
       "       [[   8.81196564],\n",
       "        [ 129.29072683],\n",
       "        [-273.95888895]],\n",
       "\n",
       "       [[   8.81196564],\n",
       "        [ 129.29072683],\n",
       "        [-273.95888895]]])"
      ]
     },
     "execution_count": 72,
     "metadata": {},
     "output_type": "execute_result"
    }
   ],
   "source": [
    "theta_history[:3]"
   ]
  },
  {
   "cell_type": "markdown",
   "metadata": {},
   "source": [
    "- sigmoid : 확률값으로 나옴"
   ]
  },
  {
   "cell_type": "code",
   "execution_count": 73,
   "metadata": {},
   "outputs": [
    {
     "data": {
      "text/plain": [
       "array([[ True],\n",
       "       [ True],\n",
       "       [ True]])"
      ]
     },
     "execution_count": 73,
     "metadata": {},
     "output_type": "execute_result"
    }
   ],
   "source": [
    "(sigmoid( -x_data.dot(theta)) > 0.2)[:3] "
   ]
  },
  {
   "cell_type": "code",
   "execution_count": 74,
   "metadata": {},
   "outputs": [
    {
     "data": {
      "text/plain": [
       "(200, 1)"
      ]
     },
     "execution_count": 74,
     "metadata": {},
     "output_type": "execute_result"
    }
   ],
   "source": [
    "(sigmoid( -x_data.dot(theta)) > 0.2).shape"
   ]
  },
  {
   "cell_type": "markdown",
   "metadata": {},
   "source": [
    "- True의 개수 확인 가능"
   ]
  },
  {
   "cell_type": "code",
   "execution_count": 75,
   "metadata": {},
   "outputs": [
    {
     "data": {
      "text/plain": [
       "(200,)"
      ]
     },
     "execution_count": 75,
     "metadata": {},
     "output_type": "execute_result"
    }
   ],
   "source": [
    "sigmoid(-x_data.dot(theta)).flatten().shape"
   ]
  },
  {
   "cell_type": "code",
   "execution_count": 76,
   "metadata": {},
   "outputs": [
    {
     "data": {
      "text/plain": [
       "147"
      ]
     },
     "execution_count": 76,
     "metadata": {},
     "output_type": "execute_result"
    }
   ],
   "source": [
    "sum(sigmoid(-x_data.dot(theta)).flatten() > 0.6)"
   ]
  },
  {
   "cell_type": "markdown",
   "metadata": {},
   "source": [
    "위의 데이터와 y_data를 비교해서 얼마나 같은지 확인"
   ]
  },
  {
   "cell_type": "code",
   "execution_count": 77,
   "metadata": {},
   "outputs": [
    {
     "data": {
      "text/plain": [
       "array([23])"
      ]
     },
     "execution_count": 77,
     "metadata": {},
     "output_type": "execute_result"
    }
   ],
   "source": [
    "sum(( sigmoid(-x_data.dot(theta)) > 0.6) == y_data )  "
   ]
  },
  {
   "cell_type": "code",
   "execution_count": 78,
   "metadata": {},
   "outputs": [
    {
     "data": {
      "text/plain": [
       "(200, 1)"
      ]
     },
     "execution_count": 78,
     "metadata": {},
     "output_type": "execute_result"
    }
   ],
   "source": [
    "y_data.shape"
   ]
  },
  {
   "cell_type": "code",
   "execution_count": 79,
   "metadata": {},
   "outputs": [
    {
     "data": {
      "text/plain": [
       "array([0.115])"
      ]
     },
     "execution_count": 79,
     "metadata": {},
     "output_type": "execute_result"
    }
   ],
   "source": [
    "sum( (sigmoid(-x_data.dot(theta)) > 0.6 ) == y_data ) / y_data.shape[0]"
   ]
  },
  {
   "cell_type": "markdown",
   "metadata": {},
   "source": [
    "## 4️⃣ Maximum Likelihood Esitmation\n",
    "\n",
    "- 우도 : 사건 확률의 가늠도\n",
    "- 우도의 최대화 관점에서 Cost Function 정의하기\n",
    "\n",
    "### 데이터의 분포\n",
    "Y값 : 0 or 1로 이산확률 변수 \n",
    "=> 베르누이 분포를 따름\n",
    "\n",
    "for $ y = 0 $\n",
    "- $ P(y) = 1 - p$\n",
    "\n",
    "for $ y = 1 $\n",
    "- $ p $\n",
    "\n",
    "우도\n",
    "$ ⇒ p^y (1-p)^{1-y}$ \n",
    "\n",
    "### ✔ 최대 우도의 추정 = Cost Function\n",
    "확률은 sigmoid fucntion을 따름\n",
    "\n",
    "![우도](./img/likelyhood.PNG)\n"
   ]
  },
  {
   "cell_type": "markdown",
   "metadata": {},
   "source": [
    "곱하는 것이 어려우므로 log를 취해서 곱셈을 덧셈으로 변환\n",
    "\n",
    "##### $ L(\\theta) = log P(y|x ; \\theta) $\n",
    "\n",
    "##### $ = \\sum_{i = 1}^n y_i log \\frac{1}{1 + e^{-x_i \\theta}} + (1-y_i)log(1-\\frac{1}{1+e^{-x_i \\theta}})$\n",
    "\n",
    "##### $ \\sum_{i=1}^n -log(1 + e^{X_i \\theta}) + \\sum_{i=1}^n y_i X_i \\theta$\n",
    "\n",
    "※ $ log_e \\frac{p}{1-p} = z = X\\theta$\n",
    "\n",
    "\n",
    "##### $ \\sum_{i=1}^n -log( 1 + e^{X_i\\theta}) + \\sum_{i=1}^n y_i X_i \\theta $\n",
    "\n",
    "##### (☞ﾟヮﾟ)☞ $ J(\\theta) = -\\frac{1}{m} \\sum_{i=1}^m [y_i \\theta X^{(i)} - log( 1 + e^{\\theta X^{(i)}})]$\n",
    "\n",
    "### ✔ Partial derivation of MLE\n",
    "##### $ \\frac{\\sigma}{\\sigma \\theta_j} y_i \\theta X^{(i)} = y_i X_j^{(i)}$\n",
    "\n",
    "##### $ \\frac{\\sigma}{\\sigma \\theta_j}log(1 + e^{\\theta X^{(i)}}) = X_j^{(i)} h_\\theta (X^{(i)})$\n",
    "$ \\frac{\\sigma}{\\sigma \\theta_j} J(\\theta) = \\frac{1}{m} \\sum_{i=1}^m (h_\\theta(X^{(i)}) - y^{(i)}) X_j^{(i)}$"
   ]
  },
  {
   "cell_type": "markdown",
   "metadata": {},
   "source": [
    "두 값의 차이의 최소화와 MLE의 값은 동일한 값이 나옴"
   ]
  },
  {
   "cell_type": "markdown",
   "metadata": {},
   "source": [
    "## 5️⃣ Logistic regression with scikit-learn\n",
    "\n",
    "- penalty : str, 'l1' or 'l2' / default : 'l2'\n",
    "\n",
    "- dual : bool / default : False\n",
    "\n",
    "- tol : 언제 종료할 지\n",
    "\n",
    "- solver : {'newton-cg','lbfgs', 'liblinear', 'sag', 'saga'}\n",
    "    \n",
    "    - for small datasets : liblinear is good\n",
    "    \n",
    "    - for large datasets : sag, saga are faster\n",
    "    \n",
    "    - for multiclass problems : only newton-cg, sag, saga, lbfgs  \n",
    "    \n",
    "        ⚠ handle multinomial loss ; liblinear is limited to one-versus-rest(OVR) schemes\n",
    "    \n",
    "    - only handle L2 penalty : newton-cg, lbfgs, sag\n",
    "    \n",
    "    - only handle L1 penaly : liblinear, saga     \n",
    "\n",
    "- multi_class : str, {'ovr', 'multinomial'} / default : 'ovr\n",
    "\n",
    "#### Methods\n",
    "\n",
    "- predict(X) : 0 or 1\n",
    "\n",
    "- predict_proba(X) : Positive / Negative 확률을 나타냄\n",
    "\n",
    "- predict_log_proba(X) : log 붙인거\n",
    "\n",
    "- decision_function(X)  \n",
    "    Ex) 값 > 0 -> Positive / 값 < 0 -> Negative"
   ]
  },
  {
   "cell_type": "code",
   "execution_count": 1,
   "metadata": {},
   "outputs": [],
   "source": [
    "import pandas as pd"
   ]
  },
  {
   "cell_type": "code",
   "execution_count": 4,
   "metadata": {},
   "outputs": [],
   "source": [
    "# !wget http://www-stat.wharton.upenn.edu/~waterman/DataSets/uva.txt"
   ]
  },
  {
   "cell_type": "code",
   "execution_count": 6,
   "metadata": {},
   "outputs": [],
   "source": [
    "data_url = 'http://www-stat.wharton.upenn.edu/~waterman/DataSets/uva.txt'\n",
    "\n",
    "dataframe = pd.read_table(data_url)"
   ]
  },
  {
   "cell_type": "code",
   "execution_count": 7,
   "metadata": {},
   "outputs": [
    {
     "data": {
      "text/html": [
       "<div>\n",
       "<style scoped>\n",
       "    .dataframe tbody tr th:only-of-type {\n",
       "        vertical-align: middle;\n",
       "    }\n",
       "\n",
       "    .dataframe tbody tr th {\n",
       "        vertical-align: top;\n",
       "    }\n",
       "\n",
       "    .dataframe thead th {\n",
       "        text-align: right;\n",
       "    }\n",
       "</style>\n",
       "<table border=\"1\" class=\"dataframe\">\n",
       "  <thead>\n",
       "    <tr style=\"text-align: right;\">\n",
       "      <th></th>\n",
       "      <th>who</th>\n",
       "      <th>Newbie</th>\n",
       "      <th>Age</th>\n",
       "      <th>Gender</th>\n",
       "      <th>Household Income</th>\n",
       "      <th>Sexual Preference</th>\n",
       "      <th>Country</th>\n",
       "      <th>Education Attainment</th>\n",
       "      <th>Major Occupation</th>\n",
       "      <th>Marital Status</th>\n",
       "      <th>Years on Internet</th>\n",
       "    </tr>\n",
       "  </thead>\n",
       "  <tbody>\n",
       "    <tr>\n",
       "      <th>0</th>\n",
       "      <td>id74364</td>\n",
       "      <td>0</td>\n",
       "      <td>54.0</td>\n",
       "      <td>Male</td>\n",
       "      <td>$50-74</td>\n",
       "      <td>Gay male</td>\n",
       "      <td>Ontario</td>\n",
       "      <td>Some College</td>\n",
       "      <td>Computer</td>\n",
       "      <td>Other</td>\n",
       "      <td>4-6 yr</td>\n",
       "    </tr>\n",
       "    <tr>\n",
       "      <th>1</th>\n",
       "      <td>id84505</td>\n",
       "      <td>0</td>\n",
       "      <td>39.0</td>\n",
       "      <td>Female</td>\n",
       "      <td>Over $100</td>\n",
       "      <td>Heterosexual</td>\n",
       "      <td>Sweden</td>\n",
       "      <td>Professional</td>\n",
       "      <td>Other</td>\n",
       "      <td>Other</td>\n",
       "      <td>1-3 yr</td>\n",
       "    </tr>\n",
       "    <tr>\n",
       "      <th>2</th>\n",
       "      <td>id84509</td>\n",
       "      <td>1</td>\n",
       "      <td>49.0</td>\n",
       "      <td>Female</td>\n",
       "      <td>$40-49</td>\n",
       "      <td>Heterosexual</td>\n",
       "      <td>Washington</td>\n",
       "      <td>Some College</td>\n",
       "      <td>Management</td>\n",
       "      <td>Other</td>\n",
       "      <td>Under 6 mo</td>\n",
       "    </tr>\n",
       "    <tr>\n",
       "      <th>3</th>\n",
       "      <td>id87028</td>\n",
       "      <td>1</td>\n",
       "      <td>22.0</td>\n",
       "      <td>Female</td>\n",
       "      <td>$40-49</td>\n",
       "      <td>Heterosexual</td>\n",
       "      <td>Florida</td>\n",
       "      <td>Some College</td>\n",
       "      <td>Computer</td>\n",
       "      <td>Married</td>\n",
       "      <td>6-12 mo</td>\n",
       "    </tr>\n",
       "    <tr>\n",
       "      <th>4</th>\n",
       "      <td>id76087</td>\n",
       "      <td>0</td>\n",
       "      <td>20.0</td>\n",
       "      <td>Male</td>\n",
       "      <td>$30-39</td>\n",
       "      <td>Bisexual</td>\n",
       "      <td>New Jersey</td>\n",
       "      <td>Some College</td>\n",
       "      <td>Education</td>\n",
       "      <td>Single</td>\n",
       "      <td>1-3 yr</td>\n",
       "    </tr>\n",
       "  </tbody>\n",
       "</table>\n",
       "</div>"
      ],
      "text/plain": [
       "       who  Newbie   Age  Gender Household Income Sexual Preference  \\\n",
       "0  id74364       0  54.0    Male           $50-74          Gay male   \n",
       "1  id84505       0  39.0  Female        Over $100      Heterosexual   \n",
       "2  id84509       1  49.0  Female           $40-49      Heterosexual   \n",
       "3  id87028       1  22.0  Female           $40-49      Heterosexual   \n",
       "4  id76087       0  20.0    Male           $30-39          Bisexual   \n",
       "\n",
       "      Country Education Attainment Major Occupation Marital Status  \\\n",
       "0     Ontario         Some College         Computer          Other   \n",
       "1      Sweden         Professional            Other          Other   \n",
       "2  Washington         Some College       Management          Other   \n",
       "3     Florida         Some College         Computer        Married   \n",
       "4  New Jersey         Some College        Education         Single   \n",
       "\n",
       "  Years on Internet  \n",
       "0            4-6 yr  \n",
       "1            1-3 yr  \n",
       "2        Under 6 mo  \n",
       "3           6-12 mo  \n",
       "4            1-3 yr  "
      ]
     },
     "execution_count": 7,
     "metadata": {},
     "output_type": "execute_result"
    }
   ],
   "source": [
    "dataframe[:5]"
   ]
  },
  {
   "cell_type": "code",
   "execution_count": 8,
   "metadata": {},
   "outputs": [
    {
     "data": {
      "text/plain": [
       "(19583, 11)"
      ]
     },
     "execution_count": 8,
     "metadata": {},
     "output_type": "execute_result"
    }
   ],
   "source": [
    "dataframe.shape"
   ]
  },
  {
   "cell_type": "code",
   "execution_count": 9,
   "metadata": {},
   "outputs": [
    {
     "data": {
      "text/plain": [
       "who                      object\n",
       "Newbie                    int64\n",
       "Age                     float64\n",
       "Gender                   object\n",
       "Household Income         object\n",
       "Sexual Preference        object\n",
       "Country                  object\n",
       "Education Attainment     object\n",
       "Major Occupation         object\n",
       "Marital Status           object\n",
       "Years on Internet        object\n",
       "dtype: object"
      ]
     },
     "execution_count": 9,
     "metadata": {},
     "output_type": "execute_result"
    }
   ],
   "source": [
    "dataframe.dtypes"
   ]
  },
  {
   "cell_type": "code",
   "execution_count": 10,
   "metadata": {},
   "outputs": [
    {
     "data": {
      "text/plain": [
       "array(['Other', 'Married', 'Single', 'Divorced', 'Widowed', nan,\n",
       "       'Separated'], dtype=object)"
      ]
     },
     "execution_count": 10,
     "metadata": {},
     "output_type": "execute_result"
    }
   ],
   "source": [
    "dataframe['Marital Status'].unique()"
   ]
  },
  {
   "cell_type": "markdown",
   "metadata": {},
   "source": [
    "영향을 많이 주는 변수도 제거!"
   ]
  },
  {
   "cell_type": "code",
   "execution_count": 12,
   "metadata": {},
   "outputs": [
    {
     "data": {
      "text/plain": [
       "0            4-6 yr\n",
       "1            1-3 yr\n",
       "2        Under 6 mo\n",
       "3           6-12 mo\n",
       "4            1-3 yr\n",
       "            ...    \n",
       "19578        4-6 yr\n",
       "19579        4-6 yr\n",
       "19580        1-3 yr\n",
       "19581    Under 6 mo\n",
       "19582        1-3 yr\n",
       "Name: Years on Internet, Length: 19583, dtype: object"
      ]
     },
     "execution_count": 12,
     "metadata": {},
     "output_type": "execute_result"
    }
   ],
   "source": [
    "dataframe.pop('who')\n",
    "dataframe.pop('Country')\n",
    "dataframe.pop('Years on Internet')"
   ]
  },
  {
   "cell_type": "code",
   "execution_count": 13,
   "metadata": {},
   "outputs": [
    {
     "data": {
      "text/plain": [
       "Newbie                    int64\n",
       "Age                     float64\n",
       "Gender                   object\n",
       "Household Income         object\n",
       "Sexual Preference        object\n",
       "Education Attainment     object\n",
       "Major Occupation         object\n",
       "Marital Status           object\n",
       "dtype: object"
      ]
     },
     "execution_count": 13,
     "metadata": {},
     "output_type": "execute_result"
    }
   ],
   "source": [
    "dataframe.dtypes"
   ]
  },
  {
   "cell_type": "code",
   "execution_count": 14,
   "metadata": {},
   "outputs": [
    {
     "data": {
      "text/plain": [
       "Newbie                     int64\n",
       "Age                      float64\n",
       "Gender                  category\n",
       "Household Income          object\n",
       "Sexual Preference         object\n",
       "Education Attainment      object\n",
       "Major Occupation          object\n",
       "Marital Status            object\n",
       "dtype: object"
      ]
     },
     "execution_count": 14,
     "metadata": {},
     "output_type": "execute_result"
    }
   ],
   "source": [
    "dataframe['Gender'] = dataframe['Gender'].astype('category')\n",
    "dataframe.dtypes"
   ]
  },
  {
   "cell_type": "code",
   "execution_count": 15,
   "metadata": {},
   "outputs": [],
   "source": [
    "for col in ['Household Income','Sexual Preference','Education Attainment','Major Occupation','Marital Status']:\n",
    "    dataframe[col] = dataframe[col].astype('category')"
   ]
  },
  {
   "cell_type": "code",
   "execution_count": 16,
   "metadata": {},
   "outputs": [
    {
     "data": {
      "text/plain": [
       "Newbie                     int64\n",
       "Age                      float64\n",
       "Gender                  category\n",
       "Household Income        category\n",
       "Sexual Preference       category\n",
       "Education Attainment    category\n",
       "Major Occupation        category\n",
       "Marital Status          category\n",
       "dtype: object"
      ]
     },
     "execution_count": 16,
     "metadata": {},
     "output_type": "execute_result"
    }
   ],
   "source": [
    "dataframe.dtypes"
   ]
  },
  {
   "cell_type": "markdown",
   "metadata": {},
   "source": [
    "Category로 변형 시킨 이유는 빨리 Get dummies 사용하려고"
   ]
  },
  {
   "cell_type": "code",
   "execution_count": 17,
   "metadata": {},
   "outputs": [
    {
     "data": {
      "text/html": [
       "<div>\n",
       "<style scoped>\n",
       "    .dataframe tbody tr th:only-of-type {\n",
       "        vertical-align: middle;\n",
       "    }\n",
       "\n",
       "    .dataframe tbody tr th {\n",
       "        vertical-align: top;\n",
       "    }\n",
       "\n",
       "    .dataframe thead th {\n",
       "        text-align: right;\n",
       "    }\n",
       "</style>\n",
       "<table border=\"1\" class=\"dataframe\">\n",
       "  <thead>\n",
       "    <tr style=\"text-align: right;\">\n",
       "      <th></th>\n",
       "      <th>Newbie</th>\n",
       "      <th>Age</th>\n",
       "      <th>Gender_Female</th>\n",
       "      <th>Gender_Male</th>\n",
       "      <th>Household Income_$10-19</th>\n",
       "      <th>Household Income_$20-29</th>\n",
       "      <th>Household Income_$30-39</th>\n",
       "      <th>Household Income_$40-49</th>\n",
       "      <th>Household Income_$50-74</th>\n",
       "      <th>Household Income_$75-99</th>\n",
       "      <th>...</th>\n",
       "      <th>Major Occupation_Education</th>\n",
       "      <th>Major Occupation_Management</th>\n",
       "      <th>Major Occupation_Other</th>\n",
       "      <th>Major Occupation_Professional</th>\n",
       "      <th>Marital Status_Divorced</th>\n",
       "      <th>Marital Status_Married</th>\n",
       "      <th>Marital Status_Other</th>\n",
       "      <th>Marital Status_Separated</th>\n",
       "      <th>Marital Status_Single</th>\n",
       "      <th>Marital Status_Widowed</th>\n",
       "    </tr>\n",
       "  </thead>\n",
       "  <tbody>\n",
       "    <tr>\n",
       "      <th>0</th>\n",
       "      <td>0</td>\n",
       "      <td>54.0</td>\n",
       "      <td>0</td>\n",
       "      <td>1</td>\n",
       "      <td>0</td>\n",
       "      <td>0</td>\n",
       "      <td>0</td>\n",
       "      <td>0</td>\n",
       "      <td>1</td>\n",
       "      <td>0</td>\n",
       "      <td>...</td>\n",
       "      <td>0</td>\n",
       "      <td>0</td>\n",
       "      <td>0</td>\n",
       "      <td>0</td>\n",
       "      <td>0</td>\n",
       "      <td>0</td>\n",
       "      <td>1</td>\n",
       "      <td>0</td>\n",
       "      <td>0</td>\n",
       "      <td>0</td>\n",
       "    </tr>\n",
       "    <tr>\n",
       "      <th>1</th>\n",
       "      <td>0</td>\n",
       "      <td>39.0</td>\n",
       "      <td>1</td>\n",
       "      <td>0</td>\n",
       "      <td>0</td>\n",
       "      <td>0</td>\n",
       "      <td>0</td>\n",
       "      <td>0</td>\n",
       "      <td>0</td>\n",
       "      <td>0</td>\n",
       "      <td>...</td>\n",
       "      <td>0</td>\n",
       "      <td>0</td>\n",
       "      <td>1</td>\n",
       "      <td>0</td>\n",
       "      <td>0</td>\n",
       "      <td>0</td>\n",
       "      <td>1</td>\n",
       "      <td>0</td>\n",
       "      <td>0</td>\n",
       "      <td>0</td>\n",
       "    </tr>\n",
       "    <tr>\n",
       "      <th>2</th>\n",
       "      <td>1</td>\n",
       "      <td>49.0</td>\n",
       "      <td>1</td>\n",
       "      <td>0</td>\n",
       "      <td>0</td>\n",
       "      <td>0</td>\n",
       "      <td>0</td>\n",
       "      <td>1</td>\n",
       "      <td>0</td>\n",
       "      <td>0</td>\n",
       "      <td>...</td>\n",
       "      <td>0</td>\n",
       "      <td>1</td>\n",
       "      <td>0</td>\n",
       "      <td>0</td>\n",
       "      <td>0</td>\n",
       "      <td>0</td>\n",
       "      <td>1</td>\n",
       "      <td>0</td>\n",
       "      <td>0</td>\n",
       "      <td>0</td>\n",
       "    </tr>\n",
       "    <tr>\n",
       "      <th>3</th>\n",
       "      <td>1</td>\n",
       "      <td>22.0</td>\n",
       "      <td>1</td>\n",
       "      <td>0</td>\n",
       "      <td>0</td>\n",
       "      <td>0</td>\n",
       "      <td>0</td>\n",
       "      <td>1</td>\n",
       "      <td>0</td>\n",
       "      <td>0</td>\n",
       "      <td>...</td>\n",
       "      <td>0</td>\n",
       "      <td>0</td>\n",
       "      <td>0</td>\n",
       "      <td>0</td>\n",
       "      <td>0</td>\n",
       "      <td>1</td>\n",
       "      <td>0</td>\n",
       "      <td>0</td>\n",
       "      <td>0</td>\n",
       "      <td>0</td>\n",
       "    </tr>\n",
       "    <tr>\n",
       "      <th>4</th>\n",
       "      <td>0</td>\n",
       "      <td>20.0</td>\n",
       "      <td>0</td>\n",
       "      <td>1</td>\n",
       "      <td>0</td>\n",
       "      <td>0</td>\n",
       "      <td>1</td>\n",
       "      <td>0</td>\n",
       "      <td>0</td>\n",
       "      <td>0</td>\n",
       "      <td>...</td>\n",
       "      <td>1</td>\n",
       "      <td>0</td>\n",
       "      <td>0</td>\n",
       "      <td>0</td>\n",
       "      <td>0</td>\n",
       "      <td>0</td>\n",
       "      <td>0</td>\n",
       "      <td>0</td>\n",
       "      <td>1</td>\n",
       "      <td>0</td>\n",
       "    </tr>\n",
       "  </tbody>\n",
       "</table>\n",
       "<p>5 rows × 38 columns</p>\n",
       "</div>"
      ],
      "text/plain": [
       "   Newbie   Age  Gender_Female  Gender_Male  Household Income_$10-19  \\\n",
       "0       0  54.0              0            1                        0   \n",
       "1       0  39.0              1            0                        0   \n",
       "2       1  49.0              1            0                        0   \n",
       "3       1  22.0              1            0                        0   \n",
       "4       0  20.0              0            1                        0   \n",
       "\n",
       "   Household Income_$20-29  Household Income_$30-39  Household Income_$40-49  \\\n",
       "0                        0                        0                        0   \n",
       "1                        0                        0                        0   \n",
       "2                        0                        0                        1   \n",
       "3                        0                        0                        1   \n",
       "4                        0                        1                        0   \n",
       "\n",
       "   Household Income_$50-74  Household Income_$75-99  ...  \\\n",
       "0                        1                        0  ...   \n",
       "1                        0                        0  ...   \n",
       "2                        0                        0  ...   \n",
       "3                        0                        0  ...   \n",
       "4                        0                        0  ...   \n",
       "\n",
       "   Major Occupation_Education  Major Occupation_Management  \\\n",
       "0                           0                            0   \n",
       "1                           0                            0   \n",
       "2                           0                            1   \n",
       "3                           0                            0   \n",
       "4                           1                            0   \n",
       "\n",
       "   Major Occupation_Other  Major Occupation_Professional  \\\n",
       "0                       0                              0   \n",
       "1                       1                              0   \n",
       "2                       0                              0   \n",
       "3                       0                              0   \n",
       "4                       0                              0   \n",
       "\n",
       "   Marital Status_Divorced  Marital Status_Married  Marital Status_Other  \\\n",
       "0                        0                       0                     1   \n",
       "1                        0                       0                     1   \n",
       "2                        0                       0                     1   \n",
       "3                        0                       1                     0   \n",
       "4                        0                       0                     0   \n",
       "\n",
       "   Marital Status_Separated  Marital Status_Single  Marital Status_Widowed  \n",
       "0                         0                      0                       0  \n",
       "1                         0                      0                       0  \n",
       "2                         0                      0                       0  \n",
       "3                         0                      0                       0  \n",
       "4                         0                      1                       0  \n",
       "\n",
       "[5 rows x 38 columns]"
      ]
     },
     "execution_count": 17,
     "metadata": {},
     "output_type": "execute_result"
    }
   ],
   "source": [
    "dataframe_modified = pd.get_dummies(dataframe)\n",
    "dataframe_modified[:5]"
   ]
  },
  {
   "cell_type": "code",
   "execution_count": 18,
   "metadata": {},
   "outputs": [
    {
     "data": {
      "text/plain": [
       "(19583, 38)"
      ]
     },
     "execution_count": 18,
     "metadata": {},
     "output_type": "execute_result"
    }
   ],
   "source": [
    "dataframe_modified.shape"
   ]
  },
  {
   "cell_type": "code",
   "execution_count": 19,
   "metadata": {},
   "outputs": [
    {
     "data": {
      "text/plain": [
       "Newbie                                 0\n",
       "Age                                  561\n",
       "Gender_Female                          0\n",
       "Gender_Male                            0\n",
       "Household Income_$10-19                0\n",
       "Household Income_$20-29                0\n",
       "Household Income_$30-39                0\n",
       "Household Income_$40-49                0\n",
       "Household Income_$50-74                0\n",
       "Household Income_$75-99                0\n",
       "Household Income_Over $100             0\n",
       "Household Income_Under $10             0\n",
       "Sexual Preference_Bisexual             0\n",
       "Sexual Preference_Gay male             0\n",
       "Sexual Preference_Heterosexual         0\n",
       "Sexual Preference_Lesbian              0\n",
       "Sexual Preference_Transgender          0\n",
       "Sexual Preference_na                   0\n",
       "Education Attainment_College           0\n",
       "Education Attainment_Doctoral          0\n",
       "Education Attainment_Grammar           0\n",
       "Education Attainment_High School       0\n",
       "Education Attainment_Masters           0\n",
       "Education Attainment_Other             0\n",
       "Education Attainment_Professional      0\n",
       "Education Attainment_Some College      0\n",
       "Education Attainment_Special           0\n",
       "Major Occupation_Computer              0\n",
       "Major Occupation_Education             0\n",
       "Major Occupation_Management            0\n",
       "Major Occupation_Other                 0\n",
       "Major Occupation_Professional          0\n",
       "Marital Status_Divorced                0\n",
       "Marital Status_Married                 0\n",
       "Marital Status_Other                   0\n",
       "Marital Status_Separated               0\n",
       "Marital Status_Single                  0\n",
       "Marital Status_Widowed                 0\n",
       "dtype: int64"
      ]
     },
     "execution_count": 19,
     "metadata": {},
     "output_type": "execute_result"
    }
   ],
   "source": [
    "dataframe_modified.isnull().sum()"
   ]
  },
  {
   "cell_type": "markdown",
   "metadata": {},
   "source": [
    "Age 결측치 평균으로 채우기"
   ]
  },
  {
   "cell_type": "code",
   "execution_count": 20,
   "metadata": {},
   "outputs": [],
   "source": [
    "dataframe_modified.loc[pd.isnull(dataframe_modified['Age']), 'Age'] = dataframe_modified['Age'].mean()"
   ]
  },
  {
   "cell_type": "markdown",
   "metadata": {},
   "source": [
    "Age 결측치 확인"
   ]
  },
  {
   "cell_type": "code",
   "execution_count": 21,
   "metadata": {},
   "outputs": [
    {
     "data": {
      "text/plain": [
       "Series([], Name: Age, dtype: float64)"
      ]
     },
     "execution_count": 21,
     "metadata": {},
     "output_type": "execute_result"
    }
   ],
   "source": [
    "dataframe_modified.loc[pd.isnull(dataframe_modified['Age']), 'Age']"
   ]
  },
  {
   "cell_type": "code",
   "execution_count": 23,
   "metadata": {},
   "outputs": [
    {
     "data": {
      "text/html": [
       "<div>\n",
       "<style scoped>\n",
       "    .dataframe tbody tr th:only-of-type {\n",
       "        vertical-align: middle;\n",
       "    }\n",
       "\n",
       "    .dataframe tbody tr th {\n",
       "        vertical-align: top;\n",
       "    }\n",
       "\n",
       "    .dataframe thead th {\n",
       "        text-align: right;\n",
       "    }\n",
       "</style>\n",
       "<table border=\"1\" class=\"dataframe\">\n",
       "  <thead>\n",
       "    <tr style=\"text-align: right;\">\n",
       "      <th></th>\n",
       "      <th>Newbie</th>\n",
       "      <th>Age</th>\n",
       "      <th>Gender_Female</th>\n",
       "      <th>Gender_Male</th>\n",
       "      <th>Household Income_$10-19</th>\n",
       "      <th>Household Income_$20-29</th>\n",
       "      <th>Household Income_$30-39</th>\n",
       "      <th>Household Income_$40-49</th>\n",
       "      <th>Household Income_$50-74</th>\n",
       "      <th>Household Income_$75-99</th>\n",
       "      <th>...</th>\n",
       "      <th>Major Occupation_Education</th>\n",
       "      <th>Major Occupation_Management</th>\n",
       "      <th>Major Occupation_Other</th>\n",
       "      <th>Major Occupation_Professional</th>\n",
       "      <th>Marital Status_Divorced</th>\n",
       "      <th>Marital Status_Married</th>\n",
       "      <th>Marital Status_Other</th>\n",
       "      <th>Marital Status_Separated</th>\n",
       "      <th>Marital Status_Single</th>\n",
       "      <th>Marital Status_Widowed</th>\n",
       "    </tr>\n",
       "  </thead>\n",
       "  <tbody>\n",
       "    <tr>\n",
       "      <th>0</th>\n",
       "      <td>0</td>\n",
       "      <td>54.0</td>\n",
       "      <td>0</td>\n",
       "      <td>1</td>\n",
       "      <td>0</td>\n",
       "      <td>0</td>\n",
       "      <td>0</td>\n",
       "      <td>0</td>\n",
       "      <td>1</td>\n",
       "      <td>0</td>\n",
       "      <td>...</td>\n",
       "      <td>0</td>\n",
       "      <td>0</td>\n",
       "      <td>0</td>\n",
       "      <td>0</td>\n",
       "      <td>0</td>\n",
       "      <td>0</td>\n",
       "      <td>1</td>\n",
       "      <td>0</td>\n",
       "      <td>0</td>\n",
       "      <td>0</td>\n",
       "    </tr>\n",
       "    <tr>\n",
       "      <th>1</th>\n",
       "      <td>0</td>\n",
       "      <td>39.0</td>\n",
       "      <td>1</td>\n",
       "      <td>0</td>\n",
       "      <td>0</td>\n",
       "      <td>0</td>\n",
       "      <td>0</td>\n",
       "      <td>0</td>\n",
       "      <td>0</td>\n",
       "      <td>0</td>\n",
       "      <td>...</td>\n",
       "      <td>0</td>\n",
       "      <td>0</td>\n",
       "      <td>1</td>\n",
       "      <td>0</td>\n",
       "      <td>0</td>\n",
       "      <td>0</td>\n",
       "      <td>1</td>\n",
       "      <td>0</td>\n",
       "      <td>0</td>\n",
       "      <td>0</td>\n",
       "    </tr>\n",
       "    <tr>\n",
       "      <th>2</th>\n",
       "      <td>1</td>\n",
       "      <td>49.0</td>\n",
       "      <td>1</td>\n",
       "      <td>0</td>\n",
       "      <td>0</td>\n",
       "      <td>0</td>\n",
       "      <td>0</td>\n",
       "      <td>1</td>\n",
       "      <td>0</td>\n",
       "      <td>0</td>\n",
       "      <td>...</td>\n",
       "      <td>0</td>\n",
       "      <td>1</td>\n",
       "      <td>0</td>\n",
       "      <td>0</td>\n",
       "      <td>0</td>\n",
       "      <td>0</td>\n",
       "      <td>1</td>\n",
       "      <td>0</td>\n",
       "      <td>0</td>\n",
       "      <td>0</td>\n",
       "    </tr>\n",
       "    <tr>\n",
       "      <th>3</th>\n",
       "      <td>1</td>\n",
       "      <td>22.0</td>\n",
       "      <td>1</td>\n",
       "      <td>0</td>\n",
       "      <td>0</td>\n",
       "      <td>0</td>\n",
       "      <td>0</td>\n",
       "      <td>1</td>\n",
       "      <td>0</td>\n",
       "      <td>0</td>\n",
       "      <td>...</td>\n",
       "      <td>0</td>\n",
       "      <td>0</td>\n",
       "      <td>0</td>\n",
       "      <td>0</td>\n",
       "      <td>0</td>\n",
       "      <td>1</td>\n",
       "      <td>0</td>\n",
       "      <td>0</td>\n",
       "      <td>0</td>\n",
       "      <td>0</td>\n",
       "    </tr>\n",
       "    <tr>\n",
       "      <th>4</th>\n",
       "      <td>0</td>\n",
       "      <td>20.0</td>\n",
       "      <td>0</td>\n",
       "      <td>1</td>\n",
       "      <td>0</td>\n",
       "      <td>0</td>\n",
       "      <td>1</td>\n",
       "      <td>0</td>\n",
       "      <td>0</td>\n",
       "      <td>0</td>\n",
       "      <td>...</td>\n",
       "      <td>1</td>\n",
       "      <td>0</td>\n",
       "      <td>0</td>\n",
       "      <td>0</td>\n",
       "      <td>0</td>\n",
       "      <td>0</td>\n",
       "      <td>0</td>\n",
       "      <td>0</td>\n",
       "      <td>1</td>\n",
       "      <td>0</td>\n",
       "    </tr>\n",
       "  </tbody>\n",
       "</table>\n",
       "<p>5 rows × 38 columns</p>\n",
       "</div>"
      ],
      "text/plain": [
       "   Newbie   Age  Gender_Female  Gender_Male  Household Income_$10-19  \\\n",
       "0       0  54.0              0            1                        0   \n",
       "1       0  39.0              1            0                        0   \n",
       "2       1  49.0              1            0                        0   \n",
       "3       1  22.0              1            0                        0   \n",
       "4       0  20.0              0            1                        0   \n",
       "\n",
       "   Household Income_$20-29  Household Income_$30-39  Household Income_$40-49  \\\n",
       "0                        0                        0                        0   \n",
       "1                        0                        0                        0   \n",
       "2                        0                        0                        1   \n",
       "3                        0                        0                        1   \n",
       "4                        0                        1                        0   \n",
       "\n",
       "   Household Income_$50-74  Household Income_$75-99  ...  \\\n",
       "0                        1                        0  ...   \n",
       "1                        0                        0  ...   \n",
       "2                        0                        0  ...   \n",
       "3                        0                        0  ...   \n",
       "4                        0                        0  ...   \n",
       "\n",
       "   Major Occupation_Education  Major Occupation_Management  \\\n",
       "0                           0                            0   \n",
       "1                           0                            0   \n",
       "2                           0                            1   \n",
       "3                           0                            0   \n",
       "4                           1                            0   \n",
       "\n",
       "   Major Occupation_Other  Major Occupation_Professional  \\\n",
       "0                       0                              0   \n",
       "1                       1                              0   \n",
       "2                       0                              0   \n",
       "3                       0                              0   \n",
       "4                       0                              0   \n",
       "\n",
       "   Marital Status_Divorced  Marital Status_Married  Marital Status_Other  \\\n",
       "0                        0                       0                     1   \n",
       "1                        0                       0                     1   \n",
       "2                        0                       0                     1   \n",
       "3                        0                       1                     0   \n",
       "4                        0                       0                     0   \n",
       "\n",
       "   Marital Status_Separated  Marital Status_Single  Marital Status_Widowed  \n",
       "0                         0                      0                       0  \n",
       "1                         0                      0                       0  \n",
       "2                         0                      0                       0  \n",
       "3                         0                      0                       0  \n",
       "4                         0                      1                       0  \n",
       "\n",
       "[5 rows x 38 columns]"
      ]
     },
     "execution_count": 23,
     "metadata": {},
     "output_type": "execute_result"
    }
   ],
   "source": [
    "dataframe_modified.head()"
   ]
  },
  {
   "cell_type": "markdown",
   "metadata": {},
   "source": [
    "Newbie 열이 y값!"
   ]
  },
  {
   "cell_type": "code",
   "execution_count": 28,
   "metadata": {},
   "outputs": [
    {
     "data": {
      "text/plain": [
       "((19583, 1), (19583, 37))"
      ]
     },
     "execution_count": 28,
     "metadata": {},
     "output_type": "execute_result"
    }
   ],
   "source": [
    "x_data = dataframe_modified.iloc[:, 1:].values\n",
    "y_data = dataframe_modified.iloc[:,0].values.reshape(-1,1)\n",
    "y_data.shape, x_data.shape"
   ]
  },
  {
   "cell_type": "code",
   "execution_count": 29,
   "metadata": {},
   "outputs": [],
   "source": [
    "from sklearn import preprocessing"
   ]
  },
  {
   "cell_type": "markdown",
   "metadata": {},
   "source": [
    "### Min-Max Standardization"
   ]
  },
  {
   "cell_type": "code",
   "execution_count": 30,
   "metadata": {},
   "outputs": [
    {
     "data": {
      "text/plain": [
       "array([[0.65333333, 0.        , 1.        , 0.        , 0.        ,\n",
       "        0.        , 0.        , 1.        , 0.        , 0.        ,\n",
       "        0.        , 0.        , 1.        , 0.        , 0.        ,\n",
       "        0.        , 0.        , 0.        , 0.        , 0.        ,\n",
       "        0.        , 0.        , 0.        , 0.        , 1.        ,\n",
       "        0.        , 1.        , 0.        , 0.        , 0.        ,\n",
       "        0.        , 0.        , 0.        , 1.        , 0.        ,\n",
       "        0.        , 0.        ],\n",
       "       [0.45333333, 1.        , 0.        , 0.        , 0.        ,\n",
       "        0.        , 0.        , 0.        , 0.        , 1.        ,\n",
       "        0.        , 0.        , 0.        , 1.        , 0.        ,\n",
       "        0.        , 0.        , 0.        , 0.        , 0.        ,\n",
       "        0.        , 0.        , 0.        , 1.        , 0.        ,\n",
       "        0.        , 0.        , 0.        , 0.        , 1.        ,\n",
       "        0.        , 0.        , 0.        , 1.        , 0.        ,\n",
       "        0.        , 0.        ],\n",
       "       [0.58666667, 1.        , 0.        , 0.        , 0.        ,\n",
       "        0.        , 1.        , 0.        , 0.        , 0.        ,\n",
       "        0.        , 0.        , 0.        , 1.        , 0.        ,\n",
       "        0.        , 0.        , 0.        , 0.        , 0.        ,\n",
       "        0.        , 0.        , 0.        , 0.        , 1.        ,\n",
       "        0.        , 0.        , 0.        , 1.        , 0.        ,\n",
       "        0.        , 0.        , 0.        , 1.        , 0.        ,\n",
       "        0.        , 0.        ]])"
      ]
     },
     "execution_count": 30,
     "metadata": {},
     "output_type": "execute_result"
    }
   ],
   "source": [
    "min_max_scaler = preprocessing.MinMaxScaler()\n",
    "x_data = min_max_scaler.fit_transform(x_data)\n",
    "x_data[:3]"
   ]
  },
  {
   "cell_type": "code",
   "execution_count": 31,
   "metadata": {},
   "outputs": [
    {
     "data": {
      "text/plain": [
       "((15666, 37), (3916, 37), (15666, 1), (3916, 1))"
      ]
     },
     "execution_count": 31,
     "metadata": {},
     "output_type": "execute_result"
    }
   ],
   "source": [
    "import numpy as np\n",
    "\n",
    "training_idx = np.random.randint(y_data.shape[0], size = int(y_data.shape[0] * 0.8 ))\n",
    "test_idx = np.random.randint(y_data.shape[0], size = int(y_data.shape[0] *0.2))\n",
    "\n",
    "x_training, x_test = x_data[training_idx, :], x_data[test_idx, :]\n",
    "y_training, y_test = y_data[training_idx, :], y_data[test_idx, :]\n",
    "\n",
    "x_training.shape, x_test.shape, y_training.shape, y_test.shape\n"
   ]
  },
  {
   "cell_type": "markdown",
   "metadata": {},
   "source": [
    "y_data의 1과 0이 몇개 있는지 확인"
   ]
  },
  {
   "cell_type": "code",
   "execution_count": 37,
   "metadata": {},
   "outputs": [
    {
     "data": {
      "text/plain": [
       "(4962, 14621)"
      ]
     },
     "execution_count": 37,
     "metadata": {},
     "output_type": "execute_result"
    }
   ],
   "source": [
    "sum(y_data.flatten() == 1), sum(y_data.flatten() == 0) "
   ]
  },
  {
   "cell_type": "markdown",
   "metadata": {},
   "source": [
    "위와 같이 데이터를 안나우고 split 사용하면 됨"
   ]
  },
  {
   "cell_type": "code",
   "execution_count": 32,
   "metadata": {},
   "outputs": [
    {
     "data": {
      "text/plain": [
       "LogisticRegression()"
      ]
     },
     "execution_count": 32,
     "metadata": {},
     "output_type": "execute_result"
    }
   ],
   "source": [
    "from sklearn import linear_model, datasets\n",
    "\n",
    "# intercept : True => 절편 추가\n",
    "logreg = linear_model.LogisticRegression(fit_intercept=True)\n",
    "# flatten() == ravel()\n",
    "logreg.fit(x_training, y_training.ravel())"
   ]
  },
  {
   "cell_type": "markdown",
   "metadata": {},
   "source": [
    "예측하기"
   ]
  },
  {
   "cell_type": "code",
   "execution_count": 33,
   "metadata": {},
   "outputs": [
    {
     "data": {
      "text/plain": [
       "array([0, 0, 0], dtype=int64)"
      ]
     },
     "execution_count": 33,
     "metadata": {},
     "output_type": "execute_result"
    }
   ],
   "source": [
    "logreg.predict(x_test[:3])"
   ]
  },
  {
   "cell_type": "code",
   "execution_count": 34,
   "metadata": {},
   "outputs": [
    {
     "data": {
      "text/plain": [
       "(3916, 37)"
      ]
     },
     "execution_count": 34,
     "metadata": {},
     "output_type": "execute_result"
    }
   ],
   "source": [
    "x_test.shape"
   ]
  },
  {
   "cell_type": "code",
   "execution_count": 35,
   "metadata": {},
   "outputs": [
    {
     "data": {
      "text/plain": [
       "(3916, 1)"
      ]
     },
     "execution_count": 35,
     "metadata": {},
     "output_type": "execute_result"
    }
   ],
   "source": [
    "y_test.shape"
   ]
  },
  {
   "cell_type": "markdown",
   "metadata": {},
   "source": [
    "전체 맞은 개수"
   ]
  },
  {
   "cell_type": "code",
   "execution_count": 39,
   "metadata": {},
   "outputs": [
    {
     "data": {
      "text/plain": [
       "2991"
      ]
     },
     "execution_count": 39,
     "metadata": {},
     "output_type": "execute_result"
    }
   ],
   "source": [
    "sum(logreg.predict(x_test) == y_test.flatten())"
   ]
  },
  {
   "cell_type": "markdown",
   "metadata": {},
   "source": [
    "우리가 맞춰야하는 전체 개수"
   ]
  },
  {
   "cell_type": "code",
   "execution_count": 40,
   "metadata": {},
   "outputs": [
    {
     "data": {
      "text/plain": [
       "3916"
      ]
     },
     "execution_count": 40,
     "metadata": {},
     "output_type": "execute_result"
    }
   ],
   "source": [
    "len(y_test)"
   ]
  },
  {
   "cell_type": "markdown",
   "metadata": {},
   "source": [
    "정확도"
   ]
  },
  {
   "cell_type": "code",
   "execution_count": 41,
   "metadata": {},
   "outputs": [
    {
     "data": {
      "text/plain": [
       "0.7637895812053116"
      ]
     },
     "execution_count": 41,
     "metadata": {},
     "output_type": "execute_result"
    }
   ],
   "source": [
    "sum(logreg.predict(x_test) == y_test.flatten()) / len(y_test)"
   ]
  },
  {
   "cell_type": "code",
   "execution_count": 42,
   "metadata": {},
   "outputs": [
    {
     "data": {
      "text/plain": [
       "array([[0.71646384, 0.28353616],\n",
       "       [0.92404175, 0.07595825],\n",
       "       [0.89882433, 0.10117567]])"
      ]
     },
     "execution_count": 42,
     "metadata": {},
     "output_type": "execute_result"
    }
   ],
   "source": [
    "# 확률\n",
    "logreg.predict_proba(x_test)[:3]"
   ]
  },
  {
   "cell_type": "code",
   "execution_count": 43,
   "metadata": {},
   "outputs": [
    {
     "data": {
      "text/plain": [
       "array([-0.9269881 , -2.49857336, -2.18422933])"
      ]
     },
     "execution_count": 43,
     "metadata": {},
     "output_type": "execute_result"
    }
   ],
   "source": [
    "# 0보다 작다 크다로 구분\n",
    "logreg.decision_function(x_test)[:3]"
   ]
  },
  {
   "cell_type": "markdown",
   "metadata": {},
   "source": [
    "## 6️⃣ Confusion matrix (혼합 행렬)\n",
    "\n",
    "- 분류 문제의 정확도 성능을 어떻게 측정하냐?!\n",
    "\n",
    "- 실제 Class 대비 얼마나 잘 맞혔는가?!\n",
    "\n",
    "#### 실제 라벨과 예측 라벨의 일치 개수를 Matrix 형태로 표현하는 기법\n",
    "\n",
    "classifier가 얼마나 잘 맞추었는가\n",
    "\n",
    "![matrix](./img/matrix.PNG)\n",
    "\n",
    "- True : 예측이 맞음\n",
    "- False : 예측이 틀림\n",
    "- Positive : 참(1)이라고 예측한 경우\n",
    "- Negative : 거짓(0)이라고 예측한 경우\n",
    "\n",
    "#### <span style = 'color : green'>True Positive (TP) </span>\n",
    ": 실제 결과 참(1)에 대한 예측이 맞음\n",
    "\n",
    "#### <span style = 'color : green'>True Negative (TN) </span>\n",
    ": 실제 결과 거짓(0)에 대한 예측이 맞음\n",
    "\n",
    "#### <span style = 'color : green'> False Positive (FP) </span>\n",
    ": 실제 결과 참(1)에 대한 예측이 틀림\n",
    "\n",
    "#### <span style = 'color : green'> False Negative (FN) </span>\n",
    ": 실제 결과 참(0)에 대한 예측이 틀림\n"
   ]
  },
  {
   "cell_type": "markdown",
   "metadata": {},
   "source": [
    "logistic regression module에는 predict 함수가 포함되어 있음"
   ]
  },
  {
   "cell_type": "code",
   "execution_count": 1,
   "metadata": {},
   "outputs": [
    {
     "data": {
      "text/plain": [
       "array([[2, 0],\n",
       "       [1, 3]], dtype=int64)"
      ]
     },
     "execution_count": 1,
     "metadata": {},
     "output_type": "execute_result"
    }
   ],
   "source": [
    "from sklearn.metrics import confusion_matrix\n",
    "\n",
    "y_true = [1,0,1,1,0,1]\n",
    "y_pred = [0,0,1,1,0,1]\n",
    "\n",
    "confusion_matrix(y_true, y_pred)"
   ]
  },
  {
   "cell_type": "markdown",
   "metadata": {},
   "source": [
    "위의 결과 값 3을 예시로 들어보면   \n",
    "y_pred : 1이라고 예측한 것이 실제로 1인 개수가 3개임"
   ]
  },
  {
   "cell_type": "code",
   "execution_count": 2,
   "metadata": {},
   "outputs": [
    {
     "data": {
      "text/plain": [
       "(2, 0, 1, 3)"
      ]
     },
     "execution_count": 2,
     "metadata": {},
     "output_type": "execute_result"
    }
   ],
   "source": [
    "tn, fp, fn, tp = confusion_matrix(y_true, y_pred).ravel()\n",
    "(tn, fp, fn, tp)"
   ]
  },
  {
   "cell_type": "markdown",
   "metadata": {},
   "source": [
    "### Metrics for classification performance\n",
    "\n",
    "#### <span style = 'color : green'> Accuracy (정확도)\n",
    "$ \\frac{TP + TN}{TP+TN+FP+FN} $\n",
    "\n",
    "#### <span style = 'color : green'> Error Rate (오차율)\n",
    "$ \\frac{FP + FN}{TP+TN+FP+FN} = ( 1 - Accuracy ) $\n",
    "\n",
    "#### <span style = 'color : green'> Precision (정밀도)\n",
    "PPV : Positive Predict Value  \n",
    "\n",
    "$ \\frac{TP}{TP+FP} $\n",
    "\n",
    "#### <span style = 'color : green'> Specificity (특이도)\n",
    "TNR : True Negative Rate\n",
    "\n",
    "$ \\frac{TN}{TN+FP} $\n",
    "\n",
    "#### <span style = 'color : green'> Sensitiviry (민감도)\n",
    "$ \\frac{TP}{TP+FP} $\n",
    "\n",
    "\n"
   ]
  },
  {
   "cell_type": "markdown",
   "metadata": {},
   "source": [
    "## 7️⃣ Metrics for classification\n",
    "\n",
    "### 실제 Class 대비 얼마나 잘 맞혔는가?\n",
    "### <span style = 'color : blue'> 정확도 (Accuracy, ACC) </span>\n",
    ": 전체 데이터 대비 정확하게 예측한 개수의 비율\n",
    "\n",
    "#### $ ACC = \\frac{TP +TN}{TP+TN+FP+FN} $\n",
    "#### $ ACC = 1 - ERR $\n",
    "\n",
    "### <span style = 'color : blue'> 오차율 (Error Rate, ERR) </span>\n",
    ": 전체 데이터 대비 부정확하게 예측한 개수의 비율\n",
    "\n",
    "#### $ ERR = \\frac{FP+FN}{TP+TN+FP+FN} $\n",
    "#### $ ERR = 1 - ACC $"
   ]
  },
  {
   "cell_type": "code",
   "execution_count": 3,
   "metadata": {},
   "outputs": [],
   "source": [
    "import numpy as np\n",
    "from sklearn.metrics import accuracy_score"
   ]
  },
  {
   "cell_type": "code",
   "execution_count": 4,
   "metadata": {},
   "outputs": [],
   "source": [
    "y_pred = np.array([0,1,1,0])\n",
    "y_true = np.array([0,1,0,0])"
   ]
  },
  {
   "cell_type": "code",
   "execution_count": 5,
   "metadata": {},
   "outputs": [
    {
     "data": {
      "text/plain": [
       "0.75"
      ]
     },
     "execution_count": 5,
     "metadata": {},
     "output_type": "execute_result"
    }
   ],
   "source": [
    "sum(y_true == y_pred) / len(y_true)"
   ]
  },
  {
   "cell_type": "code",
   "execution_count": 6,
   "metadata": {},
   "outputs": [
    {
     "data": {
      "text/plain": [
       "0.75"
      ]
     },
     "execution_count": 6,
     "metadata": {},
     "output_type": "execute_result"
    }
   ],
   "source": [
    "accuracy_score(y_true, y_pred)"
   ]
  },
  {
   "cell_type": "markdown",
   "metadata": {},
   "source": [
    "### 불균일한 Dataset의 처리\n",
    "\n",
    "#### 불균일한 Dataset의 종류\n",
    "- 14세 이하의 10만명당 암 발병 인원은 14.8, 약 0.015%\n",
    "- 대학의 학사 경고자 평균 비율 3%\n",
    "- 하버드 입학 지원자의 합격률은 2%\n",
    "- 이메일 수신자 중 2%만이 물건을 구매\n",
    "\n",
    "### Metrics for Imbalanced Dataset\n",
    "### ✔ 정밀도 (Precision, Positive Predictive Value)\n",
    "- 긍정이라고 예측한 비율 중 진짜 긍정인 비율\n",
    "- 긍정이라고 얼마나 잘 예측했는지\n",
    "- 긍정 예측 정밀도?\n",
    "\n",
    "$ PRECISION (PPV) = \\frac{TP}{TP + FP}$\n",
    "\n",
    "[sklearn.metrics.precision_score]\n",
    "- labels : list, optional\n",
    "- pos_label : str or int, 1 by default\n",
    "- average : string, [None, 'binary' (default), 'micro', 'macro', 'samples', 'weighted']\n",
    "- sample_weight : array-like of shape = [n_samples], optional"
   ]
  },
  {
   "cell_type": "code",
   "execution_count": 8,
   "metadata": {},
   "outputs": [],
   "source": [
    "from sklearn.metrics import precision_score"
   ]
  },
  {
   "cell_type": "code",
   "execution_count": 9,
   "metadata": {},
   "outputs": [],
   "source": [
    "y_pred = np.array([0,1,1,0])\n",
    "y_true = np.array([0,1,0,0])"
   ]
  },
  {
   "cell_type": "code",
   "execution_count": 10,
   "metadata": {},
   "outputs": [
    {
     "data": {
      "text/plain": [
       "0.5"
      ]
     },
     "execution_count": 10,
     "metadata": {},
     "output_type": "execute_result"
    }
   ],
   "source": [
    "sum((y_pred == 1) & (y_pred == y_true)) / sum(y_pred)"
   ]
  },
  {
   "cell_type": "code",
   "execution_count": 11,
   "metadata": {},
   "outputs": [
    {
     "data": {
      "text/plain": [
       "0.5"
      ]
     },
     "execution_count": 11,
     "metadata": {},
     "output_type": "execute_result"
    }
   ],
   "source": [
    "precision_score(y_true, y_pred)"
   ]
  },
  {
   "cell_type": "code",
   "execution_count": 13,
   "metadata": {},
   "outputs": [],
   "source": [
    "y_true = [0,1,2,0,1,2]\n",
    "y_pred = [0,2,1,0,0,1]"
   ]
  },
  {
   "cell_type": "code",
   "execution_count": 14,
   "metadata": {},
   "outputs": [
    {
     "data": {
      "text/plain": [
       "array([[2, 0, 0],\n",
       "       [1, 0, 1],\n",
       "       [0, 2, 0]], dtype=int64)"
      ]
     },
     "execution_count": 14,
     "metadata": {},
     "output_type": "execute_result"
    }
   ],
   "source": [
    "confusion_matrix(y_true, y_pred)"
   ]
  },
  {
   "cell_type": "markdown",
   "metadata": {},
   "source": [
    "None : 각 lable 별 precision\n",
    "- 0으로 예측한 것 중 실제로 맞춘 비율은 1/3\n",
    "- 1로 예측한 것 중 실제로 맞춘 비율은 0\n",
    "- 2로 예측한 것 중 실제로 맞춘 비율은 0"
   ]
  },
  {
   "cell_type": "code",
   "execution_count": 18,
   "metadata": {},
   "outputs": [
    {
     "data": {
      "text/plain": [
       "array([0.66666667, 0.        , 0.        ])"
      ]
     },
     "execution_count": 18,
     "metadata": {},
     "output_type": "execute_result"
    }
   ],
   "source": [
    "precision_score(y_true, y_pred, average = None)"
   ]
  },
  {
   "cell_type": "markdown",
   "metadata": {},
   "source": [
    "macro : 각 label별 맞춘 평균\n",
    "- Average = None일 때의 precision_score / 3"
   ]
  },
  {
   "cell_type": "code",
   "execution_count": 15,
   "metadata": {},
   "outputs": [
    {
     "data": {
      "text/plain": [
       "0.2222222222222222"
      ]
     },
     "execution_count": 15,
     "metadata": {},
     "output_type": "execute_result"
    }
   ],
   "source": [
    "precision_score(y_true, y_pred, average = 'macro')"
   ]
  },
  {
   "cell_type": "markdown",
   "metadata": {},
   "source": [
    "micro : 전체 개수 대비 정확하게 맞춘 비율\n",
    "- 대각선 : 실제로 맞춘 개수\n",
    "=> 2/6"
   ]
  },
  {
   "cell_type": "code",
   "execution_count": 16,
   "metadata": {},
   "outputs": [
    {
     "data": {
      "text/plain": [
       "0.3333333333333333"
      ]
     },
     "execution_count": 16,
     "metadata": {},
     "output_type": "execute_result"
    }
   ],
   "source": [
    "precision_score(y_true, y_pred, average = 'micro')"
   ]
  },
  {
   "cell_type": "markdown",
   "metadata": {},
   "source": [
    "### ✔ 민감도 (Sensitivity, Recall, True Positive Rate)\n",
    "- 실제 긍정 데이터 중 긍정이라고 예측한 비율, 반환율, 재현율\n",
    "- 얼마나 긍정을 잘 예측하였는가?\n",
    "\n",
    "$ RECALL(TPR) = \\frac{TP}{TP + FN} = \\frac{TP}{P} $\n",
    "\n",
    "Precision과 Recall은 Trade-off 관계가 존재 "
   ]
  },
  {
   "cell_type": "code",
   "execution_count": 19,
   "metadata": {},
   "outputs": [],
   "source": [
    "from sklearn.metrics import recall_score"
   ]
  },
  {
   "cell_type": "code",
   "execution_count": 20,
   "metadata": {},
   "outputs": [],
   "source": [
    "y_pred = np.array([0,1,1,0])\n",
    "y_true = np.array([0,1,0,0])"
   ]
  },
  {
   "cell_type": "code",
   "execution_count": 22,
   "metadata": {},
   "outputs": [
    {
     "data": {
      "text/plain": [
       "1.0"
      ]
     },
     "execution_count": 22,
     "metadata": {},
     "output_type": "execute_result"
    }
   ],
   "source": [
    "sum((y_true == 1) & (y_pred == y_true)) /sum(y_true)"
   ]
  },
  {
   "cell_type": "code",
   "execution_count": 23,
   "metadata": {},
   "outputs": [
    {
     "data": {
      "text/plain": [
       "1.0"
      ]
     },
     "execution_count": 23,
     "metadata": {},
     "output_type": "execute_result"
    }
   ],
   "source": [
    "recall_score(y_true, y_pred)"
   ]
  },
  {
   "cell_type": "code",
   "execution_count": 24,
   "metadata": {},
   "outputs": [],
   "source": [
    "y_true = [0,1,2,0,1,2]\n",
    "y_pred = [0,2,1,0,0,1]"
   ]
  },
  {
   "cell_type": "code",
   "execution_count": 25,
   "metadata": {},
   "outputs": [
    {
     "data": {
      "text/plain": [
       "0.3333333333333333"
      ]
     },
     "execution_count": 25,
     "metadata": {},
     "output_type": "execute_result"
    }
   ],
   "source": [
    "recall_score(y_true, y_pred, average ='macro')"
   ]
  },
  {
   "cell_type": "code",
   "execution_count": 26,
   "metadata": {},
   "outputs": [
    {
     "data": {
      "text/plain": [
       "0.3333333333333333"
      ]
     },
     "execution_count": 26,
     "metadata": {},
     "output_type": "execute_result"
    }
   ],
   "source": [
    "recall_score(y_true, y_pred, average ='micro')"
   ]
  },
  {
   "cell_type": "code",
   "execution_count": 28,
   "metadata": {},
   "outputs": [
    {
     "data": {
      "text/plain": [
       "array([1., 0., 0.])"
      ]
     },
     "execution_count": 28,
     "metadata": {},
     "output_type": "execute_result"
    }
   ],
   "source": [
    "recall_score(y_true, y_pred, average =None)"
   ]
  },
  {
   "cell_type": "markdown",
   "metadata": {},
   "source": [
    "### ✔ 특이성 (Specificity, True Negative Rate)\n",
    "- 부정을 얼마나 잘 부정이라고 인식했는가?\n",
    "- 전체 부정 중 부정을 정확히 찾아낸 비율\n",
    "- 실제 Negative 중 Negative라고 예측한 비율\n",
    "\n",
    "$ SPC = \\frac{TN}{TN + FP} = \\frac{TN}{N} $\n",
    "\n",
    "### ✔ F1 Score ( F-measure, F-score )\n",
    "- Precision과 Recall의 통합한 측정 지표\n",
    "- Precision과 Recall의 조화 평균\n",
    "\n",
    "$ F1 = 2 \\frac{precision * recall}{precision + recall} $"
   ]
  },
  {
   "cell_type": "code",
   "execution_count": 29,
   "metadata": {},
   "outputs": [],
   "source": [
    "from sklearn.metrics import f1_score"
   ]
  },
  {
   "cell_type": "code",
   "execution_count": 30,
   "metadata": {},
   "outputs": [],
   "source": [
    "y_pred = np.array([0,1,1,0])\n",
    "y_true = np.array([0,1,0,0])"
   ]
  },
  {
   "cell_type": "code",
   "execution_count": 31,
   "metadata": {},
   "outputs": [],
   "source": [
    "pre = precision_score(y_true, y_pred)\n",
    "rec = recall_score(y_true, y_pred)"
   ]
  },
  {
   "cell_type": "code",
   "execution_count": 32,
   "metadata": {},
   "outputs": [
    {
     "data": {
      "text/plain": [
       "0.6666666666666666"
      ]
     },
     "execution_count": 32,
     "metadata": {},
     "output_type": "execute_result"
    }
   ],
   "source": [
    "2 * (pre * rec) / (pre + rec)"
   ]
  },
  {
   "cell_type": "code",
   "execution_count": 33,
   "metadata": {},
   "outputs": [
    {
     "data": {
      "text/plain": [
       "0.6666666666666666"
      ]
     },
     "execution_count": 33,
     "metadata": {},
     "output_type": "execute_result"
    }
   ],
   "source": [
    "f1_score(y_true, y_pred)"
   ]
  },
  {
   "cell_type": "code",
   "execution_count": 35,
   "metadata": {},
   "outputs": [],
   "source": [
    "y_true = [0,1,2,0,1,2]\n",
    "y_pred = [0,2,1,0,0,1]"
   ]
  },
  {
   "cell_type": "code",
   "execution_count": 36,
   "metadata": {},
   "outputs": [
    {
     "data": {
      "text/plain": [
       "0.26666666666666666"
      ]
     },
     "execution_count": 36,
     "metadata": {},
     "output_type": "execute_result"
    }
   ],
   "source": [
    "f1_score(y_true, y_pred, average = 'macro')"
   ]
  },
  {
   "cell_type": "code",
   "execution_count": 37,
   "metadata": {},
   "outputs": [
    {
     "data": {
      "text/plain": [
       "0.3333333333333333"
      ]
     },
     "execution_count": 37,
     "metadata": {},
     "output_type": "execute_result"
    }
   ],
   "source": [
    "f1_score(y_true, y_pred, average = 'micro')"
   ]
  },
  {
   "cell_type": "code",
   "execution_count": 38,
   "metadata": {},
   "outputs": [
    {
     "data": {
      "text/plain": [
       "array([0.8, 0. , 0. ])"
      ]
     },
     "execution_count": 38,
     "metadata": {},
     "output_type": "execute_result"
    }
   ],
   "source": [
    "f1_score(y_true, y_pred, average = None)"
   ]
  },
  {
   "cell_type": "markdown",
   "metadata": {},
   "source": [
    "### Example\n",
    "\n",
    "![ex](./img/matrix_Example.PNG)\n",
    "\n",
    "### Precision - Recall Curve\n",
    "- 예측 확률 Threshold를 변화시켜 Precision/Recall 측정\n",
    "- 시각화 할 때 유용하게 사용 가능 "
   ]
  },
  {
   "cell_type": "code",
   "execution_count": 39,
   "metadata": {},
   "outputs": [],
   "source": [
    "import numpy as np\n",
    "from sklearn.metrics import precision_recall_curve"
   ]
  },
  {
   "cell_type": "code",
   "execution_count": 44,
   "metadata": {},
   "outputs": [],
   "source": [
    "y_true = np.array([0,0,1,1,])\n",
    "# prediction score\n",
    "y_scores = np.array([0.1, 0.4, 0.35, 0.8])\n",
    "precision, recall, thresholds = precision_recall_curve(y_true, y_scores) "
   ]
  },
  {
   "cell_type": "code",
   "execution_count": 41,
   "metadata": {},
   "outputs": [
    {
     "data": {
      "text/plain": [
       "array([0.66666667, 0.5       , 1.        , 1.        ])"
      ]
     },
     "execution_count": 41,
     "metadata": {},
     "output_type": "execute_result"
    }
   ],
   "source": [
    "precision"
   ]
  },
  {
   "cell_type": "code",
   "execution_count": 42,
   "metadata": {},
   "outputs": [
    {
     "data": {
      "text/plain": [
       "array([1. , 0.5, 0.5, 0. ])"
      ]
     },
     "execution_count": 42,
     "metadata": {},
     "output_type": "execute_result"
    }
   ],
   "source": [
    "recall"
   ]
  },
  {
   "cell_type": "markdown",
   "metadata": {},
   "source": [
    "positive가 되는 비율이 --> 방향으로 증가 "
   ]
  },
  {
   "cell_type": "code",
   "execution_count": 43,
   "metadata": {},
   "outputs": [
    {
     "data": {
      "text/plain": [
       "array([0.35, 0.4 , 0.8 ])"
      ]
     },
     "execution_count": 43,
     "metadata": {},
     "output_type": "execute_result"
    }
   ],
   "source": [
    "thresholds"
   ]
  },
  {
   "cell_type": "markdown",
   "metadata": {},
   "source": [
    "### Precicion - Calssification Report\n",
    "- Classificaion 문제에서 한번에 Precision, Recall, F1 결과 출력  \n",
    ": Binary 보다는 2개 이상의 class에서 사용"
   ]
  },
  {
   "cell_type": "code",
   "execution_count": 45,
   "metadata": {},
   "outputs": [],
   "source": [
    "from sklearn.metrics import classification_report"
   ]
  },
  {
   "cell_type": "code",
   "execution_count": 46,
   "metadata": {},
   "outputs": [],
   "source": [
    "y_true = [0,1,2,2,2]\n",
    "y_pred = [0,0,2,2,1]\n",
    "\n",
    "target_names = ['class 0', 'class 1', 'class 2']"
   ]
  },
  {
   "cell_type": "markdown",
   "metadata": {},
   "source": [
    "- support : y_true에서 해당하는 data의 개수\n",
    "- class 0~2 : macro\n",
    "- weighted avg : micro"
   ]
  },
  {
   "cell_type": "code",
   "execution_count": 47,
   "metadata": {},
   "outputs": [
    {
     "name": "stdout",
     "output_type": "stream",
     "text": [
      "              precision    recall  f1-score   support\n",
      "\n",
      "     class 0       0.50      1.00      0.67         1\n",
      "     class 1       0.00      0.00      0.00         1\n",
      "     class 2       1.00      0.67      0.80         3\n",
      "\n",
      "    accuracy                           0.60         5\n",
      "   macro avg       0.50      0.56      0.49         5\n",
      "weighted avg       0.70      0.60      0.61         5\n",
      "\n"
     ]
    }
   ],
   "source": [
    "print(classification_report(y_true, y_pred, target_names=target_names))"
   ]
  }
 ],
 "metadata": {
  "kernelspec": {
   "display_name": "Python 3.10.4 ('purify')",
   "language": "python",
   "name": "python3"
  },
  "language_info": {
   "codemirror_mode": {
    "name": "ipython",
    "version": 3
   },
   "file_extension": ".py",
   "mimetype": "text/x-python",
   "name": "python",
   "nbconvert_exporter": "python",
   "pygments_lexer": "ipython3",
   "version": "3.10.4"
  },
  "orig_nbformat": 4,
  "vscode": {
   "interpreter": {
    "hash": "fa9987605a02e7ab2193e9cae0389bc7af93e15a024bcfcd5136c75f68f712e1"
   }
  }
 },
 "nbformat": 4,
 "nbformat_minor": 2
}

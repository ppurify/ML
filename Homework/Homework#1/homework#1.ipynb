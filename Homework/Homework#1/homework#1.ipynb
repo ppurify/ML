{
 "cells": [
  {
   "cell_type": "code",
   "execution_count": 1,
   "metadata": {},
   "outputs": [],
   "source": [
    "import numpy as np"
   ]
  },
  {
   "cell_type": "markdown",
   "metadata": {},
   "source": [
    "> def n_size_ndarray_creation(n, dtype=np.int):  \n",
    "    X = None  \n",
    "    return X"
   ]
  },
  {
   "cell_type": "markdown",
   "metadata": {},
   "source": [
    "- 함수목적  \n",
    "  n의 제곱수로 2 dimentional array를 생성하는 ndarray.\n",
    "- Args  \n",
    "  n: 생성하고자 하는 ndarray의 row와 column의 개수  \n",
    "  dtype: 생성하려는 ndarray의 data type (np.int)\n",
    "- Returns  \n",
    "  row와 column의 길이가 n인 two dimentional ndarray로 X[0,0]은 0으로 순차적으로 X[n-1,n-1]은 n^2-1이 할당됨"
   ]
  },
  {
   "cell_type": "code",
   "execution_count": 2,
   "metadata": {},
   "outputs": [
    {
     "data": {
      "text/plain": [
       "numpy.ndarray"
      ]
     },
     "execution_count": 2,
     "metadata": {},
     "output_type": "execute_result"
    }
   ],
   "source": [
    "arr = np.arange(3**2).reshape(3,3)\n",
    "type(arr)"
   ]
  },
  {
   "cell_type": "code",
   "execution_count": 3,
   "metadata": {},
   "outputs": [
    {
     "name": "stderr",
     "output_type": "stream",
     "text": [
      "C:\\Users\\pknu\\AppData\\Local\\Temp\\ipykernel_19052\\1717552700.py:1: DeprecationWarning: `np.int` is a deprecated alias for the builtin `int`. To silence this warning, use `int` by itself. Doing this will not modify any behavior and is safe. When replacing `np.int`, you may wish to use e.g. `np.int64` or `np.int32` to specify the precision. If you wish to review your current use, check the release note link for additional information.\n",
      "Deprecated in NumPy 1.20; for more details and guidance: https://numpy.org/devdocs/release/1.20.0-notes.html#deprecations\n",
      "  def n_size_ndarray_creation(n, dtype=np.int):\n"
     ]
    }
   ],
   "source": [
    "def n_size_ndarray_creation(n, dtype=np.int):\n",
    "    X = np.arange(n**2).reshape(n,n)\n",
    "    return X"
   ]
  },
  {
   "cell_type": "markdown",
   "metadata": {},
   "source": [
    "> Ex)"
   ]
  },
  {
   "cell_type": "code",
   "execution_count": 4,
   "metadata": {},
   "outputs": [
    {
     "name": "stderr",
     "output_type": "stream",
     "text": [
      "C:\\Users\\pknu\\AppData\\Local\\Temp\\ipykernel_19052\\1530733019.py:1: DeprecationWarning: `np.int` is a deprecated alias for the builtin `int`. To silence this warning, use `int` by itself. Doing this will not modify any behavior and is safe. When replacing `np.int`, you may wish to use e.g. `np.int64` or `np.int32` to specify the precision. If you wish to review your current use, check the release note link for additional information.\n",
      "Deprecated in NumPy 1.20; for more details and guidance: https://numpy.org/devdocs/release/1.20.0-notes.html#deprecations\n",
      "  n_size_ndarray_creation(8, dtype = np.int)\n"
     ]
    },
    {
     "data": {
      "text/plain": [
       "array([[ 0,  1,  2,  3,  4,  5,  6,  7],\n",
       "       [ 8,  9, 10, 11, 12, 13, 14, 15],\n",
       "       [16, 17, 18, 19, 20, 21, 22, 23],\n",
       "       [24, 25, 26, 27, 28, 29, 30, 31],\n",
       "       [32, 33, 34, 35, 36, 37, 38, 39],\n",
       "       [40, 41, 42, 43, 44, 45, 46, 47],\n",
       "       [48, 49, 50, 51, 52, 53, 54, 55],\n",
       "       [56, 57, 58, 59, 60, 61, 62, 63]])"
      ]
     },
     "execution_count": 4,
     "metadata": {},
     "output_type": "execute_result"
    }
   ],
   "source": [
    "n_size_ndarray_creation(8, dtype = np.int)"
   ]
  },
  {
   "cell_type": "markdown",
   "metadata": {},
   "source": [
    "> def zero_or_one_or_empty_ndarray(shape, type=0, dtype=np.int):  \n",
    "    X = None  \n",
    "  return X"
   ]
  },
  {
   "cell_type": "markdown",
   "metadata": {},
   "source": [
    "- 함수목적  \n",
    "    shape이 지정된 크기의 ndarray를 생성, 이때 행렬의 element는 type에 따라 0, 1 또는 empty로 생성됨.\n",
    "- Args  \n",
    "    shape: 생성할려는 ndarray의 shape\n",
    "    type: 생성되는 element들의 값을 지정함0은 0, 1은 1, 99는 empty 타입으로 생성됨\n",
    "    dtype: 생성하려는 ndarray의 data type (np.int)\n",
    "- Returns  \n",
    "    shape의 크기로 생성된 ndarray로 type에 따라 element의 내용이 변경됨"
   ]
  },
  {
   "cell_type": "code",
   "execution_count": 5,
   "metadata": {},
   "outputs": [
    {
     "name": "stderr",
     "output_type": "stream",
     "text": [
      "C:\\Users\\pknu\\AppData\\Local\\Temp\\ipykernel_19052\\600320639.py:1: DeprecationWarning: `np.int` is a deprecated alias for the builtin `int`. To silence this warning, use `int` by itself. Doing this will not modify any behavior and is safe. When replacing `np.int`, you may wish to use e.g. `np.int64` or `np.int32` to specify the precision. If you wish to review your current use, check the release note link for additional information.\n",
      "Deprecated in NumPy 1.20; for more details and guidance: https://numpy.org/devdocs/release/1.20.0-notes.html#deprecations\n",
      "  def zero_or_one_or_empty_ndarray(shape, type=0, dtype=np.int):\n"
     ]
    }
   ],
   "source": [
    "def zero_or_one_or_empty_ndarray(shape, type=0, dtype=np.int):\n",
    "    # type = 0 -> element = 0\n",
    "    if type == 0 :\n",
    "        X = np.zeros(shape, dtype)\n",
    "    # type = 1 -> element = 1\n",
    "    elif type == 1 :\n",
    "        X = np.ones(shape, dtype)\n",
    "    # type = 99 -> element = empty\n",
    "    else :\n",
    "        X = np.empty(shape, dtype)\n",
    "        \n",
    "    return X"
   ]
  },
  {
   "cell_type": "code",
   "execution_count": 6,
   "metadata": {},
   "outputs": [
    {
     "data": {
      "text/plain": [
       "array([[1, 1],\n",
       "       [1, 1]])"
      ]
     },
     "execution_count": 6,
     "metadata": {},
     "output_type": "execute_result"
    }
   ],
   "source": [
    "zero_or_one_or_empty_ndarray((2,2), type = 1)"
   ]
  },
  {
   "cell_type": "code",
   "execution_count": 7,
   "metadata": {},
   "outputs": [
    {
     "data": {
      "text/plain": [
       "array([[   4128860,    6029375,    3801155],\n",
       "       [   5570652,    6619251,    7536754],\n",
       "       [-511246336,        480,          0]])"
      ]
     },
     "execution_count": 7,
     "metadata": {},
     "output_type": "execute_result"
    }
   ],
   "source": [
    "zero_or_one_or_empty_ndarray((3,3), type = 99)"
   ]
  },
  {
   "cell_type": "markdown",
   "metadata": {},
   "source": [
    "> def change_shape_of_ndarray(X, n_row):   \n",
    "    return X"
   ]
  },
  {
   "cell_type": "markdown",
   "metadata": {},
   "source": [
    "- 함수목적  \n",
    "    입력된 ndarray X를 n_row의 값을 row의 개수로 지정한 matrix를 반환함.  \n",
    "    이때 입력하는 X의 size는 2의 거듭제곱수로 전제함.  \n",
    "    만약 n_row과 1일 때는 matrix가 아닌 vector로 반환함.  \n",
    "- Args  \n",
    "    X: 입력하는 ndarray\n",
    "    n_row: 생성할려는 matrix의 row의 개수\n",
    "- Returns  \n",
    "    row의 개수가 n_row인 Matrix 또는 Vector\n",
    "    n_row가 1이면 Vector 값으로 반환함"
   ]
  },
  {
   "cell_type": "code",
   "execution_count": 15,
   "metadata": {},
   "outputs": [],
   "source": [
    "def change_shape_of_ndarray(X, n_row):\n",
    "    # n_row : 생성하려는 matrix row의 개수\n",
    "    # n_row가 1일 경우 Vector 값을 반환\n",
    "    if n_row == 1:\n",
    "        X = X.flatten()\n",
    "    else :\n",
    "        X = X.reshape(n_row, -1)\n",
    "    return X"
   ]
  },
  {
   "cell_type": "markdown",
   "metadata": {},
   "source": [
    "> EX )"
   ]
  },
  {
   "cell_type": "code",
   "execution_count": 16,
   "metadata": {},
   "outputs": [
    {
     "name": "stderr",
     "output_type": "stream",
     "text": [
      "C:\\Users\\pknu\\AppData\\Local\\Temp\\ipykernel_23496\\816447811.py:1: DeprecationWarning: `np.int` is a deprecated alias for the builtin `int`. To silence this warning, use `int` by itself. Doing this will not modify any behavior and is safe. When replacing `np.int`, you may wish to use e.g. `np.int64` or `np.int32` to specify the precision. If you wish to review your current use, check the release note link for additional information.\n",
      "Deprecated in NumPy 1.20; for more details and guidance: https://numpy.org/devdocs/release/1.20.0-notes.html#deprecations\n",
      "  X = np.ones((32,32), dtype=np.int)\n"
     ]
    },
    {
     "data": {
      "text/plain": [
       "array([[1, 1, 1, ..., 1, 1, 1],\n",
       "       [1, 1, 1, ..., 1, 1, 1],\n",
       "       [1, 1, 1, ..., 1, 1, 1],\n",
       "       ...,\n",
       "       [1, 1, 1, ..., 1, 1, 1],\n",
       "       [1, 1, 1, ..., 1, 1, 1],\n",
       "       [1, 1, 1, ..., 1, 1, 1]])"
      ]
     },
     "execution_count": 16,
     "metadata": {},
     "output_type": "execute_result"
    }
   ],
   "source": [
    "X = np.ones((32,32), dtype=np.int)\n",
    "X"
   ]
  },
  {
   "cell_type": "code",
   "execution_count": 18,
   "metadata": {},
   "outputs": [
    {
     "data": {
      "text/plain": [
       "array([1, 1, 1, ..., 1, 1, 1])"
      ]
     },
     "execution_count": 18,
     "metadata": {},
     "output_type": "execute_result"
    }
   ],
   "source": [
    "change_shape_of_ndarray(X, 1)"
   ]
  },
  {
   "cell_type": "code",
   "execution_count": 17,
   "metadata": {},
   "outputs": [
    {
     "data": {
      "text/plain": [
       "array([[1, 1],\n",
       "       [1, 1],\n",
       "       [1, 1],\n",
       "       ...,\n",
       "       [1, 1],\n",
       "       [1, 1],\n",
       "       [1, 1]])"
      ]
     },
     "execution_count": 17,
     "metadata": {},
     "output_type": "execute_result"
    }
   ],
   "source": [
    "change_shape_of_ndarray(X, 512)"
   ]
  },
  {
   "cell_type": "markdown",
   "metadata": {},
   "source": [
    "- 시행 착 오 ,,,,"
   ]
  },
  {
   "cell_type": "code",
   "execution_count": 3,
   "metadata": {},
   "outputs": [],
   "source": [
    "def concat_ndarray(X_1, X_2, axis):\n",
    "    \n",
    "    n_1 = X_1.ndim #X_1의 차원\n",
    "    n_2 = X_2.ndim #X_2의 차원\n",
    "    \n",
    "    # axis를 기준으로 통합할 때, 통합이 불가능하면 False가 반환됨.\n",
    "    \n",
    "\n",
    "    if axis == 0 : \n",
    "        if n_1 == n_2 and n_1 == 2 : # X_1, X_2의 차원이 2차원인 경우\n",
    "            if X_1.shape[1] == X_2.shape[1]:  # X_1, X_2의 열이 동일 할 때 \n",
    "                return np.concatenate((X_1,X_2), axis = axis)\n",
    "            else: # X_1, X_2의 열이 동일 하지 않을 때\n",
    "                return False\n",
    "        elif n_1 == n_2 and n_1 == 1: # X_1, X_2의 차원이 1차원인 경우\n",
    "            if X_1.size == X_2.size : # X_1, X_2의 열이 동일 할 때\n",
    "                return np.concatenate((X_1,X_2), axis = axis)\n",
    "            else : # X_1, X_2의 열이 동일 하지 않을 때\n",
    "                return False\n",
    "\n",
    "        # X_1,X_2 Matrix, Vector 형태로 들어왔다면 Vector를 row가 1개인 Matrix로 변환하여 통합이 가능한지 확인\n",
    "        else : # X_1, X_2의 차원이 다른 경우\n",
    "            if n_1 == 1 :\n",
    "                if X_1.size == X_2.shape[1] :\n",
    "                    X_1 = X_1[np.newaxis, :]\n",
    "                    return np.concatenate((X_1,X_2), axis = axis)\n",
    "                else :\n",
    "                    return False\n",
    "            elif n_2 == 1:\n",
    "                if X_1.shape[1] == X_2.size :\n",
    "                    X_2 = X_2[np.newaxis, :]\n",
    "                    return np.concatenate((X_1,X_2), axis = axis)\n",
    "                else :\n",
    "                    return False\n",
    "\n",
    "\n",
    "    else : # axis = 1인 경우\n",
    "        if n_1 == n_2 and n_1 == 2 : # X_1, X_2의 차원이 2차원인 경우\n",
    "            if X_1.shape[0] == X_2.shape[0]: # X_1, X_2의 행이 동일 할 때 \n",
    "                return np.concatenate((X_1,X_2), axis = axis)\n",
    "            else :\n",
    "                return False\n",
    "        elif n_1 == n_2 and n_1 == 1:\n",
    "            X_1 = X_1[np.newaxis, :] # X_1 현재 1차원 -> 2차원\n",
    "            X_2 = X_2[np.newaxis, :] # X_2 현재 1차원 -> 2차원\n",
    "            return np.concatenate((X_1,X_2), axis = axis)\n",
    "\n",
    "        # X_1,X_2 Matrix, Vector 형태로 들어왔다면 Vector를 row가 1개인 Matrix로 변환하여 통합이 가능한지 확인\n",
    "        else : # X_1, X_2의 차원이 다른 경우\n",
    "            if n_1 == 1 :\n",
    "                if X_1.size == X_2.shape[0] : #X_1의 열과 X_2의 행 비교\n",
    "                    X_1 = X_1[np.newaxis, :]\n",
    "                    return np.concatenate((X_1.T,X_2), axis = axis)\n",
    "                else :\n",
    "                    return False\n",
    "            elif n_2 == 1:\n",
    "                if X_1.shape[0] == X_2.size : #X_1의 행과 X_2의 열 비교\n",
    "                    X_2 = X_2[np.newaxis, :]\n",
    "                    return np.concatenate((X_1,X_2.T), axis = axis)\n",
    "                else :\n",
    "                    return False"
   ]
  },
  {
   "cell_type": "markdown",
   "metadata": {},
   "source": [
    "- 찐"
   ]
  },
  {
   "cell_type": "markdown",
   "metadata": {},
   "source": [
    "> def concat_ndarray(X_1, X_2, axis):  \n",
    "    pass"
   ]
  },
  {
   "cell_type": "markdown",
   "metadata": {},
   "source": [
    "- 함수목적  \n",
    "    입력된 ndarray X_1과 X_2를 axis로 입력된 축을 기준으로 통합하여 반환하는 함수  \n",
    "    X_1과 X_2는 matrix 또는 vector 임, 그러므로 vector 일 경우도 처리할 수 가 있어야 함  \n",
    "    axis를 기준으로 통합할 때, 통합이 불가능하면 False가 반환됨.  \n",
    "    단 X_1과 X_2 Matrix, Vector 형태로 들어왔다면, Vector를 row가 1개인 Matrix로 변환하여 통합이 가능한지 확인할 것\n",
    "- Args\n",
    "    X_1: 입력하는 ndarray  \n",
    "    X_2: 입력하는 ndarray  \n",
    "    axis: 통합의 기준이 되는 축 0 또는 1임\n",
    "- Returns\n",
    "    X_1과 X_2과 통합된 matrix 타입의 ndarray"
   ]
  },
  {
   "cell_type": "code",
   "execution_count": 30,
   "metadata": {},
   "outputs": [],
   "source": [
    "def concat_ndarray(X_1, X_2, axis):\n",
    "\n",
    "    n_1 = X_1.ndim #X_1의 차원\n",
    "    n_2 = X_2.ndim #X_2의 차원\n",
    "    \n",
    "    # axis를 기준으로 통합할 때, 통합이 불가능하면 False가 반환됨.\n",
    "    # 1차원일 때 열의 개수 = X_1.size\n",
    "    if axis == 0 : \n",
    "        # X_1, X_2의 차원이 2차원인 경우\n",
    "        if n_1 == n_2 and n_1 == 2 : \n",
    "            if X_1.shape[1] == X_2.shape[1]:  # X_1, X_2의 열이 동일할 때 \n",
    "                return np.vstack((X_1,X_2))\n",
    "            else: # X_1, X_2의 열이 동일하지 않을 때\n",
    "                return False\n",
    "\n",
    "        # X_1, X_2의 차원이 1차원인 경우\n",
    "        elif n_1 == n_2 and n_1 == 1: \n",
    "            if X_1.size == X_2.size : # X_1, X_2의 열이 동일할 때 \n",
    "                return np.vstack((X_1,X_2))\n",
    "            else:\n",
    "                return False\n",
    "\n",
    "        else:\n",
    "            if n_1 == 1:\n",
    "                if X_1.size == X_2.shape[1] :\n",
    "                    return np.vstack((X_1,X_2))\n",
    "                else:\n",
    "                    return False\n",
    "            else:\n",
    "                if X_1.shape[1] == X_2.size :\n",
    "                    return np.vstack((X_1,X_2))\n",
    "                else:\n",
    "                    return False\n",
    "                    \n",
    "    else : # axis = 1인 경우\n",
    "        if n_1 == n_2 and n_1 == 2 : # X_1, X_2의 차원이 2차원인 경우\n",
    "            if X_1.shape[0] == X_2.shape[0]:  # X_1, X_2의 행이 동일할 때 \n",
    "                return np.hstack((X_1,X_2))\n",
    "            else: # X_1, X_2의 행이 동일하지 않을 때\n",
    "                return False\n",
    "                \n",
    "        elif n_1 == n_2 and n_1 == 1: # X_1, X_2의 차원이 1차원인 경우\n",
    "            return np.hstack((X_1,X_2))\n",
    "            \n",
    "        else:\n",
    "            return False\n",
    "          "
   ]
  },
  {
   "cell_type": "markdown",
   "metadata": {},
   "source": [
    "> EX )"
   ]
  },
  {
   "cell_type": "code",
   "execution_count": 31,
   "metadata": {},
   "outputs": [
    {
     "data": {
      "text/plain": [
       "array([[1, 2],\n",
       "       [3, 4],\n",
       "       [5, 6]])"
      ]
     },
     "execution_count": 31,
     "metadata": {},
     "output_type": "execute_result"
    }
   ],
   "source": [
    "a = np.array([[1, 2], [3, 4]])\n",
    "b = np.array([[5, 6]])\n",
    "concat_ndarray(a, b, 0)"
   ]
  },
  {
   "cell_type": "code",
   "execution_count": 32,
   "metadata": {},
   "outputs": [
    {
     "data": {
      "text/plain": [
       "False"
      ]
     },
     "execution_count": 32,
     "metadata": {},
     "output_type": "execute_result"
    }
   ],
   "source": [
    "a = np.array([[1, 2], [3, 4]])\n",
    "b = np.array([[5, 6]])\n",
    "concat_ndarray(a, b, 1)"
   ]
  },
  {
   "cell_type": "code",
   "execution_count": 34,
   "metadata": {},
   "outputs": [
    {
     "data": {
      "text/plain": [
       "array([1, 2, 5, 6, 7])"
      ]
     },
     "execution_count": 34,
     "metadata": {},
     "output_type": "execute_result"
    }
   ],
   "source": [
    "a = np.array([1, 2])\n",
    "b = np.array([5, 6, 7])\n",
    "concat_ndarray(a, b, 1)\n",
    "#a.size, b.size"
   ]
  },
  {
   "cell_type": "code",
   "execution_count": 199,
   "metadata": {},
   "outputs": [
    {
     "data": {
      "text/plain": [
       "False"
      ]
     },
     "execution_count": 199,
     "metadata": {},
     "output_type": "execute_result"
    }
   ],
   "source": [
    "a = np.array([1, 2])\n",
    "b = np.array([5, 6, 7])\n",
    "concat_ndarray(a, b, 0)"
   ]
  },
  {
   "cell_type": "code",
   "execution_count": 35,
   "metadata": {},
   "outputs": [
    {
     "data": {
      "text/plain": [
       "array([[1, 2],\n",
       "       [3, 4],\n",
       "       [5, 6]])"
      ]
     },
     "execution_count": 35,
     "metadata": {},
     "output_type": "execute_result"
    }
   ],
   "source": [
    "a = np.array([[1, 2], [3, 4]])\n",
    "b = np.array([5, 6])\n",
    "concat_ndarray(a, b, 0)"
   ]
  },
  {
   "cell_type": "code",
   "execution_count": 36,
   "metadata": {},
   "outputs": [
    {
     "data": {
      "text/plain": [
       "False"
      ]
     },
     "execution_count": 36,
     "metadata": {},
     "output_type": "execute_result"
    }
   ],
   "source": [
    "a = np.array([[1, 2], [3, 4]])\n",
    "b = np.array([5, 6])\n",
    "concat_ndarray(a, b, 1)"
   ]
  },
  {
   "cell_type": "markdown",
   "metadata": {},
   "source": [
    "> def normalize_ndarray(X, axis=99, dtype=np.float32):  \n",
    "    pass"
   ]
  },
  {
   "cell_type": "markdown",
   "metadata": {},
   "source": [
    "- 함수목적\n",
    "    입력된 Matrix 또는 Vector를 ndarray X의 정규화된 값으로 변환하여 반환함.  \n",
    "    이때 정규화 변환 공식 Z = (X - X의평균) / X의 표준편차로 구성됨.  \n",
    "    X의 평균과 표준편차는 axis를 기준으로 axis 별로 산출됨.  \n",
    "    Matrix의 경우 axis가 0 또는 1일 경우, row 또는 column별로 Z value를 산출함.  \n",
    "    axis가 99일 경우 전체 값에 대한 normalize 값을 구함.  \n",
    "- Args\n",
    "    X: 입력하는 ndarray,\n",
    "    axis: normalize를 구하는 기준이 되는 축으로 0, 1 또는 99임, 단 99는 axis 구분 없이 전체값으로 평균과 표준편차를 구함.  \n",
    "    dtype: data type으로 np.float32로 구성  \n",
    "- Returns\n",
    "    정규화된 ndarra"
   ]
  },
  {
   "cell_type": "code",
   "execution_count": 263,
   "metadata": {},
   "outputs": [],
   "source": [
    "def normalize_ndarray(X, axis=99, dtype=np.float32):\n",
    "    #X의 평균과 표준편차는 axis를 기준으로 axis 별로 산출됨.\n",
    "\n",
    "    #Matrix의 경우 axis가 0 또는 1일 경우, row 또는 column별로 Z value를 산출함.\n",
    "    if axis == 0:\n",
    "        X_m = np.mean(X, axis = axis)\n",
    "        X_s = np.std(X, axis = axis)\n",
    "        z = (X - X_m) / X_s\n",
    "        return z\n",
    "\n",
    "    elif axis == 1:\n",
    "        X_m = np.mean(X, axis = axis)\n",
    "        X_s = np.std(X, axis = axis)\n",
    "        X_m = X_m[np.newaxis, :].T\n",
    "        X_s = X_s[np.newaxis, :].T\n",
    "        z = (X - X_m)/X_s\n",
    "        return z\n",
    "\n",
    "    #axis가 99일 경우 전체 값에 대한 normalize 값을 구함.\n",
    "    else:\n",
    "        z = (X - np.mean(X)) / np.std(X)\n",
    "        return z"
   ]
  },
  {
   "cell_type": "markdown",
   "metadata": {},
   "source": [
    "> EX )"
   ]
  },
  {
   "cell_type": "code",
   "execution_count": 264,
   "metadata": {},
   "outputs": [
    {
     "data": {
      "text/plain": [
       "array([[ 0.,  1.],\n",
       "       [ 2.,  3.],\n",
       "       [ 4.,  5.],\n",
       "       [ 6.,  7.],\n",
       "       [ 8.,  9.],\n",
       "       [10., 11.]], dtype=float32)"
      ]
     },
     "execution_count": 264,
     "metadata": {},
     "output_type": "execute_result"
    }
   ],
   "source": [
    "X = np.arange(12, dtype=np.float32).reshape(6,2)\n",
    "X"
   ]
  },
  {
   "cell_type": "code",
   "execution_count": 265,
   "metadata": {},
   "outputs": [
    {
     "data": {
      "text/plain": [
       "array([[-1.593255  , -1.3035723 ],\n",
       "       [-1.0138896 , -0.7242068 ],\n",
       "       [-0.4345241 , -0.14484136],\n",
       "       [ 0.14484136,  0.4345241 ],\n",
       "       [ 0.7242068 ,  1.0138896 ],\n",
       "       [ 1.3035723 ,  1.593255  ]], dtype=float32)"
      ]
     },
     "execution_count": 265,
     "metadata": {},
     "output_type": "execute_result"
    }
   ],
   "source": [
    "normalize_ndarray(X)"
   ]
  },
  {
   "cell_type": "code",
   "execution_count": 266,
   "metadata": {},
   "outputs": [
    {
     "data": {
      "text/plain": [
       "array([[-1.,  1.],\n",
       "       [-1.,  1.],\n",
       "       [-1.,  1.],\n",
       "       [-1.,  1.],\n",
       "       [-1.,  1.],\n",
       "       [-1.,  1.]], dtype=float32)"
      ]
     },
     "execution_count": 266,
     "metadata": {},
     "output_type": "execute_result"
    }
   ],
   "source": [
    "normalize_ndarray(X, 1)"
   ]
  },
  {
   "cell_type": "code",
   "execution_count": 267,
   "metadata": {},
   "outputs": [
    {
     "data": {
      "text/plain": [
       "array([[-1.46385, -1.46385],\n",
       "       [-0.87831, -0.87831],\n",
       "       [-0.29277, -0.29277],\n",
       "       [ 0.29277,  0.29277],\n",
       "       [ 0.87831,  0.87831],\n",
       "       [ 1.46385,  1.46385]], dtype=float32)"
      ]
     },
     "execution_count": 267,
     "metadata": {},
     "output_type": "execute_result"
    }
   ],
   "source": [
    "normalize_ndarray(X, 0)"
   ]
  },
  {
   "cell_type": "markdown",
   "metadata": {},
   "source": [
    "> def save_ndarray(X, filename=\"test.npy\"):  \n",
    "  pass"
   ]
  },
  {
   "cell_type": "markdown",
   "metadata": {},
   "source": [
    "- 함수목적  \n",
    "    입력된 ndarray X를 argument filename으로 저장함\n",
    "- Args  \n",
    "    X: 입력하는 ndarray\n",
    "    filename: 저장할려는 파일이름"
   ]
  },
  {
   "cell_type": "code",
   "execution_count": 271,
   "metadata": {},
   "outputs": [],
   "source": [
    "def save_ndarray(X, filename=\"test.npy\"):\n",
    "    np.save(filename, arr = X)"
   ]
  },
  {
   "cell_type": "code",
   "execution_count": 274,
   "metadata": {},
   "outputs": [],
   "source": [
    "X = np.arange(32, dtype=np.float32).reshape(4, -1)\n",
    "filename = \"test.npy\"\n",
    "save_ndarray(X, filename)"
   ]
  },
  {
   "cell_type": "code",
   "execution_count": 275,
   "metadata": {},
   "outputs": [
    {
     "data": {
      "text/plain": [
       "array([[ 0.,  1.,  2.,  3.,  4.,  5.,  6.,  7.],\n",
       "       [ 8.,  9., 10., 11., 12., 13., 14., 15.],\n",
       "       [16., 17., 18., 19., 20., 21., 22., 23.],\n",
       "       [24., 25., 26., 27., 28., 29., 30., 31.]], dtype=float32)"
      ]
     },
     "execution_count": 275,
     "metadata": {},
     "output_type": "execute_result"
    }
   ],
   "source": [
    "np.load(file = \"test.npy\")"
   ]
  },
  {
   "cell_type": "markdown",
   "metadata": {},
   "source": [
    "> def boolean_index(X, condition):  \n",
    "  pass"
   ]
  },
  {
   "cell_type": "markdown",
   "metadata": {},
   "source": [
    "- 함수목적  \n",
    "    입력된 ndarray X를 String type의 condition 정보를 바탕으로 해당 컨디션에 해당하는 ndarray X의 index 번호를 반환함  \n",
    "    단 이때, str type의 조건인 condition을 코드로 변환하기 위해서는 eval(str(\"X\") + condition)를 사용할 수 있음\n",
    "- Args  \n",
    "    X: 입력하는 ndarray  \n",
    "    condition: string type의 조건 (\">3\", \"== 5\", \"< 15\")\n",
    "- Returns  \n",
    "조건에 만족하는 ndarray X의 index"
   ]
  },
  {
   "cell_type": "code",
   "execution_count": 2,
   "metadata": {},
   "outputs": [],
   "source": [
    "def boolean_index(X, condition):\n",
    "    condition = eval(str(\"X\") + condition)\n",
    "    return np.where(condition)"
   ]
  },
  {
   "cell_type": "markdown",
   "metadata": {},
   "source": [
    "> Ex )"
   ]
  },
  {
   "cell_type": "code",
   "execution_count": 3,
   "metadata": {},
   "outputs": [
    {
     "data": {
      "text/plain": [
       "array([[ 0.,  1.,  2.,  3.,  4.,  5.,  6.,  7.],\n",
       "       [ 8.,  9., 10., 11., 12., 13., 14., 15.],\n",
       "       [16., 17., 18., 19., 20., 21., 22., 23.],\n",
       "       [24., 25., 26., 27., 28., 29., 30., 31.]], dtype=float32)"
      ]
     },
     "execution_count": 3,
     "metadata": {},
     "output_type": "execute_result"
    }
   ],
   "source": [
    "X = np.arange(32, dtype=np.float32).reshape(4, -1)\n",
    "X "
   ]
  },
  {
   "cell_type": "code",
   "execution_count": 4,
   "metadata": {},
   "outputs": [
    {
     "data": {
      "text/plain": [
       "(array([0], dtype=int64), array([3], dtype=int64))"
      ]
     },
     "execution_count": 4,
     "metadata": {},
     "output_type": "execute_result"
    }
   ],
   "source": [
    "X = np.arange(32, dtype=np.float32).reshape(4, -1)\n",
    "boolean_index(X, \"== 3\")"
   ]
  },
  {
   "cell_type": "code",
   "execution_count": 100,
   "metadata": {},
   "outputs": [
    {
     "data": {
      "text/plain": [
       "(array([ 7,  8,  9, 10, 11, 12, 13, 14, 15, 16, 17, 18, 19, 20, 21, 22, 23,\n",
       "        24, 25, 26, 27, 28, 29, 30, 31], dtype=int64),)"
      ]
     },
     "execution_count": 100,
     "metadata": {},
     "output_type": "execute_result"
    }
   ],
   "source": [
    "X = np.arange(32, dtype=np.float32)\n",
    "boolean_index(X, \"> 6\")"
   ]
  },
  {
   "cell_type": "markdown",
   "metadata": {},
   "source": [
    "> def find_nearest_value(X, target_value):  \n",
    "    pass"
   ]
  },
  {
   "cell_type": "markdown",
   "metadata": {},
   "source": [
    "- 함수목적  \n",
    "    입력된 vector type의 ndarray X에서 target_value와 가장 차이가 작게나는 element를 찾아 리턴함  \n",
    "    이때 X를 list로 변경하여 처리하는 것은 실패로 간주함.\n",
    "- Args  \n",
    "    X: 입력하는 vector type의 ndarray  \n",
    "    target_value : 가장 유사한 값의 기준값이 되는 값  \n",
    "- Returns  \n",
    "    target_value와 가장 유사한 값"
   ]
  },
  {
   "cell_type": "code",
   "execution_count": 109,
   "metadata": {},
   "outputs": [],
   "source": [
    "def find_nearest_value(X, target_value):\n",
    "    X_t = np.abs(X - target_value)\n",
    "    i = np.argmin(X_t)\n",
    "    return X[i]"
   ]
  },
  {
   "cell_type": "code",
   "execution_count": 110,
   "metadata": {},
   "outputs": [
    {
     "data": {
      "text/plain": [
       "0.29734016895679793"
      ]
     },
     "execution_count": 110,
     "metadata": {},
     "output_type": "execute_result"
    }
   ],
   "source": [
    "X = np.random.uniform(0, 1, 100)\n",
    "target_value = 0.3\n",
    "find_nearest_value(X, target_value)"
   ]
  },
  {
   "cell_type": "markdown",
   "metadata": {},
   "source": [
    "> def get_n_largest_values(X, n):  \n",
    "    pass"
   ]
  },
  {
   "cell_type": "markdown",
   "metadata": {},
   "source": [
    "- 함수목적  \n",
    "    입력된 vector type의 ndarray X에서 큰 숫자 순서대로 n개의 값을 반환함.\n",
    "- Args  \n",
    "    X: vector type의 ndarray  \n",
    "    n: 반환할려는 element의 개수\n",
    "- Returns  \n",
    "ndarray X의 element중 큰 숫자 순서대로 n개 값이 반환됨 ndarray"
   ]
  },
  {
   "cell_type": "code",
   "execution_count": 125,
   "metadata": {},
   "outputs": [],
   "source": [
    "def get_n_largest_values(X, n):\n",
    "    large_X = X[X.argsort()[::-1][:n]]\n",
    "    return large_X"
   ]
  },
  {
   "cell_type": "markdown",
   "metadata": {},
   "source": [
    "> EX )"
   ]
  },
  {
   "cell_type": "code",
   "execution_count": 126,
   "metadata": {},
   "outputs": [
    {
     "data": {
      "text/plain": [
       "array([9, 7])"
      ]
     },
     "execution_count": 126,
     "metadata": {},
     "output_type": "execute_result"
    }
   ],
   "source": [
    "X = np.array([1,3,5,7,9])\n",
    "get_n_largest_values(X,2)"
   ]
  },
  {
   "cell_type": "code",
   "execution_count": 127,
   "metadata": {},
   "outputs": [
    {
     "data": {
      "text/plain": [
       "array([0.99282476, 0.97613982, 0.97290802])"
      ]
     },
     "execution_count": 127,
     "metadata": {},
     "output_type": "execute_result"
    }
   ],
   "source": [
    "X = np.random.uniform(0, 1, 100)\n",
    "get_n_largest_values(X, 3)"
   ]
  }
 ],
 "metadata": {
  "interpreter": {
   "hash": "c8a37ed7bfa12ac9b5ec67a5bf36c6039819a89328dd21ae3773ddbce39d38df"
  },
  "kernelspec": {
   "display_name": "Python 3.10.1 64-bit",
   "language": "python",
   "name": "python3"
  },
  "language_info": {
   "codemirror_mode": {
    "name": "ipython",
    "version": 3
   },
   "file_extension": ".py",
   "mimetype": "text/x-python",
   "name": "python",
   "nbconvert_exporter": "python",
   "pygments_lexer": "ipython3",
   "version": "3.10.4"
  },
  "orig_nbformat": 4
 },
 "nbformat": 4,
 "nbformat_minor": 2
}

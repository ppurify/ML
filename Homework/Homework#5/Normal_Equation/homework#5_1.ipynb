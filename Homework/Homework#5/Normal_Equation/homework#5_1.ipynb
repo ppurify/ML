{
 "cells": [
  {
   "cell_type": "code",
   "execution_count": 1,
   "metadata": {},
   "outputs": [],
   "source": [
    "import numpy as np"
   ]
  },
  {
   "cell_type": "code",
   "execution_count": 2,
   "metadata": {},
   "outputs": [],
   "source": [
    "def fit(self, X, y):\n",
    "\n",
    "    self._new_X = X\n",
    "    if self.fit_intercept == True:\n",
    "        one_vector = np.ones((len(self._new_X), 1))\n",
    "        self._new_X = np.concatenate( (one_vector, self._new_X), axis =1 )\n",
    "    else:\n",
    "        pass\n",
    "\n",
    "    XTX = np.dot(X.T, X)\n",
    "    XTX_inv = np.linalg.inv(XTX)\n",
    "    theta_pred = np.dot(np.dot(XTX_inv, X.T), y)\n",
    "\n",
    "    self._theta_pred = theta_pred\n",
    "    return self"
   ]
  },
  {
   "cell_type": "code",
   "execution_count": 3,
   "metadata": {},
   "outputs": [],
   "source": [
    "def predict(self, X):\n",
    "    if self.fit_intercept == True:\n",
    "        one_vector = np.ones((len(X), 1))\n",
    "        X = np.concatenate((one_vector, X), axis = 1)\n",
    "    else:\n",
    "        pass\n",
    "\n",
    "    return np.dot(X, self._theta_pred)"
   ]
  },
  {
   "cell_type": "code",
   "execution_count": 4,
   "metadata": {},
   "outputs": [],
   "source": [
    "import numpy as np\n",
    "\n",
    "class LinearRegression(object):\n",
    "    def __init__(self, fit_intercept=True, copy_X=True):\n",
    "        self.fit_intercept = fit_intercept\n",
    "        self.copy_X = copy_X\n",
    "\n",
    "        self._coef = None\n",
    "        self._intercept = None\n",
    "        self._new_X = None\n",
    "        \n",
    "        self._theta_pred = None\n",
    "\n",
    "    def fit(self, X, y):\n",
    "\n",
    "        self._new_X = X\n",
    "\n",
    "        if self.fit_intercept == True:\n",
    "            one_vector = np.ones((len(self._new_X), 1))\n",
    "            self._new_X = np.concatenate( (one_vector, self._new_X), axis =1 )\n",
    "\n",
    "        XTX = np.dot(self._new_X.T, self._new_X)\n",
    "        XTX_inv = np.linalg.inv(XTX)\n",
    "        theta_pred = np.dot(np.dot(XTX_inv, self._new_X.T), y)\n",
    "\n",
    "        self._theta_pred = theta_pred\n",
    "        self._intercept = self._theta_pred[0]\n",
    "        self._coef = self._theta_pred[1:]\n",
    "        \n",
    "        return self\n",
    "\n",
    "    def predict(self, X):\n",
    "        if self.fit_intercept == True:\n",
    "            one_vector = np.ones((len(X), 1))\n",
    "            new_X = np.concatenate((one_vector, X), axis = 1)\n",
    "        else:\n",
    "            pass\n",
    "\n",
    "        return np.dot(new_X, self._theta_pred)\n",
    "\n",
    "    @property\n",
    "    def coef(self):\n",
    "        return self._coef\n",
    "\n",
    "    @property\n",
    "    def intercept(self):\n",
    "        return self._intercept"
   ]
  },
  {
   "cell_type": "code",
   "execution_count": 5,
   "metadata": {},
   "outputs": [],
   "source": [
    "import pandas as pd\n",
    "import numpy as np\n",
    "import linear_model\n",
    "import imp\n",
    "imp.reload(linear_model)\n",
    "\n",
    "import warnings\n",
    "warnings.filterwarnings(action='ignore')"
   ]
  },
  {
   "cell_type": "code",
   "execution_count": 6,
   "metadata": {},
   "outputs": [
    {
     "data": {
      "text/html": [
       "<div>\n",
       "<style scoped>\n",
       "    .dataframe tbody tr th:only-of-type {\n",
       "        vertical-align: middle;\n",
       "    }\n",
       "\n",
       "    .dataframe tbody tr th {\n",
       "        vertical-align: top;\n",
       "    }\n",
       "\n",
       "    .dataframe thead th {\n",
       "        text-align: right;\n",
       "    }\n",
       "</style>\n",
       "<table border=\"1\" class=\"dataframe\">\n",
       "  <thead>\n",
       "    <tr style=\"text-align: right;\">\n",
       "      <th></th>\n",
       "      <th>x</th>\n",
       "      <th>y</th>\n",
       "    </tr>\n",
       "  </thead>\n",
       "  <tbody>\n",
       "    <tr>\n",
       "      <th>0</th>\n",
       "      <td>77</td>\n",
       "      <td>79.775152</td>\n",
       "    </tr>\n",
       "    <tr>\n",
       "      <th>1</th>\n",
       "      <td>21</td>\n",
       "      <td>23.177279</td>\n",
       "    </tr>\n",
       "    <tr>\n",
       "      <th>2</th>\n",
       "      <td>22</td>\n",
       "      <td>25.609262</td>\n",
       "    </tr>\n",
       "    <tr>\n",
       "      <th>3</th>\n",
       "      <td>20</td>\n",
       "      <td>17.857388</td>\n",
       "    </tr>\n",
       "    <tr>\n",
       "      <th>4</th>\n",
       "      <td>36</td>\n",
       "      <td>41.849864</td>\n",
       "    </tr>\n",
       "  </tbody>\n",
       "</table>\n",
       "</div>"
      ],
      "text/plain": [
       "    x          y\n",
       "0  77  79.775152\n",
       "1  21  23.177279\n",
       "2  22  25.609262\n",
       "3  20  17.857388\n",
       "4  36  41.849864"
      ]
     },
     "execution_count": 6,
     "metadata": {},
     "output_type": "execute_result"
    }
   ],
   "source": [
    "df = pd.read_csv('../data/test.csv')\n",
    "df.head()"
   ]
  },
  {
   "cell_type": "code",
   "execution_count": 7,
   "metadata": {},
   "outputs": [],
   "source": [
    "X = df['x'].values.reshape(-1,1)\n",
    "y = df['y'].values"
   ]
  },
  {
   "cell_type": "code",
   "execution_count": 8,
   "metadata": {},
   "outputs": [
    {
     "data": {
      "text/plain": [
       "array([-0.46181077,  1.01433536])"
      ]
     },
     "execution_count": 8,
     "metadata": {},
     "output_type": "execute_result"
    }
   ],
   "source": [
    "one_vector = np.ones((len(X), 1))\n",
    "new_X = np.concatenate( (one_vector, X), axis =1 )\n",
    "\n",
    "XTX = np.dot(new_X.T, new_X)\n",
    "XTX_inv = np.linalg.inv(XTX)\n",
    "theta_pred = np.dot(np.dot(XTX_inv, new_X.T), y)\n",
    "\n",
    "theta_pred"
   ]
  },
  {
   "cell_type": "code",
   "execution_count": 9,
   "metadata": {},
   "outputs": [
    {
     "data": {
      "text/plain": [
       "array([77.64201157, 20.83923168, 21.85356704, 19.82489633, 36.05426201,\n",
       "       14.75321955, 62.42698124, 95.90004796, 19.82489633,  4.609866  ])"
      ]
     },
     "execution_count": 9,
     "metadata": {},
     "output_type": "execute_result"
    }
   ],
   "source": [
    "one_vector = np.ones((len(X), 1))\n",
    "new_X = np.concatenate( (one_vector, X), axis =1 )\n",
    "\n",
    "np.dot(new_X, theta_pred)[:10]"
   ]
  },
  {
   "cell_type": "code",
   "execution_count": 10,
   "metadata": {},
   "outputs": [],
   "source": [
    "lr = linear_model.LinearRegression(fit_intercept=True)"
   ]
  },
  {
   "cell_type": "code",
   "execution_count": 11,
   "metadata": {},
   "outputs": [
    {
     "data": {
      "text/plain": [
       "<linear_model.LinearRegression at 0x28ab78564a0>"
      ]
     },
     "execution_count": 11,
     "metadata": {},
     "output_type": "execute_result"
    }
   ],
   "source": [
    "lr.fit(X,y)"
   ]
  },
  {
   "cell_type": "code",
   "execution_count": 12,
   "metadata": {},
   "outputs": [
    {
     "data": {
      "text/plain": [
       "-0.4618107736611232"
      ]
     },
     "execution_count": 12,
     "metadata": {},
     "output_type": "execute_result"
    }
   ],
   "source": [
    "lr.intercept"
   ]
  },
  {
   "cell_type": "code",
   "execution_count": 13,
   "metadata": {},
   "outputs": [
    {
     "data": {
      "text/plain": [
       "array([1.01433536])"
      ]
     },
     "execution_count": 13,
     "metadata": {},
     "output_type": "execute_result"
    }
   ],
   "source": [
    "lr.coef"
   ]
  }
 ],
 "metadata": {
  "kernelspec": {
   "display_name": "Python 3.10.4 ('ml')",
   "language": "python",
   "name": "python3"
  },
  "language_info": {
   "codemirror_mode": {
    "name": "ipython",
    "version": 3
   },
   "file_extension": ".py",
   "mimetype": "text/x-python",
   "name": "python",
   "nbconvert_exporter": "python",
   "pygments_lexer": "ipython3",
   "version": "3.10.4"
  },
  "orig_nbformat": 4,
  "vscode": {
   "interpreter": {
    "hash": "054003ddc8bb90967440df83eb0c4b5179a46b3dd7ffab730dd8d113d29b604c"
   }
  }
 },
 "nbformat": 4,
 "nbformat_minor": 2
}

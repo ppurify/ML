{
 "cells": [
  {
   "cell_type": "code",
   "execution_count": 1,
   "metadata": {},
   "outputs": [],
   "source": [
    "import numpy as np\n",
    "import pandas as pd"
   ]
  },
  {
   "cell_type": "markdown",
   "metadata": {},
   "source": [
    "![](png/matrix.PNG)"
   ]
  },
  {
   "cell_type": "markdown",
   "metadata": {},
   "source": [
    "<img src=\"png/matrix.PNG\" style=\"width:800px;height:300px;\">"
   ]
  },
  {
   "cell_type": "markdown",
   "metadata": {},
   "source": [
    "> 본 Lab은 Pandas의 기본적인 동작과 Numpy를 결합하여 일반적으로 쌓여있는 데이터를 Matrix 형태로 변경합니다.  \n",
    "변환되는 Matrix 형태는 두가지이며, 본 Lab도 두 가지 모두를 지원하는 것을 목표로 합니다."
   ]
  },
  {
   "cell_type": "markdown",
   "metadata": {},
   "source": [
    "### 1️⃣ get_rating_matrix  \n",
    "Rating Matrix는 영화, 책 처럼 사용자가 제품에 대한 평가를 Matrix 형태로 표현한 것입니다.  \n",
    "저희는 movie_rating.csv라는 파일을 활용하여 rating matrix를 구성한다. movie_rating.csv는 아래처럼 구성된다."
   ]
  },
  {
   "cell_type": "markdown",
   "metadata": {},
   "source": [
    "<img src=\"png/rating matrix.png\" style=\"width:500px;height:300px;\">"
   ]
  },
  {
   "cell_type": "markdown",
   "metadata": {},
   "source": [
    "본 랩에서 다루는 모든 csv파일의 column은 source, target으로 구성되며, source는 row의 index 정보가, target는 column의 기준 정보가 된다.  \n",
    "rating 정보는 get_rating_matrix 함수에서만 사용되며, 사용자가 영화에 대한 평가를 정보를 담고 있다.  \n",
    "\n",
    "본 랩의 목적은 위 테이블과 같이 구성된 정보를 Matrix 형태로 바꾸는 거다. Matrix 형태로 바꾸는 규칙은 다음과 같다.  \n",
    "\n",
    "- source는 row, target은 column의 기준이 된다.  \n",
    "- source와 target의 정렬된 값을 활용하여 index를 설정한다. 즉 위 Table에서는 Claudia Puig과 row의 0번째 index로 설정된다.  \n",
    "- rating의 정보는 Matrix에서 각 Element 값에 할당된다.  \n",
    "- 생성되는 Matrix Ndarray로 나타난다.  \n",
    "- dict, collection 모듈 등 파이썬의 Built-in Module은 사용할 수 있으나, for 문은 사용할 수 없다.  \n",
    "\n",
    "생성하는 함수의 Template은 아래와 같으며, 입력값은 처리하는 csv 파일의 이름만 넣을 수 있다.\n",
    "\n",
    "```\n",
    "def get_rating_matrix(filename):\n",
    "    pass\n",
    "```\n"
   ]
  },
  {
   "cell_type": "code",
   "execution_count": 15,
   "metadata": {},
   "outputs": [
    {
     "data": {
      "text/html": [
       "<div>\n",
       "<style scoped>\n",
       "    .dataframe tbody tr th:only-of-type {\n",
       "        vertical-align: middle;\n",
       "    }\n",
       "\n",
       "    .dataframe tbody tr th {\n",
       "        vertical-align: top;\n",
       "    }\n",
       "\n",
       "    .dataframe thead th {\n",
       "        text-align: right;\n",
       "    }\n",
       "</style>\n",
       "<table border=\"1\" class=\"dataframe\">\n",
       "  <thead>\n",
       "    <tr style=\"text-align: right;\">\n",
       "      <th></th>\n",
       "      <th>source</th>\n",
       "      <th>target</th>\n",
       "      <th>rating</th>\n",
       "    </tr>\n",
       "  </thead>\n",
       "  <tbody>\n",
       "    <tr>\n",
       "      <th>0</th>\n",
       "      <td>Jack Matthews</td>\n",
       "      <td>Lady in the Water</td>\n",
       "      <td>3.0</td>\n",
       "    </tr>\n",
       "    <tr>\n",
       "      <th>1</th>\n",
       "      <td>Jack Matthews</td>\n",
       "      <td>Snakes on a Plane</td>\n",
       "      <td>4.0</td>\n",
       "    </tr>\n",
       "    <tr>\n",
       "      <th>2</th>\n",
       "      <td>Jack Matthews</td>\n",
       "      <td>You Me and Dupree</td>\n",
       "      <td>3.5</td>\n",
       "    </tr>\n",
       "    <tr>\n",
       "      <th>3</th>\n",
       "      <td>Jack Matthews</td>\n",
       "      <td>Superman Returns</td>\n",
       "      <td>5.0</td>\n",
       "    </tr>\n",
       "    <tr>\n",
       "      <th>4</th>\n",
       "      <td>Jack Matthews</td>\n",
       "      <td>The Night Listener</td>\n",
       "      <td>3.0</td>\n",
       "    </tr>\n",
       "  </tbody>\n",
       "</table>\n",
       "</div>"
      ],
      "text/plain": [
       "          source              target  rating\n",
       "0  Jack Matthews   Lady in the Water     3.0\n",
       "1  Jack Matthews   Snakes on a Plane     4.0\n",
       "2  Jack Matthews   You Me and Dupree     3.5\n",
       "3  Jack Matthews    Superman Returns     5.0\n",
       "4  Jack Matthews  The Night Listener     3.0"
      ]
     },
     "execution_count": 15,
     "metadata": {},
     "output_type": "execute_result"
    }
   ],
   "source": [
    "#Data\n",
    "data = \"movie_rating.csv\"\n",
    "df = pd.read_csv(data, sep = \",\")\n",
    "df.head()"
   ]
  },
  {
   "cell_type": "code",
   "execution_count": 29,
   "metadata": {},
   "outputs": [
    {
     "data": {
      "text/plain": [
       "array([[3. , 0. , 3.5, 0. , 4.5, 0. ],\n",
       "       [0. , 3. , 3.5, 0. , 3. , 3.5],\n",
       "       [0. , 3. , 4. , 5. , 3. , 3.5],\n",
       "       [3. , 2.5, 3.5, 3.5, 3. , 2.5],\n",
       "       [2. , 3. , 4. , 3. , 3. , 0. ],\n",
       "       [0. , 0. , 4.5, 4. , 0. , 0. ]])"
      ]
     },
     "execution_count": 29,
     "metadata": {},
     "output_type": "execute_result"
    }
   ],
   "source": [
    "df1 = df.groupby([\"source\",\"target\"])[\"rating\"].sum()\n",
    "# change to matrix shape, Nan change to 0\n",
    "df2 = df1.unstack(fill_value=0)\n",
    "df2.values"
   ]
  },
  {
   "cell_type": "code",
   "execution_count": 32,
   "metadata": {},
   "outputs": [],
   "source": [
    "def get_rating_matrix(filename, dtype=np.float32):\n",
    "    data = filename\n",
    "    # csv file read\n",
    "    df = pd.read_csv(data, sep = \",\")\n",
    "    # df의 source와 target을 기준으로 rating의 합이 element가 되는 df생성\n",
    "    df1 = df.groupby([\"source\", \"target\"])[\"rating\"].sum()\n",
    "    # Nan change to 0, change to matrix shape\n",
    "    df_matrix = df1.unstack(fill_value=0)\n",
    "    # matrix의 element => value 추출\n",
    "    df_v = df_matrix.values\n",
    "    return df_v"
   ]
  },
  {
   "cell_type": "code",
   "execution_count": 33,
   "metadata": {},
   "outputs": [
    {
     "data": {
      "text/plain": [
       "array([[3. , 0. , 3.5, 0. , 4.5, 0. ],\n",
       "       [0. , 3. , 3.5, 0. , 3. , 3.5],\n",
       "       [0. , 3. , 4. , 5. , 3. , 3.5],\n",
       "       [3. , 2.5, 3.5, 3.5, 3. , 2.5],\n",
       "       [2. , 3. , 4. , 3. , 3. , 0. ],\n",
       "       [0. , 0. , 4.5, 4. , 0. , 0. ]])"
      ]
     },
     "execution_count": 33,
     "metadata": {},
     "output_type": "execute_result"
    }
   ],
   "source": [
    "get_rating_matrix(\"movie_rating.csv\")"
   ]
  },
  {
   "cell_type": "markdown",
   "metadata": {},
   "source": [
    "### 2️⃣ get_frequent_matrix\n",
    "두 번째 함수는 얼마나 빈번하게 제품을 구매했는지를 표현하는 Frequent Matrix를 만드는 것 입니다.   \n",
    "Frequent Matrix는 사용자가 특정 제품을 구매한 횟수를 기록하는 Matrix이다. 저희가 제공하는 csv파일은 1000i.csv라는 파일로 아래처럼 구성되어 있습니다."
   ]
  },
  {
   "cell_type": "markdown",
   "metadata": {},
   "source": [
    "<img src=\"png/1000i.png\" style=\"width:300px;height:650px;\">"
   ]
  },
  {
   "cell_type": "markdown",
   "metadata": {},
   "source": [
    "본 함수에서는 기존 함수와 달리 Rating column이 없습니다. 대신 source와 target의 조합이 한 개 이상으로 중복될 수 있고, 이것이 Frequent로 처리해야 합니다.  \n",
    "즉 Rating이 명시적으로 있는게 아니라 데이터를 통해 Frequent를 찾아내는 것이 목적입니다. Matrix 형태로 바꾸는 규칙은 다음과 같습니다.\n",
    "\n",
    "- source는 row, target은 column의 기준이 된다.\n",
    "- source와 target의 정렬된 값을 활용하여 index를 설정한다. 즉 위 Table에서는 1은 row의 0번째 index로 설정된다.  \n",
    "- Source와 Target이 출현한 정보는 Frequent로 Matrix에서 각 Element 값에 할당되어야 한다.  \n",
    "- 생성되는 Matrix Ndarray로 나타내며, dtype은 np.float32  \n",
    "- dict, collection 모듈 등 파이썬의 Built-in Module은 사용할 수 있으나, for 문은 사용할 수 없다.  \n",
    "\n",
    "생성하는 함수의 Template은 아래와 같으며, 입력값은 처리하는 csv 파일의 이름만 넣을 수 있다."
   ]
  },
  {
   "cell_type": "code",
   "execution_count": 52,
   "metadata": {},
   "outputs": [
    {
     "data": {
      "text/html": [
       "<div>\n",
       "<style scoped>\n",
       "    .dataframe tbody tr th:only-of-type {\n",
       "        vertical-align: middle;\n",
       "    }\n",
       "\n",
       "    .dataframe tbody tr th {\n",
       "        vertical-align: top;\n",
       "    }\n",
       "\n",
       "    .dataframe thead th {\n",
       "        text-align: right;\n",
       "    }\n",
       "</style>\n",
       "<table border=\"1\" class=\"dataframe\">\n",
       "  <thead>\n",
       "    <tr style=\"text-align: right;\">\n",
       "      <th></th>\n",
       "      <th>source</th>\n",
       "      <th>target</th>\n",
       "    </tr>\n",
       "  </thead>\n",
       "  <tbody>\n",
       "    <tr>\n",
       "      <th>0</th>\n",
       "      <td>3</td>\n",
       "      <td>7</td>\n",
       "    </tr>\n",
       "    <tr>\n",
       "      <th>1</th>\n",
       "      <td>4</td>\n",
       "      <td>15</td>\n",
       "    </tr>\n",
       "    <tr>\n",
       "      <th>2</th>\n",
       "      <td>2</td>\n",
       "      <td>49</td>\n",
       "    </tr>\n",
       "    <tr>\n",
       "      <th>3</th>\n",
       "      <td>5</td>\n",
       "      <td>44</td>\n",
       "    </tr>\n",
       "    <tr>\n",
       "      <th>4</th>\n",
       "      <td>1</td>\n",
       "      <td>1</td>\n",
       "    </tr>\n",
       "  </tbody>\n",
       "</table>\n",
       "</div>"
      ],
      "text/plain": [
       "   source  target\n",
       "0       3       7\n",
       "1       4      15\n",
       "2       2      49\n",
       "3       5      44\n",
       "4       1       1"
      ]
     },
     "execution_count": 52,
     "metadata": {},
     "output_type": "execute_result"
    }
   ],
   "source": [
    "data = \"1000i.csv\"\n",
    "df = pd.read_csv(data, sep = \",\")\n",
    "df.head()"
   ]
  },
  {
   "cell_type": "code",
   "execution_count": 82,
   "metadata": {},
   "outputs": [
    {
     "data": {
      "text/plain": [
       "array([[19., 17., 14., 11., 17., 25.,  7., 22.,  5., 18., 10., 13., 13.,\n",
       "         8., 20., 10.,  9., 10., 16., 15.,  9., 11., 17., 15., 14.,  8.,\n",
       "         6., 12., 18., 12.,  6., 18.,  9., 24.,  7., 19., 14.,  6.,  4.,\n",
       "        12., 15., 14., 20.,  9., 12., 16., 11.,  9., 11., 12.],\n",
       "       [20., 16., 10., 15., 17., 18., 10., 13.,  5., 19.,  8., 14., 14.,\n",
       "         9., 15., 14., 13.,  8., 12.,  9.,  5., 10., 28., 18.,  7.,  8.,\n",
       "         6., 19., 14., 13., 11., 12., 18., 15.,  7., 11., 17.,  9.,  5.,\n",
       "         5., 13., 12., 15.,  9., 13., 16., 16., 10., 16.,  9.],\n",
       "       [12., 16., 13., 19., 23., 19.,  5., 14.,  5., 18.,  7.,  6., 14.,\n",
       "         8., 20., 17., 14., 11., 16., 12.,  7.,  9., 23., 12., 12.,  8.,\n",
       "         7., 23., 26., 10.,  9., 20., 16., 11.,  4., 19., 12., 12.,  5.,\n",
       "        10., 10., 14., 10., 17., 15., 16., 11., 17.,  9., 11.],\n",
       "       [14., 14., 19., 11., 11., 18.,  7., 16.,  7., 17.,  6., 19., 18.,\n",
       "        12., 13., 13., 14.,  9., 21., 16.,  6.,  6., 19., 14., 19.,  5.,\n",
       "        12., 14., 18., 11., 11., 21., 15., 10., 11., 14., 17., 21.,  6.,\n",
       "        14.,  9., 16., 18., 12., 16., 16., 26., 16., 12., 20.],\n",
       "       [13.,  7.,  8., 15., 13., 16.,  3., 19., 11., 12.,  7., 10., 13.,\n",
       "        14., 16., 14., 23.,  9., 13., 10., 11.,  3., 11., 14.,  9.,  6.,\n",
       "        11., 16., 18., 11.,  5., 14., 10., 16., 10.,  5., 14., 11.,  3.,\n",
       "         9., 11., 10., 16.,  8., 13., 20., 14., 18., 21.,  3.]],\n",
       "      dtype=float32)"
      ]
     },
     "execution_count": 82,
     "metadata": {},
     "output_type": "execute_result"
    }
   ],
   "source": [
    "df1=df.groupby([\"source\", \"target\"]).value_counts()\n",
    "#df2 =df1.astype(np.float32)\n",
    "df2.unstack().values"
   ]
  },
  {
   "cell_type": "code",
   "execution_count": 92,
   "metadata": {},
   "outputs": [],
   "source": [
    "def get_frequent_matrix(filename):\n",
    "    data = filename\n",
    "    # Read the Data\n",
    "    df = pd.read_csv(data, sep = \",\")\n",
    "    # source, target의 그룹별 빈도\n",
    "    df_count = df.groupby([\"source\",\"target\"]).value_counts()\n",
    "    # data type int change to float\n",
    "    df_float = df_count.astype(np.float32)\n",
    "    # change to matrix shape, return value\n",
    "    df_value = df_float.unstack().values\n",
    "    return df_value"
   ]
  },
  {
   "cell_type": "code",
   "execution_count": 93,
   "metadata": {},
   "outputs": [
    {
     "data": {
      "text/plain": [
       "array([[19., 17., 14., 11., 17., 25.,  7., 22.,  5., 18., 10., 13., 13.,\n",
       "         8., 20., 10.,  9., 10., 16., 15.,  9., 11., 17., 15., 14.,  8.,\n",
       "         6., 12., 18., 12.,  6., 18.,  9., 24.,  7., 19., 14.,  6.,  4.,\n",
       "        12., 15., 14., 20.,  9., 12., 16., 11.,  9., 11., 12.],\n",
       "       [20., 16., 10., 15., 17., 18., 10., 13.,  5., 19.,  8., 14., 14.,\n",
       "         9., 15., 14., 13.,  8., 12.,  9.,  5., 10., 28., 18.,  7.,  8.,\n",
       "         6., 19., 14., 13., 11., 12., 18., 15.,  7., 11., 17.,  9.,  5.,\n",
       "         5., 13., 12., 15.,  9., 13., 16., 16., 10., 16.,  9.],\n",
       "       [12., 16., 13., 19., 23., 19.,  5., 14.,  5., 18.,  7.,  6., 14.,\n",
       "         8., 20., 17., 14., 11., 16., 12.,  7.,  9., 23., 12., 12.,  8.,\n",
       "         7., 23., 26., 10.,  9., 20., 16., 11.,  4., 19., 12., 12.,  5.,\n",
       "        10., 10., 14., 10., 17., 15., 16., 11., 17.,  9., 11.],\n",
       "       [14., 14., 19., 11., 11., 18.,  7., 16.,  7., 17.,  6., 19., 18.,\n",
       "        12., 13., 13., 14.,  9., 21., 16.,  6.,  6., 19., 14., 19.,  5.,\n",
       "        12., 14., 18., 11., 11., 21., 15., 10., 11., 14., 17., 21.,  6.,\n",
       "        14.,  9., 16., 18., 12., 16., 16., 26., 16., 12., 20.],\n",
       "       [13.,  7.,  8., 15., 13., 16.,  3., 19., 11., 12.,  7., 10., 13.,\n",
       "        14., 16., 14., 23.,  9., 13., 10., 11.,  3., 11., 14.,  9.,  6.,\n",
       "        11., 16., 18., 11.,  5., 14., 10., 16., 10.,  5., 14., 11.,  3.,\n",
       "         9., 11., 10., 16.,  8., 13., 20., 14., 18., 21.,  3.]],\n",
       "      dtype=float32)"
      ]
     },
     "execution_count": 93,
     "metadata": {},
     "output_type": "execute_result"
    }
   ],
   "source": [
    "get_frequent_matrix(\"1000i.csv\")"
   ]
  },
  {
   "cell_type": "code",
   "execution_count": null,
   "metadata": {},
   "outputs": [],
   "source": []
  }
 ],
 "metadata": {
  "interpreter": {
   "hash": "179ce7cb0750974f5d99263a762ed953835e5a98627f571ca1c55ff25630e430"
  },
  "kernelspec": {
   "display_name": "Python 3.10.4 64-bit (system)",
   "language": "python",
   "name": "python3"
  },
  "language_info": {
   "codemirror_mode": {
    "name": "ipython",
    "version": 3
   },
   "file_extension": ".py",
   "mimetype": "text/x-python",
   "name": "python",
   "nbconvert_exporter": "python",
   "pygments_lexer": "ipython3",
   "version": "3.10.4"
  },
  "orig_nbformat": 4
 },
 "nbformat": 4,
 "nbformat_minor": 2
}
